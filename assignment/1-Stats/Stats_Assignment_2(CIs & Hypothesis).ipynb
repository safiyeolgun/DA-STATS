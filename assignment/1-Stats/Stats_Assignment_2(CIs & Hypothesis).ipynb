{
 "cells": [
  {
   "cell_type": "code",
   "execution_count": 1,
   "id": "e02bdaa2-076a-463a-8f0f-60fcfc0151ea",
   "metadata": {},
   "outputs": [],
   "source": [
    "import pandas as pd\n",
    "import numpy as np\n",
    "from scipy import stats\n",
    "import seaborn as sns\n",
    "import matplotlib.pyplot as plt"
   ]
  },
  {
   "cell_type": "markdown",
   "id": "37e1d360-ff40-4870-aed9-84664e219361",
   "metadata": {},
   "source": [
    "# CONFIDENCE INTERVALS"
   ]
  },
  {
   "cell_type": "markdown",
   "id": "53a59a29-5318-455b-b6f4-395b19fc7d04",
   "metadata": {},
   "source": [
    "## EXERCISE 1."
   ]
  },
  {
   "cell_type": "markdown",
   "id": "13f33a1e-383e-4290-a838-c987d4579417",
   "metadata": {},
   "source": [
    "What is the normal body temperature for healthy humans? A random sample of 130 healthy human body temperatures provided by Allen Shoemaker yielded 98.25 degrees and standard deviation 0.73 degrees. \n",
    "\n",
    "Give a 99% confidence interval for the average body temperature of healthy people."
   ]
  },
  {
   "cell_type": "code",
   "execution_count": 2,
   "id": "16c42d13-cdb8-44c2-95c7-b61cd5650b7e",
   "metadata": {},
   "outputs": [],
   "source": [
    "sample_size = 130\n",
    "sample_mean = 98.25\n",
    "sample_std = 0.73\n",
    "confident_interval = 0.99\n",
    "significance_level = 1 - confident_interval "
   ]
  },
  {
   "cell_type": "markdown",
   "id": "2cc9afce-7a00-49bf-b921-a21f62acfc4e",
   "metadata": {},
   "source": [
    "**How to calculate confident interval lower and upper limit ?**\n",
    "\n",
    "confident interval limit = sample mean ± ( reliability factor  x standart error mean)"
   ]
  },
  {
   "cell_type": "code",
   "execution_count": 3,
   "id": "d7cf4bc5-5002-4c3c-a379-dcc9343f6297",
   "metadata": {},
   "outputs": [
    {
     "name": "stdout",
     "output_type": "stream",
     "text": [
      "Standart error of mean:  0.064\n"
     ]
    }
   ],
   "source": [
    "# calculate standart error of mean\n",
    "\n",
    "standart_error_mean = sample_std /  np.sqrt(sample_size)\n",
    "print('Standart error of mean: ', standart_error_mean.round(3))"
   ]
  },
  {
   "cell_type": "code",
   "execution_count": 4,
   "id": "ecbf6664-f2a1-4101-8801-c3a0cdac21ee",
   "metadata": {},
   "outputs": [
    {
     "name": "stdout",
     "output_type": "stream",
     "text": [
      "Reliability factor: 2.576\n"
     ]
    }
   ],
   "source": [
    "# calculate reliability factor\n",
    "\n",
    "reliability_factor = stats.norm.ppf(1-significance_level/2)   # two tail\n",
    "print('Reliability factor:', reliability_factor.round(3))"
   ]
  },
  {
   "cell_type": "code",
   "execution_count": 5,
   "id": "dd3d0bd7-f05d-4f6f-89ec-003ee1fb7da8",
   "metadata": {},
   "outputs": [
    {
     "name": "stdout",
     "output_type": "stream",
     "text": [
      "Margin of error  0.165\n"
     ]
    }
   ],
   "source": [
    "# calculate margin error\n",
    "# recap z(1 - 0.99 ) = 2.58 (two tail)\n",
    "\n",
    "margin_error = reliability_factor  * standart_error_mean\n",
    "print('Margin of error ', margin_error.round(3))"
   ]
  },
  {
   "cell_type": "code",
   "execution_count": 6,
   "id": "67e475a1-f7d7-418e-b383-38018a5dd01b",
   "metadata": {},
   "outputs": [
    {
     "name": "stdout",
     "output_type": "stream",
     "text": [
      "The average body temperature of healthy people is between 98.09°F and 98.41°F.\n"
     ]
    }
   ],
   "source": [
    "# calculate sample confident limits\n",
    "\n",
    "lower_confidece_limit = sample_mean  - margin_error\n",
    "upper_confidece_limit = sample_mean  + margin_error\n",
    "\n",
    "print(f'The average body temperature of healthy people is between {lower_confidece_limit:.2f}°F and{upper_confidece_limit: .2f}°F.')"
   ]
  },
  {
   "cell_type": "code",
   "execution_count": 7,
   "id": "cf6dd3c8-a4a6-4548-80c1-83ac6cdcebe5",
   "metadata": {},
   "outputs": [
    {
     "name": "stdout",
     "output_type": "stream",
     "text": [
      "The average body temperature of healthy people is between 98.09°F and 98.41°F.\n"
     ]
    }
   ],
   "source": [
    "# let's doing with scipy.stats library\n",
    "\n",
    "lower, upper = stats.norm.interval(confident_interval, sample_mean, standart_error_mean )\n",
    "print(f'The average body temperature of healthy people is between {lower:.2f}°F and{upper: .2f}°F.')"
   ]
  },
  {
   "cell_type": "markdown",
   "id": "657c662c-e504-449f-a016-59de90d24cb0",
   "metadata": {},
   "source": [
    "## EXERCISE 2."
   ]
  },
  {
   "cell_type": "markdown",
   "id": "edc9c0ec-7119-4132-9af3-d9916ba2d67f",
   "metadata": {},
   "source": [
    "The administrators for a hospital wished to estimate the average number of days required for inpatient treatment of patients between the ages of 25 and 34. A random sample of 500 hospital patients between these ages produced a mean and standard deviation equal to 5.4 and 3.1 days, respectively.\n",
    "\n",
    "Construct a 95% confidence interval for the mean length of stay for the population of patients from which the sample was drawn."
   ]
  },
  {
   "cell_type": "code",
   "execution_count": 8,
   "id": "c941ea8f-8678-4b77-bb2a-18ea9d8728c8",
   "metadata": {},
   "outputs": [],
   "source": [
    "sample_size = 500\n",
    "sample_mean = 5.4\n",
    "sample_std = 3.1\n",
    "\n",
    "confident_interval = 0.95\n",
    "significance_level = 1 - confident_interval "
   ]
  },
  {
   "cell_type": "code",
   "execution_count": 9,
   "id": "341b6463-13e0-4aa7-9306-6b8bf3de4aea",
   "metadata": {},
   "outputs": [
    {
     "name": "stdout",
     "output_type": "stream",
     "text": [
      "Standart error of mean:  0.139\n"
     ]
    }
   ],
   "source": [
    "# calculate standart error of mean\n",
    "\n",
    "standart_error_mean = sample_std /  np.sqrt(sample_size)\n",
    "\n",
    "print('Standart error of mean: ', standart_error_mean.round(3))"
   ]
  },
  {
   "cell_type": "code",
   "execution_count": 10,
   "id": "97397ddc-236c-4f27-a14b-072f92443b3b",
   "metadata": {},
   "outputs": [
    {
     "name": "stdout",
     "output_type": "stream",
     "text": [
      "Reliability factor: 1.96\n"
     ]
    }
   ],
   "source": [
    "# calculate reliability factorn\n",
    "\n",
    "reliability_factor = stats.norm.ppf(1-significance_level/2)   # two tail\n",
    "print('Reliability factor:', reliability_factor.round(3))"
   ]
  },
  {
   "cell_type": "code",
   "execution_count": 11,
   "id": "9acfe4b9-d58d-4d08-9e5c-53ff89ff53ec",
   "metadata": {},
   "outputs": [
    {
     "name": "stdout",
     "output_type": "stream",
     "text": [
      "Margin of error  0.272\n"
     ]
    }
   ],
   "source": [
    "# calculate margin error \n",
    "# recap z(1 - 0.95 ) = 1.96 (two tail)\n",
    "\n",
    "margin_error = reliability_factor  * standart_error_mean\n",
    "print('Margin of error ', margin_error.round(3))"
   ]
  },
  {
   "cell_type": "code",
   "execution_count": 12,
   "id": "ce8ae2a6-303f-4b21-a25d-549509a05a9c",
   "metadata": {},
   "outputs": [
    {
     "name": "stdout",
     "output_type": "stream",
     "text": [
      "The average length of stay for the patients at hospital is between 5.13 and 5.67 days.\n"
     ]
    }
   ],
   "source": [
    "# calculate sample confident limits\n",
    "\n",
    "lower_confidece_limit = sample_mean  - margin_error\n",
    "upper_confidece_limit = sample_mean  + margin_error\n",
    "\n",
    "print(f'The average length of stay for the patients at hospital is between {lower_confidece_limit:.2f} and{upper_confidece_limit: .2f} days.')"
   ]
  },
  {
   "cell_type": "code",
   "execution_count": 13,
   "id": "c37af573-aeae-48ee-8c04-e38e23d862a9",
   "metadata": {},
   "outputs": [
    {
     "name": "stdout",
     "output_type": "stream",
     "text": [
      "The average length of stay for the patients at hospital is between 5.13 and 5.67 days.\n"
     ]
    }
   ],
   "source": [
    "# let's doing with scipy.stats library\n",
    "\n",
    "lower, upper = stats.norm.interval(confident_interval, sample_mean, standart_error_mean )\n",
    "print(f'The average length of stay for the patients at hospital is between {lower:.2f} and{upper: .2f} days.')"
   ]
  },
  {
   "cell_type": "markdown",
   "id": "1c5766d3-cbd7-4a41-88e3-c3d77763417f",
   "metadata": {},
   "source": [
    "# HYPOTHESIS TESTING"
   ]
  },
  {
   "cell_type": "markdown",
   "id": "cbef9cab-699a-4e6f-9ae1-c85de9cf90e8",
   "metadata": {},
   "source": [
    "## EXERCISE 3."
   ]
  },
  {
   "cell_type": "markdown",
   "id": "de6289b8-be69-4482-8b66-3fd03eaa97d4",
   "metadata": {},
   "source": [
    "The hourly wages in a particular industry are normally distributed with mean \\\\$13.20 and standard deviation \\\\$2.50. A company in this industry employs 40 workers, paying them an average of \\\\$12.20 per hour. Can this company be accused of paying substandard wages? Use an α = .01 level test. (Wackerly, Ex.10.18)\n",
    "\n",
    "CHECK: statistic: -2.5298221281347035, pvalue= 0.005706018193000826"
   ]
  },
  {
   "cell_type": "code",
   "execution_count": 14,
   "id": "baa2f45e-3c7e-4ed4-af7a-faea70cc79ff",
   "metadata": {},
   "outputs": [],
   "source": [
    "mean = 13.20\n",
    "stardard_deviation = 2.50\n",
    "sample_size = 40\n",
    "sample_mean = 12.20 "
   ]
  },
  {
   "cell_type": "markdown",
   "id": "56c4590f-7853-48de-9e3e-bb7d284831f1",
   "metadata": {},
   "source": [
    "write down hypothesis\n",
    "\n",
    "**H0: µ = 13.20 (Company pays standard wages)**\n",
    "\n",
    "**H1: µ < 13.20 (Company pays substandard wages)**"
   ]
  },
  {
   "cell_type": "code",
   "execution_count": 15,
   "id": "df725815-a5bc-4967-ba95-fbd54670fa05",
   "metadata": {},
   "outputs": [],
   "source": [
    "# known population standart deviation, sample size >=30, so choose z distribution"
   ]
  },
  {
   "cell_type": "markdown",
   "id": "4a3ad1d5-3390-46ca-b79b-17eaf6c79f72",
   "metadata": {},
   "source": [
    "z_test = sample mean - mean / (stardard deviation / sample size^.5 )"
   ]
  },
  {
   "cell_type": "code",
   "execution_count": 16,
   "id": "d931d144-a605-4bb1-aefe-dc62cef441d2",
   "metadata": {},
   "outputs": [
    {
     "name": "stdout",
     "output_type": "stream",
     "text": [
      "Z test statistic:  -2.53\n"
     ]
    }
   ],
   "source": [
    "# calculate z test statistic \n",
    "\n",
    "z_test = (sample_mean - mean) / ( stardard_deviation / np.sqrt(sample_size) )\n",
    "\n",
    "print('Z test statistic: ', round(z_test, 2))"
   ]
  },
  {
   "cell_type": "markdown",
   "id": "7d6ee43f-fef6-45c6-9f7c-b5c8f91c3488",
   "metadata": {},
   "source": [
    "P(z> -2.53) = 1 - stats.norm.cdf(t_test)"
   ]
  },
  {
   "cell_type": "code",
   "execution_count": 17,
   "id": "7d7530ab-89c5-444f-980e-d1bcb5e65186",
   "metadata": {},
   "outputs": [
    {
     "name": "stdout",
     "output_type": "stream",
     "text": [
      "Reliability factor: 0.994\n"
     ]
    }
   ],
   "source": [
    "# calculate z reliability \n",
    "\n",
    "reliability_factor =  1 - stats.norm.cdf(z_test)\n",
    "print('Reliability factor:', reliability_factor.round(3))"
   ]
  },
  {
   "cell_type": "code",
   "execution_count": 18,
   "id": "6d4a620a-bd57-4e73-a302-5a33a1ef6f28",
   "metadata": {},
   "outputs": [],
   "source": [
    "# calculate p value\n",
    "\n",
    "pvalue = 1 - reliability_factor"
   ]
  },
  {
   "cell_type": "code",
   "execution_count": 19,
   "id": "f0f86507-d3ac-4b32-827b-387902352262",
   "metadata": {},
   "outputs": [
    {
     "name": "stdout",
     "output_type": "stream",
     "text": [
      "T-test:-2.5298221281347035, p-value:0.005706018193000872\n",
      "    \tThe mean differences between company and population are statistically significant at 0.01 significance level.    \n",
      "\tCompany can be accused of substandard wages.    \n",
      "\tSo, we can reject H0 hypothesis.\n"
     ]
    }
   ],
   "source": [
    "significance_level = 0.01\n",
    "\n",
    "if pvalue < significance_level:\n",
    "    print(f'T-test:{z_test}, p-value:{pvalue}\\n\\\n",
    "    \\tThe mean differences between company and population are statistically significant at {round(significance_level, 2)} significance level.\\\n",
    "    \\n\\tCompany can be accused of substandard wages.\\\n",
    "    \\n\\tSo, we can reject H0 hypothesis.')\n",
    "else:\n",
    "    print(f'T-test:{z_test}, p-value:{pvalue}\\n\\\n",
    "    \\tThe mean differences between company and population {round(significance_level, 2)} significance level.\\\n",
    "    \\n\\tCompany can not be accused of substandard wages.\\\n",
    "    \\n\\tSo, fail to reject H0 hypothesis.')"
   ]
  },
  {
   "cell_type": "markdown",
   "id": "5ffa5d5f-6fc3-4ec0-aee7-326bfda345df",
   "metadata": {},
   "source": [
    "## EXERCISE 4."
   ]
  },
  {
   "cell_type": "markdown",
   "id": "b603ce8e-9641-428b-b904-ad1463805a37",
   "metadata": {},
   "source": [
    "Shear strength measurements derived from unconfined compression tests for two types of soils gave the results shown in the following document (measurements in tons per square foot). Do the soils appear to differ with respect to average shear strength, at the 1% significance level?\n",
    "\n",
    "[Results for two type of soils](https://docs.google.com/spreadsheets/d/1f2odmgDboIVuSV-A5gmuC25ppqQ5g1OIIF4h5EOqUcI/edit?usp=sharing)\n",
    "\n",
    "CHECK: statistic: 5.1681473319343345, pvalue= 2.593228732352821e-06"
   ]
  },
  {
   "cell_type": "code",
   "execution_count": 20,
   "id": "30effba1-0007-40f5-8811-8b6db7c51f16",
   "metadata": {},
   "outputs": [],
   "source": [
    "# load one of below required library to use read_html\n",
    "# pip install lxml\n",
    "# pip install html5lib\n",
    "# pip install beautifulsoup4"
   ]
  },
  {
   "cell_type": "code",
   "execution_count": 21,
   "id": "583a6dcc-fdbe-4a0a-b788-bb19485148ad",
   "metadata": {},
   "outputs": [],
   "source": [
    "# read google sheet document\n",
    "\n",
    "soil = pd.read_html('https://docs.google.com/spreadsheets/d/1f2odmgDboIVuSV-A5gmuC25ppqQ5g1OIIF4h5EOqUcI/edit#gid=0')"
   ]
  },
  {
   "cell_type": "code",
   "execution_count": 22,
   "id": "5efa6593-587e-4baa-a128-e04b85f727e5",
   "metadata": {},
   "outputs": [
    {
     "data": {
      "text/plain": [
       "[    Unnamed: 0      A      B   C   D   E   F   G   H   I  ...   K   L   M   N  \\\n",
       " 0            1  Soil1  Soil2 NaN NaN NaN NaN NaN NaN NaN  ... NaN NaN NaN NaN   \n",
       " 1            2  1.442  1.364 NaN NaN NaN NaN NaN NaN NaN  ... NaN NaN NaN NaN   \n",
       " 2            3  1.943  1.878 NaN NaN NaN NaN NaN NaN NaN  ... NaN NaN NaN NaN   \n",
       " 3            4   1.11  1.337 NaN NaN NaN NaN NaN NaN NaN  ... NaN NaN NaN NaN   \n",
       " 4            5  1.912  1.828 NaN NaN NaN NaN NaN NaN NaN  ... NaN NaN NaN NaN   \n",
       " ..         ...    ...    ...  ..  ..  ..  ..  ..  ..  ..  ...  ..  ..  ..  ..   \n",
       " 95          96    NaN    NaN NaN NaN NaN NaN NaN NaN NaN  ... NaN NaN NaN NaN   \n",
       " 96          97    NaN    NaN NaN NaN NaN NaN NaN NaN NaN  ... NaN NaN NaN NaN   \n",
       " 97          98    NaN    NaN NaN NaN NaN NaN NaN NaN NaN  ... NaN NaN NaN NaN   \n",
       " 98          99    NaN    NaN NaN NaN NaN NaN NaN NaN NaN  ... NaN NaN NaN NaN   \n",
       " 99         100    NaN    NaN NaN NaN NaN NaN NaN NaN NaN  ... NaN NaN NaN NaN   \n",
       " \n",
       "      O   P   Q   R   S   T  \n",
       " 0  NaN NaN NaN NaN NaN NaN  \n",
       " 1  NaN NaN NaN NaN NaN NaN  \n",
       " 2  NaN NaN NaN NaN NaN NaN  \n",
       " 3  NaN NaN NaN NaN NaN NaN  \n",
       " 4  NaN NaN NaN NaN NaN NaN  \n",
       " ..  ..  ..  ..  ..  ..  ..  \n",
       " 95 NaN NaN NaN NaN NaN NaN  \n",
       " 96 NaN NaN NaN NaN NaN NaN  \n",
       " 97 NaN NaN NaN NaN NaN NaN  \n",
       " 98 NaN NaN NaN NaN NaN NaN  \n",
       " 99 NaN NaN NaN NaN NaN NaN  \n",
       " \n",
       " [100 rows x 21 columns],\n",
       "     0   1       2   3   4\n",
       " 0 NaN NaN  Sheet1 NaN NaN]"
      ]
     },
     "execution_count": 22,
     "metadata": {},
     "output_type": "execute_result"
    }
   ],
   "source": [
    "soil"
   ]
  },
  {
   "cell_type": "code",
   "execution_count": 23,
   "id": "b95e4dbb-1ff0-430c-9640-fb821e2daae1",
   "metadata": {},
   "outputs": [
    {
     "data": {
      "text/plain": [
       "list"
      ]
     },
     "execution_count": 23,
     "metadata": {},
     "output_type": "execute_result"
    }
   ],
   "source": [
    "type(soil)"
   ]
  },
  {
   "cell_type": "code",
   "execution_count": 24,
   "id": "8d1a9f60-baa5-4d45-bc83-a60967c526b7",
   "metadata": {},
   "outputs": [
    {
     "data": {
      "text/html": [
       "<div>\n",
       "<style scoped>\n",
       "    .dataframe tbody tr th:only-of-type {\n",
       "        vertical-align: middle;\n",
       "    }\n",
       "\n",
       "    .dataframe tbody tr th {\n",
       "        vertical-align: top;\n",
       "    }\n",
       "\n",
       "    .dataframe thead th {\n",
       "        text-align: right;\n",
       "    }\n",
       "</style>\n",
       "<table border=\"1\" class=\"dataframe\">\n",
       "  <thead>\n",
       "    <tr style=\"text-align: right;\">\n",
       "      <th></th>\n",
       "      <th>Soil1</th>\n",
       "      <th>Soil2</th>\n",
       "    </tr>\n",
       "  </thead>\n",
       "  <tbody>\n",
       "    <tr>\n",
       "      <th>1</th>\n",
       "      <td>1.442</td>\n",
       "      <td>1.364</td>\n",
       "    </tr>\n",
       "    <tr>\n",
       "      <th>2</th>\n",
       "      <td>1.943</td>\n",
       "      <td>1.878</td>\n",
       "    </tr>\n",
       "    <tr>\n",
       "      <th>3</th>\n",
       "      <td>1.11</td>\n",
       "      <td>1.337</td>\n",
       "    </tr>\n",
       "    <tr>\n",
       "      <th>4</th>\n",
       "      <td>1.912</td>\n",
       "      <td>1.828</td>\n",
       "    </tr>\n",
       "    <tr>\n",
       "      <th>5</th>\n",
       "      <td>1.553</td>\n",
       "      <td>1.371</td>\n",
       "    </tr>\n",
       "    <tr>\n",
       "      <th>6</th>\n",
       "      <td>1.641</td>\n",
       "      <td>1.428</td>\n",
       "    </tr>\n",
       "    <tr>\n",
       "      <th>7</th>\n",
       "      <td>1.499</td>\n",
       "      <td>1.119</td>\n",
       "    </tr>\n",
       "    <tr>\n",
       "      <th>8</th>\n",
       "      <td>1.347</td>\n",
       "      <td>1.373</td>\n",
       "    </tr>\n",
       "    <tr>\n",
       "      <th>9</th>\n",
       "      <td>1.685</td>\n",
       "      <td>1.589</td>\n",
       "    </tr>\n",
       "    <tr>\n",
       "      <th>10</th>\n",
       "      <td>1.578</td>\n",
       "      <td>1.714</td>\n",
       "    </tr>\n",
       "    <tr>\n",
       "      <th>11</th>\n",
       "      <td>1.866</td>\n",
       "      <td>1.26</td>\n",
       "    </tr>\n",
       "    <tr>\n",
       "      <th>12</th>\n",
       "      <td>1.653</td>\n",
       "      <td>1.492</td>\n",
       "    </tr>\n",
       "    <tr>\n",
       "      <th>13</th>\n",
       "      <td>1.665</td>\n",
       "      <td>1.395</td>\n",
       "    </tr>\n",
       "    <tr>\n",
       "      <th>14</th>\n",
       "      <td>1.64</td>\n",
       "      <td>1.778</td>\n",
       "    </tr>\n",
       "    <tr>\n",
       "      <th>15</th>\n",
       "      <td>1.976</td>\n",
       "      <td>1.611</td>\n",
       "    </tr>\n",
       "    <tr>\n",
       "      <th>16</th>\n",
       "      <td>1.754</td>\n",
       "      <td>1.202</td>\n",
       "    </tr>\n",
       "    <tr>\n",
       "      <th>17</th>\n",
       "      <td>1.589</td>\n",
       "      <td>1.542</td>\n",
       "    </tr>\n",
       "    <tr>\n",
       "      <th>18</th>\n",
       "      <td>1.976</td>\n",
       "      <td>1.094</td>\n",
       "    </tr>\n",
       "    <tr>\n",
       "      <th>19</th>\n",
       "      <td>1.863</td>\n",
       "      <td>1.557</td>\n",
       "    </tr>\n",
       "    <tr>\n",
       "      <th>20</th>\n",
       "      <td>1.932</td>\n",
       "      <td>1.053</td>\n",
       "    </tr>\n",
       "    <tr>\n",
       "      <th>21</th>\n",
       "      <td>1.57</td>\n",
       "      <td>1.183</td>\n",
       "    </tr>\n",
       "    <tr>\n",
       "      <th>22</th>\n",
       "      <td>1.613</td>\n",
       "      <td>1.367</td>\n",
       "    </tr>\n",
       "    <tr>\n",
       "      <th>23</th>\n",
       "      <td>2.054</td>\n",
       "      <td>1.144</td>\n",
       "    </tr>\n",
       "    <tr>\n",
       "      <th>24</th>\n",
       "      <td>1.55</td>\n",
       "      <td>1.151</td>\n",
       "    </tr>\n",
       "    <tr>\n",
       "      <th>25</th>\n",
       "      <td>1.714</td>\n",
       "      <td>1.561</td>\n",
       "    </tr>\n",
       "    <tr>\n",
       "      <th>26</th>\n",
       "      <td>1.896</td>\n",
       "      <td>1.192</td>\n",
       "    </tr>\n",
       "    <tr>\n",
       "      <th>27</th>\n",
       "      <td>1.737</td>\n",
       "      <td>1.489</td>\n",
       "    </tr>\n",
       "    <tr>\n",
       "      <th>28</th>\n",
       "      <td>1.74</td>\n",
       "      <td>1.379</td>\n",
       "    </tr>\n",
       "    <tr>\n",
       "      <th>29</th>\n",
       "      <td>1.708</td>\n",
       "      <td>1.501</td>\n",
       "    </tr>\n",
       "    <tr>\n",
       "      <th>30</th>\n",
       "      <td>1.548</td>\n",
       "      <td>1.277</td>\n",
       "    </tr>\n",
       "    <tr>\n",
       "      <th>31</th>\n",
       "      <td>NaN</td>\n",
       "      <td>1.593</td>\n",
       "    </tr>\n",
       "    <tr>\n",
       "      <th>32</th>\n",
       "      <td>NaN</td>\n",
       "      <td>1.172</td>\n",
       "    </tr>\n",
       "    <tr>\n",
       "      <th>33</th>\n",
       "      <td>NaN</td>\n",
       "      <td>1.51</td>\n",
       "    </tr>\n",
       "    <tr>\n",
       "      <th>34</th>\n",
       "      <td>NaN</td>\n",
       "      <td>1.74</td>\n",
       "    </tr>\n",
       "    <tr>\n",
       "      <th>35</th>\n",
       "      <td>NaN</td>\n",
       "      <td>1.355</td>\n",
       "    </tr>\n",
       "  </tbody>\n",
       "</table>\n",
       "</div>"
      ],
      "text/plain": [
       "    Soil1  Soil2\n",
       "1   1.442  1.364\n",
       "2   1.943  1.878\n",
       "3    1.11  1.337\n",
       "4   1.912  1.828\n",
       "5   1.553  1.371\n",
       "6   1.641  1.428\n",
       "7   1.499  1.119\n",
       "8   1.347  1.373\n",
       "9   1.685  1.589\n",
       "10  1.578  1.714\n",
       "11  1.866   1.26\n",
       "12  1.653  1.492\n",
       "13  1.665  1.395\n",
       "14   1.64  1.778\n",
       "15  1.976  1.611\n",
       "16  1.754  1.202\n",
       "17  1.589  1.542\n",
       "18  1.976  1.094\n",
       "19  1.863  1.557\n",
       "20  1.932  1.053\n",
       "21   1.57  1.183\n",
       "22  1.613  1.367\n",
       "23  2.054  1.144\n",
       "24   1.55  1.151\n",
       "25  1.714  1.561\n",
       "26  1.896  1.192\n",
       "27  1.737  1.489\n",
       "28   1.74  1.379\n",
       "29  1.708  1.501\n",
       "30  1.548  1.277\n",
       "31    NaN  1.593\n",
       "32    NaN  1.172\n",
       "33    NaN   1.51\n",
       "34    NaN   1.74\n",
       "35    NaN  1.355"
      ]
     },
     "execution_count": 24,
     "metadata": {},
     "output_type": "execute_result"
    }
   ],
   "source": [
    "# make web file in list into dataframe \n",
    "\n",
    "header_row = soil[0].iloc[0, 1:3]\n",
    "header_row\n",
    "soil = soil[0].iloc[1:36,1:3]\n",
    "\n",
    "soil.rename(columns = header_row, inplace = True)\n",
    "soil"
   ]
  },
  {
   "cell_type": "code",
   "execution_count": 25,
   "id": "4af6037b-4a0a-43b5-9936-92ca68322c66",
   "metadata": {},
   "outputs": [
    {
     "data": {
      "text/plain": [
       "(35, 2)"
      ]
     },
     "execution_count": 25,
     "metadata": {},
     "output_type": "execute_result"
    }
   ],
   "source": [
    "soil.shape"
   ]
  },
  {
   "cell_type": "code",
   "execution_count": 26,
   "id": "5171e7f9-1d40-4972-af3e-69a1b01f16e6",
   "metadata": {},
   "outputs": [
    {
     "name": "stdout",
     "output_type": "stream",
     "text": [
      "<class 'pandas.core.frame.DataFrame'>\n",
      "RangeIndex: 35 entries, 1 to 35\n",
      "Data columns (total 2 columns):\n",
      " #   Column  Non-Null Count  Dtype \n",
      "---  ------  --------------  ----- \n",
      " 0   Soil1   30 non-null     object\n",
      " 1   Soil2   35 non-null     object\n",
      "dtypes: object(2)\n",
      "memory usage: 692.0+ bytes\n"
     ]
    }
   ],
   "source": [
    "soil.info()"
   ]
  },
  {
   "cell_type": "code",
   "execution_count": 27,
   "id": "8c5b7809-fc06-437b-b4b2-84b10ecc1e3a",
   "metadata": {},
   "outputs": [],
   "source": [
    "# convert features type for numerical processes\n",
    "\n",
    "soil.Soil1 = soil.Soil1.astype(float)\n",
    "soil.Soil2= soil.Soil2.astype(float)"
   ]
  },
  {
   "cell_type": "code",
   "execution_count": 28,
   "id": "7f1d05de-6bb1-4313-9147-b786ed762764",
   "metadata": {},
   "outputs": [
    {
     "data": {
      "text/plain": [
       "Soil1    1.691800\n",
       "Soil2    1.417114\n",
       "dtype: float64"
      ]
     },
     "execution_count": 28,
     "metadata": {},
     "output_type": "execute_result"
    }
   ],
   "source": [
    "# look into samples mean for comparison\n",
    "\n",
    "soil.mean()"
   ]
  },
  {
   "cell_type": "markdown",
   "id": "63bec028-31ff-4fa6-a346-e566ab117db5",
   "metadata": {},
   "source": [
    "write down hypothesis\n",
    "\n",
    "**H0: µ1 = µ2 (the means of two soils with respect to shear strength are equal)**\n",
    "\n",
    "**H1: µ1 ≠ µ2 (the means of two soils with respect to shear strength are not equal)**"
   ]
  },
  {
   "cell_type": "markdown",
   "id": "9144432b-363d-48cb-aaaf-3665680a9378",
   "metadata": {},
   "source": [
    "Two independent samples, unknown population standart deviation, so choose independent samples T Test.\n",
    "\n",
    "T test requirement: all samples have normal distribution and variances are same."
   ]
  },
  {
   "cell_type": "code",
   "execution_count": 29,
   "id": "a95e50f9-dc1d-4066-bb44-386f4d26c17b",
   "metadata": {},
   "outputs": [
    {
     "name": "stdout",
     "output_type": "stream",
     "text": [
      "Soil1 feature Shapiro normalite statistic:0.96, p-value:0.32\n",
      "\tSoil1 feature has normal distribution.\n",
      "\n",
      "Soil2 feature Shapiro normalite statistic:0.97, p-value:0.4\n",
      "\tSoil2 feature has normal distribution.\n",
      "\n"
     ]
    }
   ],
   "source": [
    "# check samples with Shapiro test for normal distribution\n",
    "# define normalite function\n",
    "\n",
    "def normalite(feature):     \n",
    "    alpha = 0.05    \n",
    "    ShapiroStatistic, pvalue = stats.shapiro(feature)\n",
    "    if pvalue > alpha:\n",
    "        print(f'{feature.name} feature Shapiro normalite statistic:{round(ShapiroStatistic, 2)}, p-value:{round(pvalue, 2)}\\n\\t{feature.name} feature has normal distribution.\\n')\n",
    "    else:\n",
    "        print(f'{feature.name} feature hasnot normal distribution.') \n",
    "        \n",
    "normalite(soil.Soil1[:30])\n",
    "normalite(soil.Soil2)"
   ]
  },
  {
   "cell_type": "code",
   "execution_count": 30,
   "id": "98a9e885-57dd-43bd-af0e-ef900ea1dd48",
   "metadata": {},
   "outputs": [
    {
     "name": "stdout",
     "output_type": "stream",
     "text": [
      "Levene Test:0.315, p-value:0.577\n",
      "\tSamples have equality of variances.\n"
     ]
    }
   ],
   "source": [
    "# check samples with Levene's test for equality of variances\n",
    "# Levene test does not use NaN observations, so range selection is done because cells with NaN data are in order\n",
    "\n",
    "alpha = 0.05\n",
    "\n",
    "leveneTest = stats.levene(soil.Soil1[:30], soil.Soil2 )\n",
    "\n",
    "if leveneTest.pvalue > alpha:\n",
    "    print(f'Levene Test:{leveneTest.statistic.round(3)}, p-value:{leveneTest.pvalue.round(3)}\\n\\tSamples have equality of variances.')\n",
    "else:\n",
    "    print('Samples donot have equality of variances')"
   ]
  },
  {
   "cell_type": "code",
   "execution_count": 31,
   "id": "09655d3e-2610-48d7-af0e-55d29882bf27",
   "metadata": {},
   "outputs": [
    {
     "name": "stdout",
     "output_type": "stream",
     "text": [
      "T-test:5.1681473319343345, p-value:2.59322873235282e-06\n",
      "    \tThe mean differences among the soils with respect to shear strength are statistically significant at 0.01 significance level.    \n",
      "\tSo, we can reject H0 hypothesis.\n"
     ]
    }
   ],
   "source": [
    "# calculate independent two samples T-test\n",
    "\n",
    "significance_level = 0.01\n",
    "\n",
    "statistic,  pvalue = stats.ttest_ind(soil.Soil1[:30], soil.Soil2, equal_var = (leveneTest.pvalue > alpha))\n",
    "\n",
    "if pvalue < significance_level:\n",
    "    print(f'T-test:{statistic}, p-value:{pvalue}\\n\\\n",
    "    \\tThe mean differences among the soils with respect to shear strength are statistically significant at {round(significance_level, 2)} significance level.\\\n",
    "    \\n\\tSo, we can reject H0 hypothesis.')\n",
    "else:\n",
    "    print(f'T-test:{statistic}, p-value:{pvalue}\\n\\\n",
    "    \\tThe mean differences among the soils with respect to shear strength are not statistically significant at {round(significance_level, 2)} significance level.\\\n",
    "    \\n\\tSo, fail to reject H0 hypothesis.')"
   ]
  },
  {
   "cell_type": "markdown",
   "id": "9866d746-1941-40d7-9316-41e3e6568a9b",
   "metadata": {},
   "source": [
    "## EXERCISE 5."
   ]
  },
  {
   "cell_type": "markdown",
   "id": "8002dc4c-7905-4c3f-b5d9-a1577c6f8f3f",
   "metadata": {},
   "source": [
    "The following dataset is based on data provided by the World Bank (https://datacatalog.worldbank.org/dataset/education-statistics). World Bank Edstats.  [2015 PISA Test Dataset](https://docs.google.com/spreadsheets/d/14rVnIUfEm3CuK9bSvS5253RHWzQhXOuNc0I-cCkgpR8/edit?usp=sharing)\n",
    "\n",
    "1. Get descriptive statistics (the central tendency, dispersion and shape of a dataset’s distribution) for each continent group (AS, EU, AF, NA, SA, OC).\n",
    "\n",
    "2. Determine whether there is any difference (on the average) for the math scores among European (EU) and Asian (AS) countries (assume normality and equal variances). Draw side-by-side box plots.\n",
    "\n",
    "CHECK: statistic=0.870055317967983, pvalue=0.38826888111307345"
   ]
  },
  {
   "cell_type": "code",
   "execution_count": 32,
   "id": "eb937c9f-5d9d-46cc-8bae-1a4d60f07672",
   "metadata": {},
   "outputs": [],
   "source": [
    "# read google sheet document\n",
    "\n",
    "pisa = pd.read_html('https://docs.google.com/spreadsheets/d/14rVnIUfEm3CuK9bSvS5253RHWzQhXOuNc0I-cCkgpR8')"
   ]
  },
  {
   "cell_type": "code",
   "execution_count": 33,
   "id": "85aaa461-093e-4313-a09a-ce183ec1d5a8",
   "metadata": {},
   "outputs": [
    {
     "data": {
      "text/plain": [
       "[    Unnamed: 0             A               B                       C  \\\n",
       " 0            1  Country Code  Continent_Code  internet_users_per_100   \n",
       " 1            2           ALB              EU              63.2529327   \n",
       " 2            3           ARE              AS                    90.5   \n",
       " 3            4           ARG              SA             68.04306411   \n",
       " 4            5           AUS              OC             84.56051935   \n",
       " ..         ...           ...             ...                     ...   \n",
       " 95          96           NaN             NaN                     NaN   \n",
       " 96          97           NaN             NaN                     NaN   \n",
       " 97          98           NaN             NaN                     NaN   \n",
       " 98          99           NaN             NaN                     NaN   \n",
       " 99         100           NaN             NaN                     NaN   \n",
       " \n",
       "            D         E         F   G   H   I  ...   Q   R   S   T   U   V   W  \\\n",
       " 0       Math   Reading   Science NaN NaN NaN  ... NaN NaN NaN NaN NaN NaN NaN   \n",
       " 1    413.157  405.2588   427.225 NaN NaN NaN  ... NaN NaN NaN NaN NaN NaN NaN   \n",
       " 2   427.4827  433.5423  436.7311 NaN NaN NaN  ... NaN NaN NaN NaN NaN NaN NaN   \n",
       " 3   409.0333  425.3031  432.2262 NaN NaN NaN  ... NaN NaN NaN NaN NaN NaN NaN   \n",
       " 4   493.8962  502.9006  509.9939 NaN NaN NaN  ... NaN NaN NaN NaN NaN NaN NaN   \n",
       " ..       ...       ...       ...  ..  ..  ..  ...  ..  ..  ..  ..  ..  ..  ..   \n",
       " 95       NaN       NaN       NaN NaN NaN NaN  ... NaN NaN NaN NaN NaN NaN NaN   \n",
       " 96       NaN       NaN       NaN NaN NaN NaN  ... NaN NaN NaN NaN NaN NaN NaN   \n",
       " 97       NaN       NaN       NaN NaN NaN NaN  ... NaN NaN NaN NaN NaN NaN NaN   \n",
       " 98       NaN       NaN       NaN NaN NaN NaN  ... NaN NaN NaN NaN NaN NaN NaN   \n",
       " 99       NaN       NaN       NaN NaN NaN NaN  ... NaN NaN NaN NaN NaN NaN NaN   \n",
       " \n",
       "      X   Y   Z  \n",
       " 0  NaN NaN NaN  \n",
       " 1  NaN NaN NaN  \n",
       " 2  NaN NaN NaN  \n",
       " 3  NaN NaN NaN  \n",
       " 4  NaN NaN NaN  \n",
       " ..  ..  ..  ..  \n",
       " 95 NaN NaN NaN  \n",
       " 96 NaN NaN NaN  \n",
       " 97 NaN NaN NaN  \n",
       " 98 NaN NaN NaN  \n",
       " 99 NaN NaN NaN  \n",
       " \n",
       " [100 rows x 27 columns],\n",
       "     0   1       2   3   4\n",
       " 0 NaN NaN  Sheet1 NaN NaN]"
      ]
     },
     "execution_count": 33,
     "metadata": {},
     "output_type": "execute_result"
    }
   ],
   "source": [
    "pisa"
   ]
  },
  {
   "cell_type": "code",
   "execution_count": 34,
   "id": "877dcd0c-08d8-4a01-96f2-25364256d3d8",
   "metadata": {},
   "outputs": [
    {
     "data": {
      "text/plain": [
       "list"
      ]
     },
     "execution_count": 34,
     "metadata": {},
     "output_type": "execute_result"
    }
   ],
   "source": [
    "type(pisa)"
   ]
  },
  {
   "cell_type": "code",
   "execution_count": 35,
   "id": "064472bd-e032-40ff-ad01-975e53c8c702",
   "metadata": {},
   "outputs": [],
   "source": [
    "# make web file in list into dataframe \n",
    "\n",
    "header_row = pisa[0].iloc[0, 1:7]\n",
    "header_row\n",
    "pisa = pisa[0].iloc[1:71,1:7]\n",
    "\n",
    "pisa.rename(columns = header_row, inplace = True)"
   ]
  },
  {
   "cell_type": "code",
   "execution_count": 36,
   "id": "8853ee42-cbdf-48bc-bc71-16778a355645",
   "metadata": {},
   "outputs": [
    {
     "data": {
      "text/plain": [
       "(70, 6)"
      ]
     },
     "execution_count": 36,
     "metadata": {},
     "output_type": "execute_result"
    }
   ],
   "source": [
    "pisa.shape"
   ]
  },
  {
   "cell_type": "code",
   "execution_count": 37,
   "id": "7ef4814c-280a-4552-90cd-d0f2ac64395b",
   "metadata": {},
   "outputs": [
    {
     "data": {
      "text/plain": [
       "array(['EU', 'AS', 'SA', 'OC', nan, 'AF'], dtype=object)"
      ]
     },
     "execution_count": 37,
     "metadata": {},
     "output_type": "execute_result"
    }
   ],
   "source": [
    "pisa.Continent_Code.unique()"
   ]
  },
  {
   "cell_type": "code",
   "execution_count": 38,
   "id": "c026c951-3a99-4a41-a53c-56080468a92a",
   "metadata": {},
   "outputs": [
    {
     "data": {
      "text/html": [
       "<div>\n",
       "<style scoped>\n",
       "    .dataframe tbody tr th:only-of-type {\n",
       "        vertical-align: middle;\n",
       "    }\n",
       "\n",
       "    .dataframe tbody tr th {\n",
       "        vertical-align: top;\n",
       "    }\n",
       "\n",
       "    .dataframe thead th {\n",
       "        text-align: right;\n",
       "    }\n",
       "</style>\n",
       "<table border=\"1\" class=\"dataframe\">\n",
       "  <thead>\n",
       "    <tr style=\"text-align: right;\">\n",
       "      <th></th>\n",
       "      <th>Country Code</th>\n",
       "      <th>Continent_Code</th>\n",
       "      <th>internet_users_per_100</th>\n",
       "      <th>Math</th>\n",
       "      <th>Reading</th>\n",
       "      <th>Science</th>\n",
       "    </tr>\n",
       "  </thead>\n",
       "  <tbody>\n",
       "    <tr>\n",
       "      <th>9</th>\n",
       "      <td>CAN</td>\n",
       "      <td>NaN</td>\n",
       "      <td>88.47</td>\n",
       "      <td>515.6474</td>\n",
       "      <td>526.6678</td>\n",
       "      <td>527.7047</td>\n",
       "    </tr>\n",
       "    <tr>\n",
       "      <th>14</th>\n",
       "      <td>CRI</td>\n",
       "      <td>NaN</td>\n",
       "      <td>59.76295014</td>\n",
       "      <td>400.2534</td>\n",
       "      <td>427.4875</td>\n",
       "      <td>419.608</td>\n",
       "    </tr>\n",
       "    <tr>\n",
       "      <th>19</th>\n",
       "      <td>DOM</td>\n",
       "      <td>NaN</td>\n",
       "      <td>54.21576634</td>\n",
       "      <td>327.702</td>\n",
       "      <td>357.7377</td>\n",
       "      <td>331.6388</td>\n",
       "    </tr>\n",
       "    <tr>\n",
       "      <th>46</th>\n",
       "      <td>MEX</td>\n",
       "      <td>NaN</td>\n",
       "      <td>57.43104299</td>\n",
       "      <td>408.0235</td>\n",
       "      <td>423.2765</td>\n",
       "      <td>415.7099</td>\n",
       "    </tr>\n",
       "    <tr>\n",
       "      <th>69</th>\n",
       "      <td>USA</td>\n",
       "      <td>NaN</td>\n",
       "      <td>74.55420245</td>\n",
       "      <td>469.6285</td>\n",
       "      <td>496.9351</td>\n",
       "      <td>496.2424</td>\n",
       "    </tr>\n",
       "  </tbody>\n",
       "</table>\n",
       "</div>"
      ],
      "text/plain": [
       "   Country Code Continent_Code internet_users_per_100      Math   Reading  \\\n",
       "9           CAN            NaN                  88.47  515.6474  526.6678   \n",
       "14          CRI            NaN            59.76295014  400.2534  427.4875   \n",
       "19          DOM            NaN            54.21576634   327.702  357.7377   \n",
       "46          MEX            NaN            57.43104299  408.0235  423.2765   \n",
       "69          USA            NaN            74.55420245  469.6285  496.9351   \n",
       "\n",
       "     Science  \n",
       "9   527.7047  \n",
       "14   419.608  \n",
       "19  331.6388  \n",
       "46  415.7099  \n",
       "69  496.2424  "
      ]
     },
     "execution_count": 38,
     "metadata": {},
     "output_type": "execute_result"
    }
   ],
   "source": [
    "pisa[pisa.Continent_Code.isnull()]"
   ]
  },
  {
   "cell_type": "code",
   "execution_count": 39,
   "id": "433196dd-1e2b-4447-a53e-96161d56b322",
   "metadata": {},
   "outputs": [],
   "source": [
    "# Above all country3-digit code is from North America (NA)\n",
    "# recode from NaN into NA\n",
    "\n",
    "pisa.loc[pisa.Continent_Code.isnull(), 'Continent_Code'] = 'NA'"
   ]
  },
  {
   "cell_type": "code",
   "execution_count": 40,
   "id": "a8e1bbab-59a7-445c-adee-abc1714aa2bd",
   "metadata": {},
   "outputs": [
    {
     "data": {
      "text/html": [
       "<div>\n",
       "<style scoped>\n",
       "    .dataframe tbody tr th:only-of-type {\n",
       "        vertical-align: middle;\n",
       "    }\n",
       "\n",
       "    .dataframe tbody tr th {\n",
       "        vertical-align: top;\n",
       "    }\n",
       "\n",
       "    .dataframe thead th {\n",
       "        text-align: right;\n",
       "    }\n",
       "</style>\n",
       "<table border=\"1\" class=\"dataframe\">\n",
       "  <thead>\n",
       "    <tr style=\"text-align: right;\">\n",
       "      <th></th>\n",
       "      <th>Country Code</th>\n",
       "      <th>Continent_Code</th>\n",
       "      <th>internet_users_per_100</th>\n",
       "      <th>Math</th>\n",
       "      <th>Reading</th>\n",
       "      <th>Science</th>\n",
       "    </tr>\n",
       "  </thead>\n",
       "  <tbody>\n",
       "    <tr>\n",
       "      <th>9</th>\n",
       "      <td>CAN</td>\n",
       "      <td>NA</td>\n",
       "      <td>88.47</td>\n",
       "      <td>515.6474</td>\n",
       "      <td>526.6678</td>\n",
       "      <td>527.7047</td>\n",
       "    </tr>\n",
       "    <tr>\n",
       "      <th>14</th>\n",
       "      <td>CRI</td>\n",
       "      <td>NA</td>\n",
       "      <td>59.76295014</td>\n",
       "      <td>400.2534</td>\n",
       "      <td>427.4875</td>\n",
       "      <td>419.608</td>\n",
       "    </tr>\n",
       "    <tr>\n",
       "      <th>19</th>\n",
       "      <td>DOM</td>\n",
       "      <td>NA</td>\n",
       "      <td>54.21576634</td>\n",
       "      <td>327.702</td>\n",
       "      <td>357.7377</td>\n",
       "      <td>331.6388</td>\n",
       "    </tr>\n",
       "    <tr>\n",
       "      <th>46</th>\n",
       "      <td>MEX</td>\n",
       "      <td>NA</td>\n",
       "      <td>57.43104299</td>\n",
       "      <td>408.0235</td>\n",
       "      <td>423.2765</td>\n",
       "      <td>415.7099</td>\n",
       "    </tr>\n",
       "    <tr>\n",
       "      <th>69</th>\n",
       "      <td>USA</td>\n",
       "      <td>NA</td>\n",
       "      <td>74.55420245</td>\n",
       "      <td>469.6285</td>\n",
       "      <td>496.9351</td>\n",
       "      <td>496.2424</td>\n",
       "    </tr>\n",
       "  </tbody>\n",
       "</table>\n",
       "</div>"
      ],
      "text/plain": [
       "   Country Code Continent_Code internet_users_per_100      Math   Reading  \\\n",
       "9           CAN             NA                  88.47  515.6474  526.6678   \n",
       "14          CRI             NA            59.76295014  400.2534  427.4875   \n",
       "19          DOM             NA            54.21576634   327.702  357.7377   \n",
       "46          MEX             NA            57.43104299  408.0235  423.2765   \n",
       "69          USA             NA            74.55420245  469.6285  496.9351   \n",
       "\n",
       "     Science  \n",
       "9   527.7047  \n",
       "14   419.608  \n",
       "19  331.6388  \n",
       "46  415.7099  \n",
       "69  496.2424  "
      ]
     },
     "execution_count": 40,
     "metadata": {},
     "output_type": "execute_result"
    }
   ],
   "source": [
    "# check NA continents exist, or not\n",
    "\n",
    "pisa[pisa.Continent_Code =='NA']"
   ]
  },
  {
   "cell_type": "code",
   "execution_count": 41,
   "id": "7180efb1-dbb7-4ece-9665-ccbf830049fe",
   "metadata": {},
   "outputs": [
    {
     "name": "stdout",
     "output_type": "stream",
     "text": [
      "<class 'pandas.core.frame.DataFrame'>\n",
      "RangeIndex: 70 entries, 1 to 70\n",
      "Data columns (total 6 columns):\n",
      " #   Column                  Non-Null Count  Dtype \n",
      "---  ------                  --------------  ----- \n",
      " 0   Country Code            70 non-null     object\n",
      " 1   Continent_Code          70 non-null     object\n",
      " 2   internet_users_per_100  70 non-null     object\n",
      " 3   Math                    70 non-null     object\n",
      " 4   Reading                 70 non-null     object\n",
      " 5   Science                 70 non-null     object\n",
      "dtypes: object(6)\n",
      "memory usage: 3.4+ KB\n"
     ]
    }
   ],
   "source": [
    "pisa.info()"
   ]
  },
  {
   "cell_type": "code",
   "execution_count": 42,
   "id": "e95aa4f3-99fe-430b-8f73-eca951012967",
   "metadata": {},
   "outputs": [],
   "source": [
    "# convert feature type for numerical processes\n",
    "\n",
    "pisa.internet_users_per_100 = pisa.internet_users_per_100.astype(float)\n",
    "pisa.Math = pisa.Math.astype(float)\n",
    "pisa.Reading = pisa.Reading.astype(float)\n",
    "pisa.Science = pisa.Science.astype(float)"
   ]
  },
  {
   "cell_type": "code",
   "execution_count": 43,
   "id": "d77df7f6-7bb0-4460-b9ef-2bb74492a834",
   "metadata": {},
   "outputs": [
    {
     "data": {
      "text/html": [
       "<div>\n",
       "<style scoped>\n",
       "    .dataframe tbody tr th:only-of-type {\n",
       "        vertical-align: middle;\n",
       "    }\n",
       "\n",
       "    .dataframe tbody tr th {\n",
       "        vertical-align: top;\n",
       "    }\n",
       "\n",
       "    .dataframe thead th {\n",
       "        text-align: right;\n",
       "    }\n",
       "</style>\n",
       "<table border=\"1\" class=\"dataframe\">\n",
       "  <thead>\n",
       "    <tr style=\"text-align: right;\">\n",
       "      <th></th>\n",
       "      <th>internet_users_per_100</th>\n",
       "      <th>Math</th>\n",
       "      <th>Reading</th>\n",
       "      <th>Science</th>\n",
       "    </tr>\n",
       "  </thead>\n",
       "  <tbody>\n",
       "    <tr>\n",
       "      <th>count</th>\n",
       "      <td>70.000000</td>\n",
       "      <td>70.000000</td>\n",
       "      <td>70.000000</td>\n",
       "      <td>70.000000</td>\n",
       "    </tr>\n",
       "    <tr>\n",
       "      <th>mean</th>\n",
       "      <td>71.973099</td>\n",
       "      <td>460.971557</td>\n",
       "      <td>460.997291</td>\n",
       "      <td>465.439093</td>\n",
       "    </tr>\n",
       "    <tr>\n",
       "      <th>std</th>\n",
       "      <td>16.390632</td>\n",
       "      <td>53.327205</td>\n",
       "      <td>49.502679</td>\n",
       "      <td>48.397254</td>\n",
       "    </tr>\n",
       "    <tr>\n",
       "      <th>min</th>\n",
       "      <td>21.976068</td>\n",
       "      <td>327.702000</td>\n",
       "      <td>346.549000</td>\n",
       "      <td>331.638800</td>\n",
       "    </tr>\n",
       "    <tr>\n",
       "      <th>25%</th>\n",
       "      <td>60.899020</td>\n",
       "      <td>417.416075</td>\n",
       "      <td>426.948625</td>\n",
       "      <td>425.923375</td>\n",
       "    </tr>\n",
       "    <tr>\n",
       "      <th>50%</th>\n",
       "      <td>72.999350</td>\n",
       "      <td>477.607150</td>\n",
       "      <td>480.199850</td>\n",
       "      <td>475.400050</td>\n",
       "    </tr>\n",
       "    <tr>\n",
       "      <th>75%</th>\n",
       "      <td>85.026763</td>\n",
       "      <td>500.482925</td>\n",
       "      <td>499.687475</td>\n",
       "      <td>502.431250</td>\n",
       "    </tr>\n",
       "    <tr>\n",
       "      <th>max</th>\n",
       "      <td>98.200000</td>\n",
       "      <td>564.189700</td>\n",
       "      <td>535.100200</td>\n",
       "      <td>555.574700</td>\n",
       "    </tr>\n",
       "  </tbody>\n",
       "</table>\n",
       "</div>"
      ],
      "text/plain": [
       "       internet_users_per_100        Math     Reading     Science\n",
       "count               70.000000   70.000000   70.000000   70.000000\n",
       "mean                71.973099  460.971557  460.997291  465.439093\n",
       "std                 16.390632   53.327205   49.502679   48.397254\n",
       "min                 21.976068  327.702000  346.549000  331.638800\n",
       "25%                 60.899020  417.416075  426.948625  425.923375\n",
       "50%                 72.999350  477.607150  480.199850  475.400050\n",
       "75%                 85.026763  500.482925  499.687475  502.431250\n",
       "max                 98.200000  564.189700  535.100200  555.574700"
      ]
     },
     "execution_count": 43,
     "metadata": {},
     "output_type": "execute_result"
    }
   ],
   "source": [
    "# Get descriptive statistics all numeric features\n",
    "\n",
    "pisa.describe()"
   ]
  },
  {
   "cell_type": "code",
   "execution_count": 44,
   "id": "47d19660-6c96-4b7b-ba3d-b0ca1f3c4fdb",
   "metadata": {},
   "outputs": [
    {
     "data": {
      "text/html": [
       "<div>\n",
       "<style scoped>\n",
       "    .dataframe tbody tr th:only-of-type {\n",
       "        vertical-align: middle;\n",
       "    }\n",
       "\n",
       "    .dataframe tbody tr th {\n",
       "        vertical-align: top;\n",
       "    }\n",
       "\n",
       "    .dataframe thead th {\n",
       "        text-align: right;\n",
       "    }\n",
       "</style>\n",
       "<table border=\"1\" class=\"dataframe\">\n",
       "  <thead>\n",
       "    <tr style=\"text-align: right;\">\n",
       "      <th></th>\n",
       "      <th>Continent_Code</th>\n",
       "      <th>AF</th>\n",
       "      <th>AS</th>\n",
       "      <th>EU</th>\n",
       "      <th>NA</th>\n",
       "      <th>OC</th>\n",
       "      <th>SA</th>\n",
       "    </tr>\n",
       "  </thead>\n",
       "  <tbody>\n",
       "    <tr>\n",
       "      <th rowspan=\"8\" valign=\"top\">internet_users_per_100</th>\n",
       "      <th>count</th>\n",
       "      <td>2.000000</td>\n",
       "      <td>17.000000</td>\n",
       "      <td>37.000000</td>\n",
       "      <td>5.000000</td>\n",
       "      <td>2.000000</td>\n",
       "      <td>7.000000</td>\n",
       "    </tr>\n",
       "    <tr>\n",
       "      <th>mean</th>\n",
       "      <td>43.359918</td>\n",
       "      <td>68.455613</td>\n",
       "      <td>77.274888</td>\n",
       "      <td>66.886792</td>\n",
       "      <td>86.391704</td>\n",
       "      <td>60.180494</td>\n",
       "    </tr>\n",
       "    <tr>\n",
       "      <th>std</th>\n",
       "      <td>7.297226</td>\n",
       "      <td>21.086060</td>\n",
       "      <td>12.425773</td>\n",
       "      <td>14.364359</td>\n",
       "      <td>2.589686</td>\n",
       "      <td>9.772455</td>\n",
       "    </tr>\n",
       "    <tr>\n",
       "      <th>min</th>\n",
       "      <td>38.200000</td>\n",
       "      <td>21.976068</td>\n",
       "      <td>53.744979</td>\n",
       "      <td>54.215766</td>\n",
       "      <td>84.560519</td>\n",
       "      <td>40.900000</td>\n",
       "    </tr>\n",
       "    <tr>\n",
       "      <th>25%</th>\n",
       "      <td>40.779959</td>\n",
       "      <td>50.300000</td>\n",
       "      <td>68.632900</td>\n",
       "      <td>57.431043</td>\n",
       "      <td>85.476112</td>\n",
       "      <td>57.116462</td>\n",
       "    </tr>\n",
       "    <tr>\n",
       "      <th>50%</th>\n",
       "      <td>43.359918</td>\n",
       "      <td>74.000000</td>\n",
       "      <td>76.184000</td>\n",
       "      <td>59.762950</td>\n",
       "      <td>86.391704</td>\n",
       "      <td>64.289000</td>\n",
       "    </tr>\n",
       "    <tr>\n",
       "      <th>75%</th>\n",
       "      <td>45.939877</td>\n",
       "      <td>84.948353</td>\n",
       "      <td>87.479056</td>\n",
       "      <td>74.554202</td>\n",
       "      <td>87.307296</td>\n",
       "      <td>66.321532</td>\n",
       "    </tr>\n",
       "    <tr>\n",
       "      <th>max</th>\n",
       "      <td>48.519836</td>\n",
       "      <td>92.884826</td>\n",
       "      <td>98.200000</td>\n",
       "      <td>88.470000</td>\n",
       "      <td>88.222889</td>\n",
       "      <td>69.198471</td>\n",
       "    </tr>\n",
       "    <tr>\n",
       "      <th rowspan=\"8\" valign=\"top\">Math</th>\n",
       "      <th>count</th>\n",
       "      <td>2.000000</td>\n",
       "      <td>17.000000</td>\n",
       "      <td>37.000000</td>\n",
       "      <td>5.000000</td>\n",
       "      <td>2.000000</td>\n",
       "      <td>7.000000</td>\n",
       "    </tr>\n",
       "    <tr>\n",
       "      <th>mean</th>\n",
       "      <td>363.212100</td>\n",
       "      <td>466.216647</td>\n",
       "      <td>477.981449</td>\n",
       "      <td>424.250960</td>\n",
       "      <td>494.559750</td>\n",
       "      <td>402.887700</td>\n",
       "    </tr>\n",
       "    <tr>\n",
       "      <th>std</th>\n",
       "      <td>5.099513</td>\n",
       "      <td>64.356490</td>\n",
       "      <td>35.150403</td>\n",
       "      <td>71.717058</td>\n",
       "      <td>0.938401</td>\n",
       "      <td>18.128894</td>\n",
       "    </tr>\n",
       "    <tr>\n",
       "      <th>min</th>\n",
       "      <td>359.606200</td>\n",
       "      <td>380.259000</td>\n",
       "      <td>371.311400</td>\n",
       "      <td>327.702000</td>\n",
       "      <td>493.896200</td>\n",
       "      <td>377.069500</td>\n",
       "    </tr>\n",
       "    <tr>\n",
       "      <th>25%</th>\n",
       "      <td>361.409150</td>\n",
       "      <td>403.833200</td>\n",
       "      <td>464.040100</td>\n",
       "      <td>400.253400</td>\n",
       "      <td>494.227975</td>\n",
       "      <td>388.102200</td>\n",
       "    </tr>\n",
       "    <tr>\n",
       "      <th>50%</th>\n",
       "      <td>363.212100</td>\n",
       "      <td>459.816000</td>\n",
       "      <td>489.728700</td>\n",
       "      <td>408.023500</td>\n",
       "      <td>494.559750</td>\n",
       "      <td>409.033300</td>\n",
       "    </tr>\n",
       "    <tr>\n",
       "      <th>75%</th>\n",
       "      <td>365.015050</td>\n",
       "      <td>531.296100</td>\n",
       "      <td>503.722000</td>\n",
       "      <td>469.628500</td>\n",
       "      <td>494.891525</td>\n",
       "      <td>417.617650</td>\n",
       "    </tr>\n",
       "    <tr>\n",
       "      <th>max</th>\n",
       "      <td>366.818000</td>\n",
       "      <td>564.189700</td>\n",
       "      <td>521.250600</td>\n",
       "      <td>515.647400</td>\n",
       "      <td>495.223300</td>\n",
       "      <td>422.671400</td>\n",
       "    </tr>\n",
       "    <tr>\n",
       "      <th rowspan=\"8\" valign=\"top\">Reading</th>\n",
       "      <th>count</th>\n",
       "      <td>2.000000</td>\n",
       "      <td>17.000000</td>\n",
       "      <td>37.000000</td>\n",
       "      <td>5.000000</td>\n",
       "      <td>2.000000</td>\n",
       "      <td>7.000000</td>\n",
       "    </tr>\n",
       "    <tr>\n",
       "      <th>mean</th>\n",
       "      <td>355.457400</td>\n",
       "      <td>454.059682</td>\n",
       "      <td>476.164608</td>\n",
       "      <td>446.420920</td>\n",
       "      <td>506.085650</td>\n",
       "      <td>425.359229</td>\n",
       "    </tr>\n",
       "    <tr>\n",
       "      <th>std</th>\n",
       "      <td>7.916909</td>\n",
       "      <td>57.048962</td>\n",
       "      <td>37.720545</td>\n",
       "      <td>66.614744</td>\n",
       "      <td>4.504341</td>\n",
       "      <td>19.709688</td>\n",
       "    </tr>\n",
       "    <tr>\n",
       "      <th>min</th>\n",
       "      <td>349.859300</td>\n",
       "      <td>346.549000</td>\n",
       "      <td>351.741500</td>\n",
       "      <td>357.737700</td>\n",
       "      <td>502.900600</td>\n",
       "      <td>397.541400</td>\n",
       "    </tr>\n",
       "    <tr>\n",
       "      <th>25%</th>\n",
       "      <td>352.658350</td>\n",
       "      <td>408.102200</td>\n",
       "      <td>452.514300</td>\n",
       "      <td>423.276500</td>\n",
       "      <td>504.493125</td>\n",
       "      <td>416.126900</td>\n",
       "    </tr>\n",
       "    <tr>\n",
       "      <th>50%</th>\n",
       "      <td>355.457400</td>\n",
       "      <td>433.542300</td>\n",
       "      <td>487.250100</td>\n",
       "      <td>427.487500</td>\n",
       "      <td>506.085650</td>\n",
       "      <td>425.303100</td>\n",
       "    </tr>\n",
       "    <tr>\n",
       "      <th>75%</th>\n",
       "      <td>358.256450</td>\n",
       "      <td>508.690500</td>\n",
       "      <td>499.814600</td>\n",
       "      <td>496.935100</td>\n",
       "      <td>507.678175</td>\n",
       "      <td>431.922700</td>\n",
       "    </tr>\n",
       "    <tr>\n",
       "      <th>max</th>\n",
       "      <td>361.055500</td>\n",
       "      <td>535.100200</td>\n",
       "      <td>526.424700</td>\n",
       "      <td>526.667800</td>\n",
       "      <td>509.270700</td>\n",
       "      <td>458.570900</td>\n",
       "    </tr>\n",
       "    <tr>\n",
       "      <th rowspan=\"8\" valign=\"top\">Science</th>\n",
       "      <th>count</th>\n",
       "      <td>2.000000</td>\n",
       "      <td>17.000000</td>\n",
       "      <td>37.000000</td>\n",
       "      <td>5.000000</td>\n",
       "      <td>2.000000</td>\n",
       "      <td>7.000000</td>\n",
       "    </tr>\n",
       "    <tr>\n",
       "      <th>mean</th>\n",
       "      <td>381.074250</td>\n",
       "      <td>467.945847</td>\n",
       "      <td>478.299381</td>\n",
       "      <td>438.180760</td>\n",
       "      <td>511.648700</td>\n",
       "      <td>421.747186</td>\n",
       "    </tr>\n",
       "    <tr>\n",
       "      <th>std</th>\n",
       "      <td>7.536556</td>\n",
       "      <td>56.671371</td>\n",
       "      <td>34.450616</td>\n",
       "      <td>76.789918</td>\n",
       "      <td>2.340241</td>\n",
       "      <td>18.470319</td>\n",
       "    </tr>\n",
       "    <tr>\n",
       "      <th>min</th>\n",
       "      <td>375.745100</td>\n",
       "      <td>386.485400</td>\n",
       "      <td>383.682400</td>\n",
       "      <td>331.638800</td>\n",
       "      <td>509.993900</td>\n",
       "      <td>396.683600</td>\n",
       "    </tr>\n",
       "    <tr>\n",
       "      <th>25%</th>\n",
       "      <td>378.409675</td>\n",
       "      <td>417.611200</td>\n",
       "      <td>460.774900</td>\n",
       "      <td>415.709900</td>\n",
       "      <td>510.821300</td>\n",
       "      <td>408.205450</td>\n",
       "    </tr>\n",
       "    <tr>\n",
       "      <th>50%</th>\n",
       "      <td>381.074250</td>\n",
       "      <td>456.483600</td>\n",
       "      <td>490.225000</td>\n",
       "      <td>419.608000</td>\n",
       "      <td>511.648700</td>\n",
       "      <td>424.590500</td>\n",
       "    </tr>\n",
       "    <tr>\n",
       "      <th>75%</th>\n",
       "      <td>383.738825</td>\n",
       "      <td>523.277400</td>\n",
       "      <td>501.936900</td>\n",
       "      <td>496.242400</td>\n",
       "      <td>512.476100</td>\n",
       "      <td>433.794600</td>\n",
       "    </tr>\n",
       "    <tr>\n",
       "      <th>max</th>\n",
       "      <td>386.403400</td>\n",
       "      <td>555.574700</td>\n",
       "      <td>534.193700</td>\n",
       "      <td>527.704700</td>\n",
       "      <td>513.303500</td>\n",
       "      <td>446.956100</td>\n",
       "    </tr>\n",
       "  </tbody>\n",
       "</table>\n",
       "</div>"
      ],
      "text/plain": [
       "Continent_Code                        AF          AS          EU          NA  \\\n",
       "internet_users_per_100 count    2.000000   17.000000   37.000000    5.000000   \n",
       "                       mean    43.359918   68.455613   77.274888   66.886792   \n",
       "                       std      7.297226   21.086060   12.425773   14.364359   \n",
       "                       min     38.200000   21.976068   53.744979   54.215766   \n",
       "                       25%     40.779959   50.300000   68.632900   57.431043   \n",
       "                       50%     43.359918   74.000000   76.184000   59.762950   \n",
       "                       75%     45.939877   84.948353   87.479056   74.554202   \n",
       "                       max     48.519836   92.884826   98.200000   88.470000   \n",
       "Math                   count    2.000000   17.000000   37.000000    5.000000   \n",
       "                       mean   363.212100  466.216647  477.981449  424.250960   \n",
       "                       std      5.099513   64.356490   35.150403   71.717058   \n",
       "                       min    359.606200  380.259000  371.311400  327.702000   \n",
       "                       25%    361.409150  403.833200  464.040100  400.253400   \n",
       "                       50%    363.212100  459.816000  489.728700  408.023500   \n",
       "                       75%    365.015050  531.296100  503.722000  469.628500   \n",
       "                       max    366.818000  564.189700  521.250600  515.647400   \n",
       "Reading                count    2.000000   17.000000   37.000000    5.000000   \n",
       "                       mean   355.457400  454.059682  476.164608  446.420920   \n",
       "                       std      7.916909   57.048962   37.720545   66.614744   \n",
       "                       min    349.859300  346.549000  351.741500  357.737700   \n",
       "                       25%    352.658350  408.102200  452.514300  423.276500   \n",
       "                       50%    355.457400  433.542300  487.250100  427.487500   \n",
       "                       75%    358.256450  508.690500  499.814600  496.935100   \n",
       "                       max    361.055500  535.100200  526.424700  526.667800   \n",
       "Science                count    2.000000   17.000000   37.000000    5.000000   \n",
       "                       mean   381.074250  467.945847  478.299381  438.180760   \n",
       "                       std      7.536556   56.671371   34.450616   76.789918   \n",
       "                       min    375.745100  386.485400  383.682400  331.638800   \n",
       "                       25%    378.409675  417.611200  460.774900  415.709900   \n",
       "                       50%    381.074250  456.483600  490.225000  419.608000   \n",
       "                       75%    383.738825  523.277400  501.936900  496.242400   \n",
       "                       max    386.403400  555.574700  534.193700  527.704700   \n",
       "\n",
       "Continent_Code                        OC          SA  \n",
       "internet_users_per_100 count    2.000000    7.000000  \n",
       "                       mean    86.391704   60.180494  \n",
       "                       std      2.589686    9.772455  \n",
       "                       min     84.560519   40.900000  \n",
       "                       25%     85.476112   57.116462  \n",
       "                       50%     86.391704   64.289000  \n",
       "                       75%     87.307296   66.321532  \n",
       "                       max     88.222889   69.198471  \n",
       "Math                   count    2.000000    7.000000  \n",
       "                       mean   494.559750  402.887700  \n",
       "                       std      0.938401   18.128894  \n",
       "                       min    493.896200  377.069500  \n",
       "                       25%    494.227975  388.102200  \n",
       "                       50%    494.559750  409.033300  \n",
       "                       75%    494.891525  417.617650  \n",
       "                       max    495.223300  422.671400  \n",
       "Reading                count    2.000000    7.000000  \n",
       "                       mean   506.085650  425.359229  \n",
       "                       std      4.504341   19.709688  \n",
       "                       min    502.900600  397.541400  \n",
       "                       25%    504.493125  416.126900  \n",
       "                       50%    506.085650  425.303100  \n",
       "                       75%    507.678175  431.922700  \n",
       "                       max    509.270700  458.570900  \n",
       "Science                count    2.000000    7.000000  \n",
       "                       mean   511.648700  421.747186  \n",
       "                       std      2.340241   18.470319  \n",
       "                       min    509.993900  396.683600  \n",
       "                       25%    510.821300  408.205450  \n",
       "                       50%    511.648700  424.590500  \n",
       "                       75%    512.476100  433.794600  \n",
       "                       max    513.303500  446.956100  "
      ]
     },
     "execution_count": 44,
     "metadata": {},
     "output_type": "execute_result"
    }
   ],
   "source": [
    "# Get descriptive statistics all numeric features for each continent group (AS, EU, AF, NA, SA, OC)\n",
    "\n",
    "pisa.groupby('Continent_Code').describe().T"
   ]
  },
  {
   "cell_type": "code",
   "execution_count": 45,
   "id": "638691eb-4c8d-4bb2-a3bd-f5c3dd9b38cc",
   "metadata": {},
   "outputs": [],
   "source": [
    "# get analysis features\n",
    "\n",
    "EU = pisa.Math[pisa.Continent_Code == 'EU']\n",
    "AS = pisa.Math[pisa.Continent_Code == 'AS']\n",
    "EU_AS =  pisa[(pisa.Continent_Code == 'AS') | (pisa.Continent_Code == 'EU')]"
   ]
  },
  {
   "cell_type": "code",
   "execution_count": 46,
   "id": "97e667df-bbe4-4013-ae0a-4d156b1d4611",
   "metadata": {},
   "outputs": [
    {
     "name": "stdout",
     "output_type": "stream",
     "text": [
      "Europe total observation: 37\n",
      "Asia total observation: 17\n"
     ]
    }
   ],
   "source": [
    "# look into Europe and Asia total observation \n",
    "\n",
    "print('Europe total observation:', EU.shape[0])\n",
    "print('Asia total observation:', AS.shape[0])"
   ]
  },
  {
   "cell_type": "code",
   "execution_count": 47,
   "id": "665caadd-7e04-4944-9800-f7d727a4069c",
   "metadata": {},
   "outputs": [
    {
     "name": "stdout",
     "output_type": "stream",
     "text": [
      "Europe average math score: 477.98\n",
      "Asia average math score: 466.22\n"
     ]
    }
   ],
   "source": [
    "# look into Europe and Asia means for comparison\n",
    "\n",
    "print('Europe average math score:', EU.mean().round(2))\n",
    "print('Asia average math score:', AS.mean().round(2))"
   ]
  },
  {
   "cell_type": "markdown",
   "id": "762a9495-5dda-48e7-a061-c46f3fc97241",
   "metadata": {},
   "source": [
    "\n",
    "write down hypothesis\n",
    "\n",
    "**H0: µ(EU) = µ(AS) (the math scores of European (EU) and Asian (AS) countries means are equal)**\n",
    "\n",
    "**H1: µ(EU) ≠ µ(AS) (the math scores of European (EU) and Asian (AS) countries means are not equal)**"
   ]
  },
  {
   "cell_type": "markdown",
   "id": "0f2e43fb-73be-4be7-8e3e-c41a3efa0d5e",
   "metadata": {},
   "source": [
    "Two independent samples, unknown population standart deviation, so choose independent samples T Test.\n",
    "\n",
    "T test requirement: all samples have normal distribution and variances are same."
   ]
  },
  {
   "cell_type": "markdown",
   "id": "a9b0ac0b-0c00-433c-91a9-257fbeeb464e",
   "metadata": {},
   "source": [
    "Samples have normality and equal variances according to question's assumption."
   ]
  },
  {
   "cell_type": "code",
   "execution_count": 48,
   "id": "fb80ef92-49a5-4608-aca0-009dc438436f",
   "metadata": {},
   "outputs": [
    {
     "name": "stdout",
     "output_type": "stream",
     "text": [
      "T-test:0.870055317967983, p-value:0.38826888111307345\n",
      "    \tThe math score mean differences among European (EU) and Asian (AS) countries are not statistically significant at 0.05 significance level.    \n",
      "\tSo, fail to reject H0 hypothesis.\n"
     ]
    }
   ],
   "source": [
    "# calculate independent two samples T-test\n",
    "\n",
    "significance_level = 0.05\n",
    "\n",
    "statistic,  pvalue = stats.ttest_ind(EU, AS, equal_var = True)\n",
    "\n",
    "if pvalue < significance_level:\n",
    "    print(f'T-test:{statistic}, p-value:{pvalue}\\n\\\n",
    "    \\tThe math score mean differences among European (EU) and Asian (AS) countries are statistically significant at {round(significance_level, 2)} significance level.\\\n",
    "    \\n\\tSo, we can reject H0 hypothesis.')\n",
    "else:\n",
    "    print(f'T-test:{statistic}, p-value:{pvalue}\\n\\\n",
    "    \\tThe math score mean differences among European (EU) and Asian (AS) countries are not statistically significant at {round(significance_level, 2)} significance level.\\\n",
    "    \\n\\tSo, fail to reject H0 hypothesis.')"
   ]
  },
  {
   "cell_type": "code",
   "execution_count": 49,
   "id": "5f5042b1-4763-41d7-a75a-3ca5c49bf7c3",
   "metadata": {},
   "outputs": [
    {
     "data": {
      "image/png": "[encoded data removed]",
      "text/plain": [
       "<Figure size 800x400 with 1 Axes>"
      ]
     },
     "metadata": {},
     "output_type": "display_data"
    }
   ],
   "source": [
    "# drawing boxplot\n",
    "\n",
    "fig, ax = plt.subplots(figsize=(8, 4))\n",
    "\n",
    "ax = sns.boxplot(y = 'Continent_Code', x = 'Math', data = EU_AS, width = 0.4  )\n",
    "ax.set_yticklabels(['Europe','Asia'], rotation=45)\n",
    "ax.set_xlabel('Math Score')\n",
    "ax.set_title('The math score differences among European and Asian countries')\n",
    "plt.ylabel('')\n",
    "plt.show()"
   ]
  }
 ],
 "metadata": {
  "kernelspec": {
   "display_name": "Python 3 (ipykernel)",
   "language": "python",
   "name": "python3"
  },
  "language_info": {
   "codemirror_mode": {
    "name": "ipython",
    "version": 3
   },
   "file_extension": ".py",
   "mimetype": "text/x-python",
   "name": "python",
   "nbconvert_exporter": "python",
   "pygments_lexer": "ipython3",
   "version": "3.11.3"
  }
 },
 "nbformat": 4,
 "nbformat_minor": 5
}
