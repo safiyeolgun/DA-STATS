{
 "cells": [
  {
   "cell_type": "markdown",
   "id": "0373466e-5a4e-4181-80d1-e215d62da151",
   "metadata": {},
   "source": [
    "### Investigating DataSet is come from kaggle website\n",
    "\n",
    "[House Pricing in Tunisia data-set (25 features)](https://www.kaggle.com/datasets/samermakni/tunisia-house-pricing)"
   ]
  },
  {
   "cell_type": "code",
   "execution_count": 4,
   "id": "75cbd77b-5778-45af-9ff8-548a861df923",
   "metadata": {},
   "outputs": [],
   "source": [
    "import numpy as np\n",
    "import pandas as pd\n",
    "import matplotlib as plot"
   ]
  },
  {
   "cell_type": "code",
   "execution_count": 2,
   "id": "fd8c1561-a3ab-4ef3-bf89-7cc20adbcad4",
   "metadata": {},
   "outputs": [],
   "source": [
    "# pip install zipfile"
   ]
  },
  {
   "cell_type": "code",
   "execution_count": 5,
   "id": "2a17d8ae-e4f2-4905-bad7-35f7c6b15aae",
   "metadata": {},
   "outputs": [],
   "source": [
    "from zipfile import ZipFile"
   ]
  },
  {
   "cell_type": "code",
   "execution_count": 6,
   "id": "ef8da8b7-032a-466f-8cc4-3a6fc91849ff",
   "metadata": {},
   "outputs": [],
   "source": [
    "with ZipFile('archive.zip', 'r') as file:\n",
    "    file.extractall()"
   ]
  },
  {
   "cell_type": "markdown",
   "id": "b26b040b-27aa-48b6-a352-318235da31fe",
   "metadata": {},
   "source": [
    "After extraction, faced two dataset, **dataset_clean.csv** and **dataSetFull.csv**.\n",
    "In this analysis notebook, just using raw file, dataSetFull.csv."
   ]
  },
  {
   "cell_type": "code",
   "execution_count": 7,
   "id": "aa213415-d04c-4c92-befd-2bfb84380635",
   "metadata": {},
   "outputs": [],
   "source": [
    "df0  = pd.read_csv('dataSetFull.csv')"
   ]
  },
  {
   "cell_type": "code",
   "execution_count": 8,
   "id": "bd4168d1-bcef-4f8d-83c9-42f953569fe6",
   "metadata": {},
   "outputs": [],
   "source": [
    "df = df0.copy()"
   ]
  },
  {
   "cell_type": "code",
   "execution_count": 9,
   "id": "5097eca9-0121-4153-a50f-c41d8931f48c",
   "metadata": {},
   "outputs": [
    {
     "data": {
      "text/html": [
       "<div>\n",
       "<style scoped>\n",
       "    .dataframe tbody tr th:only-of-type {\n",
       "        vertical-align: middle;\n",
       "    }\n",
       "\n",
       "    .dataframe tbody tr th {\n",
       "        vertical-align: top;\n",
       "    }\n",
       "\n",
       "    .dataframe thead th {\n",
       "        text-align: right;\n",
       "    }\n",
       "</style>\n",
       "<table border=\"1\" class=\"dataframe\">\n",
       "  <thead>\n",
       "    <tr style=\"text-align: right;\">\n",
       "      <th></th>\n",
       "      <th>id</th>\n",
       "      <th>price_tnd</th>\n",
       "      <th>price_eur</th>\n",
       "      <th>location</th>\n",
       "      <th>city</th>\n",
       "      <th>governorate</th>\n",
       "      <th>Area</th>\n",
       "      <th>pieces</th>\n",
       "      <th>room</th>\n",
       "      <th>bathroom</th>\n",
       "      <th>...</th>\n",
       "      <th>garden</th>\n",
       "      <th>concierge</th>\n",
       "      <th>beach_view</th>\n",
       "      <th>mountain_view</th>\n",
       "      <th>pool</th>\n",
       "      <th>elevator</th>\n",
       "      <th>furnished</th>\n",
       "      <th>equipped_kitchen</th>\n",
       "      <th>central_heating</th>\n",
       "      <th>air_conditioning</th>\n",
       "    </tr>\n",
       "  </thead>\n",
       "  <tbody>\n",
       "    <tr>\n",
       "      <th>0</th>\n",
       "      <td>b9e1c759-d149-46e8-9765-d8c198a13ff0</td>\n",
       "      <td>NaN</td>\n",
       "      <td>NaN</td>\n",
       "      <td>Cité El Bassatine Ancien</td>\n",
       "      <td>Boumhel Bassatine</td>\n",
       "      <td>Ben Arous</td>\n",
       "      <td>NaN</td>\n",
       "      <td>27.0</td>\n",
       "      <td>8.0</td>\n",
       "      <td>NaN</td>\n",
       "      <td>...</td>\n",
       "      <td>0</td>\n",
       "      <td>0</td>\n",
       "      <td>0</td>\n",
       "      <td>0</td>\n",
       "      <td>0</td>\n",
       "      <td>0</td>\n",
       "      <td>0</td>\n",
       "      <td>0</td>\n",
       "      <td>0</td>\n",
       "      <td>0</td>\n",
       "    </tr>\n",
       "    <tr>\n",
       "      <th>1</th>\n",
       "      <td>863e62e5-0bfe-49f3-ad97-e0ae91be68e9</td>\n",
       "      <td>3250000.0</td>\n",
       "      <td>1007500.0</td>\n",
       "      <td>El Kantaoui</td>\n",
       "      <td>Hammam Sousse</td>\n",
       "      <td>Sousse</td>\n",
       "      <td>1000.0</td>\n",
       "      <td>26.0</td>\n",
       "      <td>16.0</td>\n",
       "      <td>14.0</td>\n",
       "      <td>...</td>\n",
       "      <td>0</td>\n",
       "      <td>1</td>\n",
       "      <td>1</td>\n",
       "      <td>0</td>\n",
       "      <td>0</td>\n",
       "      <td>1</td>\n",
       "      <td>1</td>\n",
       "      <td>1</td>\n",
       "      <td>1</td>\n",
       "      <td>1</td>\n",
       "    </tr>\n",
       "    <tr>\n",
       "      <th>2</th>\n",
       "      <td>0048e6da-9aec-4ebe-8ee1-1ad7cd0015e6</td>\n",
       "      <td>2000000.0</td>\n",
       "      <td>620000.0</td>\n",
       "      <td>Sousse Corniche</td>\n",
       "      <td>Sousse Ville</td>\n",
       "      <td>Sousse</td>\n",
       "      <td>932.0</td>\n",
       "      <td>24.0</td>\n",
       "      <td>24.0</td>\n",
       "      <td>10.0</td>\n",
       "      <td>...</td>\n",
       "      <td>0</td>\n",
       "      <td>0</td>\n",
       "      <td>0</td>\n",
       "      <td>0</td>\n",
       "      <td>0</td>\n",
       "      <td>0</td>\n",
       "      <td>1</td>\n",
       "      <td>1</td>\n",
       "      <td>1</td>\n",
       "      <td>1</td>\n",
       "    </tr>\n",
       "    <tr>\n",
       "      <th>3</th>\n",
       "      <td>032f818f-1b38-4d1a-a000-753e235ccf54</td>\n",
       "      <td>2000000.0</td>\n",
       "      <td>620000.0</td>\n",
       "      <td>Sousse Corniche</td>\n",
       "      <td>Sousse Ville</td>\n",
       "      <td>Sousse</td>\n",
       "      <td>932.0</td>\n",
       "      <td>24.0</td>\n",
       "      <td>24.0</td>\n",
       "      <td>NaN</td>\n",
       "      <td>...</td>\n",
       "      <td>0</td>\n",
       "      <td>0</td>\n",
       "      <td>0</td>\n",
       "      <td>0</td>\n",
       "      <td>0</td>\n",
       "      <td>0</td>\n",
       "      <td>1</td>\n",
       "      <td>1</td>\n",
       "      <td>1</td>\n",
       "      <td>1</td>\n",
       "    </tr>\n",
       "    <tr>\n",
       "      <th>4</th>\n",
       "      <td>2272576f-fb3b-4c82-8a0e-a00fe2e7c154</td>\n",
       "      <td>2000000.0</td>\n",
       "      <td>620000.0</td>\n",
       "      <td>Sousse Corniche</td>\n",
       "      <td>Sousse Ville</td>\n",
       "      <td>Sousse</td>\n",
       "      <td>932.0</td>\n",
       "      <td>24.0</td>\n",
       "      <td>24.0</td>\n",
       "      <td>10.0</td>\n",
       "      <td>...</td>\n",
       "      <td>0</td>\n",
       "      <td>0</td>\n",
       "      <td>0</td>\n",
       "      <td>0</td>\n",
       "      <td>0</td>\n",
       "      <td>0</td>\n",
       "      <td>1</td>\n",
       "      <td>1</td>\n",
       "      <td>1</td>\n",
       "      <td>1</td>\n",
       "    </tr>\n",
       "  </tbody>\n",
       "</table>\n",
       "<p>5 rows × 26 columns</p>\n",
       "</div>"
      ],
      "text/plain": [
       "                                     id  price_tnd  price_eur   \n",
       "0  b9e1c759-d149-46e8-9765-d8c198a13ff0        NaN        NaN  \\\n",
       "1  863e62e5-0bfe-49f3-ad97-e0ae91be68e9  3250000.0  1007500.0   \n",
       "2  0048e6da-9aec-4ebe-8ee1-1ad7cd0015e6  2000000.0   620000.0   \n",
       "3  032f818f-1b38-4d1a-a000-753e235ccf54  2000000.0   620000.0   \n",
       "4  2272576f-fb3b-4c82-8a0e-a00fe2e7c154  2000000.0   620000.0   \n",
       "\n",
       "                   location               city governorate    Area  pieces   \n",
       "0  Cité El Bassatine Ancien  Boumhel Bassatine   Ben Arous     NaN    27.0  \\\n",
       "1               El Kantaoui      Hammam Sousse      Sousse  1000.0    26.0   \n",
       "2           Sousse Corniche       Sousse Ville      Sousse   932.0    24.0   \n",
       "3           Sousse Corniche       Sousse Ville      Sousse   932.0    24.0   \n",
       "4           Sousse Corniche       Sousse Ville      Sousse   932.0    24.0   \n",
       "\n",
       "   room  bathroom  ... garden  concierge  beach_view  mountain_view  pool   \n",
       "0   8.0       NaN  ...      0          0           0              0     0  \\\n",
       "1  16.0      14.0  ...      0          1           1              0     0   \n",
       "2  24.0      10.0  ...      0          0           0              0     0   \n",
       "3  24.0       NaN  ...      0          0           0              0     0   \n",
       "4  24.0      10.0  ...      0          0           0              0     0   \n",
       "\n",
       "   elevator  furnished  equipped_kitchen  central_heating  air_conditioning  \n",
       "0         0          0                 0                0                 0  \n",
       "1         1          1                 1                1                 1  \n",
       "2         0          1                 1                1                 1  \n",
       "3         0          1                 1                1                 1  \n",
       "4         0          1                 1                1                 1  \n",
       "\n",
       "[5 rows x 26 columns]"
      ]
     },
     "execution_count": 9,
     "metadata": {},
     "output_type": "execute_result"
    }
   ],
   "source": [
    "df.head()"
   ]
  },
  {
   "attachments": {},
   "cell_type": "markdown",
   "id": "b1b5d93f-3f9b-40e0-8871-98bc33970854",
   "metadata": {},
   "source": [
    "This dataset has been gathered in October 2022 by scraping \"various\" house sales websites. \n",
    "\n",
    "It has no house type like that house, apartment, villa, and etc.\n",
    "\n",
    "Dataset has more than 8000 observations with  25 features, named like that\n",
    "\n",
    "- **``id``** 128-bit universally unique identifier.\n",
    "\n",
    "\n",
    "### Price Features\n",
    "\n",
    "- **``price_tnd``** the price of in Tunisian Dinars (changes between 350,000  and 457,000; 1708 NaNs)\n",
    "\n",
    "- **``price_eur``** the price of in Tunisian Euros. (changes between 108,500 and 141,670; 1708 NaNs)\n",
    "\n",
    "\r\n",
    "( **Not raw feature** converted on 29 October 2022 with a conversion rate of 1 TND equals 0.31 euros.)\n",
    "\n",
    "### Location Feature\n",
    "\n",
    "- **``location``** the neighborhood of location (takes 468 different environment)\n",
    "\n",
    "- **``city``** the city of location (takes 70 cities, 1316 NaNs)\n",
    "\n",
    "- **``governorate``** the governorate of location (takes 22 governorates and a islands, official 24)\n",
    "   \n",
    "( Djerba Island is situated on governorate Medenine. There is not seen house any on Sidi Bouzid and Tozeur governorate)\n",
    "     \n",
    "\n",
    "> term categorizes like  location > city > govornorate \n",
    "\n",
    "\n",
    "- **``latt``** the latitude of location  (35 NaNs)\n",
    "\n",
    "- **``long``**  the longitude locatio (35 NaNs)\n",
    "\n",
    "-  **``distance_to_ capital``** the distance from the capital of Tunisia, Tunis ( **Not raw feature**\n",
    "\n",
    "### House Attribute Feautures\n",
    "- **``Area``** the area of in square meters (takes between 20 and 22,000,  185 NaNs)\n",
    "\n",
    "- **``pieces``** the total number of rooms and saloons (takes between 1 and 27, 1189 NaNs)\n",
    "\n",
    "> can be found the number of saloons \n",
    "\n",
    "- **``room``** the number of rooms (takes between 1 and 50,  409 NaNs)\n",
    "- **``age``** the age of  house  (takes 1 number -0 means it is new-  and 9 intervals, 4145 NaNs)\n",
    "- **``state``** the status of house (takes brand new 0, normal state 1, renovation 2 ;    1100 NaNs)\n",
    "- **``bathroom``**  the number of bathrooms (takes between 1 and 20;   659 NaNs)\n",
    "- **``garage``** whether has a garage or not (takes No 0,  Yes 1)\n",
    "- **``garden``** whether has a garden or not (takes No 0,  Yes 1)\n",
    "- **``concierge``** whether has a concierge or not (takes No 0,  Yes 1)\n",
    "- **``beach_view``** whether has a beach view or not (takes No 0,  Yes 1)\n",
    "- **``mountain_view``** whether has a mountain view or not (takes No 0,  Yes 1)\n",
    "- **``pool``** whether is a pool or not (takes No 0,  Yes 1)\n",
    "- **``elevator``** whether is an elevator or not (takes No 0,  Yes 1)\n",
    "- **``furnished``** whether is furnished or not (takes No 0,  Yes 1)\n",
    "- **``equipped_kitech``** whether kitchen is equipped or not (takes No 0,  Yes 1)\n",
    "- **``central_heating``** whether has central heating or not (takes No 0,  Yes 1)\n",
    "- **``air_conditionting``** whether has air-condition or not (takes No 0,  Yes 1))  unnecessaryline) air conditioning or not. not."
   ]
  },
  {
   "cell_type": "code",
   "execution_count": 60,
   "id": "d9ea6cfd-aac5-4b99-86b2-a6fc8547e714",
   "metadata": {},
   "outputs": [
    {
     "name": "stdout",
     "output_type": "stream",
     "text": [
      "<class 'pandas.core.frame.DataFrame'>\n",
      "RangeIndex: 8129 entries, 0 to 8128\n",
      "Data columns (total 26 columns):\n",
      " #   Column               Non-Null Count  Dtype  \n",
      "---  ------               --------------  -----  \n",
      " 0   id                   8129 non-null   object \n",
      " 1   price_tnd            6421 non-null   float64\n",
      " 2   price_eur            6421 non-null   float64\n",
      " 3   location             8129 non-null   object \n",
      " 4   city                 6813 non-null   object \n",
      " 5   governorate          8129 non-null   object \n",
      " 6   Area                 7944 non-null   float64\n",
      " 7   pieces               6940 non-null   float64\n",
      " 8   room                 7720 non-null   float64\n",
      " 9   bathroom             7470 non-null   float64\n",
      " 10  age                  3984 non-null   object \n",
      " 11  state                7029 non-null   float64\n",
      " 12  latt                 8094 non-null   float64\n",
      " 13  long                 8094 non-null   float64\n",
      " 14  distance_to_capital  8094 non-null   float64\n",
      " 15  garage               8129 non-null   int64  \n",
      " 16  garden               8129 non-null   int64  \n",
      " 17  concierge            8129 non-null   int64  \n",
      " 18  beach_view           8129 non-null   int64  \n",
      " 19  mountain_view        8129 non-null   int64  \n",
      " 20  pool                 8129 non-null   int64  \n",
      " 21  elevator             8129 non-null   int64  \n",
      " 22  furnished            8129 non-null   int64  \n",
      " 23  equipped_kitchen     8129 non-null   int64  \n",
      " 24  central_heating      8129 non-null   int64  \n",
      " 25  air_conditioning     8129 non-null   int64  \n",
      "dtypes: float64(10), int64(11), object(5)\n",
      "memory usage: 1.6+ MB\n"
     ]
    }
   ],
   "source": [
    "df.info()"
   ]
  },
  {
   "cell_type": "code",
   "execution_count": null,
   "id": "90b3b23a-5b6d-444c-89ac-bb879974fb0f",
   "metadata": {},
   "outputs": [],
   "source": []
  },
  {
   "cell_type": "code",
   "execution_count": 8,
   "id": "b0d070a8-87cb-4a67-92eb-a1923543293a",
   "metadata": {},
   "outputs": [
    {
     "data": {
      "text/plain": [
       "count    6940.000000\n",
       "mean        4.318300\n",
       "std         2.270759\n",
       "min         1.000000\n",
       "25%         3.000000\n",
       "50%         4.000000\n",
       "75%         5.000000\n",
       "max        27.000000\n",
       "Name: pieces, dtype: float64"
      ]
     },
     "execution_count": 8,
     "metadata": {},
     "output_type": "execute_result"
    }
   ],
   "source": [
    "df.pieces.describe()"
   ]
  },
  {
   "cell_type": "code",
   "execution_count": 9,
   "id": "b293bd97-3b2d-43de-b998-a3e7a584ddc9",
   "metadata": {},
   "outputs": [
    {
     "data": {
      "text/plain": [
       "count    7720.000000\n",
       "mean        3.325389\n",
       "std         2.020898\n",
       "min         1.000000\n",
       "25%         2.000000\n",
       "50%         3.000000\n",
       "75%         4.000000\n",
       "max        50.000000\n",
       "Name: room, dtype: float64"
      ]
     },
     "execution_count": 9,
     "metadata": {},
     "output_type": "execute_result"
    }
   ],
   "source": [
    "df.room.describe()"
   ]
  },
  {
   "cell_type": "code",
   "execution_count": 10,
   "id": "e9b30d7d-8dad-4b6b-8832-66392804acc4",
   "metadata": {},
   "outputs": [
    {
     "data": {
      "text/html": [
       "<div>\n",
       "<style scoped>\n",
       "    .dataframe tbody tr th:only-of-type {\n",
       "        vertical-align: middle;\n",
       "    }\n",
       "\n",
       "    .dataframe tbody tr th {\n",
       "        vertical-align: top;\n",
       "    }\n",
       "\n",
       "    .dataframe thead th {\n",
       "        text-align: right;\n",
       "    }\n",
       "</style>\n",
       "<table border=\"1\" class=\"dataframe\">\n",
       "  <thead>\n",
       "    <tr style=\"text-align: right;\">\n",
       "      <th></th>\n",
       "      <th>id</th>\n",
       "      <th>price_tnd</th>\n",
       "      <th>price_eur</th>\n",
       "      <th>location</th>\n",
       "      <th>city</th>\n",
       "      <th>governorate</th>\n",
       "      <th>Area</th>\n",
       "      <th>pieces</th>\n",
       "      <th>room</th>\n",
       "      <th>bathroom</th>\n",
       "      <th>...</th>\n",
       "      <th>garden</th>\n",
       "      <th>concierge</th>\n",
       "      <th>beach_view</th>\n",
       "      <th>mountain_view</th>\n",
       "      <th>pool</th>\n",
       "      <th>elevator</th>\n",
       "      <th>furnished</th>\n",
       "      <th>equipped_kitchen</th>\n",
       "      <th>central_heating</th>\n",
       "      <th>air_conditioning</th>\n",
       "    </tr>\n",
       "  </thead>\n",
       "  <tbody>\n",
       "    <tr>\n",
       "      <th>2</th>\n",
       "      <td>0048e6da-9aec-4ebe-8ee1-1ad7cd0015e6</td>\n",
       "      <td>2000000.0</td>\n",
       "      <td>620000.0</td>\n",
       "      <td>Sousse Corniche</td>\n",
       "      <td>Sousse Ville</td>\n",
       "      <td>Sousse</td>\n",
       "      <td>932.0</td>\n",
       "      <td>24.0</td>\n",
       "      <td>24.0</td>\n",
       "      <td>10.0</td>\n",
       "      <td>...</td>\n",
       "      <td>0</td>\n",
       "      <td>0</td>\n",
       "      <td>0</td>\n",
       "      <td>0</td>\n",
       "      <td>0</td>\n",
       "      <td>0</td>\n",
       "      <td>1</td>\n",
       "      <td>1</td>\n",
       "      <td>1</td>\n",
       "      <td>1</td>\n",
       "    </tr>\n",
       "    <tr>\n",
       "      <th>3</th>\n",
       "      <td>032f818f-1b38-4d1a-a000-753e235ccf54</td>\n",
       "      <td>2000000.0</td>\n",
       "      <td>620000.0</td>\n",
       "      <td>Sousse Corniche</td>\n",
       "      <td>Sousse Ville</td>\n",
       "      <td>Sousse</td>\n",
       "      <td>932.0</td>\n",
       "      <td>24.0</td>\n",
       "      <td>24.0</td>\n",
       "      <td>NaN</td>\n",
       "      <td>...</td>\n",
       "      <td>0</td>\n",
       "      <td>0</td>\n",
       "      <td>0</td>\n",
       "      <td>0</td>\n",
       "      <td>0</td>\n",
       "      <td>0</td>\n",
       "      <td>1</td>\n",
       "      <td>1</td>\n",
       "      <td>1</td>\n",
       "      <td>1</td>\n",
       "    </tr>\n",
       "    <tr>\n",
       "      <th>4</th>\n",
       "      <td>2272576f-fb3b-4c82-8a0e-a00fe2e7c154</td>\n",
       "      <td>2000000.0</td>\n",
       "      <td>620000.0</td>\n",
       "      <td>Sousse Corniche</td>\n",
       "      <td>Sousse Ville</td>\n",
       "      <td>Sousse</td>\n",
       "      <td>932.0</td>\n",
       "      <td>24.0</td>\n",
       "      <td>24.0</td>\n",
       "      <td>10.0</td>\n",
       "      <td>...</td>\n",
       "      <td>0</td>\n",
       "      <td>0</td>\n",
       "      <td>0</td>\n",
       "      <td>0</td>\n",
       "      <td>0</td>\n",
       "      <td>0</td>\n",
       "      <td>1</td>\n",
       "      <td>1</td>\n",
       "      <td>1</td>\n",
       "      <td>1</td>\n",
       "    </tr>\n",
       "  </tbody>\n",
       "</table>\n",
       "<p>3 rows × 26 columns</p>\n",
       "</div>"
      ],
      "text/plain": [
       "                                     id  price_tnd  price_eur   \n",
       "2  0048e6da-9aec-4ebe-8ee1-1ad7cd0015e6  2000000.0   620000.0  \\\n",
       "3  032f818f-1b38-4d1a-a000-753e235ccf54  2000000.0   620000.0   \n",
       "4  2272576f-fb3b-4c82-8a0e-a00fe2e7c154  2000000.0   620000.0   \n",
       "\n",
       "          location          city governorate   Area  pieces  room  bathroom   \n",
       "2  Sousse Corniche  Sousse Ville      Sousse  932.0    24.0  24.0      10.0  \\\n",
       "3  Sousse Corniche  Sousse Ville      Sousse  932.0    24.0  24.0       NaN   \n",
       "4  Sousse Corniche  Sousse Ville      Sousse  932.0    24.0  24.0      10.0   \n",
       "\n",
       "   ... garden  concierge  beach_view  mountain_view  pool  elevator   \n",
       "2  ...      0          0           0              0     0         0  \\\n",
       "3  ...      0          0           0              0     0         0   \n",
       "4  ...      0          0           0              0     0         0   \n",
       "\n",
       "   furnished  equipped_kitchen  central_heating  air_conditioning  \n",
       "2          1                 1                1                 1  \n",
       "3          1                 1                1                 1  \n",
       "4          1                 1                1                 1  \n",
       "\n",
       "[3 rows x 26 columns]"
      ]
     },
     "execution_count": 10,
     "metadata": {},
     "output_type": "execute_result"
    }
   ],
   "source": [
    "df[(df['room'] > 20) & (df['pieces'] > 20)]"
   ]
  },
  {
   "cell_type": "code",
   "execution_count": 11,
   "id": "ce95b182-db73-42c7-bec0-829a2833053c",
   "metadata": {},
   "outputs": [
    {
     "data": {
      "text/html": [
       "<div>\n",
       "<style scoped>\n",
       "    .dataframe tbody tr th:only-of-type {\n",
       "        vertical-align: middle;\n",
       "    }\n",
       "\n",
       "    .dataframe tbody tr th {\n",
       "        vertical-align: top;\n",
       "    }\n",
       "\n",
       "    .dataframe thead th {\n",
       "        text-align: right;\n",
       "    }\n",
       "</style>\n",
       "<table border=\"1\" class=\"dataframe\">\n",
       "  <thead>\n",
       "    <tr style=\"text-align: right;\">\n",
       "      <th></th>\n",
       "      <th>id</th>\n",
       "      <th>price_tnd</th>\n",
       "      <th>price_eur</th>\n",
       "      <th>location</th>\n",
       "      <th>city</th>\n",
       "      <th>governorate</th>\n",
       "      <th>Area</th>\n",
       "      <th>pieces</th>\n",
       "      <th>room</th>\n",
       "      <th>bathroom</th>\n",
       "      <th>...</th>\n",
       "      <th>garden</th>\n",
       "      <th>concierge</th>\n",
       "      <th>beach_view</th>\n",
       "      <th>mountain_view</th>\n",
       "      <th>pool</th>\n",
       "      <th>elevator</th>\n",
       "      <th>furnished</th>\n",
       "      <th>equipped_kitchen</th>\n",
       "      <th>central_heating</th>\n",
       "      <th>air_conditioning</th>\n",
       "    </tr>\n",
       "  </thead>\n",
       "  <tbody>\n",
       "    <tr>\n",
       "      <th>255</th>\n",
       "      <td>0e6bc10c-8bc8-416a-9733-4431b96dc055</td>\n",
       "      <td>NaN</td>\n",
       "      <td>NaN</td>\n",
       "      <td>Nabeul</td>\n",
       "      <td>Nabeul</td>\n",
       "      <td>Nabeul</td>\n",
       "      <td>900.0</td>\n",
       "      <td>9.0</td>\n",
       "      <td>50.0</td>\n",
       "      <td>3.0</td>\n",
       "      <td>...</td>\n",
       "      <td>0</td>\n",
       "      <td>0</td>\n",
       "      <td>1</td>\n",
       "      <td>0</td>\n",
       "      <td>1</td>\n",
       "      <td>0</td>\n",
       "      <td>1</td>\n",
       "      <td>1</td>\n",
       "      <td>1</td>\n",
       "      <td>1</td>\n",
       "    </tr>\n",
       "    <tr>\n",
       "      <th>6984</th>\n",
       "      <td>28b61cbb-6515-4cf8-a07a-451f25666087</td>\n",
       "      <td>2300000.0</td>\n",
       "      <td>713000.0</td>\n",
       "      <td>Sahloul</td>\n",
       "      <td>Sousse Ville</td>\n",
       "      <td>Sousse</td>\n",
       "      <td>1200.0</td>\n",
       "      <td>NaN</td>\n",
       "      <td>42.0</td>\n",
       "      <td>12.0</td>\n",
       "      <td>...</td>\n",
       "      <td>0</td>\n",
       "      <td>0</td>\n",
       "      <td>0</td>\n",
       "      <td>0</td>\n",
       "      <td>0</td>\n",
       "      <td>0</td>\n",
       "      <td>0</td>\n",
       "      <td>0</td>\n",
       "      <td>0</td>\n",
       "      <td>0</td>\n",
       "    </tr>\n",
       "  </tbody>\n",
       "</table>\n",
       "<p>2 rows × 26 columns</p>\n",
       "</div>"
      ],
      "text/plain": [
       "                                        id  price_tnd  price_eur location   \n",
       "255   0e6bc10c-8bc8-416a-9733-4431b96dc055        NaN        NaN   Nabeul  \\\n",
       "6984  28b61cbb-6515-4cf8-a07a-451f25666087  2300000.0   713000.0  Sahloul   \n",
       "\n",
       "              city governorate    Area  pieces  room  bathroom  ... garden   \n",
       "255         Nabeul      Nabeul   900.0     9.0  50.0       3.0  ...      0  \\\n",
       "6984  Sousse Ville      Sousse  1200.0     NaN  42.0      12.0  ...      0   \n",
       "\n",
       "      concierge  beach_view  mountain_view  pool  elevator  furnished   \n",
       "255           0           1              0     1         0          1  \\\n",
       "6984          0           0              0     0         0          0   \n",
       "\n",
       "      equipped_kitchen  central_heating  air_conditioning  \n",
       "255                  1                1                 1  \n",
       "6984                 0                0                 0  \n",
       "\n",
       "[2 rows x 26 columns]"
      ]
     },
     "execution_count": 11,
     "metadata": {},
     "output_type": "execute_result"
    }
   ],
   "source": [
    "df[df['room'] > 25]"
   ]
  },
  {
   "cell_type": "code",
   "execution_count": 12,
   "id": "7f54886c-e728-423b-b60b-345eb1436724",
   "metadata": {},
   "outputs": [
    {
     "data": {
      "text/plain": [
       "362"
      ]
     },
     "execution_count": 12,
     "metadata": {},
     "output_type": "execute_result"
    }
   ],
   "source": [
    "((df['pieces'].isnull()) & (df['room'].isnull() )).sum()"
   ]
  },
  {
   "cell_type": "code",
   "execution_count": 13,
   "id": "41d21023-8322-4e23-80c1-62dae8dafcec",
   "metadata": {},
   "outputs": [
    {
     "data": {
      "text/plain": [
       "['Boumhel Bassatine', 'Hammam Sousse', 'Sousse Ville', 'Sousse Ville', 'Sousse Ville', ..., 'Sousse Ville', 'Hammam Sousse', 'Carthage', NaN, 'La Marsa']\n",
       "Length: 8129\n",
       "Categories (70, object): ['Ajim', 'Akouda', 'Ariana Ville', 'Ben Arous', ..., 'Sousse Ville', 'Tabarka', 'Tebourba', 'Tunis']"
      ]
     },
     "execution_count": 13,
     "metadata": {},
     "output_type": "execute_result"
    }
   ],
   "source": [
    "pd.Categorical(df['city'])"
   ]
  },
  {
   "cell_type": "markdown",
   "id": "e0faa5e4-58aa-4f71-a14b-94d22063d627",
   "metadata": {},
   "source": [
    "## How to imputate NaN of city, distance_to_capital, latt, long, beach_view and mountain_view column data"
   ]
  },
  {
   "cell_type": "code",
   "execution_count": 14,
   "id": "aeecf112-c05a-4970-95d6-17d0c763060c",
   "metadata": {},
   "outputs": [
    {
     "data": {
      "text/plain": [
       "id                        0\n",
       "price_tnd              1708\n",
       "price_eur              1708\n",
       "location                  0\n",
       "city                   1316\n",
       "governorate               0\n",
       "Area                    185\n",
       "pieces                 1189\n",
       "room                    409\n",
       "bathroom                659\n",
       "age                    4145\n",
       "state                  1100\n",
       "latt                     35\n",
       "long                     35\n",
       "distance_to_capital      35\n",
       "garage                    0\n",
       "garden                    0\n",
       "concierge                 0\n",
       "beach_view                0\n",
       "mountain_view             0\n",
       "pool                      0\n",
       "elevator                  0\n",
       "furnished                 0\n",
       "equipped_kitchen          0\n",
       "central_heating           0\n",
       "air_conditioning          0\n",
       "dtype: int64"
      ]
     },
     "execution_count": 14,
     "metadata": {},
     "output_type": "execute_result"
    }
   ],
   "source": [
    "df.isnull().sum()"
   ]
  },
  {
   "cell_type": "code",
   "execution_count": 15,
   "id": "d680e4d8-78ef-4e46-9a3b-58f50b75362d",
   "metadata": {},
   "outputs": [
    {
     "data": {
      "text/plain": [
       "35"
      ]
     },
     "execution_count": 15,
     "metadata": {},
     "output_type": "execute_result"
    }
   ],
   "source": [
    "(df.latt.isnull() & df.long.isnull()).sum()"
   ]
  },
  {
   "cell_type": "code",
   "execution_count": 16,
   "id": "bd6146f9-9ae9-4e68-b93c-03d91ea838eb",
   "metadata": {},
   "outputs": [
    {
     "data": {
      "text/plain": [
       "1"
      ]
     },
     "execution_count": 16,
     "metadata": {},
     "output_type": "execute_result"
    }
   ],
   "source": [
    "(df.latt.isnull() & df.long.isnull() &  df.city.isnull()).sum()"
   ]
  },
  {
   "cell_type": "code",
   "execution_count": 17,
   "id": "e13ae3f5-6684-47f3-babd-9be113f1fef7",
   "metadata": {},
   "outputs": [
    {
     "data": {
      "text/plain": [
       "1"
      ]
     },
     "execution_count": 17,
     "metadata": {},
     "output_type": "execute_result"
    }
   ],
   "source": [
    "(df.latt.isnull() & df.long.isnull() &  df.city.isnull()).sum()"
   ]
  },
  {
   "cell_type": "code",
   "execution_count": 18,
   "id": "cfaab97a-0045-4b19-8910-1a259c769a56",
   "metadata": {},
   "outputs": [
    {
     "data": {
      "text/plain": [
       "id                     1\n",
       "price_tnd              1\n",
       "central_heating        1\n",
       "equipped_kitchen       1\n",
       "furnished              1\n",
       "elevator               1\n",
       "pool                   1\n",
       "mountain_view          1\n",
       "beach_view             1\n",
       "concierge              1\n",
       "garden                 1\n",
       "garage                 1\n",
       "distance_to_capital    1\n",
       "long                   1\n",
       "latt                   1\n",
       "state                  1\n",
       "age                    1\n",
       "bathroom               1\n",
       "room                   1\n",
       "pieces                 1\n",
       "Area                   1\n",
       "governorate            1\n",
       "city                   1\n",
       "location               1\n",
       "price_eur              1\n",
       "air_conditioning       1\n",
       "Name: count, dtype: int64"
      ]
     },
     "execution_count": 18,
     "metadata": {},
     "output_type": "execute_result"
    }
   ],
   "source": [
    "df.columns.value_counts()"
   ]
  },
  {
   "cell_type": "code",
   "execution_count": 19,
   "id": "59c900e9-12d2-4336-83ce-680c9a8d943e",
   "metadata": {},
   "outputs": [
    {
     "data": {
      "text/plain": [
       "governorate\n",
       "tunis           2303\n",
       "Nabeul          1884\n",
       "Ariana          1440\n",
       "Ben Arous        721\n",
       " Sousse          670\n",
       "Djerba           384\n",
       "Bizerte          224\n",
       "La Manouba        96\n",
       "Monastir          96\n",
       "Mahdia            64\n",
       "Sfax              64\n",
       "Kébili            30\n",
       "Gabès             30\n",
       "Kairouan          22\n",
       "Béja              20\n",
       "Zaghouan          20\n",
       "Medenine          18\n",
       "Jendouba          16\n",
       "Tataouine          9\n",
       "Siliana            9\n",
       "Gafsa              7\n",
       "Le Kef             1\n",
       "El Kasserine       1\n",
       "Name: count, dtype: int64"
      ]
     },
     "execution_count": 19,
     "metadata": {},
     "output_type": "execute_result"
    }
   ],
   "source": [
    "df.governorate.value_counts()"
   ]
  },
  {
   "cell_type": "code",
   "execution_count": 20,
   "id": "8fc7c6e5-1ad2-48fc-b7a4-3fb1427b919b",
   "metadata": {},
   "outputs": [
    {
     "data": {
      "text/html": [
       "<div>\n",
       "<style scoped>\n",
       "    .dataframe tbody tr th:only-of-type {\n",
       "        vertical-align: middle;\n",
       "    }\n",
       "\n",
       "    .dataframe tbody tr th {\n",
       "        vertical-align: top;\n",
       "    }\n",
       "\n",
       "    .dataframe thead th {\n",
       "        text-align: right;\n",
       "    }\n",
       "</style>\n",
       "<table border=\"1\" class=\"dataframe\">\n",
       "  <thead>\n",
       "    <tr style=\"text-align: right;\">\n",
       "      <th></th>\n",
       "      <th>location</th>\n",
       "      <th>city</th>\n",
       "      <th>latt</th>\n",
       "      <th>long</th>\n",
       "      <th>distance_to_capital</th>\n",
       "      <th>governorate</th>\n",
       "      <th>state</th>\n",
       "      <th>age</th>\n",
       "    </tr>\n",
       "  </thead>\n",
       "  <tbody>\n",
       "    <tr>\n",
       "      <th>7</th>\n",
       "      <td>Midoun</td>\n",
       "      <td>NaN</td>\n",
       "      <td>33.866667</td>\n",
       "      <td>10.850000</td>\n",
       "      <td>329.885067</td>\n",
       "      <td>Djerba</td>\n",
       "      <td>NaN</td>\n",
       "      <td>NaN</td>\n",
       "    </tr>\n",
       "    <tr>\n",
       "      <th>19</th>\n",
       "      <td>Tezdaine</td>\n",
       "      <td>NaN</td>\n",
       "      <td>33.803966</td>\n",
       "      <td>11.040065</td>\n",
       "      <td>341.757988</td>\n",
       "      <td>Djerba</td>\n",
       "      <td>1.0</td>\n",
       "      <td>5-10</td>\n",
       "    </tr>\n",
       "    <tr>\n",
       "      <th>23</th>\n",
       "      <td>Midoun</td>\n",
       "      <td>NaN</td>\n",
       "      <td>33.866667</td>\n",
       "      <td>10.850000</td>\n",
       "      <td>329.885067</td>\n",
       "      <td>Djerba</td>\n",
       "      <td>NaN</td>\n",
       "      <td>NaN</td>\n",
       "    </tr>\n",
       "    <tr>\n",
       "      <th>24</th>\n",
       "      <td>Aghir</td>\n",
       "      <td>NaN</td>\n",
       "      <td>33.759722</td>\n",
       "      <td>11.012510</td>\n",
       "      <td>345.586423</td>\n",
       "      <td>Djerba</td>\n",
       "      <td>2.0</td>\n",
       "      <td>1-5</td>\n",
       "    </tr>\n",
       "    <tr>\n",
       "      <th>25</th>\n",
       "      <td>Midoun</td>\n",
       "      <td>NaN</td>\n",
       "      <td>33.866667</td>\n",
       "      <td>10.850000</td>\n",
       "      <td>329.885067</td>\n",
       "      <td>Djerba</td>\n",
       "      <td>NaN</td>\n",
       "      <td>NaN</td>\n",
       "    </tr>\n",
       "    <tr>\n",
       "      <th>...</th>\n",
       "      <td>...</td>\n",
       "      <td>...</td>\n",
       "      <td>...</td>\n",
       "      <td>...</td>\n",
       "      <td>...</td>\n",
       "      <td>...</td>\n",
       "      <td>...</td>\n",
       "      <td>...</td>\n",
       "    </tr>\n",
       "    <tr>\n",
       "      <th>7721</th>\n",
       "      <td>Djerba</td>\n",
       "      <td>Djerba</td>\n",
       "      <td>33.812323</td>\n",
       "      <td>10.986875</td>\n",
       "      <td>339.300057</td>\n",
       "      <td>Djerba</td>\n",
       "      <td>2.0</td>\n",
       "      <td>0</td>\n",
       "    </tr>\n",
       "    <tr>\n",
       "      <th>7927</th>\n",
       "      <td>Djerba</td>\n",
       "      <td>Djerba</td>\n",
       "      <td>33.809309</td>\n",
       "      <td>10.991402</td>\n",
       "      <td>339.748478</td>\n",
       "      <td>Djerba</td>\n",
       "      <td>2.0</td>\n",
       "      <td>0</td>\n",
       "    </tr>\n",
       "    <tr>\n",
       "      <th>8084</th>\n",
       "      <td>Houmt Souk</td>\n",
       "      <td>Djerba</td>\n",
       "      <td>33.866667</td>\n",
       "      <td>10.850000</td>\n",
       "      <td>329.885067</td>\n",
       "      <td>Djerba</td>\n",
       "      <td>NaN</td>\n",
       "      <td>NaN</td>\n",
       "    </tr>\n",
       "    <tr>\n",
       "      <th>8093</th>\n",
       "      <td>Djerba</td>\n",
       "      <td>NaN</td>\n",
       "      <td>33.807598</td>\n",
       "      <td>10.845147</td>\n",
       "      <td>336.063533</td>\n",
       "      <td>Djerba</td>\n",
       "      <td>NaN</td>\n",
       "      <td>NaN</td>\n",
       "    </tr>\n",
       "    <tr>\n",
       "      <th>8111</th>\n",
       "      <td>Djerba</td>\n",
       "      <td>Djerba</td>\n",
       "      <td>33.807598</td>\n",
       "      <td>10.845147</td>\n",
       "      <td>336.063533</td>\n",
       "      <td>Djerba</td>\n",
       "      <td>1.0</td>\n",
       "      <td>NaN</td>\n",
       "    </tr>\n",
       "  </tbody>\n",
       "</table>\n",
       "<p>384 rows × 8 columns</p>\n",
       "</div>"
      ],
      "text/plain": [
       "        location    city       latt       long  distance_to_capital   \n",
       "7         Midoun     NaN  33.866667  10.850000           329.885067  \\\n",
       "19      Tezdaine     NaN  33.803966  11.040065           341.757988   \n",
       "23        Midoun     NaN  33.866667  10.850000           329.885067   \n",
       "24         Aghir     NaN  33.759722  11.012510           345.586423   \n",
       "25        Midoun     NaN  33.866667  10.850000           329.885067   \n",
       "...          ...     ...        ...        ...                  ...   \n",
       "7721      Djerba  Djerba  33.812323  10.986875           339.300057   \n",
       "7927      Djerba  Djerba  33.809309  10.991402           339.748478   \n",
       "8084  Houmt Souk  Djerba  33.866667  10.850000           329.885067   \n",
       "8093      Djerba     NaN  33.807598  10.845147           336.063533   \n",
       "8111      Djerba  Djerba  33.807598  10.845147           336.063533   \n",
       "\n",
       "     governorate  state    age  \n",
       "7         Djerba    NaN    NaN  \n",
       "19        Djerba    1.0  5-10   \n",
       "23        Djerba    NaN    NaN  \n",
       "24        Djerba    2.0   1-5   \n",
       "25        Djerba    NaN    NaN  \n",
       "...          ...    ...    ...  \n",
       "7721      Djerba    2.0      0  \n",
       "7927      Djerba    2.0      0  \n",
       "8084      Djerba    NaN    NaN  \n",
       "8093      Djerba    NaN    NaN  \n",
       "8111      Djerba    1.0    NaN  \n",
       "\n",
       "[384 rows x 8 columns]"
      ]
     },
     "execution_count": 20,
     "metadata": {},
     "output_type": "execute_result"
    }
   ],
   "source": [
    "df[df.governorate == 'Djerba'][['location', 'city', 'latt', 'long', 'distance_to_capital','governorate', 'state', 'age']]"
   ]
  },
  {
   "cell_type": "code",
   "execution_count": 21,
   "id": "a6c31314-a481-474d-b091-87010824cea9",
   "metadata": {},
   "outputs": [
    {
     "data": {
      "text/plain": [
       "Series([], Name: count, dtype: int64)"
      ]
     },
     "execution_count": 21,
     "metadata": {},
     "output_type": "execute_result"
    }
   ],
   "source": [
    "df[ ( (df['city'] == 'Djerba') & (df['long'] == '10.845147'))].value_counts()"
   ]
  },
  {
   "cell_type": "code",
   "execution_count": 22,
   "id": "d6c6995f-8290-4685-8c9d-fdc2b273ac8d",
   "metadata": {},
   "outputs": [
    {
     "data": {
      "text/plain": [
       "False    8129\n",
       "Name: count, dtype: int64"
      ]
     },
     "execution_count": 22,
     "metadata": {},
     "output_type": "execute_result"
    }
   ],
   "source": [
    "( (df['governorate'] == 'Djerba') & (df['long'] == '10.845147')).value_counts()"
   ]
  },
  {
   "cell_type": "code",
   "execution_count": 23,
   "id": "8efa3494-83b8-4d21-8a0d-a59cedc021f9",
   "metadata": {},
   "outputs": [
    {
     "data": {
      "text/plain": [
       "long\n",
       "10.845147    115\n",
       "10.850000     84\n",
       "11.040065     18\n",
       "11.012510      8\n",
       "10.987461      7\n",
       "            ... \n",
       "10.970506      1\n",
       "11.002620      1\n",
       "10.986866      1\n",
       "10.990184      1\n",
       "10.992690      1\n",
       "Name: count, Length: 135, dtype: int64"
      ]
     },
     "execution_count": 23,
     "metadata": {},
     "output_type": "execute_result"
    }
   ],
   "source": [
    "df[df.governorate == 'Djerba'].long.value_counts()"
   ]
  },
  {
   "cell_type": "code",
   "execution_count": 24,
   "id": "87f155c4-b83e-41d8-868a-a7f282b1fafc",
   "metadata": {},
   "outputs": [
    {
     "data": {
      "text/plain": [
       "array([10.85      , 11.0400653 , 11.01251   , 10.8451467 , 10.99013965,\n",
       "       10.98696505, 10.99030918, 11.02670498, 10.7591506 , 11.0027267 ,\n",
       "       10.98698191, 10.99018809, 10.85284121, 11.0143996 , 10.9673696 ,\n",
       "       10.99012709, 10.987461  , 10.98586015, 10.85443383, 10.98686588,\n",
       "       10.99024348, 10.99140219, 10.99322329, 11.0125    , 10.83210044,\n",
       "       10.98703684, 10.8618954 , 10.8149652 , 10.98706724, 10.981542  ,\n",
       "       10.9871651 , 10.85976445, 10.81431867, 10.85390143, 10.98700834,\n",
       "       10.98696046, 10.98676262, 11.03628875, 10.98696061, 11.03946828,\n",
       "       10.8473675 , 10.99018447, 10.98686578, 11.00261996, 10.97050629,\n",
       "       10.96810303, 11.02756395, 10.98707065, 11.00634375, 11.00925498,\n",
       "       10.96878967, 10.963889  , 11.00106201, 10.98698036, 10.99243216,\n",
       "       10.82660727, 10.98673668, 10.98682876, 10.86529588, 10.98702483,\n",
       "       10.98690091, 10.98722324, 10.98678879, 10.98705399, 10.99277548,\n",
       "       10.98685218, 10.98691872, 10.98685519, 10.98706684, 10.986939  ,\n",
       "       10.99350891, 10.99037222, 10.98687462, 10.98706636, 10.987041  ,\n",
       "       10.98688658, 11.04569397, 10.98692218, 10.98690669, 10.98685317,\n",
       "       10.98666005, 10.99105887, 10.88806204, 11.00724182, 11.00873345,\n",
       "       10.8046814 , 11.0356021 , 11.02282009, 10.9890673 , 10.9524441 ,\n",
       "       11.040065  , 10.98949268, 11.03264771, 10.98350577, 10.84279022,\n",
       "       10.98853045, 11.00856833, 10.86589738, 10.8717295 , 10.98706774,\n",
       "       10.8647161 , 10.98704629, 10.98697615, 11.00943366, 10.75841296,\n",
       "        9.5375    , 10.99174552, 10.85956626, 10.99174552, 10.98696048,\n",
       "       10.98702483, 10.98693252, 10.98642615, 10.99311881, 10.98699462,\n",
       "       10.98705119, 11.03663207, 10.9900289 , 10.98698092, 10.9870613 ,\n",
       "       10.99749668, 10.99213562, 10.800556  , 10.97595267, 10.98717618,\n",
       "       10.98696455, 10.98699387, 10.98973236, 10.99246998, 10.997582  ,\n",
       "       10.86429716, 10.98698578, 10.98691754, 10.86574607, 10.99268965])"
      ]
     },
     "execution_count": 24,
     "metadata": {},
     "output_type": "execute_result"
    }
   ],
   "source": [
    "df[df.governorate == 'Djerba'].long.unique()"
   ]
  },
  {
   "cell_type": "code",
   "execution_count": 25,
   "id": "03ffe5b8-2c25-4576-9ce7-81efd3e3fc98",
   "metadata": {},
   "outputs": [
    {
     "data": {
      "text/plain": [
       "latt\n",
       "33.807598    115\n",
       "33.866667     84\n",
       "33.803966     18\n",
       "33.759722      9\n",
       "33.811585      7\n",
       "            ... \n",
       "33.819425      1\n",
       "33.812326      1\n",
       "33.809201      1\n",
       "33.883970      1\n",
       "33.812323      1\n",
       "Name: count, Length: 135, dtype: int64"
      ]
     },
     "execution_count": 25,
     "metadata": {},
     "output_type": "execute_result"
    }
   ],
   "source": [
    "df[df.governorate == 'Djerba'].latt.value_counts()\n"
   ]
  },
  {
   "cell_type": "markdown",
   "id": "599dc23d-5ebe-4604-b713-46803214955d",
   "metadata": {},
   "source": [
    "## How to imputate NaN of age and state column data"
   ]
  },
  {
   "cell_type": "code",
   "execution_count": 62,
   "id": "b7f21159-5962-492f-9c69-b1c66ee9d418",
   "metadata": {},
   "outputs": [
    {
     "data": {
      "text/plain": [
       "8129"
      ]
     },
     "execution_count": 62,
     "metadata": {},
     "output_type": "execute_result"
    }
   ],
   "source": [
    "len(df)"
   ]
  },
  {
   "cell_type": "code",
   "execution_count": 26,
   "id": "27fdec12-21bf-49fb-b512-5803a0678ff9",
   "metadata": {},
   "outputs": [
    {
     "data": {
      "text/plain": [
       "age\n",
       "NaN             4145\n",
       "0               1471\n",
       "1-5              826\n",
       "5-10             671\n",
       "10-20            557\n",
       "20-30            193\n",
       "10,20            124\n",
       "30-50            104\n",
       "50-70             22\n",
       "Plus de 100        9\n",
       "70-100             7\n",
       "Name: count, dtype: int64"
      ]
     },
     "execution_count": 26,
     "metadata": {},
     "output_type": "execute_result"
    }
   ],
   "source": [
    "df.age.value_counts(dropna = False)"
   ]
  },
  {
   "cell_type": "markdown",
   "id": "093ca252-fb98-4827-ae64-033f235a9acc",
   "metadata": {},
   "source": [
    "#### **age** the age of in intervals (takes 1 number and 9 intervals, 4145 NaNs)\n",
    "\n",
    "```\n",
    "0 (0 means it is new)\n",
    "1-5\n",
    "5-10\n",
    "10-20\n",
    "10,20 (comma will be fixxed, turned to '-')\n",
    "20-30\n",
    "30-50\n",
    "50-70\n",
    "70-100\n",
    "Plus de 100\n",
    "```"
   ]
  },
  {
   "cell_type": "code",
   "execution_count": 27,
   "id": "f2b36194-4b47-467a-b9e3-e72ba8b74a81",
   "metadata": {},
   "outputs": [
    {
     "data": {
      "text/plain": [
       "array([nan, '30-50 ', '1-5 ', '0', '5-10 ', '10-20 ', '20-30 ', '70-100 ',\n",
       "       '10,20', 'Plus de 100 ', '50-70 '], dtype=object)"
      ]
     },
     "execution_count": 27,
     "metadata": {},
     "output_type": "execute_result"
    }
   ],
   "source": [
    "df.age.unique()"
   ]
  },
  {
   "cell_type": "code",
   "execution_count": 10,
   "id": "f81d37da-adbd-47d5-913d-8875e1ecef34",
   "metadata": {},
   "outputs": [],
   "source": [
    "df.age.replace(to_replace = ['1-5 '], value = '1-5', inplace = True)\n",
    "df.age.replace(to_replace = ['5-10 '], value = '5-10', inplace = True)\n",
    "df.age.replace(to_replace = ['10,20'], value = '10-20', inplace = True)\n",
    "df.age.replace(to_replace = ['10-20 '], value ='10-20', inplace = True)\n",
    "df.age.replace(to_replace = ['20-30 '], value ='20-30', inplace = True)\n",
    "df.age.replace(to_replace = ['30-50 '], value ='30-50', inplace = True)\n",
    "df.age.replace(to_replace = ['50-70 '], value ='50-70', inplace = True)\n",
    "df.age.replace(to_replace = ['70-100 '], value ='70-100', inplace = True)\n",
    "df.age.replace(to_replace = ['Plus de 100 '], value ='Plus de 100', inplace = True)"
   ]
  },
  {
   "cell_type": "markdown",
   "id": "42668d3e-b613-432a-87bd-ff819ffd5b62",
   "metadata": {},
   "source": [
    "#### updating **age** feature (takes 1 number and 8 intervals, 4145 NaNs)\n",
    "\n",
    "```\n",
    "0 (0 means it is new)\n",
    "1-5\n",
    "5-10\n",
    "10-20\n",
    "20-30\n",
    "30-50\n",
    "50-70\n",
    "70-100\n",
    "Plus de 100\n",
    "```"
   ]
  },
  {
   "cell_type": "code",
   "execution_count": 29,
   "id": "70fe6190-0ede-483e-937b-3a84a3ebe1ad",
   "metadata": {},
   "outputs": [
    {
     "data": {
      "text/plain": [
       "array([nan, '30-50', '1-5', '0', '5-10', '10-20', '20-30', '70-100',\n",
       "       'Plus de 100', '50-70'], dtype=object)"
      ]
     },
     "execution_count": 29,
     "metadata": {},
     "output_type": "execute_result"
    }
   ],
   "source": [
    "df.age.unique()"
   ]
  },
  {
   "cell_type": "code",
   "execution_count": 30,
   "id": "cfb0a32f-00c9-473f-86e3-63c54bf7d116",
   "metadata": {},
   "outputs": [
    {
     "data": {
      "text/plain": [
       "age\n",
       "NaN            4145\n",
       "0              1471\n",
       "1-5             826\n",
       "10-20           681\n",
       "5-10            671\n",
       "20-30           193\n",
       "30-50           104\n",
       "50-70            22\n",
       "Plus de 100       9\n",
       "70-100            7\n",
       "Name: count, dtype: int64"
      ]
     },
     "execution_count": 30,
     "metadata": {},
     "output_type": "execute_result"
    }
   ],
   "source": [
    "df.age.value_counts(dropna = False)"
   ]
  },
  {
   "cell_type": "code",
   "execution_count": 31,
   "id": "c1179742-2e07-4a2b-a2a4-3451f48f3724",
   "metadata": {},
   "outputs": [
    {
     "data": {
      "text/plain": [
       "state\n",
       "NaN    1100\n",
       "1.0    3660\n",
       "2.0    3044\n",
       "0.0     325\n",
       "Name: count, dtype: int64"
      ]
     },
     "execution_count": 31,
     "metadata": {},
     "output_type": "execute_result"
    }
   ],
   "source": [
    "df.state.value_counts(dropna = False, sort = False)"
   ]
  },
  {
   "cell_type": "markdown",
   "id": "65bf2331-2899-4749-9668-be2a47457ec2",
   "metadata": {},
   "source": [
    "#### **state** the status of the house (takes brand new 0.0, normal 1.0, renovation 2.0, 1100 NaNs)"
   ]
  },
  {
   "cell_type": "markdown",
   "id": "ed338d91-1461-4d4f-9772-2c3c372ff8b2",
   "metadata": {},
   "source": [
    "### Hypothesis 1.  if age = '0', possible state = 0.0 (That means all new built house is brand new )"
   ]
  },
  {
   "cell_type": "code",
   "execution_count": 32,
   "id": "12f255d7-92b6-4792-b759-54ebc545c80d",
   "metadata": {},
   "outputs": [
    {
     "data": {
      "text/plain": [
       "9"
      ]
     },
     "execution_count": 32,
     "metadata": {},
     "output_type": "execute_result"
    }
   ],
   "source": [
    "( (df['age'] == str(0)) & (df['state'] == 0.0) ).sum()"
   ]
  },
  {
   "cell_type": "code",
   "execution_count": 33,
   "id": "f4830f5d-8b7b-48ab-bce0-6d96d0e8e7fa",
   "metadata": {},
   "outputs": [
    {
     "data": {
      "text/html": [
       "<div>\n",
       "<style scoped>\n",
       "    .dataframe tbody tr th:only-of-type {\n",
       "        vertical-align: middle;\n",
       "    }\n",
       "\n",
       "    .dataframe tbody tr th {\n",
       "        vertical-align: top;\n",
       "    }\n",
       "\n",
       "    .dataframe thead th {\n",
       "        text-align: right;\n",
       "    }\n",
       "</style>\n",
       "<table border=\"1\" class=\"dataframe\">\n",
       "  <thead>\n",
       "    <tr style=\"text-align: right;\">\n",
       "      <th></th>\n",
       "      <th>location</th>\n",
       "      <th>city</th>\n",
       "      <th>governorate</th>\n",
       "      <th>state</th>\n",
       "      <th>age</th>\n",
       "    </tr>\n",
       "  </thead>\n",
       "  <tbody>\n",
       "    <tr>\n",
       "      <th>873</th>\n",
       "      <td>Gammarth</td>\n",
       "      <td>La Marsa</td>\n",
       "      <td>tunis</td>\n",
       "      <td>0.0</td>\n",
       "      <td>0</td>\n",
       "    </tr>\n",
       "    <tr>\n",
       "      <th>1514</th>\n",
       "      <td>Mutuelle Ville</td>\n",
       "      <td>El Menzah</td>\n",
       "      <td>tunis</td>\n",
       "      <td>0.0</td>\n",
       "      <td>0</td>\n",
       "    </tr>\n",
       "    <tr>\n",
       "      <th>2123</th>\n",
       "      <td>Hammamet Nord</td>\n",
       "      <td>Hammamet</td>\n",
       "      <td>Nabeul</td>\n",
       "      <td>0.0</td>\n",
       "      <td>0</td>\n",
       "    </tr>\n",
       "    <tr>\n",
       "      <th>2733</th>\n",
       "      <td>Hammamet</td>\n",
       "      <td>Hammamet</td>\n",
       "      <td>Nabeul</td>\n",
       "      <td>0.0</td>\n",
       "      <td>0</td>\n",
       "    </tr>\n",
       "    <tr>\n",
       "      <th>4477</th>\n",
       "      <td>Hammamet Nord</td>\n",
       "      <td>Hammamet</td>\n",
       "      <td>Nabeul</td>\n",
       "      <td>0.0</td>\n",
       "      <td>0</td>\n",
       "    </tr>\n",
       "    <tr>\n",
       "      <th>5295</th>\n",
       "      <td>Mnihla</td>\n",
       "      <td>Mnihla</td>\n",
       "      <td>Ariana</td>\n",
       "      <td>0.0</td>\n",
       "      <td>0</td>\n",
       "    </tr>\n",
       "    <tr>\n",
       "      <th>5484</th>\n",
       "      <td>Djerba</td>\n",
       "      <td>Djerba</td>\n",
       "      <td>Djerba</td>\n",
       "      <td>0.0</td>\n",
       "      <td>0</td>\n",
       "    </tr>\n",
       "    <tr>\n",
       "      <th>5859</th>\n",
       "      <td>Hergla</td>\n",
       "      <td>NaN</td>\n",
       "      <td>Sousse</td>\n",
       "      <td>0.0</td>\n",
       "      <td>0</td>\n",
       "    </tr>\n",
       "    <tr>\n",
       "      <th>7048</th>\n",
       "      <td>El Manar 2</td>\n",
       "      <td>El Menzah</td>\n",
       "      <td>tunis</td>\n",
       "      <td>0.0</td>\n",
       "      <td>0</td>\n",
       "    </tr>\n",
       "  </tbody>\n",
       "</table>\n",
       "</div>"
      ],
      "text/plain": [
       "            location       city governorate  state age\n",
       "873         Gammarth   La Marsa       tunis    0.0   0\n",
       "1514  Mutuelle Ville  El Menzah       tunis    0.0   0\n",
       "2123   Hammamet Nord   Hammamet      Nabeul    0.0   0\n",
       "2733        Hammamet   Hammamet      Nabeul    0.0   0\n",
       "4477   Hammamet Nord   Hammamet      Nabeul    0.0   0\n",
       "5295          Mnihla     Mnihla      Ariana    0.0   0\n",
       "5484          Djerba     Djerba      Djerba    0.0   0\n",
       "5859          Hergla        NaN      Sousse    0.0   0\n",
       "7048      El Manar 2  El Menzah       tunis    0.0   0"
      ]
     },
     "execution_count": 33,
     "metadata": {},
     "output_type": "execute_result"
    }
   ],
   "source": [
    "df[ (df['age'] == str(0)) & (df['state'] == 0.0) ] [['location', 'city', 'governorate', 'state', 'age']]"
   ]
  },
  {
   "cell_type": "code",
   "execution_count": 34,
   "id": "d9a23eb8-24d4-4940-96c5-6b2a10ce00f1",
   "metadata": {},
   "outputs": [
    {
     "data": {
      "text/plain": [
       "1462"
      ]
     },
     "execution_count": 34,
     "metadata": {},
     "output_type": "execute_result"
    }
   ],
   "source": [
    "( (df['age'] == str(0)) & (df['state'] != 0.0) ).sum()"
   ]
  },
  {
   "cell_type": "code",
   "execution_count": 35,
   "id": "fd5b893d-ca9f-40d9-9cbb-7ce0d712aab4",
   "metadata": {},
   "outputs": [
    {
     "data": {
      "text/plain": [
       "1462"
      ]
     },
     "execution_count": 35,
     "metadata": {},
     "output_type": "execute_result"
    }
   ],
   "source": [
    "( (df['age'] == str(0)) & (df['state'] != 0.0) ).sum()"
   ]
  },
  {
   "cell_type": "code",
   "execution_count": 36,
   "id": "3884ba61-3306-41c0-bb8c-c39a43105910",
   "metadata": {},
   "outputs": [
    {
     "data": {
      "text/plain": [
       "142"
      ]
     },
     "execution_count": 36,
     "metadata": {},
     "output_type": "execute_result"
    }
   ],
   "source": [
    "( (df['age'] == str(0)) & (df['state'] == 1.0) ).sum()"
   ]
  },
  {
   "cell_type": "code",
   "execution_count": 37,
   "id": "97734a57-ae5c-4f5d-9fd0-576143bb6dde",
   "metadata": {},
   "outputs": [
    {
     "data": {
      "text/plain": [
       "1319"
      ]
     },
     "execution_count": 37,
     "metadata": {},
     "output_type": "execute_result"
    }
   ],
   "source": [
    "( (df['age'] == str(0)) & (df['state'] == 2.0) ).sum()"
   ]
  },
  {
   "cell_type": "code",
   "execution_count": 38,
   "id": "ff71441d-f733-4d39-84e0-afda47e584fa",
   "metadata": {},
   "outputs": [
    {
     "data": {
      "text/html": [
       "<div>\n",
       "<style scoped>\n",
       "    .dataframe tbody tr th:only-of-type {\n",
       "        vertical-align: middle;\n",
       "    }\n",
       "\n",
       "    .dataframe tbody tr th {\n",
       "        vertical-align: top;\n",
       "    }\n",
       "\n",
       "    .dataframe thead th {\n",
       "        text-align: right;\n",
       "    }\n",
       "</style>\n",
       "<table border=\"1\" class=\"dataframe\">\n",
       "  <thead>\n",
       "    <tr style=\"text-align: right;\">\n",
       "      <th></th>\n",
       "      <th>location</th>\n",
       "      <th>city</th>\n",
       "      <th>governorate</th>\n",
       "      <th>state</th>\n",
       "      <th>age</th>\n",
       "    </tr>\n",
       "  </thead>\n",
       "  <tbody>\n",
       "    <tr>\n",
       "      <th>9</th>\n",
       "      <td>Le Bardo</td>\n",
       "      <td>Le Bardo</td>\n",
       "      <td>tunis</td>\n",
       "      <td>2.0</td>\n",
       "      <td>0</td>\n",
       "    </tr>\n",
       "    <tr>\n",
       "      <th>14</th>\n",
       "      <td>Rejiche</td>\n",
       "      <td>NaN</td>\n",
       "      <td>Mahdia</td>\n",
       "      <td>2.0</td>\n",
       "      <td>0</td>\n",
       "    </tr>\n",
       "    <tr>\n",
       "      <th>17</th>\n",
       "      <td>Le Bardo</td>\n",
       "      <td>Le Bardo</td>\n",
       "      <td>tunis</td>\n",
       "      <td>2.0</td>\n",
       "      <td>0</td>\n",
       "    </tr>\n",
       "    <tr>\n",
       "      <th>21</th>\n",
       "      <td>Riadh al Andalous</td>\n",
       "      <td>Ariana Ville</td>\n",
       "      <td>Ariana</td>\n",
       "      <td>2.0</td>\n",
       "      <td>0</td>\n",
       "    </tr>\n",
       "    <tr>\n",
       "      <th>33</th>\n",
       "      <td>Hammamet Nord</td>\n",
       "      <td>Hammamet</td>\n",
       "      <td>Nabeul</td>\n",
       "      <td>2.0</td>\n",
       "      <td>0</td>\n",
       "    </tr>\n",
       "    <tr>\n",
       "      <th>...</th>\n",
       "      <td>...</td>\n",
       "      <td>...</td>\n",
       "      <td>...</td>\n",
       "      <td>...</td>\n",
       "      <td>...</td>\n",
       "    </tr>\n",
       "    <tr>\n",
       "      <th>8120</th>\n",
       "      <td>Sahloul</td>\n",
       "      <td>Sousse Ville</td>\n",
       "      <td>Sousse</td>\n",
       "      <td>2.0</td>\n",
       "      <td>0</td>\n",
       "    </tr>\n",
       "    <tr>\n",
       "      <th>8121</th>\n",
       "      <td>Sahloul</td>\n",
       "      <td>Sousse Ville</td>\n",
       "      <td>Sousse</td>\n",
       "      <td>2.0</td>\n",
       "      <td>0</td>\n",
       "    </tr>\n",
       "    <tr>\n",
       "      <th>8122</th>\n",
       "      <td>Sahloul</td>\n",
       "      <td>Sousse Ville</td>\n",
       "      <td>Sousse</td>\n",
       "      <td>2.0</td>\n",
       "      <td>0</td>\n",
       "    </tr>\n",
       "    <tr>\n",
       "      <th>8123</th>\n",
       "      <td>Sahloul</td>\n",
       "      <td>Sousse Ville</td>\n",
       "      <td>Sousse</td>\n",
       "      <td>2.0</td>\n",
       "      <td>0</td>\n",
       "    </tr>\n",
       "    <tr>\n",
       "      <th>8124</th>\n",
       "      <td>Sahloul</td>\n",
       "      <td>Sousse Ville</td>\n",
       "      <td>Sousse</td>\n",
       "      <td>2.0</td>\n",
       "      <td>0</td>\n",
       "    </tr>\n",
       "  </tbody>\n",
       "</table>\n",
       "<p>1471 rows × 5 columns</p>\n",
       "</div>"
      ],
      "text/plain": [
       "               location          city governorate  state age\n",
       "9              Le Bardo      Le Bardo       tunis    2.0   0\n",
       "14              Rejiche           NaN      Mahdia    2.0   0\n",
       "17             Le Bardo      Le Bardo       tunis    2.0   0\n",
       "21    Riadh al Andalous  Ariana Ville      Ariana    2.0   0\n",
       "33        Hammamet Nord      Hammamet      Nabeul    2.0   0\n",
       "...                 ...           ...         ...    ...  ..\n",
       "8120            Sahloul  Sousse Ville      Sousse    2.0   0\n",
       "8121            Sahloul  Sousse Ville      Sousse    2.0   0\n",
       "8122            Sahloul  Sousse Ville      Sousse    2.0   0\n",
       "8123            Sahloul  Sousse Ville      Sousse    2.0   0\n",
       "8124            Sahloul  Sousse Ville      Sousse    2.0   0\n",
       "\n",
       "[1471 rows x 5 columns]"
      ]
     },
     "execution_count": 38,
     "metadata": {},
     "output_type": "execute_result"
    }
   ],
   "source": [
    "df.loc[ df['age'] == str(0), ['location', 'city', 'governorate', 'state', 'age']]\n",
    "# df.loc[ df['age'] == str(0)][['age', 'state']]"
   ]
  },
  {
   "cell_type": "code",
   "execution_count": 39,
   "id": "cf703bbd-62e4-46d5-a108-823fffe167ae",
   "metadata": {},
   "outputs": [
    {
     "data": {
      "text/plain": [
       "1"
      ]
     },
     "execution_count": 39,
     "metadata": {},
     "output_type": "execute_result"
    }
   ],
   "source": [
    "((df['age'] == str(0)) &  (df['state'].isnull())).sum()"
   ]
  },
  {
   "cell_type": "code",
   "execution_count": 40,
   "id": "d8c7f698-4466-4a2f-8523-986d8444453b",
   "metadata": {},
   "outputs": [
    {
     "data": {
      "text/html": [
       "<div>\n",
       "<style scoped>\n",
       "    .dataframe tbody tr th:only-of-type {\n",
       "        vertical-align: middle;\n",
       "    }\n",
       "\n",
       "    .dataframe tbody tr th {\n",
       "        vertical-align: top;\n",
       "    }\n",
       "\n",
       "    .dataframe thead th {\n",
       "        text-align: right;\n",
       "    }\n",
       "</style>\n",
       "<table border=\"1\" class=\"dataframe\">\n",
       "  <thead>\n",
       "    <tr style=\"text-align: right;\">\n",
       "      <th></th>\n",
       "      <th>location</th>\n",
       "      <th>city</th>\n",
       "      <th>governorate</th>\n",
       "      <th>state</th>\n",
       "      <th>age</th>\n",
       "    </tr>\n",
       "  </thead>\n",
       "  <tbody>\n",
       "    <tr>\n",
       "      <th>1190</th>\n",
       "      <td>Raoued</td>\n",
       "      <td>Raoued</td>\n",
       "      <td>Ariana</td>\n",
       "      <td>NaN</td>\n",
       "      <td>0</td>\n",
       "    </tr>\n",
       "  </tbody>\n",
       "</table>\n",
       "</div>"
      ],
      "text/plain": [
       "     location    city governorate  state age\n",
       "1190   Raoued  Raoued      Ariana    NaN   0"
      ]
     },
     "execution_count": 40,
     "metadata": {},
     "output_type": "execute_result"
    }
   ],
   "source": [
    "df.loc[(df['age'] == str(0)) & (df['state'].isnull()), ['location', 'city', 'governorate', 'state', 'age']]"
   ]
  },
  {
   "cell_type": "markdown",
   "id": "1bee4420-b342-4f45-8782-dd3083f58e37",
   "metadata": {},
   "source": [
    "### Hypothesis 2.  if state = 0.0 , possible age = '0' (new)"
   ]
  },
  {
   "cell_type": "code",
   "execution_count": 41,
   "id": "3f45cc0e-29a0-4ad8-aa3c-e762d2cae680",
   "metadata": {},
   "outputs": [
    {
     "data": {
      "text/html": [
       "<div>\n",
       "<style scoped>\n",
       "    .dataframe tbody tr th:only-of-type {\n",
       "        vertical-align: middle;\n",
       "    }\n",
       "\n",
       "    .dataframe tbody tr th {\n",
       "        vertical-align: top;\n",
       "    }\n",
       "\n",
       "    .dataframe thead th {\n",
       "        text-align: right;\n",
       "    }\n",
       "</style>\n",
       "<table border=\"1\" class=\"dataframe\">\n",
       "  <thead>\n",
       "    <tr style=\"text-align: right;\">\n",
       "      <th></th>\n",
       "      <th>location</th>\n",
       "      <th>city</th>\n",
       "      <th>governorate</th>\n",
       "      <th>state</th>\n",
       "      <th>age</th>\n",
       "    </tr>\n",
       "  </thead>\n",
       "  <tbody>\n",
       "    <tr>\n",
       "      <th>31</th>\n",
       "      <td>El Menzah 9</td>\n",
       "      <td>El Menzah</td>\n",
       "      <td>tunis</td>\n",
       "      <td>0.0</td>\n",
       "      <td>10-20</td>\n",
       "    </tr>\n",
       "    <tr>\n",
       "      <th>43</th>\n",
       "      <td>Montfleury</td>\n",
       "      <td>Tunis</td>\n",
       "      <td>tunis</td>\n",
       "      <td>0.0</td>\n",
       "      <td>30-50</td>\n",
       "    </tr>\n",
       "    <tr>\n",
       "      <th>74</th>\n",
       "      <td>Mutuelle Ville</td>\n",
       "      <td>El Menzah</td>\n",
       "      <td>tunis</td>\n",
       "      <td>0.0</td>\n",
       "      <td>20-30</td>\n",
       "    </tr>\n",
       "    <tr>\n",
       "      <th>103</th>\n",
       "      <td>Bab El Assal</td>\n",
       "      <td>Tunis</td>\n",
       "      <td>tunis</td>\n",
       "      <td>0.0</td>\n",
       "      <td>10-20</td>\n",
       "    </tr>\n",
       "    <tr>\n",
       "      <th>118</th>\n",
       "      <td>El Menzah 6</td>\n",
       "      <td>Ariana Ville</td>\n",
       "      <td>Ariana</td>\n",
       "      <td>0.0</td>\n",
       "      <td>20-30</td>\n",
       "    </tr>\n",
       "    <tr>\n",
       "      <th>...</th>\n",
       "      <td>...</td>\n",
       "      <td>...</td>\n",
       "      <td>...</td>\n",
       "      <td>...</td>\n",
       "      <td>...</td>\n",
       "    </tr>\n",
       "    <tr>\n",
       "      <th>7968</th>\n",
       "      <td>Ksar Said</td>\n",
       "      <td>Le Bardo</td>\n",
       "      <td>tunis</td>\n",
       "      <td>0.0</td>\n",
       "      <td>20-30</td>\n",
       "    </tr>\n",
       "    <tr>\n",
       "      <th>7969</th>\n",
       "      <td>Ksar Said</td>\n",
       "      <td>Le Bardo</td>\n",
       "      <td>tunis</td>\n",
       "      <td>0.0</td>\n",
       "      <td>20-30</td>\n",
       "    </tr>\n",
       "    <tr>\n",
       "      <th>8034</th>\n",
       "      <td>Cité Ubn Khaldoun</td>\n",
       "      <td>El Omrane Superieur</td>\n",
       "      <td>tunis</td>\n",
       "      <td>0.0</td>\n",
       "      <td>10-20</td>\n",
       "    </tr>\n",
       "    <tr>\n",
       "      <th>8075</th>\n",
       "      <td>Bellevue</td>\n",
       "      <td>El Ouardia</td>\n",
       "      <td>tunis</td>\n",
       "      <td>0.0</td>\n",
       "      <td>5-10</td>\n",
       "    </tr>\n",
       "    <tr>\n",
       "      <th>8114</th>\n",
       "      <td>Ksar Hellal</td>\n",
       "      <td>NaN</td>\n",
       "      <td>Monastir</td>\n",
       "      <td>0.0</td>\n",
       "      <td>30-50</td>\n",
       "    </tr>\n",
       "  </tbody>\n",
       "</table>\n",
       "<p>325 rows × 5 columns</p>\n",
       "</div>"
      ],
      "text/plain": [
       "               location                 city governorate  state    age\n",
       "31          El Menzah 9            El Menzah       tunis    0.0  10-20\n",
       "43           Montfleury                Tunis       tunis    0.0  30-50\n",
       "74       Mutuelle Ville            El Menzah       tunis    0.0  20-30\n",
       "103        Bab El Assal                Tunis       tunis    0.0  10-20\n",
       "118         El Menzah 6         Ariana Ville      Ariana    0.0  20-30\n",
       "...                 ...                  ...         ...    ...    ...\n",
       "7968          Ksar Said             Le Bardo       tunis    0.0  20-30\n",
       "7969          Ksar Said             Le Bardo       tunis    0.0  20-30\n",
       "8034  Cité Ubn Khaldoun  El Omrane Superieur       tunis    0.0  10-20\n",
       "8075           Bellevue           El Ouardia       tunis    0.0   5-10\n",
       "8114        Ksar Hellal                  NaN    Monastir    0.0  30-50\n",
       "\n",
       "[325 rows x 5 columns]"
      ]
     },
     "execution_count": 41,
     "metadata": {},
     "output_type": "execute_result"
    }
   ],
   "source": [
    "df[(df['state'] == 0.0) ] [['location', 'city', 'governorate', 'state', 'age']]"
   ]
  },
  {
   "cell_type": "code",
   "execution_count": 42,
   "id": "b0ab69f4-3b29-49d0-859c-a4c3fbf40145",
   "metadata": {},
   "outputs": [
    {
     "data": {
      "text/plain": [
       "0"
      ]
     },
     "execution_count": 42,
     "metadata": {},
     "output_type": "execute_result"
    }
   ],
   "source": [
    "((df['age'].isnull()) &  (df['state'] == 0.0) ).sum()"
   ]
  },
  {
   "cell_type": "markdown",
   "id": "6ca136b3-298c-4b20-836e-6dee10b57451",
   "metadata": {},
   "source": [
    "### Hypothesis 3.  at same neighbour houses would have been same age.\n",
    "Groupby with location and look age mean"
   ]
  },
  {
   "cell_type": "code",
   "execution_count": 44,
   "id": "7645e3d2-f000-48b1-9bce-2b252405918c",
   "metadata": {},
   "outputs": [
    {
     "data": {
      "text/plain": [
       "location\n",
       "Abou El Kacem Chebbi     2\n",
       "Aghir                   11\n",
       "Ain Zaghouan Nord       78\n",
       "Ain Zaghouan Sud        14\n",
       "Ajim                     1\n",
       "                        ..\n",
       "Zaouit Mornag            0\n",
       "Zarzis                   4\n",
       "Zarzouna                 0\n",
       "Zone Touristique        11\n",
       "Zone touristique         1\n",
       "Name: age, Length: 468, dtype: int64"
      ]
     },
     "execution_count": 44,
     "metadata": {},
     "output_type": "execute_result"
    }
   ],
   "source": [
    "df.groupby(['location'])['age'].count()"
   ]
  },
  {
   "cell_type": "code",
   "execution_count": 46,
   "id": "f2f28a01-6544-4158-84bc-7efd37388e51",
   "metadata": {},
   "outputs": [
    {
     "data": {
      "text/plain": [
       "state  age          location     \n",
       "0.0    0            Hammamet Nord    2\n",
       "                    Djerba           1\n",
       "                    Gammarth         1\n",
       "                    Hammamet         1\n",
       "                    Hergla           1\n",
       "                                    ..\n",
       "2.0    5-10         El Yasmina       1\n",
       "                    El Yasminette    1\n",
       "       Plus de 100  Djerba           1\n",
       "                    El Yasminette    1\n",
       "                    Kélibia          1\n",
       "Name: count, Length: 1292, dtype: int64"
      ]
     },
     "execution_count": 46,
     "metadata": {},
     "output_type": "execute_result"
    }
   ],
   "source": [
    "df.groupby(['state','age'])['location'].value_counts()"
   ]
  },
  {
   "cell_type": "code",
   "execution_count": 47,
   "id": "06025da4-6209-44b5-9541-74612130469f",
   "metadata": {},
   "outputs": [
    {
     "data": {
      "text/plain": [
       "location\n",
       "Abou El Kacem Chebbi    209766.666667\n",
       "Aghir                   230104.545455\n",
       "Ain Zaghouan Nord       153048.550000\n",
       "Ain Zaghouan Sud        101567.272727\n",
       "Ajim                    162750.000000\n",
       "                            ...      \n",
       "Zaouit Mornag                     NaN\n",
       "Zarzis                  216896.666667\n",
       "Zarzouna                 99200.000000\n",
       "Zone Touristique        154985.238095\n",
       "Zone touristique        148025.000000\n",
       "Name: price_eur, Length: 468, dtype: float64"
      ]
     },
     "execution_count": 47,
     "metadata": {},
     "output_type": "execute_result"
    }
   ],
   "source": [
    "df.groupby(['location']).price_eur.mean()"
   ]
  },
  {
   "cell_type": "code",
   "execution_count": 48,
   "id": "c5d75492-b2ab-4f1b-be61-e25a2020e39c",
   "metadata": {},
   "outputs": [
    {
     "data": {
      "text/plain": [
       "city\n",
       "Ajim            162750.000000\n",
       "Akouda          166632.881356\n",
       "Ariana Ville    188472.411795\n",
       "Ben Arous       105128.750000\n",
       "Beni Khiar      144260.714286\n",
       "                    ...      \n",
       "Sousse Riadh    187311.538462\n",
       "Sousse Ville    153474.227500\n",
       "Tabarka          91671.428571\n",
       "Tebourba        155000.000000\n",
       "Tunis           176726.456164\n",
       "Name: price_eur, Length: 70, dtype: float64"
      ]
     },
     "execution_count": 48,
     "metadata": {},
     "output_type": "execute_result"
    }
   ],
   "source": [
    "df.groupby(['city']).price_eur.mean()"
   ]
  },
  {
   "cell_type": "code",
   "execution_count": 49,
   "id": "5c68aedd-1f37-494e-9991-9f2c66a10fd9",
   "metadata": {},
   "outputs": [
    {
     "data": {
      "text/plain": [
       "<pandas.core.groupby.generic.DataFrameGroupBy object at 0x00000030622E5F90>"
      ]
     },
     "execution_count": 49,
     "metadata": {},
     "output_type": "execute_result"
    }
   ],
   "source": [
    "df.groupby(['governorate'])[['location', 'city', 'governorate', 'state', 'age']]"
   ]
  },
  {
   "cell_type": "code",
   "execution_count": 50,
   "id": "a1848514-a389-463a-9885-41b7fec05421",
   "metadata": {},
   "outputs": [
    {
     "data": {
      "text/html": [
       "<div>\n",
       "<style scoped>\n",
       "    .dataframe tbody tr th:only-of-type {\n",
       "        vertical-align: middle;\n",
       "    }\n",
       "\n",
       "    .dataframe tbody tr th {\n",
       "        vertical-align: top;\n",
       "    }\n",
       "\n",
       "    .dataframe thead th {\n",
       "        text-align: right;\n",
       "    }\n",
       "</style>\n",
       "<table border=\"1\" class=\"dataframe\">\n",
       "  <thead>\n",
       "    <tr style=\"text-align: right;\">\n",
       "      <th></th>\n",
       "      <th>location</th>\n",
       "      <th>city</th>\n",
       "      <th>governorate</th>\n",
       "      <th>state</th>\n",
       "      <th>age</th>\n",
       "    </tr>\n",
       "  </thead>\n",
       "  <tbody>\n",
       "    <tr>\n",
       "      <th>7</th>\n",
       "      <td>Midoun</td>\n",
       "      <td>NaN</td>\n",
       "      <td>Djerba</td>\n",
       "      <td>NaN</td>\n",
       "      <td>NaN</td>\n",
       "    </tr>\n",
       "    <tr>\n",
       "      <th>19</th>\n",
       "      <td>Tezdaine</td>\n",
       "      <td>NaN</td>\n",
       "      <td>Djerba</td>\n",
       "      <td>1.0</td>\n",
       "      <td>5-10</td>\n",
       "    </tr>\n",
       "    <tr>\n",
       "      <th>23</th>\n",
       "      <td>Midoun</td>\n",
       "      <td>NaN</td>\n",
       "      <td>Djerba</td>\n",
       "      <td>NaN</td>\n",
       "      <td>NaN</td>\n",
       "    </tr>\n",
       "    <tr>\n",
       "      <th>24</th>\n",
       "      <td>Aghir</td>\n",
       "      <td>NaN</td>\n",
       "      <td>Djerba</td>\n",
       "      <td>2.0</td>\n",
       "      <td>1-5</td>\n",
       "    </tr>\n",
       "    <tr>\n",
       "      <th>25</th>\n",
       "      <td>Midoun</td>\n",
       "      <td>NaN</td>\n",
       "      <td>Djerba</td>\n",
       "      <td>NaN</td>\n",
       "      <td>NaN</td>\n",
       "    </tr>\n",
       "    <tr>\n",
       "      <th>...</th>\n",
       "      <td>...</td>\n",
       "      <td>...</td>\n",
       "      <td>...</td>\n",
       "      <td>...</td>\n",
       "      <td>...</td>\n",
       "    </tr>\n",
       "    <tr>\n",
       "      <th>7721</th>\n",
       "      <td>Djerba</td>\n",
       "      <td>Djerba</td>\n",
       "      <td>Djerba</td>\n",
       "      <td>2.0</td>\n",
       "      <td>0</td>\n",
       "    </tr>\n",
       "    <tr>\n",
       "      <th>7927</th>\n",
       "      <td>Djerba</td>\n",
       "      <td>Djerba</td>\n",
       "      <td>Djerba</td>\n",
       "      <td>2.0</td>\n",
       "      <td>0</td>\n",
       "    </tr>\n",
       "    <tr>\n",
       "      <th>8084</th>\n",
       "      <td>Houmt Souk</td>\n",
       "      <td>Djerba</td>\n",
       "      <td>Djerba</td>\n",
       "      <td>NaN</td>\n",
       "      <td>NaN</td>\n",
       "    </tr>\n",
       "    <tr>\n",
       "      <th>8093</th>\n",
       "      <td>Djerba</td>\n",
       "      <td>NaN</td>\n",
       "      <td>Djerba</td>\n",
       "      <td>NaN</td>\n",
       "      <td>NaN</td>\n",
       "    </tr>\n",
       "    <tr>\n",
       "      <th>8111</th>\n",
       "      <td>Djerba</td>\n",
       "      <td>Djerba</td>\n",
       "      <td>Djerba</td>\n",
       "      <td>1.0</td>\n",
       "      <td>NaN</td>\n",
       "    </tr>\n",
       "  </tbody>\n",
       "</table>\n",
       "<p>384 rows × 5 columns</p>\n",
       "</div>"
      ],
      "text/plain": [
       "        location    city governorate  state   age\n",
       "7         Midoun     NaN      Djerba    NaN   NaN\n",
       "19      Tezdaine     NaN      Djerba    1.0  5-10\n",
       "23        Midoun     NaN      Djerba    NaN   NaN\n",
       "24         Aghir     NaN      Djerba    2.0   1-5\n",
       "25        Midoun     NaN      Djerba    NaN   NaN\n",
       "...          ...     ...         ...    ...   ...\n",
       "7721      Djerba  Djerba      Djerba    2.0     0\n",
       "7927      Djerba  Djerba      Djerba    2.0     0\n",
       "8084  Houmt Souk  Djerba      Djerba    NaN   NaN\n",
       "8093      Djerba     NaN      Djerba    NaN   NaN\n",
       "8111      Djerba  Djerba      Djerba    1.0   NaN\n",
       "\n",
       "[384 rows x 5 columns]"
      ]
     },
     "execution_count": 50,
     "metadata": {},
     "output_type": "execute_result"
    }
   ],
   "source": [
    "df[df['governorate'] == 'Djerba'][['location', 'city', 'governorate', 'state', 'age']]"
   ]
  },
  {
   "cell_type": "code",
   "execution_count": 51,
   "id": "03357c3a-fee9-446f-bf28-e7fcd5a9aa3a",
   "metadata": {},
   "outputs": [
    {
     "data": {
      "text/plain": [
       "age\n",
       "NaN            4145\n",
       "0              1471\n",
       "1-5             826\n",
       "10-20           681\n",
       "5-10            671\n",
       "20-30           193\n",
       "30-50           104\n",
       "50-70            22\n",
       "Plus de 100       9\n",
       "70-100            7\n",
       "Name: count, dtype: int64"
      ]
     },
     "execution_count": 51,
     "metadata": {},
     "output_type": "execute_result"
    }
   ],
   "source": [
    "df['age'].value_counts(dropna = False)"
   ]
  },
  {
   "cell_type": "code",
   "execution_count": 52,
   "id": "3021b287-8952-4794-92d6-49f936fdced1",
   "metadata": {},
   "outputs": [
    {
     "data": {
      "text/plain": [
       "age          state\n",
       "0            2.0      1319\n",
       "             1.0       142\n",
       "             0.0         9\n",
       "             NaN         1\n",
       "1-5          2.0       411\n",
       "             1.0       403\n",
       "             0.0        12\n",
       "10-20        1.0       487\n",
       "             0.0       176\n",
       "             2.0        18\n",
       "20-30        1.0       126\n",
       "             0.0        58\n",
       "             2.0         9\n",
       "30-50        1.0        61\n",
       "             0.0        41\n",
       "             2.0         2\n",
       "5-10         1.0       546\n",
       "             2.0       109\n",
       "             0.0        16\n",
       "50-70        1.0        15\n",
       "             0.0         7\n",
       "70-100       0.0         5\n",
       "             1.0         2\n",
       "Plus de 100  1.0         5\n",
       "             2.0         3\n",
       "             0.0         1\n",
       "Name: count, dtype: int64"
      ]
     },
     "execution_count": 52,
     "metadata": {},
     "output_type": "execute_result"
    }
   ],
   "source": [
    "df.groupby('age')['state'].value_counts(dropna = False)"
   ]
  },
  {
   "cell_type": "code",
   "execution_count": 53,
   "id": "50cb0e9c-f477-4ddb-8c98-c8e74167c034",
   "metadata": {},
   "outputs": [
    {
     "data": {
      "text/plain": [
       "1099"
      ]
     },
     "execution_count": 53,
     "metadata": {},
     "output_type": "execute_result"
    }
   ],
   "source": [
    "((df['age'].isnull()) & (df['state'].isnull())).sum()"
   ]
  },
  {
   "cell_type": "code",
   "execution_count": 54,
   "id": "a744392c-3848-410b-ade8-bdf4b5b22b54",
   "metadata": {},
   "outputs": [
    {
     "data": {
      "text/plain": [
       "1471"
      ]
     },
     "execution_count": 54,
     "metadata": {},
     "output_type": "execute_result"
    }
   ],
   "source": [
    "(df['age'] == '0').sum()"
   ]
  },
  {
   "cell_type": "code",
   "execution_count": 55,
   "id": "9dbd66e0-f838-4da8-81ae-2022e669ee79",
   "metadata": {},
   "outputs": [
    {
     "data": {
      "text/plain": [
       "89.66689326988443"
      ]
     },
     "execution_count": 55,
     "metadata": {},
     "output_type": "execute_result"
    }
   ],
   "source": [
    "1319/(df['age'] == '0').sum() *100"
   ]
  },
  {
   "cell_type": "code",
   "execution_count": 56,
   "id": "7a8578cf-4cf2-4016-9fde-ac02e7d04118",
   "metadata": {},
   "outputs": [
    {
     "data": {
      "text/plain": [
       "4146"
      ]
     },
     "execution_count": 56,
     "metadata": {},
     "output_type": "execute_result"
    }
   ],
   "source": [
    "((df['age'].isnull()) | (df['state'].isnull())).sum()"
   ]
  },
  {
   "cell_type": "code",
   "execution_count": 57,
   "id": "2a2afb2f-9cda-43b8-a2e4-52b174f50c93",
   "metadata": {},
   "outputs": [
    {
     "data": {
      "text/plain": [
       "state\n",
       "1.0    3660\n",
       "2.0    3044\n",
       "NaN    1100\n",
       "0.0     325\n",
       "Name: count, dtype: int64"
      ]
     },
     "execution_count": 57,
     "metadata": {},
     "output_type": "execute_result"
    }
   ],
   "source": [
    "df['state'].value_counts(dropna = False)"
   ]
  },
  {
   "cell_type": "code",
   "execution_count": 58,
   "id": "928e85c3-46a3-4773-84ff-3244ac7677cd",
   "metadata": {},
   "outputs": [
    {
     "data": {
      "text/plain": [
       "state  age        \n",
       "0.0    10-20           176\n",
       "       20-30            58\n",
       "       30-50            41\n",
       "       5-10             16\n",
       "       1-5              12\n",
       "       0                 9\n",
       "       50-70             7\n",
       "       70-100            5\n",
       "       Plus de 100       1\n",
       "1.0    NaN            1873\n",
       "       5-10            546\n",
       "       10-20           487\n",
       "       1-5             403\n",
       "       0               142\n",
       "       20-30           126\n",
       "       30-50            61\n",
       "       50-70            15\n",
       "       Plus de 100       5\n",
       "       70-100            2\n",
       "2.0    0              1319\n",
       "       NaN            1173\n",
       "       1-5             411\n",
       "       5-10            109\n",
       "       10-20            18\n",
       "       20-30             9\n",
       "       Plus de 100       3\n",
       "       30-50             2\n",
       "Name: count, dtype: int64"
      ]
     },
     "execution_count": 58,
     "metadata": {},
     "output_type": "execute_result"
    }
   ],
   "source": [
    "df.groupby('state')['age'].value_counts(dropna = False)"
   ]
  },
  {
   "cell_type": "code",
   "execution_count": 59,
   "id": "d1b1f5d4-2d34-49af-a003-a489ae877ba9",
   "metadata": {},
   "outputs": [
    {
     "data": {
      "text/plain": [
       "location\n",
       "Abou El Kacem Chebbi    209766.67\n",
       "Aghir                   230104.55\n",
       "Ain Zaghouan Nord       153048.55\n",
       "Ain Zaghouan Sud        101567.27\n",
       "Ajim                    162750.00\n",
       "                          ...    \n",
       "Zaouit Mornag                 NaN\n",
       "Zarzis                  216896.67\n",
       "Zarzouna                 99200.00\n",
       "Zone Touristique        154985.24\n",
       "Zone touristique        148025.00\n",
       "Name: price_eur, Length: 468, dtype: float64"
      ]
     },
     "execution_count": 59,
     "metadata": {},
     "output_type": "execute_result"
    }
   ],
   "source": [
    "df.groupby(['location']).price_eur.mean().round(2)"
   ]
  },
  {
   "cell_type": "code",
   "execution_count": 108,
   "id": "5bfaf318-f11d-48aa-a4d6-9e2f5c79c8ea",
   "metadata": {},
   "outputs": [
    {
     "data": {
      "text/plain": [
       "location              age  \n",
       "Abou El Kacem Chebbi  0        1\n",
       "                      10-20    1\n",
       "Aghir                 0        4\n",
       "                      5-10     3\n",
       "                      10-20    2\n",
       "                              ..\n",
       "Zone Touristique      1-5      1\n",
       "                      10-20    1\n",
       "                      20-30    1\n",
       "                      5-10     1\n",
       "Zone touristique      1-5      1\n",
       "Name: count, Length: 1010, dtype: int64"
      ]
     },
     "execution_count": 108,
     "metadata": {},
     "output_type": "execute_result"
    }
   ],
   "source": [
    "df.groupby(['location'])['age'].value_counts()"
   ]
  },
  {
   "cell_type": "code",
   "execution_count": 104,
   "id": "704fb482-06d8-4b32-a6b3-d09a966bea1c",
   "metadata": {},
   "outputs": [
    {
     "data": {
      "text/plain": [
       "max    101\n",
       "min      1\n",
       "Name: count, dtype: int64"
      ]
     },
     "execution_count": 104,
     "metadata": {},
     "output_type": "execute_result"
    }
   ],
   "source": [
    "df.groupby(['location'])['age'].value_counts().agg(['max', 'min'])"
   ]
  },
  {
   "cell_type": "code",
   "execution_count": 91,
   "id": "35bbe957-2ee7-4cbf-9595-dbc2a5a2b7b1",
   "metadata": {},
   "outputs": [
    {
     "data": {
      "text/html": [
       "<div>\n",
       "<style scoped>\n",
       "    .dataframe tbody tr th:only-of-type {\n",
       "        vertical-align: middle;\n",
       "    }\n",
       "\n",
       "    .dataframe tbody tr th {\n",
       "        vertical-align: top;\n",
       "    }\n",
       "\n",
       "    .dataframe thead th {\n",
       "        text-align: right;\n",
       "    }\n",
       "</style>\n",
       "<table border=\"1\" class=\"dataframe\">\n",
       "  <thead>\n",
       "    <tr style=\"text-align: right;\">\n",
       "      <th></th>\n",
       "      <th></th>\n",
       "      <th>id</th>\n",
       "      <th>price_tnd</th>\n",
       "      <th>price_eur</th>\n",
       "      <th>city</th>\n",
       "      <th>governorate</th>\n",
       "      <th>Area</th>\n",
       "      <th>pieces</th>\n",
       "      <th>room</th>\n",
       "      <th>bathroom</th>\n",
       "      <th>state</th>\n",
       "      <th>...</th>\n",
       "      <th>garden</th>\n",
       "      <th>concierge</th>\n",
       "      <th>beach_view</th>\n",
       "      <th>mountain_view</th>\n",
       "      <th>pool</th>\n",
       "      <th>elevator</th>\n",
       "      <th>furnished</th>\n",
       "      <th>equipped_kitchen</th>\n",
       "      <th>central_heating</th>\n",
       "      <th>air_conditioning</th>\n",
       "    </tr>\n",
       "    <tr>\n",
       "      <th>location</th>\n",
       "      <th>age</th>\n",
       "      <th></th>\n",
       "      <th></th>\n",
       "      <th></th>\n",
       "      <th></th>\n",
       "      <th></th>\n",
       "      <th></th>\n",
       "      <th></th>\n",
       "      <th></th>\n",
       "      <th></th>\n",
       "      <th></th>\n",
       "      <th></th>\n",
       "      <th></th>\n",
       "      <th></th>\n",
       "      <th></th>\n",
       "      <th></th>\n",
       "      <th></th>\n",
       "      <th></th>\n",
       "      <th></th>\n",
       "      <th></th>\n",
       "      <th></th>\n",
       "      <th></th>\n",
       "    </tr>\n",
       "  </thead>\n",
       "  <tbody>\n",
       "    <tr>\n",
       "      <th rowspan=\"2\" valign=\"top\">Abou El Kacem Chebbi</th>\n",
       "      <th>0</th>\n",
       "      <td>1</td>\n",
       "      <td>0</td>\n",
       "      <td>0</td>\n",
       "      <td>1</td>\n",
       "      <td>1</td>\n",
       "      <td>1</td>\n",
       "      <td>1</td>\n",
       "      <td>1</td>\n",
       "      <td>1</td>\n",
       "      <td>1</td>\n",
       "      <td>...</td>\n",
       "      <td>1</td>\n",
       "      <td>1</td>\n",
       "      <td>1</td>\n",
       "      <td>1</td>\n",
       "      <td>1</td>\n",
       "      <td>1</td>\n",
       "      <td>1</td>\n",
       "      <td>1</td>\n",
       "      <td>1</td>\n",
       "      <td>1</td>\n",
       "    </tr>\n",
       "    <tr>\n",
       "      <th>10-20</th>\n",
       "      <td>1</td>\n",
       "      <td>1</td>\n",
       "      <td>1</td>\n",
       "      <td>1</td>\n",
       "      <td>1</td>\n",
       "      <td>1</td>\n",
       "      <td>1</td>\n",
       "      <td>1</td>\n",
       "      <td>1</td>\n",
       "      <td>1</td>\n",
       "      <td>...</td>\n",
       "      <td>1</td>\n",
       "      <td>1</td>\n",
       "      <td>1</td>\n",
       "      <td>1</td>\n",
       "      <td>1</td>\n",
       "      <td>1</td>\n",
       "      <td>1</td>\n",
       "      <td>1</td>\n",
       "      <td>1</td>\n",
       "      <td>1</td>\n",
       "    </tr>\n",
       "    <tr>\n",
       "      <th rowspan=\"3\" valign=\"top\">Aghir</th>\n",
       "      <th>0</th>\n",
       "      <td>4</td>\n",
       "      <td>3</td>\n",
       "      <td>3</td>\n",
       "      <td>1</td>\n",
       "      <td>4</td>\n",
       "      <td>4</td>\n",
       "      <td>2</td>\n",
       "      <td>4</td>\n",
       "      <td>4</td>\n",
       "      <td>4</td>\n",
       "      <td>...</td>\n",
       "      <td>4</td>\n",
       "      <td>4</td>\n",
       "      <td>4</td>\n",
       "      <td>4</td>\n",
       "      <td>4</td>\n",
       "      <td>4</td>\n",
       "      <td>4</td>\n",
       "      <td>4</td>\n",
       "      <td>4</td>\n",
       "      <td>4</td>\n",
       "    </tr>\n",
       "    <tr>\n",
       "      <th>1-5</th>\n",
       "      <td>2</td>\n",
       "      <td>2</td>\n",
       "      <td>2</td>\n",
       "      <td>0</td>\n",
       "      <td>2</td>\n",
       "      <td>2</td>\n",
       "      <td>2</td>\n",
       "      <td>2</td>\n",
       "      <td>2</td>\n",
       "      <td>2</td>\n",
       "      <td>...</td>\n",
       "      <td>2</td>\n",
       "      <td>2</td>\n",
       "      <td>2</td>\n",
       "      <td>2</td>\n",
       "      <td>2</td>\n",
       "      <td>2</td>\n",
       "      <td>2</td>\n",
       "      <td>2</td>\n",
       "      <td>2</td>\n",
       "      <td>2</td>\n",
       "    </tr>\n",
       "    <tr>\n",
       "      <th>10-20</th>\n",
       "      <td>2</td>\n",
       "      <td>2</td>\n",
       "      <td>2</td>\n",
       "      <td>0</td>\n",
       "      <td>2</td>\n",
       "      <td>2</td>\n",
       "      <td>2</td>\n",
       "      <td>2</td>\n",
       "      <td>2</td>\n",
       "      <td>2</td>\n",
       "      <td>...</td>\n",
       "      <td>2</td>\n",
       "      <td>2</td>\n",
       "      <td>2</td>\n",
       "      <td>2</td>\n",
       "      <td>2</td>\n",
       "      <td>2</td>\n",
       "      <td>2</td>\n",
       "      <td>2</td>\n",
       "      <td>2</td>\n",
       "      <td>2</td>\n",
       "    </tr>\n",
       "    <tr>\n",
       "      <th>...</th>\n",
       "      <th>...</th>\n",
       "      <td>...</td>\n",
       "      <td>...</td>\n",
       "      <td>...</td>\n",
       "      <td>...</td>\n",
       "      <td>...</td>\n",
       "      <td>...</td>\n",
       "      <td>...</td>\n",
       "      <td>...</td>\n",
       "      <td>...</td>\n",
       "      <td>...</td>\n",
       "      <td>...</td>\n",
       "      <td>...</td>\n",
       "      <td>...</td>\n",
       "      <td>...</td>\n",
       "      <td>...</td>\n",
       "      <td>...</td>\n",
       "      <td>...</td>\n",
       "      <td>...</td>\n",
       "      <td>...</td>\n",
       "      <td>...</td>\n",
       "      <td>...</td>\n",
       "    </tr>\n",
       "    <tr>\n",
       "      <th rowspan=\"4\" valign=\"top\">Zone Touristique</th>\n",
       "      <th>1-5</th>\n",
       "      <td>1</td>\n",
       "      <td>1</td>\n",
       "      <td>1</td>\n",
       "      <td>1</td>\n",
       "      <td>1</td>\n",
       "      <td>1</td>\n",
       "      <td>1</td>\n",
       "      <td>1</td>\n",
       "      <td>1</td>\n",
       "      <td>1</td>\n",
       "      <td>...</td>\n",
       "      <td>1</td>\n",
       "      <td>1</td>\n",
       "      <td>1</td>\n",
       "      <td>1</td>\n",
       "      <td>1</td>\n",
       "      <td>1</td>\n",
       "      <td>1</td>\n",
       "      <td>1</td>\n",
       "      <td>1</td>\n",
       "      <td>1</td>\n",
       "    </tr>\n",
       "    <tr>\n",
       "      <th>10-20</th>\n",
       "      <td>1</td>\n",
       "      <td>1</td>\n",
       "      <td>1</td>\n",
       "      <td>1</td>\n",
       "      <td>1</td>\n",
       "      <td>1</td>\n",
       "      <td>1</td>\n",
       "      <td>1</td>\n",
       "      <td>1</td>\n",
       "      <td>1</td>\n",
       "      <td>...</td>\n",
       "      <td>1</td>\n",
       "      <td>1</td>\n",
       "      <td>1</td>\n",
       "      <td>1</td>\n",
       "      <td>1</td>\n",
       "      <td>1</td>\n",
       "      <td>1</td>\n",
       "      <td>1</td>\n",
       "      <td>1</td>\n",
       "      <td>1</td>\n",
       "    </tr>\n",
       "    <tr>\n",
       "      <th>20-30</th>\n",
       "      <td>1</td>\n",
       "      <td>1</td>\n",
       "      <td>1</td>\n",
       "      <td>1</td>\n",
       "      <td>1</td>\n",
       "      <td>1</td>\n",
       "      <td>1</td>\n",
       "      <td>1</td>\n",
       "      <td>1</td>\n",
       "      <td>1</td>\n",
       "      <td>...</td>\n",
       "      <td>1</td>\n",
       "      <td>1</td>\n",
       "      <td>1</td>\n",
       "      <td>1</td>\n",
       "      <td>1</td>\n",
       "      <td>1</td>\n",
       "      <td>1</td>\n",
       "      <td>1</td>\n",
       "      <td>1</td>\n",
       "      <td>1</td>\n",
       "    </tr>\n",
       "    <tr>\n",
       "      <th>5-10</th>\n",
       "      <td>1</td>\n",
       "      <td>1</td>\n",
       "      <td>1</td>\n",
       "      <td>1</td>\n",
       "      <td>1</td>\n",
       "      <td>1</td>\n",
       "      <td>1</td>\n",
       "      <td>1</td>\n",
       "      <td>1</td>\n",
       "      <td>1</td>\n",
       "      <td>...</td>\n",
       "      <td>1</td>\n",
       "      <td>1</td>\n",
       "      <td>1</td>\n",
       "      <td>1</td>\n",
       "      <td>1</td>\n",
       "      <td>1</td>\n",
       "      <td>1</td>\n",
       "      <td>1</td>\n",
       "      <td>1</td>\n",
       "      <td>1</td>\n",
       "    </tr>\n",
       "    <tr>\n",
       "      <th>Zone touristique</th>\n",
       "      <th>1-5</th>\n",
       "      <td>1</td>\n",
       "      <td>0</td>\n",
       "      <td>0</td>\n",
       "      <td>1</td>\n",
       "      <td>1</td>\n",
       "      <td>1</td>\n",
       "      <td>1</td>\n",
       "      <td>1</td>\n",
       "      <td>1</td>\n",
       "      <td>1</td>\n",
       "      <td>...</td>\n",
       "      <td>1</td>\n",
       "      <td>1</td>\n",
       "      <td>1</td>\n",
       "      <td>1</td>\n",
       "      <td>1</td>\n",
       "      <td>1</td>\n",
       "      <td>1</td>\n",
       "      <td>1</td>\n",
       "      <td>1</td>\n",
       "      <td>1</td>\n",
       "    </tr>\n",
       "  </tbody>\n",
       "</table>\n",
       "<p>1010 rows × 24 columns</p>\n",
       "</div>"
      ],
      "text/plain": [
       "                            id  price_tnd  price_eur  city  governorate  Area   \n",
       "location             age                                                        \n",
       "Abou El Kacem Chebbi 0       1          0          0     1            1     1  \\\n",
       "                     10-20   1          1          1     1            1     1   \n",
       "Aghir                0       4          3          3     1            4     4   \n",
       "                     1-5     2          2          2     0            2     2   \n",
       "                     10-20   2          2          2     0            2     2   \n",
       "...                         ..        ...        ...   ...          ...   ...   \n",
       "Zone Touristique     1-5     1          1          1     1            1     1   \n",
       "                     10-20   1          1          1     1            1     1   \n",
       "                     20-30   1          1          1     1            1     1   \n",
       "                     5-10    1          1          1     1            1     1   \n",
       "Zone touristique     1-5     1          0          0     1            1     1   \n",
       "\n",
       "                            pieces  room  bathroom  state  ...  garden   \n",
       "location             age                                   ...           \n",
       "Abou El Kacem Chebbi 0           1     1         1      1  ...       1  \\\n",
       "                     10-20       1     1         1      1  ...       1   \n",
       "Aghir                0           2     4         4      4  ...       4   \n",
       "                     1-5         2     2         2      2  ...       2   \n",
       "                     10-20       2     2         2      2  ...       2   \n",
       "...                            ...   ...       ...    ...  ...     ...   \n",
       "Zone Touristique     1-5         1     1         1      1  ...       1   \n",
       "                     10-20       1     1         1      1  ...       1   \n",
       "                     20-30       1     1         1      1  ...       1   \n",
       "                     5-10        1     1         1      1  ...       1   \n",
       "Zone touristique     1-5         1     1         1      1  ...       1   \n",
       "\n",
       "                            concierge  beach_view  mountain_view  pool   \n",
       "location             age                                                 \n",
       "Abou El Kacem Chebbi 0              1           1              1     1  \\\n",
       "                     10-20          1           1              1     1   \n",
       "Aghir                0              4           4              4     4   \n",
       "                     1-5            2           2              2     2   \n",
       "                     10-20          2           2              2     2   \n",
       "...                               ...         ...            ...   ...   \n",
       "Zone Touristique     1-5            1           1              1     1   \n",
       "                     10-20          1           1              1     1   \n",
       "                     20-30          1           1              1     1   \n",
       "                     5-10           1           1              1     1   \n",
       "Zone touristique     1-5            1           1              1     1   \n",
       "\n",
       "                            elevator  furnished  equipped_kitchen   \n",
       "location             age                                            \n",
       "Abou El Kacem Chebbi 0             1          1                 1  \\\n",
       "                     10-20         1          1                 1   \n",
       "Aghir                0             4          4                 4   \n",
       "                     1-5           2          2                 2   \n",
       "                     10-20         2          2                 2   \n",
       "...                              ...        ...               ...   \n",
       "Zone Touristique     1-5           1          1                 1   \n",
       "                     10-20         1          1                 1   \n",
       "                     20-30         1          1                 1   \n",
       "                     5-10          1          1                 1   \n",
       "Zone touristique     1-5           1          1                 1   \n",
       "\n",
       "                            central_heating  air_conditioning  \n",
       "location             age                                       \n",
       "Abou El Kacem Chebbi 0                    1                 1  \n",
       "                     10-20                1                 1  \n",
       "Aghir                0                    4                 4  \n",
       "                     1-5                  2                 2  \n",
       "                     10-20                2                 2  \n",
       "...                                     ...               ...  \n",
       "Zone Touristique     1-5                  1                 1  \n",
       "                     10-20                1                 1  \n",
       "                     20-30                1                 1  \n",
       "                     5-10                 1                 1  \n",
       "Zone touristique     1-5                  1                 1  \n",
       "\n",
       "[1010 rows x 24 columns]"
      ]
     },
     "execution_count": 91,
     "metadata": {},
     "output_type": "execute_result"
    }
   ],
   "source": []
  },
  {
   "cell_type": "code",
   "execution_count": 11,
   "id": "a05529ba-0fe8-49ff-8344-a381c1965f75",
   "metadata": {},
   "outputs": [
    {
     "data": {
      "text/plain": [
       "state\n",
       "0.0    10-20\n",
       "1.0     5-10\n",
       "2.0        0\n",
       "Name: age, dtype: object"
      ]
     },
     "execution_count": 11,
     "metadata": {},
     "output_type": "execute_result"
    }
   ],
   "source": [
    "df.groupby(['state'])['age'].agg(pd.Series.mode)"
   ]
  },
  {
   "cell_type": "code",
   "execution_count": 23,
   "id": "bca00d99-c5f8-45a8-bca0-8df9c0a15bb3",
   "metadata": {},
   "outputs": [
    {
     "data": {
      "text/plain": [
       "age           \n",
       "0            0    2.0\n",
       "1-5          0    2.0\n",
       "10-20        0    1.0\n",
       "20-30        0    1.0\n",
       "30-50        0    1.0\n",
       "5-10         0    1.0\n",
       "50-70        0    1.0\n",
       "70-100       0    0.0\n",
       "Plus de 100  0    1.0\n",
       "Name: state, dtype: float64"
      ]
     },
     "execution_count": 23,
     "metadata": {},
     "output_type": "execute_result"
    }
   ],
   "source": [
    "df.groupby(['age'])['state'].apply(pd.Series.mode)"
   ]
  },
  {
   "cell_type": "code",
   "execution_count": 20,
   "id": "7737bc3e-8d28-43d4-aa78-716ddb945ab3",
   "metadata": {},
   "outputs": [
    {
     "data": {
      "text/html": [
       "<div>\n",
       "<style scoped>\n",
       "    .dataframe tbody tr th:only-of-type {\n",
       "        vertical-align: middle;\n",
       "    }\n",
       "\n",
       "    .dataframe tbody tr th {\n",
       "        vertical-align: top;\n",
       "    }\n",
       "\n",
       "    .dataframe thead th {\n",
       "        text-align: right;\n",
       "    }\n",
       "</style>\n",
       "<table border=\"1\" class=\"dataframe\">\n",
       "  <thead>\n",
       "    <tr style=\"text-align: right;\">\n",
       "      <th></th>\n",
       "      <th>mode</th>\n",
       "      <th>min</th>\n",
       "      <th>max</th>\n",
       "      <th>median</th>\n",
       "      <th>mean</th>\n",
       "      <th>count</th>\n",
       "    </tr>\n",
       "    <tr>\n",
       "      <th>age</th>\n",
       "      <th></th>\n",
       "      <th></th>\n",
       "      <th></th>\n",
       "      <th></th>\n",
       "      <th></th>\n",
       "      <th></th>\n",
       "    </tr>\n",
       "  </thead>\n",
       "  <tbody>\n",
       "    <tr>\n",
       "      <th>0</th>\n",
       "      <td>2.0</td>\n",
       "      <td>0.0</td>\n",
       "      <td>2.0</td>\n",
       "      <td>2.0</td>\n",
       "      <td>1.891156</td>\n",
       "      <td>1470</td>\n",
       "    </tr>\n",
       "    <tr>\n",
       "      <th>1-5</th>\n",
       "      <td>2.0</td>\n",
       "      <td>0.0</td>\n",
       "      <td>2.0</td>\n",
       "      <td>1.0</td>\n",
       "      <td>1.483051</td>\n",
       "      <td>826</td>\n",
       "    </tr>\n",
       "    <tr>\n",
       "      <th>10-20</th>\n",
       "      <td>1.0</td>\n",
       "      <td>0.0</td>\n",
       "      <td>2.0</td>\n",
       "      <td>1.0</td>\n",
       "      <td>0.767988</td>\n",
       "      <td>681</td>\n",
       "    </tr>\n",
       "    <tr>\n",
       "      <th>20-30</th>\n",
       "      <td>1.0</td>\n",
       "      <td>0.0</td>\n",
       "      <td>2.0</td>\n",
       "      <td>1.0</td>\n",
       "      <td>0.746114</td>\n",
       "      <td>193</td>\n",
       "    </tr>\n",
       "    <tr>\n",
       "      <th>30-50</th>\n",
       "      <td>1.0</td>\n",
       "      <td>0.0</td>\n",
       "      <td>2.0</td>\n",
       "      <td>1.0</td>\n",
       "      <td>0.625000</td>\n",
       "      <td>104</td>\n",
       "    </tr>\n",
       "    <tr>\n",
       "      <th>5-10</th>\n",
       "      <td>1.0</td>\n",
       "      <td>0.0</td>\n",
       "      <td>2.0</td>\n",
       "      <td>1.0</td>\n",
       "      <td>1.138599</td>\n",
       "      <td>671</td>\n",
       "    </tr>\n",
       "    <tr>\n",
       "      <th>50-70</th>\n",
       "      <td>1.0</td>\n",
       "      <td>0.0</td>\n",
       "      <td>1.0</td>\n",
       "      <td>1.0</td>\n",
       "      <td>0.681818</td>\n",
       "      <td>22</td>\n",
       "    </tr>\n",
       "    <tr>\n",
       "      <th>70-100</th>\n",
       "      <td>0.0</td>\n",
       "      <td>0.0</td>\n",
       "      <td>1.0</td>\n",
       "      <td>0.0</td>\n",
       "      <td>0.285714</td>\n",
       "      <td>7</td>\n",
       "    </tr>\n",
       "    <tr>\n",
       "      <th>Plus de 100</th>\n",
       "      <td>1.0</td>\n",
       "      <td>0.0</td>\n",
       "      <td>2.0</td>\n",
       "      <td>1.0</td>\n",
       "      <td>1.222222</td>\n",
       "      <td>9</td>\n",
       "    </tr>\n",
       "  </tbody>\n",
       "</table>\n",
       "</div>"
      ],
      "text/plain": [
       "             mode  min  max  median      mean  count\n",
       "age                                                 \n",
       "0             2.0  0.0  2.0     2.0  1.891156   1470\n",
       "1-5           2.0  0.0  2.0     1.0  1.483051    826\n",
       "10-20         1.0  0.0  2.0     1.0  0.767988    681\n",
       "20-30         1.0  0.0  2.0     1.0  0.746114    193\n",
       "30-50         1.0  0.0  2.0     1.0  0.625000    104\n",
       "5-10          1.0  0.0  2.0     1.0  1.138599    671\n",
       "50-70         1.0  0.0  1.0     1.0  0.681818     22\n",
       "70-100        0.0  0.0  1.0     0.0  0.285714      7\n",
       "Plus de 100   1.0  0.0  2.0     1.0  1.222222      9"
      ]
     },
     "execution_count": 20,
     "metadata": {},
     "output_type": "execute_result"
    }
   ],
   "source": [
    "df.groupby(['age'])['state'].agg([pd.Series.mode, min, max, np.median, np.mean, pd.Series.count])"
   ]
  },
  {
   "cell_type": "code",
   "execution_count": 21,
   "id": "83c8522e-9fbe-4b5c-b82a-7b204e432817",
   "metadata": {},
   "outputs": [
    {
     "data": {
      "text/html": [
       "<div>\n",
       "<style scoped>\n",
       "    .dataframe tbody tr th:only-of-type {\n",
       "        vertical-align: middle;\n",
       "    }\n",
       "\n",
       "    .dataframe tbody tr th {\n",
       "        vertical-align: top;\n",
       "    }\n",
       "\n",
       "    .dataframe thead th {\n",
       "        text-align: right;\n",
       "    }\n",
       "</style>\n",
       "<table border=\"1\" class=\"dataframe\">\n",
       "  <thead>\n",
       "    <tr style=\"text-align: right;\">\n",
       "      <th></th>\n",
       "      <th></th>\n",
       "      <th>mode</th>\n",
       "      <th>min</th>\n",
       "      <th>max</th>\n",
       "      <th>median</th>\n",
       "      <th>mean</th>\n",
       "      <th>count</th>\n",
       "    </tr>\n",
       "    <tr>\n",
       "      <th>age</th>\n",
       "      <th>state</th>\n",
       "      <th></th>\n",
       "      <th></th>\n",
       "      <th></th>\n",
       "      <th></th>\n",
       "      <th></th>\n",
       "      <th></th>\n",
       "    </tr>\n",
       "  </thead>\n",
       "  <tbody>\n",
       "    <tr>\n",
       "      <th rowspan=\"3\" valign=\"top\">0</th>\n",
       "      <th>0.0</th>\n",
       "      <td>0.0</td>\n",
       "      <td>0.0</td>\n",
       "      <td>0.0</td>\n",
       "      <td>0.0</td>\n",
       "      <td>0.0</td>\n",
       "      <td>9</td>\n",
       "    </tr>\n",
       "    <tr>\n",
       "      <th>1.0</th>\n",
       "      <td>1.0</td>\n",
       "      <td>1.0</td>\n",
       "      <td>1.0</td>\n",
       "      <td>1.0</td>\n",
       "      <td>1.0</td>\n",
       "      <td>142</td>\n",
       "    </tr>\n",
       "    <tr>\n",
       "      <th>2.0</th>\n",
       "      <td>2.0</td>\n",
       "      <td>2.0</td>\n",
       "      <td>2.0</td>\n",
       "      <td>2.0</td>\n",
       "      <td>2.0</td>\n",
       "      <td>1319</td>\n",
       "    </tr>\n",
       "    <tr>\n",
       "      <th rowspan=\"3\" valign=\"top\">1-5</th>\n",
       "      <th>0.0</th>\n",
       "      <td>0.0</td>\n",
       "      <td>0.0</td>\n",
       "      <td>0.0</td>\n",
       "      <td>0.0</td>\n",
       "      <td>0.0</td>\n",
       "      <td>12</td>\n",
       "    </tr>\n",
       "    <tr>\n",
       "      <th>1.0</th>\n",
       "      <td>1.0</td>\n",
       "      <td>1.0</td>\n",
       "      <td>1.0</td>\n",
       "      <td>1.0</td>\n",
       "      <td>1.0</td>\n",
       "      <td>403</td>\n",
       "    </tr>\n",
       "    <tr>\n",
       "      <th>2.0</th>\n",
       "      <td>2.0</td>\n",
       "      <td>2.0</td>\n",
       "      <td>2.0</td>\n",
       "      <td>2.0</td>\n",
       "      <td>2.0</td>\n",
       "      <td>411</td>\n",
       "    </tr>\n",
       "    <tr>\n",
       "      <th rowspan=\"3\" valign=\"top\">10-20</th>\n",
       "      <th>0.0</th>\n",
       "      <td>0.0</td>\n",
       "      <td>0.0</td>\n",
       "      <td>0.0</td>\n",
       "      <td>0.0</td>\n",
       "      <td>0.0</td>\n",
       "      <td>176</td>\n",
       "    </tr>\n",
       "    <tr>\n",
       "      <th>1.0</th>\n",
       "      <td>1.0</td>\n",
       "      <td>1.0</td>\n",
       "      <td>1.0</td>\n",
       "      <td>1.0</td>\n",
       "      <td>1.0</td>\n",
       "      <td>487</td>\n",
       "    </tr>\n",
       "    <tr>\n",
       "      <th>2.0</th>\n",
       "      <td>2.0</td>\n",
       "      <td>2.0</td>\n",
       "      <td>2.0</td>\n",
       "      <td>2.0</td>\n",
       "      <td>2.0</td>\n",
       "      <td>18</td>\n",
       "    </tr>\n",
       "    <tr>\n",
       "      <th rowspan=\"3\" valign=\"top\">20-30</th>\n",
       "      <th>0.0</th>\n",
       "      <td>0.0</td>\n",
       "      <td>0.0</td>\n",
       "      <td>0.0</td>\n",
       "      <td>0.0</td>\n",
       "      <td>0.0</td>\n",
       "      <td>58</td>\n",
       "    </tr>\n",
       "    <tr>\n",
       "      <th>1.0</th>\n",
       "      <td>1.0</td>\n",
       "      <td>1.0</td>\n",
       "      <td>1.0</td>\n",
       "      <td>1.0</td>\n",
       "      <td>1.0</td>\n",
       "      <td>126</td>\n",
       "    </tr>\n",
       "    <tr>\n",
       "      <th>2.0</th>\n",
       "      <td>2.0</td>\n",
       "      <td>2.0</td>\n",
       "      <td>2.0</td>\n",
       "      <td>2.0</td>\n",
       "      <td>2.0</td>\n",
       "      <td>9</td>\n",
       "    </tr>\n",
       "    <tr>\n",
       "      <th rowspan=\"3\" valign=\"top\">30-50</th>\n",
       "      <th>0.0</th>\n",
       "      <td>0.0</td>\n",
       "      <td>0.0</td>\n",
       "      <td>0.0</td>\n",
       "      <td>0.0</td>\n",
       "      <td>0.0</td>\n",
       "      <td>41</td>\n",
       "    </tr>\n",
       "    <tr>\n",
       "      <th>1.0</th>\n",
       "      <td>1.0</td>\n",
       "      <td>1.0</td>\n",
       "      <td>1.0</td>\n",
       "      <td>1.0</td>\n",
       "      <td>1.0</td>\n",
       "      <td>61</td>\n",
       "    </tr>\n",
       "    <tr>\n",
       "      <th>2.0</th>\n",
       "      <td>2.0</td>\n",
       "      <td>2.0</td>\n",
       "      <td>2.0</td>\n",
       "      <td>2.0</td>\n",
       "      <td>2.0</td>\n",
       "      <td>2</td>\n",
       "    </tr>\n",
       "    <tr>\n",
       "      <th rowspan=\"3\" valign=\"top\">5-10</th>\n",
       "      <th>0.0</th>\n",
       "      <td>0.0</td>\n",
       "      <td>0.0</td>\n",
       "      <td>0.0</td>\n",
       "      <td>0.0</td>\n",
       "      <td>0.0</td>\n",
       "      <td>16</td>\n",
       "    </tr>\n",
       "    <tr>\n",
       "      <th>1.0</th>\n",
       "      <td>1.0</td>\n",
       "      <td>1.0</td>\n",
       "      <td>1.0</td>\n",
       "      <td>1.0</td>\n",
       "      <td>1.0</td>\n",
       "      <td>546</td>\n",
       "    </tr>\n",
       "    <tr>\n",
       "      <th>2.0</th>\n",
       "      <td>2.0</td>\n",
       "      <td>2.0</td>\n",
       "      <td>2.0</td>\n",
       "      <td>2.0</td>\n",
       "      <td>2.0</td>\n",
       "      <td>109</td>\n",
       "    </tr>\n",
       "    <tr>\n",
       "      <th rowspan=\"2\" valign=\"top\">50-70</th>\n",
       "      <th>0.0</th>\n",
       "      <td>0.0</td>\n",
       "      <td>0.0</td>\n",
       "      <td>0.0</td>\n",
       "      <td>0.0</td>\n",
       "      <td>0.0</td>\n",
       "      <td>7</td>\n",
       "    </tr>\n",
       "    <tr>\n",
       "      <th>1.0</th>\n",
       "      <td>1.0</td>\n",
       "      <td>1.0</td>\n",
       "      <td>1.0</td>\n",
       "      <td>1.0</td>\n",
       "      <td>1.0</td>\n",
       "      <td>15</td>\n",
       "    </tr>\n",
       "    <tr>\n",
       "      <th rowspan=\"2\" valign=\"top\">70-100</th>\n",
       "      <th>0.0</th>\n",
       "      <td>0.0</td>\n",
       "      <td>0.0</td>\n",
       "      <td>0.0</td>\n",
       "      <td>0.0</td>\n",
       "      <td>0.0</td>\n",
       "      <td>5</td>\n",
       "    </tr>\n",
       "    <tr>\n",
       "      <th>1.0</th>\n",
       "      <td>1.0</td>\n",
       "      <td>1.0</td>\n",
       "      <td>1.0</td>\n",
       "      <td>1.0</td>\n",
       "      <td>1.0</td>\n",
       "      <td>2</td>\n",
       "    </tr>\n",
       "    <tr>\n",
       "      <th rowspan=\"3\" valign=\"top\">Plus de 100</th>\n",
       "      <th>0.0</th>\n",
       "      <td>0.0</td>\n",
       "      <td>0.0</td>\n",
       "      <td>0.0</td>\n",
       "      <td>0.0</td>\n",
       "      <td>0.0</td>\n",
       "      <td>1</td>\n",
       "    </tr>\n",
       "    <tr>\n",
       "      <th>1.0</th>\n",
       "      <td>1.0</td>\n",
       "      <td>1.0</td>\n",
       "      <td>1.0</td>\n",
       "      <td>1.0</td>\n",
       "      <td>1.0</td>\n",
       "      <td>5</td>\n",
       "    </tr>\n",
       "    <tr>\n",
       "      <th>2.0</th>\n",
       "      <td>2.0</td>\n",
       "      <td>2.0</td>\n",
       "      <td>2.0</td>\n",
       "      <td>2.0</td>\n",
       "      <td>2.0</td>\n",
       "      <td>3</td>\n",
       "    </tr>\n",
       "  </tbody>\n",
       "</table>\n",
       "</div>"
      ],
      "text/plain": [
       "                   mode  min  max  median  mean  count\n",
       "age         state                                     \n",
       "0           0.0     0.0  0.0  0.0     0.0   0.0      9\n",
       "            1.0     1.0  1.0  1.0     1.0   1.0    142\n",
       "            2.0     2.0  2.0  2.0     2.0   2.0   1319\n",
       "1-5         0.0     0.0  0.0  0.0     0.0   0.0     12\n",
       "            1.0     1.0  1.0  1.0     1.0   1.0    403\n",
       "            2.0     2.0  2.0  2.0     2.0   2.0    411\n",
       "10-20       0.0     0.0  0.0  0.0     0.0   0.0    176\n",
       "            1.0     1.0  1.0  1.0     1.0   1.0    487\n",
       "            2.0     2.0  2.0  2.0     2.0   2.0     18\n",
       "20-30       0.0     0.0  0.0  0.0     0.0   0.0     58\n",
       "            1.0     1.0  1.0  1.0     1.0   1.0    126\n",
       "            2.0     2.0  2.0  2.0     2.0   2.0      9\n",
       "30-50       0.0     0.0  0.0  0.0     0.0   0.0     41\n",
       "            1.0     1.0  1.0  1.0     1.0   1.0     61\n",
       "            2.0     2.0  2.0  2.0     2.0   2.0      2\n",
       "5-10        0.0     0.0  0.0  0.0     0.0   0.0     16\n",
       "            1.0     1.0  1.0  1.0     1.0   1.0    546\n",
       "            2.0     2.0  2.0  2.0     2.0   2.0    109\n",
       "50-70       0.0     0.0  0.0  0.0     0.0   0.0      7\n",
       "            1.0     1.0  1.0  1.0     1.0   1.0     15\n",
       "70-100      0.0     0.0  0.0  0.0     0.0   0.0      5\n",
       "            1.0     1.0  1.0  1.0     1.0   1.0      2\n",
       "Plus de 100 0.0     0.0  0.0  0.0     0.0   0.0      1\n",
       "            1.0     1.0  1.0  1.0     1.0   1.0      5\n",
       "            2.0     2.0  2.0  2.0     2.0   2.0      3"
      ]
     },
     "execution_count": 21,
     "metadata": {},
     "output_type": "execute_result"
    }
   ],
   "source": [
    "df.groupby(['age', 'state'])['state'].agg([pd.Series.mode, min, max, np.median, np.mean, pd.Series.count])"
   ]
  },
  {
   "cell_type": "code",
   "execution_count": null,
   "id": "c78d8a5d-768e-495d-84b0-c78bad0ff1e2",
   "metadata": {},
   "outputs": [],
   "source": []
  }
 ],
 "metadata": {
  "kernelspec": {
   "display_name": "Python 3 (ipykernel)",
   "language": "python",
   "name": "python3"
  },
  "language_info": {
   "codemirror_mode": {
    "name": "ipython",
    "version": 3
   },
   "file_extension": ".py",
   "mimetype": "text/x-python",
   "name": "python",
   "nbconvert_exporter": "python",
   "pygments_lexer": "ipython3",
   "version": "3.11.3"
  }
 },
 "nbformat": 4,
 "nbformat_minor": 5
}
