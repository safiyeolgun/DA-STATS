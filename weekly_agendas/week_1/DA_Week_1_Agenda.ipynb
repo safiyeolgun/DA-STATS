{
 "cells": [
  {
   "cell_type": "markdown",
   "metadata": {
    "id": "3Gq9Az2SB615"
   },
   "source": [
    " # Questions & Problems Related to Course Topics"
   ]
  },
  {
   "cell_type": "markdown",
   "metadata": {
    "id": "S0vWoNyaB-is"
   },
   "source": [
    "1. What will be the output of the following Python code?\n",
    "\n",
    "```python\n",
    "def printMax(a, b):\n",
    "    if a > b:\n",
    "        print(a, 'is maximum')\n",
    "    elif a == b:\n",
    "        print(a, 'is equal to', b)\n",
    "    else:\n",
    "        print(b, 'is maximum')\n",
    "printMax(3, 4)\n",
    "```\n",
    "\n"
   ]
  },
  {
   "cell_type": "code",
   "execution_count": 3,
   "metadata": {
    "colab": {
     "base_uri": "https://localhost:8080/"
    },
    "id": "I9UTJfq1BVlc",
    "outputId": "2941c792-2639-4cdc-a243-c9501023da32"
   },
   "outputs": [
    {
     "name": "stdout",
     "output_type": "stream",
     "text": [
      "4 is maximum\n"
     ]
    }
   ],
   "source": [
    "def printMax(a, b):\n",
    "    if a > b:\n",
    "        print(a, 'is maximum')\n",
    "    elif a == b:\n",
    "        print(a, 'is equal to', b)\n",
    "    else:\n",
    "        print(b, 'is maximum')\n",
    "printMax(3, 4)"
   ]
  },
  {
   "cell_type": "markdown",
   "metadata": {
    "id": "2Popa6wHCdLk"
   },
   "source": [
    "2. What is the output of the following program?\n",
    "\n",
    "```python\n",
    "x = 50\n",
    "def func(x):\n",
    "    print('x is', x)\n",
    "    x = 2\n",
    "    print('Changed local x to', x)\n",
    "func(x)\n",
    "print('x is now', x)\n",
    "```"
   ]
  },
  {
   "cell_type": "code",
   "execution_count": 2,
   "metadata": {
    "colab": {
     "base_uri": "https://localhost:8080/"
    },
    "id": "1MGf6sj6Cth1",
    "outputId": "5cb6a98c-a4de-4182-942d-29784a417219"
   },
   "outputs": [
    {
     "name": "stdout",
     "output_type": "stream",
     "text": [
      "x is 50\n",
      "Changed local x to 2\n",
      "x is now 50\n"
     ]
    }
   ],
   "source": [
    "x = 50\n",
    "def func(x):\n",
    "    print('x is', x)\n",
    "    x = 2\n",
    "    print('Changed local x to', x)\n",
    "func(x)\n",
    "print('x is now', x)\n"
   ]
  },
  {
   "cell_type": "markdown",
   "metadata": {
    "id": "omIOGmhaC_rv"
   },
   "source": [
    "3. What will be the output of the following Python code snippet?\n",
    "\n",
    "```python\n",
    "def function1(var1=5, var2=7):\n",
    "    var2=9\n",
    "    var1=3\n",
    "    print (var1, \" \", var2)\n",
    "function1(10,12)\n",
    "```"
   ]
  },
  {
   "cell_type": "code",
   "execution_count": 4,
   "metadata": {
    "colab": {
     "base_uri": "https://localhost:8080/"
    },
    "id": "K5UTPjxfDGYV",
    "outputId": "237a687e-f5f2-42c4-f0e5-90bf04316f71"
   },
   "outputs": [
    {
     "name": "stdout",
     "output_type": "stream",
     "text": [
      "3   9\n"
     ]
    }
   ],
   "source": [
    "def function1(var1=5, var2=7):\n",
    "    var2=9\n",
    "    var1=3\n",
    "    print (var1, \" \", var2)\n",
    "function1(10,12)"
   ]
  },
  {
   "cell_type": "markdown",
   "metadata": {
    "id": "MMBDcOO-IRD1"
   },
   "source": [
    "6. What will be the output of the following Python code?\n",
    "\n",
    "```python\n",
    "def san(x):\n",
    "    print(x+1)\n",
    "x=-2\n",
    "x=4\n",
    "san(12)\n",
    "\n",
    "```\n"
   ]
  },
  {
   "cell_type": "code",
   "execution_count": 5,
   "metadata": {
    "colab": {
     "base_uri": "https://localhost:8080/"
    },
    "id": "wYNbj-c2IWA_",
    "outputId": "46deba57-2e59-498f-d9e0-5d26ada40473"
   },
   "outputs": [
    {
     "name": "stdout",
     "output_type": "stream",
     "text": [
      "13\n"
     ]
    }
   ],
   "source": [
    "def san(x):\n",
    "    print(x+1)\n",
    "x=-2\n",
    "x=4\n",
    "san(12)\n"
   ]
  },
  {
   "cell_type": "markdown",
   "metadata": {
    "id": "Q0eb0VNAIfWg"
   },
   "source": [
    "7. What is the output of the following program?\n",
    "\n",
    "\n",
    "```python\n",
    "def foo(fname, val):\n",
    "    print(fname(val))\n",
    "foo(max, [1, 2, 3])\n",
    "foo(min, [1, 2, 3])\n",
    "\n",
    "```\n",
    "\n"
   ]
  },
  {
   "cell_type": "code",
   "execution_count": 6,
   "metadata": {
    "colab": {
     "base_uri": "https://localhost:8080/"
    },
    "id": "kOhyEXrAIiYA",
    "outputId": "9214c8cd-94c1-432f-873c-30d6337ea07b"
   },
   "outputs": [
    {
     "name": "stdout",
     "output_type": "stream",
     "text": [
      "3\n",
      "1\n"
     ]
    }
   ],
   "source": [
    "def foo(fname, val):\n",
    "    print(fname(val))\n",
    "foo(max, [1, 2, 3])\n",
    "foo(min, [1, 2, 3])\n"
   ]
  },
  {
   "cell_type": "markdown",
   "metadata": {
    "id": "VjP_ZMXdIqi9"
   },
   "source": [
    "8. What will be the output of the following Python code snippet?\n",
    "\n",
    "\n",
    "```python\n",
    "f=lambda x:bool(x%2)\n",
    "print(f(20), f(21))\n",
    "\n",
    "```\n",
    "\n"
   ]
  },
  {
   "cell_type": "code",
   "execution_count": 7,
   "metadata": {
    "colab": {
     "base_uri": "https://localhost:8080/"
    },
    "id": "W849P1RtItZQ",
    "outputId": "f04b315a-9edf-4a9d-ea3a-a7fa3564a0b2"
   },
   "outputs": [
    {
     "name": "stdout",
     "output_type": "stream",
     "text": [
      "False True\n"
     ]
    }
   ],
   "source": [
    "f=lambda x:bool(x%2)\n",
    "print(f(20), f(21))\n"
   ]
  },
  {
   "cell_type": "markdown",
   "metadata": {
    "id": "Im-1Txp5I7CB"
   },
   "source": [
    "9. What will be the output of the following Python code?\n",
    "\n",
    "```python\n",
    "random.randrange(0,91,5)`\n",
    "```\n",
    "\n",
    "**random.randrange(stop)**\n",
    "\n",
    "**random.randrange(start, stop[, step])**\n",
    "\n",
    "Return a randomly selected element from range(start, stop, step). This is equivalent to choice(range(start, stop, step)), but doesn’t actually build a range object.\n",
    "\n",
    "[Random module](https://docs.python.org/3/library/random.html 'Random module')"
   ]
  },
  {
   "cell_type": "code",
   "execution_count": 10,
   "metadata": {
    "colab": {
     "base_uri": "https://localhost:8080/"
    },
    "id": "I_1hiqvDI-9o",
    "outputId": "f54a7aef-5b26-4105-f080-4c9af41b4346"
   },
   "outputs": [
    {
     "data": {
      "text/plain": [
       "10"
      ]
     },
     "execution_count": 10,
     "metadata": {},
     "output_type": "execute_result"
    }
   ],
   "source": [
    "import random \n",
    "random.randrange(0,91,5)"
   ]
  },
  {
   "cell_type": "markdown",
   "metadata": {
    "id": "VtyuyBaKJf5q"
   },
   "source": [
    "10. What is the output of the following program?\n",
    "\n",
    "\n",
    "\n",
    "```python\n",
    "def foo():\n",
    "    try:\n",
    "        return 1\n",
    "    finally:\n",
    "        return 2\n",
    "k = foo()\n",
    "print(k)\n",
    "```\n",
    "\n"
   ]
  },
  {
   "cell_type": "code",
   "execution_count": 11,
   "metadata": {
    "colab": {
     "base_uri": "https://localhost:8080/"
    },
    "id": "OxeWJPWsLdVE",
    "outputId": "6806d7c2-9424-4fcf-f76a-4613d37dffe8"
   },
   "outputs": [
    {
     "name": "stdout",
     "output_type": "stream",
     "text": [
      "2\n"
     ]
    }
   ],
   "source": [
    "def foo():\n",
    "    try:\n",
    "        return 1\n",
    "    finally:\n",
    "        return 2\n",
    "k = foo()\n",
    "print(k)"
   ]
  },
  {
   "cell_type": "markdown",
   "metadata": {
    "id": "KipoITnhLjWZ"
   },
   "source": [
    "11. What will be the output of the following Python code?\n",
    "\n",
    "\n",
    "```python\n",
    "def f(x, y, z): return x + y + z\n",
    "print(f(2, 30, 400))\n",
    "\n",
    "```\n",
    "\n"
   ]
  },
  {
   "cell_type": "code",
   "execution_count": 12,
   "metadata": {
    "colab": {
     "base_uri": "https://localhost:8080/"
    },
    "id": "1A6ZCEw7Lnah",
    "outputId": "618a7d90-ca49-4c26-9ec9-8edf82471866"
   },
   "outputs": [
    {
     "name": "stdout",
     "output_type": "stream",
     "text": [
      "432\n"
     ]
    }
   ],
   "source": [
    "def f(x, y, z): return x + y + z\n",
    "print(f(2, 30, 400))\n"
   ]
  },
  {
   "cell_type": "markdown",
   "metadata": {
    "id": "xN22FnjPLolR"
   },
   "source": [
    "12. What will be the output of the following Python code?\n",
    "\n",
    "\n",
    "\n",
    "```python\n",
    "print({a**2 for a in range(4)})\n",
    "```\n",
    "\n"
   ]
  },
  {
   "cell_type": "code",
   "execution_count": 13,
   "metadata": {
    "colab": {
     "base_uri": "https://localhost:8080/"
    },
    "id": "0cRX_WcbLzwj",
    "outputId": "ebac0445-d9ad-4f68-b677-33306ff9e7a1"
   },
   "outputs": [
    {
     "name": "stdout",
     "output_type": "stream",
     "text": [
      "{0, 1, 4, 9}\n"
     ]
    }
   ],
   "source": [
    "print({a**2 for a in range(4)})"
   ]
  },
  {
   "cell_type": "markdown",
   "metadata": {
    "id": "3HjsD2LcNWAj"
   },
   "source": [
    "13. What will be the output of the following Python code?\n",
    "\n",
    "\n",
    "```python\n",
    "a=[1,2,3,4]\n",
    "b=[sum(a[0:x+1]) for x in range(0,len(a))]\n",
    "print(b)\n",
    "```\n",
    "\n"
   ]
  },
  {
   "cell_type": "code",
   "execution_count": 14,
   "metadata": {
    "colab": {
     "base_uri": "https://localhost:8080/"
    },
    "id": "MRFXDm5dNaKN",
    "outputId": "0ac0efc7-9f73-4a89-fc74-cf9b52254410"
   },
   "outputs": [
    {
     "name": "stdout",
     "output_type": "stream",
     "text": [
      "[1, 3, 6, 10]\n"
     ]
    }
   ],
   "source": [
    "a=[1,2,3,4]\n",
    "b=[sum(a[0:x+1]) for x in range(0,len(a))]\n",
    "print(b)"
   ]
  },
  {
   "cell_type": "markdown",
   "metadata": {
    "id": "BA7RTEB_OLDs"
   },
   "source": [
    "# Interview Questions"
   ]
  },
  {
   "cell_type": "markdown",
   "metadata": {
    "id": "hzT32r0mON40"
   },
   "source": [
    "1. Explain Python Functions?"
   ]
  },
  {
   "cell_type": "code",
   "execution_count": null,
   "metadata": {
    "id": "OsbOePPOO7mX"
   },
   "outputs": [],
   "source": []
  },
  {
   "cell_type": "markdown",
   "metadata": {
    "id": "WNUKE2jWOP4y"
   },
   "source": [
    "2. What is Python's parameter passing mechanism?"
   ]
  },
  {
   "cell_type": "code",
   "execution_count": null,
   "metadata": {
    "id": "722wxb97O7Ai"
   },
   "outputs": [],
   "source": []
  },
  {
   "cell_type": "markdown",
   "metadata": {
    "id": "Gww4QfDqORCQ"
   },
   "source": [
    "3. What is the difference between remove() function and del statement?"
   ]
  },
  {
   "cell_type": "code",
   "execution_count": null,
   "metadata": {
    "id": "_yveA2qvO9K7"
   },
   "outputs": [],
   "source": []
  },
  {
   "cell_type": "markdown",
   "metadata": {
    "id": "p8NvRXK4OXR0"
   },
   "source": [
    "4. What is the use of break statement?"
   ]
  },
  {
   "cell_type": "code",
   "execution_count": null,
   "metadata": {
    "id": "iEi4F1PaO8j7"
   },
   "outputs": [],
   "source": []
  },
  {
   "cell_type": "markdown",
   "metadata": {
    "id": "3ZOC4XrAOYCi"
   },
   "source": [
    "5. What are the different types of operators in Python?"
   ]
  },
  {
   "cell_type": "code",
   "execution_count": null,
   "metadata": {
    "id": "UUTjIUJaO-Ai"
   },
   "outputs": [],
   "source": []
  },
  {
   "cell_type": "markdown",
   "metadata": {
    "id": "Jh9mZCPKOY9v"
   },
   "source": [
    "6. What is a generator in Python?"
   ]
  },
  {
   "cell_type": "code",
   "execution_count": null,
   "metadata": {
    "id": "ZbK2H5UfOKSK"
   },
   "outputs": [],
   "source": []
  }
 ],
 "metadata": {
  "colab": {
   "provenance": []
  },
  "kernelspec": {
   "display_name": "Python 3 (ipykernel)",
   "language": "python",
   "name": "python3"
  },
  "language_info": {
   "codemirror_mode": {
    "name": "ipython",
    "version": 3
   },
   "file_extension": ".py",
   "mimetype": "text/x-python",
   "name": "python",
   "nbconvert_exporter": "python",
   "pygments_lexer": "ipython3",
   "version": "3.11.3"
  }
 },
 "nbformat": 4,
 "nbformat_minor": 4
}
