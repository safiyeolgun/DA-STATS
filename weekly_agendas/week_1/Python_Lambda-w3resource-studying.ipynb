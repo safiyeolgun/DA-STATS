{
 "cells": [
  {
   "cell_type": "markdown",
   "id": "7865dc64",
   "metadata": {},
   "source": [
    "# Python Lambda - Exercises, Practice, Solution"
   ]
  },
  {
   "cell_type": "markdown",
   "id": "3c16e1b6",
   "metadata": {},
   "source": [
    "This file is a copy from [w3resource](https://www.w3resource.com/python-exercises/lambda/index.php)"
   ]
  },
  {
   "cell_type": "markdown",
   "id": "0b4cdeb6",
   "metadata": {},
   "source": [
    "**1. Write a Python program to create a lambda function that adds 15 to a given number passed in as an argument, also create a lambda function that multiplies argument x with argument y and prints the result.** [alternative solution](https://www.w3resource.com/python-exercises/lambda/python-lambda-exercise-1.php)"
   ]
  },
  {
   "cell_type": "code",
   "execution_count": 3,
   "id": "ce4783a0",
   "metadata": {},
   "outputs": [
    {
     "name": "stdout",
     "output_type": "stream",
     "text": [
      "50\n",
      "65\n"
     ]
    }
   ],
   "source": [
    "def function(a):\n",
    "    return lambda x: x+a\n",
    "\n",
    "print(function(int( input()))(15))"
   ]
  },
  {
   "cell_type": "code",
   "execution_count": 5,
   "id": "53fe10b4",
   "metadata": {},
   "outputs": [
    {
     "name": "stdout",
     "output_type": "stream",
     "text": [
      "25\n",
      "400\n"
     ]
    }
   ],
   "source": [
    "print((lambda a : a + 15)(10))\n",
    "\n",
    "print((lambda a, b : a*b )(10, 40))  "
   ]
  },
  {
   "cell_type": "code",
   "execution_count": 21,
   "id": "c3cb6856",
   "metadata": {},
   "outputs": [
    {
     "name": "stdout",
     "output_type": "stream",
     "text": [
      "30\n",
      "156\n"
     ]
    }
   ],
   "source": [
    "print((lambda x : x + 15)(15))\n",
    "print((lambda x, y: x * y)(12, 13))"
   ]
  },
  {
   "cell_type": "markdown",
   "id": "7e050956",
   "metadata": {},
   "source": [
    "**2. Write a Python program to create a function that takes one argument, and that argument will be multiplied with an unknown given number.** [alternative solution](https://www.w3resource.com/python-exercises/lambda/python-lambda-exercise-2.php)\n",
    "\n",
    "Sample Output:\n",
    "\n",
    "```\n",
    "Double the number of 15 = 30\n",
    "Triple the number of 15 = 45\n",
    "Quadruple the number of 15 = 60\n",
    "Quintuple the number 15 = 75\n",
    "```"
   ]
  },
  {
   "cell_type": "code",
   "execution_count": 7,
   "id": "cf0ac653",
   "metadata": {},
   "outputs": [
    {
     "name": "stdout",
     "output_type": "stream",
     "text": [
      "45\n"
     ]
    }
   ],
   "source": [
    "def multi(n):\n",
    "    return lambda x : x * n\n",
    "\n",
    "print(multi(15)(3))"
   ]
  },
  {
   "cell_type": "code",
   "execution_count": 20,
   "id": "80a6799c",
   "metadata": {},
   "outputs": [
    {
     "name": "stdout",
     "output_type": "stream",
     "text": [
      "Sayiyi kacla carpalim ?6\n",
      "hangi sayiyi carpalim3\n",
      "18\n"
     ]
    }
   ],
   "source": [
    "def carp(n):\n",
    "    return lambda x: x * n\n",
    "\n",
    "print(carp(int(input(\"Sayiyi kacla carpalim ?\")))(int(input(\"hangi sayiyi carpalim\"))))"
   ]
  },
  {
   "cell_type": "markdown",
   "id": "8313a369",
   "metadata": {},
   "source": [
    "**3. Write a Python program to sort a list of tuples using Lambda.** [alternative solution](https://www.w3resource.com/python-exercises/lambda/python-lambda-exercise-3.php)\n",
    "\n",
    "Original list of tuples:\n",
    "```python\n",
    "[('English', 88), ('Science', 90), ('Maths', 97), ('Social sciences', 82)]\n",
    "```\n",
    "Sorting the List of Tuples:\n",
    "\n",
    "```python\n",
    "[('Social sciences', 82), ('English', 88), ('Science', 90), ('Maths', 97)]\n",
    "```"
   ]
  },
  {
   "cell_type": "code",
   "execution_count": 15,
   "id": "5fe3abac",
   "metadata": {},
   "outputs": [
    {
     "name": "stdout",
     "output_type": "stream",
     "text": [
      "[('Social sciences', 82), ('English', 88), ('Science', 90), ('Maths', 97)]\n"
     ]
    }
   ],
   "source": [
    "mlist = [('English', 88), ('Science', 90), ('Maths', 97), ('Social sciences', 82)]\n",
    "\n",
    "x = sorted(mlist, key = lambda x: x[1])\n",
    "\n",
    "print(x)"
   ]
  },
  {
   "cell_type": "code",
   "execution_count": 19,
   "id": "29fbf703",
   "metadata": {},
   "outputs": [
    {
     "name": "stdout",
     "output_type": "stream",
     "text": [
      "[('English', 88), ('Maths', 97), ('Science', 90), ('Social sciences', 82)]\n"
     ]
    }
   ],
   "source": [
    "mlist = [('English', 88), ('Science', 90), ('Maths', 97), ('Social sciences', 82)]\n",
    "\n",
    "x = sorted(mlist, key = lambda x: x[0])\n",
    "\n",
    "print(x)"
   ]
  },
  {
   "cell_type": "code",
   "execution_count": 18,
   "id": "10b4cc29",
   "metadata": {},
   "outputs": [
    {
     "name": "stdout",
     "output_type": "stream",
     "text": [
      "[('Social sciences', 82), ('Science', 90), ('Maths', 97), ('English', 88)]\n"
     ]
    }
   ],
   "source": [
    "mlist = [('English', 88), ('Science', 90), ('Maths', 97), ('Social sciences', 82)]\n",
    "\n",
    "x = sorted(mlist, key = lambda x: x[0], reverse = True)\n",
    "\n",
    "print(x)"
   ]
  },
  {
   "cell_type": "code",
   "execution_count": 17,
   "id": "eeabae9b",
   "metadata": {},
   "outputs": [
    {
     "name": "stdout",
     "output_type": "stream",
     "text": [
      "[('Maths', 97), ('Science', 90), ('English', 88), ('Social sciences', 82)]\n"
     ]
    }
   ],
   "source": [
    "mlist = [('English', 88), ('Science', 90), ('Maths', 97), ('Social sciences', 82)]\n",
    "\n",
    "x = sorted(mlist, key = lambda x: x[1], reverse = True)\n",
    "\n",
    "print(x)"
   ]
  },
  {
   "cell_type": "markdown",
   "id": "e7e83080",
   "metadata": {},
   "source": [
    "**4. Write a Python program to sort a list of dictionaries using Lambda.** [alternative solution](https://www.w3resource.com/python-exercises/lambda/python-lambda-exercise-4.php)\n",
    "\n",
    "Original list of dictionaries :\n",
    "```python    \n",
    "[{'make': 'Nokia', 'model': 216, 'color': 'Black'}, {'make': 'Mi Max', 'model': '2', 'color': 'Gold'}, {'make': 'Samsung', 'model': 7, 'color': 'Blue'}]\n",
    "```\n",
    "Sorting the List of dictionaries :\n",
    "```python    \n",
    "[{'make': 'Nokia', 'model': 216, 'color': 'Black'}, {'make': 'Samsung', 'model': 7, 'color': 'Blue'}, {'make': 'Mi Max', 'model': '2', 'color': 'Gold'}]\n",
    "```"
   ]
  },
  {
   "cell_type": "code",
   "execution_count": 39,
   "id": "dba7367b",
   "metadata": {},
   "outputs": [
    {
     "name": "stdout",
     "output_type": "stream",
     "text": [
      "[{'make': 'Nokia', 'model': 216, 'color': 'Black'}, {'make': 'Samsung', 'model': 7, 'color': 'Blue'}, {'make': 'Mi Max', 'model': '2', 'color': 'Gold'}]\n"
     ]
    }
   ],
   "source": [
    "my_list_dict = [{'make': 'Nokia', 'model': 216, 'color': 'Black'}, {'make': 'Mi Max', 'model': '2', 'color': 'Gold'}, {'make': 'Samsung', 'model': 7, 'color': 'Blue'}]\n",
    "\n",
    "print(sorted(my_list_dict, key = lambda x : x['color']))\n"
   ]
  },
  {
   "cell_type": "code",
   "execution_count": 26,
   "id": "6405b692",
   "metadata": {},
   "outputs": [
    {
     "name": "stdout",
     "output_type": "stream",
     "text": [
      "Black\n"
     ]
    }
   ],
   "source": [
    "my_list_dict = [{'make': 'Nokia', 'model': 216, 'color': 'Black'}, {'make': 'Mi Max', 'model': '2', 'color': 'Gold'}, {'make': 'Samsung', 'model': 7, 'color': 'Blue'}]\n",
    "\n",
    "\n",
    "print(my_list_dict[0]['color'])\n",
    "\n"
   ]
  },
  {
   "cell_type": "markdown",
   "id": "ab7ab3a8",
   "metadata": {},
   "source": [
    "**5. Write a Python program to filter a list of integers using Lambda.** [alternative solution](https://www.w3resource.com/python-exercises/lambda/python-lambda-exercise-5.php)\n",
    "\n",
    "Original list of integers:\n",
    "\n",
    "`[1, 2, 3, 4, 5, 6, 7, 8, 9, 10]`\n",
    "\n",
    "Even numbers from the said list:\n",
    "\n",
    "`[2, 4, 6, 8, 10]`\n",
    "\n",
    "Odd numbers from the said list:\n",
    "\n",
    "`[1, 3, 5, 7, 9]`"
   ]
  },
  {
   "cell_type": "code",
   "execution_count": 3,
   "id": "5fa9e776",
   "metadata": {},
   "outputs": [
    {
     "data": {
      "text/plain": [
       "[1, 3, 5, 7, 9]"
      ]
     },
     "execution_count": 3,
     "metadata": {},
     "output_type": "execute_result"
    }
   ],
   "source": [
    "list(filter(lambda x: not(x % 2), [1, 2, 3, 4, 5, 6, 7, 8, 9, 10]))"
   ]
  },
  {
   "cell_type": "code",
   "execution_count": 5,
   "id": "63942750",
   "metadata": {},
   "outputs": [
    {
     "data": {
      "text/plain": [
       "[1, 3, 5, 7, 9]"
      ]
     },
     "execution_count": 5,
     "metadata": {},
     "output_type": "execute_result"
    }
   ],
   "source": [
    "list(filter(lambda x: x % 2, [1, 2, 3, 4, 5, 6, 7, 8, 9, 10]))"
   ]
  },
  {
   "cell_type": "markdown",
   "id": "747f720d",
   "metadata": {},
   "source": [
    "**6. Write a Python program to square and cube every number in a given list of integers using Lambda.** [alternative solution](https://www.w3resource.com/python-exercises/lambda/python-lambda-exercise-6.php)\n",
    "\n",
    "Original list of integers:\n",
    "\n",
    "`[1, 2, 3, 4, 5, 6, 7, 8, 9, 10]`\n",
    "\n",
    "Square every number of the said list:\n",
    "\n",
    "`[1, 4, 9, 16, 25, 36, 49, 64, 81, 100]`\n",
    "\n",
    "Cube every number of the said list:\n",
    "\n",
    "`[1, 8, 27, 64, 125, 216, 343, 512, 729, 1000]`"
   ]
  },
  {
   "cell_type": "code",
   "execution_count": 7,
   "id": "9f568dbd",
   "metadata": {},
   "outputs": [
    {
     "data": {
      "text/plain": [
       "[(1, 1),\n",
       " (4, 8),\n",
       " (9, 27),\n",
       " (16, 64),\n",
       " (25, 125),\n",
       " (36, 216),\n",
       " (49, 343),\n",
       " (64, 512),\n",
       " (81, 729),\n",
       " (100, 1000)]"
      ]
     },
     "execution_count": 7,
     "metadata": {},
     "output_type": "execute_result"
    }
   ],
   "source": [
    "list(map(lambda x: (x**2, x**3), [1, 2, 3, 4, 5, 6, 7, 8, 9, 10]))  "
   ]
  },
  {
   "cell_type": "code",
   "execution_count": 10,
   "id": "3abaeaa5",
   "metadata": {},
   "outputs": [
    {
     "name": "stdout",
     "output_type": "stream",
     "text": [
      "number 1: square: 1 and cube: 1\n",
      "number 2: square: 4 and cube: 8\n",
      "number 3: square: 9 and cube: 27\n",
      "number 4: square: 16 and cube: 64\n",
      "number 5: square: 25 and cube: 125\n",
      "number 6: square: 36 and cube: 216\n",
      "number 7: square: 49 and cube: 343\n",
      "number 8: square: 64 and cube: 512\n",
      "number 9: square: 81 and cube: 729\n",
      "number 10: square: 100 and cube: 1000\n"
     ]
    },
    {
     "data": {
      "text/plain": [
       "[None, None, None, None, None, None, None, None, None, None]"
      ]
     },
     "execution_count": 10,
     "metadata": {},
     "output_type": "execute_result"
    }
   ],
   "source": [
    "list(map(lambda x: print(f'number {x}: square: {x**2} and cube: {x**3}'), [1, 2, 3, 4, 5, 6, 7, 8, 9, 10])) "
   ]
  },
  {
   "cell_type": "code",
   "execution_count": 12,
   "id": "63452f7c",
   "metadata": {},
   "outputs": [
    {
     "name": "stdout",
     "output_type": "stream",
     "text": [
      "number 1: square: 1 and cube: 1\n",
      " number 2: square: 4 and cube: 8\n",
      " number 3: square: 9 and cube: 27\n",
      " number 4: square: 16 and cube: 64\n",
      " number 5: square: 25 and cube: 125\n",
      " number 6: square: 36 and cube: 216\n",
      " number 7: square: 49 and cube: 343\n",
      " number 8: square: 64 and cube: 512\n",
      " number 9: square: 81 and cube: 729\n",
      " number 10: square: 100 and cube: 1000\n",
      "\n"
     ]
    }
   ],
   "source": [
    "print(*map(lambda x: f'number {x}: square: {x**2} and cube: {x**3}\\n', [1, 2, 3, 4, 5, 6, 7, 8, 9, 10])) "
   ]
  },
  {
   "cell_type": "markdown",
   "id": "300bf86f",
   "metadata": {},
   "source": [
    "**7. Write a Python program to find if a given string starts with a given character using Lambda.** [alternative solution](https://www.w3resource.com/python-exercises/lambda/python-lambda-exercise-7.php)\n",
    "\n",
    "Sample Output:\n",
    "\n",
    "```\n",
    "True\n",
    "\n",
    "False\n",
    "```"
   ]
  },
  {
   "cell_type": "code",
   "execution_count": 26,
   "id": "882e968b",
   "metadata": {},
   "outputs": [
    {
     "name": "stdout",
     "output_type": "stream",
     "text": [
      "Please write something: acxvf\n",
      "what do you want to searchac\n",
      "True\n"
     ]
    }
   ],
   "source": [
    "print((lambda x, y : x.startswith(y))(input('Please write something: '), input('what do you want to search')))"
   ]
  },
  {
   "cell_type": "markdown",
   "id": "6792dc7d",
   "metadata": {},
   "source": [
    "**8. Write a Python program to extract year, month, date and time using Lambda.**[alternative solution](https://www.w3resource.com/python-exercises/lambda/python-lambda-exercise-8.php)\n",
    "\n",
    "Sample Output:\n",
    "\n",
    "```\n",
    "2020-01-15 09:03:32.744178\n",
    "2020\n",
    "1\n",
    "15\n",
    "09:03:32.744178\n",
    "```"
   ]
  },
  {
   "cell_type": "code",
   "execution_count": 113,
   "id": "8e58065e",
   "metadata": {},
   "outputs": [
    {
     "ename": "AttributeError",
     "evalue": "'datetime.datetime' object has no attribute 'attr'",
     "output_type": "error",
     "traceback": [
      "\u001b[1;31m---------------------------------------------------------------------------\u001b[0m",
      "\u001b[1;31mAttributeError\u001b[0m                            Traceback (most recent call last)",
      "Cell \u001b[1;32mIn[113], line 6\u001b[0m\n\u001b[0;32m      3\u001b[0m \u001b[38;5;28;01mdef\u001b[39;00m \u001b[38;5;21mfunc\u001b[39m(func_name):    \n\u001b[0;32m      4\u001b[0m     \u001b[38;5;28;01mreturn\u001b[39;00m \u001b[38;5;28;01mlambda\u001b[39;00m attr: func_name\u001b[38;5;241m.\u001b[39mattr\n\u001b[1;32m----> 6\u001b[0m \u001b[38;5;28mprint\u001b[39m(\u001b[43mfunc\u001b[49m\u001b[43m(\u001b[49m\u001b[43mdt\u001b[49m\u001b[38;5;241;43m.\u001b[39;49m\u001b[43mnow\u001b[49m\u001b[43m(\u001b[49m\u001b[43m)\u001b[49m\u001b[43m)\u001b[49m\u001b[43m(\u001b[49m\u001b[38;5;124;43m'\u001b[39;49m\u001b[38;5;124;43myear\u001b[39;49m\u001b[38;5;124;43m'\u001b[39;49m\u001b[43m)\u001b[49m)\n",
      "Cell \u001b[1;32mIn[113], line 4\u001b[0m, in \u001b[0;36mfunc.<locals>.<lambda>\u001b[1;34m(attr)\u001b[0m\n\u001b[0;32m      3\u001b[0m \u001b[38;5;28;01mdef\u001b[39;00m \u001b[38;5;21mfunc\u001b[39m(func_name):    \n\u001b[1;32m----> 4\u001b[0m     \u001b[38;5;28;01mreturn\u001b[39;00m \u001b[38;5;28;01mlambda\u001b[39;00m attr: \u001b[43mfunc_name\u001b[49m\u001b[38;5;241;43m.\u001b[39;49m\u001b[43mattr\u001b[49m\n",
      "\u001b[1;31mAttributeError\u001b[0m: 'datetime.datetime' object has no attribute 'attr'"
     ]
    }
   ],
   "source": [
    "from datetime import datetime as dt\n",
    "\n",
    "def func(func_name):    \n",
    "    return lambda attr: func_name.attr\n",
    "\n",
    "print(func(dt.now())('year'))"
   ]
  },
  {
   "cell_type": "code",
   "execution_count": 228,
   "id": "59c7e4b1",
   "metadata": {},
   "outputs": [
    {
     "name": "stdout",
     "output_type": "stream",
     "text": [
      "11\n",
      "True\n",
      "2023\n",
      "datetime(year, month, day[, hour[, minute[, second[, microsecond[,tzinfo]]]]])\n",
      "\n",
      "The year, month and day arguments are required. tzinfo may be None, or an\n",
      "instance of a tzinfo subclass. The remaining arguments may be ints.\n",
      "\n",
      "['__class__', '__delattr__', '__dir__', '__doc__', '__eq__', '__format__', '__ge__', '__getattribute__', '__getstate__', '__gt__', '__hash__', '__init__', '__init_subclass__', '__le__', '__lt__', '__ne__', '__new__', '__reduce__', '__reduce_ex__', '__repr__', '__setattr__', '__sizeof__', '__str__', '__subclasshook__', 'dst', 'fold', 'fromisoformat', 'hour', 'isoformat', 'max', 'microsecond', 'min', 'minute', 'replace', 'resolution', 'second', 'strftime', 'tzinfo', 'tzname', 'utcoffset']\n"
     ]
    }
   ],
   "source": [
    "from datetime import datetime as dt\n",
    "\n",
    "\n",
    "def func(func_name):    \n",
    "    return lambda attr: getattr(func_name(), attr)\n",
    "\n",
    "def func2(func_name):    \n",
    "#     return lambda attr: str(getattr(func_name(), attr)) +'()'\n",
    "      return lambda attr: str(getattr(func_name(), attr)) +'().__str__()'\n",
    "\n",
    "\n",
    "# print(dt.now().time().__str__())\n",
    "# print(dt.now().time())\n",
    "\n",
    "print(dt.now().day)\n",
    "print(hasattr(dt.now(),'time'))\n",
    "\n",
    "print(getattr(dt.now(),'year'))\n",
    "print(getattr(dt,'__doc__'))\n",
    "# print(dir(datetime.datetime.__doc__))\n",
    "print(dir(datetime.datetime.now().time()))\n",
    "\n",
    "# print(func(dt.now)('year'))\n",
    "# print(func(dt.now)('month'))\n",
    "# print(func(dt.now)('day'))\n",
    "# # print(func2(dt.now)('time'))\n",
    "# print(func(dt)('time'))\n",
    "\n",
    "# print(dt.now().strftime(%H:%M:%S))\n"
   ]
  },
  {
   "cell_type": "code",
   "execution_count": 173,
   "id": "9a5558bd",
   "metadata": {},
   "outputs": [
    {
     "name": "stdout",
     "output_type": "stream",
     "text": [
      "datetime: 2023-05-11 03:45:35.030502\n",
      "datetime: Thursday, 05/11/2023 03:45:35 AM\n",
      "datetime:  03:45:35.030502\n"
     ]
    }
   ],
   "source": [
    "import datetime\n",
    "\n",
    "dt = datetime.datetime(2020, 1, 5, 20, 15, 30)\n",
    "dt = datetime.datetime.now()\n",
    "\n",
    "print(f'datetime: {dt}')\n",
    "# datetime: 2020-01-05 20:15:30\n",
    "\n",
    "print(f'datetime: {dt:%A, %m/%d/%Y %I:%M:%S %p}')\n",
    "# datetime: Sunday, 01/05/2020 08:15:30 PM\n",
    "print(f'datetime: {dt: %I:%M:%S.%f}')\n",
    "\n"
   ]
  },
  {
   "cell_type": "code",
   "execution_count": 97,
   "id": "4a716177",
   "metadata": {},
   "outputs": [
    {
     "ename": "TypeError",
     "evalue": "'NoneType' object is not callable",
     "output_type": "error",
     "traceback": [
      "\u001b[1;31m---------------------------------------------------------------------------\u001b[0m",
      "\u001b[1;31mTypeError\u001b[0m                                 Traceback (most recent call last)",
      "Cell \u001b[1;32mIn[97], line 6\u001b[0m\n\u001b[0;32m      3\u001b[0m \u001b[38;5;28;01mdef\u001b[39;00m \u001b[38;5;21mfunc\u001b[39m(a):    \n\u001b[0;32m      4\u001b[0m     \u001b[38;5;28;01mlambda\u001b[39;00m b: \u001b[38;5;28mprint\u001b[39m(\u001b[38;5;28mstr\u001b[39m(a) \u001b[38;5;241m+\u001b[39m \u001b[38;5;124m'\u001b[39m\u001b[38;5;124m.\u001b[39m\u001b[38;5;124m'\u001b[39m \u001b[38;5;241m+\u001b[39m b)\n\u001b[1;32m----> 6\u001b[0m \u001b[43mfunc\u001b[49m\u001b[43m(\u001b[49m\u001b[38;5;124;43m'\u001b[39;49m\u001b[38;5;124;43myear\u001b[39;49m\u001b[38;5;124;43m'\u001b[39;49m\u001b[43m)\u001b[49m\u001b[43m(\u001b[49m\u001b[43mdt\u001b[49m\u001b[38;5;241;43m.\u001b[39;49m\u001b[43mnow\u001b[49m\u001b[43m(\u001b[49m\u001b[43m)\u001b[49m\u001b[43m)\u001b[49m\n",
      "\u001b[1;31mTypeError\u001b[0m: 'NoneType' object is not callable"
     ]
    }
   ],
   "source": [
    "from datetime import datetime as dt\n",
    "\n",
    "def func(a):    \n",
    "    lambda b: print(str(a) + '.' + b)\n",
    "\n",
    "func('year')(dt.now())"
   ]
  },
  {
   "cell_type": "code",
   "execution_count": 46,
   "id": "d653cbfe",
   "metadata": {},
   "outputs": [
    {
     "name": "stdout",
     "output_type": "stream",
     "text": [
      "2023\n"
     ]
    }
   ],
   "source": [
    "import datetime\n",
    "print(datetime.datetime.now().year)"
   ]
  },
  {
   "cell_type": "markdown",
   "id": "17510c1a",
   "metadata": {},
   "source": [
    "**9. Write a Python program to check whether a given string is a number or not using Lambda.** [alternative solution](https://www.w3resource.com/python-exercises/lambda/python-lambda-exercise-9.php)\n",
    "\n",
    "Sample Output:\n",
    "```\n",
    "True\n",
    "True\n",
    "False\n",
    "True\n",
    "False\n",
    "True\n",
    "```\n",
    "\n",
    "Print checking numbers:\n",
    "```\n",
    "True\n",
    "True\n",
    "```"
   ]
  },
  {
   "cell_type": "code",
   "execution_count": null,
   "id": "bf8015c7",
   "metadata": {},
   "outputs": [],
   "source": []
  },
  {
   "cell_type": "markdown",
   "id": "ace1d676",
   "metadata": {},
   "source": [
    "**10. Write a Python program to create Fibonacci series up to n using Lambda.**[alternative solution](https://www.w3resource.com/python-exercises/lambda/python-lambda-exercise-10.php)\n",
    "\n",
    "Fibonacci series upto 2:\n",
    "\n",
    "`[0, 1]`\n",
    "\n",
    "Fibonacci series upto 5: \n",
    "\n",
    "`[0, 1, 1, 2, 3]`\n",
    "\n",
    "Fibonacci series upto 6: \n",
    "\n",
    "`[0, 1, 1, 2, 3, 5]`\n",
    "\n",
    "Fibonacci series upto 9:\n",
    "\n",
    "`[0, 1, 1, 2, 3, 5, 8, 13, 21]`"
   ]
  },
  {
   "cell_type": "code",
   "execution_count": null,
   "id": "a8b52366",
   "metadata": {},
   "outputs": [],
   "source": []
  },
  {
   "cell_type": "code",
   "execution_count": null,
   "id": "0a17db1c",
   "metadata": {},
   "outputs": [],
   "source": [
    "my_list = [0, 1]\n",
    "my_list.append(my_list[-1] + my_list[-2] for i in range(1,5))\n",
    "my_list\n",
    "# next(my_list[2])\n",
    "# iter(my_list[2]).__next__()"
   ]
  },
  {
   "cell_type": "markdown",
   "id": "a70f7a99",
   "metadata": {},
   "source": [
    "**11. Write a Python program to find the intersection of two given arrays using Lambda.**[alternative solution](https://www.w3resource.com/python-exercises/lambda/python-lambda-exercise-11.php)\n",
    "\n",
    "Original arrays:\n",
    "\n",
    "`[1, 2, 3, 5, 7, 8, 9, 10]`\n",
    "\n",
    "`[1, 2, 4, 8, 9]`\n",
    "\n",
    "Intersection of the said arrays: `[1, 2, 8, 9]`"
   ]
  },
  {
   "cell_type": "code",
   "execution_count": null,
   "id": "1c3feb61",
   "metadata": {},
   "outputs": [],
   "source": []
  },
  {
   "cell_type": "markdown",
   "id": "50fa1bbc",
   "metadata": {},
   "source": [
    "**12. Write a Python program to rearrange positive and negative numbers in a given array using Lambda.** [alternative solution](https://www.w3resource.com/python-exercises/lambda/python-lambda-exercise-12.php)\n",
    "\n",
    "Original arrays:\n",
    "\n",
    "`[-1, 2, -3, 5, 7, 8, 9, -10]`\n",
    "\n",
    "Rearrange positive and negative numbers of the said array:\n",
    "\n",
    "`[2, 5, 7, 8, 9, -10, -3, -1]`"
   ]
  },
  {
   "cell_type": "code",
   "execution_count": 102,
   "id": "6d76b5b9",
   "metadata": {},
   "outputs": [
    {
     "data": {
      "text/plain": [
       "[2, 5, 7, 8, 9, -10, -3, -1]"
      ]
     },
     "execution_count": 102,
     "metadata": {},
     "output_type": "execute_result"
    }
   ],
   "source": [
    "a = sorted([-1, 2, -3, 5, 7, 8, 9, -10])\n",
    "\n",
    "(lambda a: a[3:] + a[:3]) (a)"
   ]
  },
  {
   "cell_type": "code",
   "execution_count": 106,
   "id": "74d75d66",
   "metadata": {},
   "outputs": [
    {
     "data": {
      "text/plain": [
       "[2, 5, 7, 8, 9, -10, -3, -1]"
      ]
     },
     "execution_count": 106,
     "metadata": {},
     "output_type": "execute_result"
    }
   ],
   "source": [
    "(lambda a: a[3:] + a[:3]) (sorted([-1, 2, -3, 5, 7, 8, 9, -10]))"
   ]
  },
  {
   "cell_type": "code",
   "execution_count": 112,
   "id": "164232c9",
   "metadata": {},
   "outputs": [
    {
     "data": {
      "text/plain": [
       "[2, 5, 7, 8, 9, -10, -3, -1]"
      ]
     },
     "execution_count": 112,
     "metadata": {},
     "output_type": "execute_result"
    }
   ],
   "source": [
    "\n",
    "# negative = list(filter(lambda a: a < 0, sorted([-1, 2, -3, 5, 7, 8, 9, -10])))\n",
    " \n",
    "# positive = list(filter(lambda a: a > 0, sorted([-1, 2, -3, 5, 7, 8, 9, -10])))\n",
    " \n",
    "\n",
    "(lambda a, b: b + a )(list(filter(lambda a: a < 0, sorted([-1, 2, -3, 5, 7, 8, 9, -10]))),list(filter(lambda a: a > 0, sorted([-1, 2, -3, 5, 7, 8, 9, -10]))) )\n",
    "\n",
    "# positive + negative\n",
    " "
   ]
  },
  {
   "cell_type": "code",
   "execution_count": null,
   "id": "7db900a8",
   "metadata": {},
   "outputs": [],
   "source": [
    " negative = list(filter(lambda a: a if a > 0 else b)\n",
    "                 \n",
    "                 \n",
    "                 "
   ]
  },
  {
   "cell_type": "markdown",
   "id": "fbff90f9",
   "metadata": {},
   "source": [
    "**13. Write a Python program to count the even and odd numbers in a given array of integers using Lambda.**[alternative solution](https://www.w3resource.com/python-exercises/lambda/python-lambda-exercise-13.php)\n",
    "\n",
    "Original arrays:\n",
    "\n",
    "`[1, 2, 3, 5, 7, 8, 9, 10]`\n",
    "\n",
    "Number of even numbers in the above array: 3\n",
    "\n",
    "Number of odd numbers in the above array: 5"
   ]
  },
  {
   "cell_type": "code",
   "execution_count": null,
   "id": "b3e6d8fc",
   "metadata": {},
   "outputs": [],
   "source": []
  },
  {
   "cell_type": "markdown",
   "id": "bc105690",
   "metadata": {},
   "source": [
    "**14. Write a Python program to filter a given list to determine if the values in the list have a length of 6 using Lambda.** [alternative solution](https://www.w3resource.com/python-exercises/lambda/python-lambda-exercise-14.php)\n",
    "\n",
    "Sample Output:\n",
    "```\n",
    "Monday\n",
    "Friday\n",
    "Sunday\n",
    "```"
   ]
  },
  {
   "cell_type": "code",
   "execution_count": null,
   "id": "1d6f3e96",
   "metadata": {},
   "outputs": [],
   "source": []
  },
  {
   "cell_type": "markdown",
   "id": "5b91e71e",
   "metadata": {},
   "source": [
    "**15. Write a Python program to add two given lists using map and lambda.** [alternative solution](https://www.w3resource.com/python-exercises/lambda/python-lambda-exercise-15.php)\n",
    "\n",
    "Original list:\n",
    "\n",
    "`[1, 2, 3]`\n",
    "\n",
    "`[4, 5, 6]`\n",
    "\n",
    "Result: after adding two list\n",
    "\n",
    "`[5, 7, 9]`"
   ]
  },
  {
   "cell_type": "code",
   "execution_count": null,
   "id": "0d7f7ce7",
   "metadata": {},
   "outputs": [],
   "source": []
  },
  {
   "cell_type": "markdown",
   "id": "321ca29f",
   "metadata": {},
   "source": [
    "**16. Write a Python program to find the second lowest total marks of any student(s) from the given names and marks of each student using lists and lambda. Input the number of students, the names and grades of each student.** [alternative solution](https://www.w3resource.com/python-exercises/lambda/python-lambda-exercise-16.php)\n",
    "\n",
    "```\n",
    "Input number of students: 5\n",
    "Name: S ROY\n",
    "Grade: 1\n",
    "Name: B BOSE\n",
    "Grade: 3\n",
    "Name: N KAR\n",
    "Grade: 2\n",
    "Name: C DUTTA\n",
    "Grade: 1\n",
    "Name: G GHOSH\n",
    "Grade: 1\n",
    "Names and Grades of all students:\n",
    "[['S ROY', 1.0], ['B BOSE', 3.0], ['N KAR', 2.0], ['C DUTTA', 1.0], ['G GHOSH', 1.0]]\n",
    "Second lowest grade: 2.0\n",
    "Names:\n",
    "N KAR\n",
    "```"
   ]
  },
  {
   "cell_type": "code",
   "execution_count": null,
   "id": "8d4b7b95",
   "metadata": {},
   "outputs": [],
   "source": []
  },
  {
   "cell_type": "markdown",
   "id": "f26f30da",
   "metadata": {},
   "source": [
    "**17. Write a Python program to find numbers divisible by nineteen or thirteen from a list of numbers using Lambda.** [alternative solution](https://www.w3resource.com/python-exercises/lambda/python-lambda-exercise-17.php)\n",
    "\n",
    "Orginal list:\n",
    "\n",
    "`[19, 65, 57, 39, 152, 639, 121, 44, 90, 190]`\n",
    "\n",
    "Numbers of the above list divisible by nineteen or thirteen:\n",
    "\n",
    "`[19, 65, 57, 39, 152, 190]`"
   ]
  },
  {
   "cell_type": "code",
   "execution_count": null,
   "id": "e0d0ac19",
   "metadata": {},
   "outputs": [],
   "source": []
  },
  {
   "cell_type": "markdown",
   "id": "9555e2dd",
   "metadata": {},
   "source": [
    "**18. Write a Python program to find palindromes in a given list of strings using Lambda.** [alternative solution](https://www.w3resource.com/python-exercises/lambda/python-lambda-exercise-18.php)\n",
    "\n",
    "Orginal list of strings:\n",
    "\n",
    "`['php', 'w3r', 'Python', 'abcd', 'Java', 'aaa']`\n",
    "\n",
    "List of palindromes:\n",
    "\n",
    "`['php', 'aaa']`"
   ]
  },
  {
   "cell_type": "code",
   "execution_count": null,
   "id": "636c271e",
   "metadata": {},
   "outputs": [],
   "source": []
  },
  {
   "cell_type": "markdown",
   "id": "e1ca2359",
   "metadata": {},
   "source": [
    "**19. Write a Python program to find all anagrams of a string in a given list of strings using Lambda.** [alternative solution](https://www.w3resource.com/python-exercises/lambda/python-lambda-exercise-19.php)\n",
    "\n",
    "Orginal list of strings:\n",
    "\n",
    "`['bcda', 'abce', 'cbda', 'cbea', 'adcb']`\n",
    "\n",
    "Anagrams of 'abcd' in the above string:\n",
    "\n",
    "`['bcda', 'cbda', 'adcb']`"
   ]
  },
  {
   "cell_type": "code",
   "execution_count": null,
   "id": "bbfd9055",
   "metadata": {},
   "outputs": [],
   "source": []
  },
  {
   "cell_type": "markdown",
   "id": "a9c510b2",
   "metadata": {},
   "source": [
    "**20. Write a Python program to find the numbers in a given string and store them in a list. Afterward, display the numbers that are longer than the length of the list in sorted form. Use the lambda function to solve the problem.** [alternative solution](https://www.w3resource.com/python-exercises/lambda/python-lambda-exercise-20.php)\n",
    "\n",
    "Original string: `sdf 23 safs8 5 sdfsd8 sdfs 56 21sfs 20 5`\n",
    "\n",
    "Numbers in sorted form: `20 23 56`"
   ]
  },
  {
   "cell_type": "code",
   "execution_count": null,
   "id": "e8226847",
   "metadata": {},
   "outputs": [],
   "source": []
  },
  {
   "cell_type": "markdown",
   "id": "ceb1455a",
   "metadata": {},
   "source": [
    "**21. Write a Python program that multiplies each number in a list with a given number using lambda functions. Print the results.** [alternative solution](https://www.w3resource.com/python-exercises/lambda/python-lambda-exercise-21.php)\n",
    "\n",
    "```\n",
    "Original list: [2, 4, 6, 9, 11]\n",
    "Given number: 2\n",
    "Result:\n",
    "4 8 12 18 22\n",
    "```"
   ]
  },
  {
   "cell_type": "code",
   "execution_count": null,
   "id": "7b0a77d2",
   "metadata": {},
   "outputs": [],
   "source": []
  },
  {
   "cell_type": "markdown",
   "id": "6ee24cef",
   "metadata": {},
   "source": [
    "**22. Write a Python program that sums the length of a list of names after removing those that start with lowercase letters. Use the lambda function.** [alternative solution](https://www.w3resource.com/python-exercises/lambda/python-lambda-exercise-22.php)\n",
    "\n",
    "```\n",
    "Result:\n",
    "16\n",
    "```"
   ]
  },
  {
   "cell_type": "code",
   "execution_count": null,
   "id": "9e32d1b3",
   "metadata": {},
   "outputs": [],
   "source": []
  },
  {
   "cell_type": "markdown",
   "id": "bc30ecaa",
   "metadata": {},
   "source": [
    "**23. Write a Python program to calculate the sum of the positive and negative numbers of a given list of numbers using the lambda function.** [alternative solution](https://www.w3resource.com/python-exercises/lambda/python-lambda-exercise-23.php)\n",
    "\n",
    "```\n",
    "Original list: [2, 4, -6, -9, 11, -12, 14, -5, 17]\n",
    "Sum of the positive numbers: -32\n",
    "Sum of the negative numbers: 48\n",
    "```"
   ]
  },
  {
   "cell_type": "code",
   "execution_count": null,
   "id": "2bd83f16",
   "metadata": {},
   "outputs": [],
   "source": []
  },
  {
   "cell_type": "markdown",
   "id": "fdd9643f",
   "metadata": {},
   "source": [
    "**24. Write a Python program to find numbers within a given range where every number is divisible by every digit it contains.** [alternative solution](https://www.w3resource.com/python-exercises/lambda/python-lambda-exercise-24.php)\n",
    "\n",
    "Sample Output:\n",
    "\n",
    "`[1, 2, 3, 4, 5, 6, 7, 8, 9, 11, 12, 15, 22]`"
   ]
  },
  {
   "cell_type": "code",
   "execution_count": null,
   "id": "206e3c87",
   "metadata": {},
   "outputs": [],
   "source": []
  },
  {
   "cell_type": "markdown",
   "id": "79a4f998",
   "metadata": {},
   "source": [
    "**25. Write a Python program to create the next bigger number by rearranging the digits of a given number.**[alternative solution](https://www.w3resource.com/python-exercises/lambda/python-lambda-exercise-25.php)\n",
    "```\n",
    "Original number: 12\n",
    "Next bigger number: 21\n",
    "Original number: 10\n",
    "Next bigger number: False\n",
    "Original number: 201\n",
    "Next bigger number: 210\n",
    "Original number: 102\n",
    "Next bigger number: 120\n",
    "Original number: 445\n",
    "Next bigger number: 454\n",
    "\n",
    "```"
   ]
  },
  {
   "cell_type": "code",
   "execution_count": null,
   "id": "cf46c8ae",
   "metadata": {},
   "outputs": [],
   "source": []
  },
  {
   "cell_type": "markdown",
   "id": "1db1a6f5",
   "metadata": {},
   "source": [
    "**26. Write a Python program to find a list with maximum and minimum length using lambda.** [alternative solution](https://www.w3resource.com/python-exercises/lambda/python-lambda-exercise-26.php)\n",
    "```\n",
    "Original list:\n",
    "[[0], [1, 3], [5, 7], [9, 11], [13, 15, 17]]\n",
    "List with maximum length of lists:\n",
    "(3, [13, 15, 17])\n",
    "List with minimum length of lists:\n",
    "(1, [0])\n",
    "```"
   ]
  },
  {
   "cell_type": "code",
   "execution_count": null,
   "id": "2e17cce3",
   "metadata": {},
   "outputs": [],
   "source": []
  },
  {
   "cell_type": "markdown",
   "id": "70ddaef4",
   "metadata": {},
   "source": [
    "**27. Write a Python program to sort each sublist of strings in a given list of lists using lambda.** [alternative solution](https://www.w3resource.com/python-exercises/lambda/python-lambda-exercise-27.php)\n",
    "```\n",
    "Original list:\n",
    "[['green', 'orange'], ['black', 'white'], ['white', 'black', 'orange']]\n",
    "After sorting each sublist of the said list of lists:\n",
    "[['green', 'orange'], ['black', 'white'], ['black', 'orange', 'white']]\n",
    "```"
   ]
  },
  {
   "cell_type": "code",
   "execution_count": null,
   "id": "5877355a",
   "metadata": {},
   "outputs": [],
   "source": []
  },
  {
   "cell_type": "markdown",
   "id": "516da3df",
   "metadata": {},
   "source": [
    "**28. Write a Python program to sort a given list of lists by length and value using lambda.** [alternative solution](https://www.w3resource.com/python-exercises/lambda/python-lambda-exercise-28.php)\n",
    "\n",
    "Original list:\n",
    "\n",
    "`[[2], [0], [1, 3], [0, 7], [9, 11], [13, 15, 17]]`\n",
    "\n",
    "Sort the list of lists by length and value:\n",
    "\n",
    "`[[0], [2], [0, 7], [1, 3], [9, 11], [13, 15, 17]]`"
   ]
  },
  {
   "cell_type": "code",
   "execution_count": null,
   "id": "879f69a1",
   "metadata": {},
   "outputs": [],
   "source": []
  },
  {
   "cell_type": "markdown",
   "id": "e063a47e",
   "metadata": {},
   "source": [
    "**29. Write a Python program to find the maximum value in a given heterogeneous list using lambda.**[alternative solution](https://www.w3resource.com/python-exercises/lambda/python-lambda-exercise-29.php)\n",
    "\n",
    "Original list:\n",
    "\n",
    "`['Python', 3, 2, 4, 5, 'version']`\n",
    "\n",
    "Maximum values in the said list using lambda:\n",
    "\n",
    "`5`"
   ]
  },
  {
   "cell_type": "code",
   "execution_count": null,
   "id": "c98eef74",
   "metadata": {},
   "outputs": [],
   "source": []
  },
  {
   "cell_type": "markdown",
   "id": "7c9829bb",
   "metadata": {},
   "source": [
    "**30. Write a Python program to sort a given matrix in ascending order according to the sum of its rows using lambda.** [alternative solution](https://www.w3resource.com/python-exercises/lambda/python-lambda-exercise-30.php)\n",
    "\n",
    "Original Matrix:\n",
    "\n",
    "`[[1, 2, 3], [2, 4, 5], [1, 1, 1]]`\n",
    "\n",
    "Sort the said matrix in ascending order according to the sum of its rows\n",
    "\n",
    "`[[1, 1, 1], [1, 2, 3], [2, 4, 5]]`\n",
    "\n",
    "Original Matrix:\n",
    "\n",
    "`[[1, 2, 3], [-2, 4, -5], [1, -1, 1]]`\n",
    "\n",
    "Sort the said matrix in ascending order according to the sum of its rows\n",
    "\n",
    "`[[-2, 4, -5], [1, -1, 1], [1, 2, 3]]`"
   ]
  },
  {
   "cell_type": "code",
   "execution_count": null,
   "id": "e1be4415",
   "metadata": {},
   "outputs": [],
   "source": []
  },
  {
   "cell_type": "markdown",
   "id": "3ce85da8",
   "metadata": {},
   "source": [
    "**31. Write a Python program to extract a specified size of strings from a given list of string values using lambda.**[alternative solution](https://www.w3resource.com/python-exercises/lambda/python-lambda-exercise-31.php)\n",
    "\n",
    "Original list:\n",
    "\n",
    "`['Python', 'list', 'exercises', 'practice', 'solution']`\n",
    "\n",
    "length of the string to extract:\n",
    "\n",
    "`8`\n",
    "\n",
    "After extracting strings of specified length from the said list:\n",
    "\n",
    "`['practice', 'solution']`"
   ]
  },
  {
   "cell_type": "code",
   "execution_count": null,
   "id": "15bd50fe",
   "metadata": {},
   "outputs": [],
   "source": []
  },
  {
   "cell_type": "markdown",
   "id": "f61567d3",
   "metadata": {},
   "source": [
    "**32. Write a Python program to count float values in a mixed list using lambda.** [alternative solution](https://www.w3resource.com/python-exercises/lambda/python-lambda-exercise-32.php)\n",
    "\n",
    "Original list:\n",
    "\n",
    "`[1, 'abcd', 3.12, 1.2, 4, 'xyz', 5, 'pqr', 7, -5, -12.22]`\n",
    "\n",
    "Number of floats in the said mixed list:\n",
    "\n",
    "`3`"
   ]
  },
  {
   "cell_type": "code",
   "execution_count": null,
   "id": "c016a6b0",
   "metadata": {},
   "outputs": [],
   "source": []
  },
  {
   "cell_type": "markdown",
   "id": "55ba59c7",
   "metadata": {},
   "source": [
    "**33. Write a Python program to check whether a given string contains a capital letter, a lower case letter, a number and a minimum length using lambda.** [alternative solution](https://www.w3resource.com/python-exercises/lambda/python-lambda-exercise-33.php)\n",
    "\n",
    "Input the string: `W3resource`\n",
    "\n",
    "`['Valid string.']`"
   ]
  },
  {
   "cell_type": "code",
   "execution_count": null,
   "id": "502df0f4",
   "metadata": {},
   "outputs": [],
   "source": []
  },
  {
   "cell_type": "markdown",
   "id": "1da35100",
   "metadata": {},
   "source": [
    "**34. Write a Python program to filter the height and width of students, which are stored in a dictionary using lambda.** [alternative solution](https://www.w3resource.com/python-exercises/lambda/python-lambda-exercise-34.php)\n",
    "\n",
    "```python\n",
    "Original Dictionary:\n",
    "{'Cierra Vega': (6.2, 70), 'Alden Cantrell': (5.9, 65), 'Kierra Gentry': (6.0, 68), 'Pierre Cox': (5.8, 66)}\n",
    "Height> 6ft and Weight> 70kg:\n",
    "{'Cierra Vega': (6.2, 70)}\n",
    "```"
   ]
  },
  {
   "cell_type": "code",
   "execution_count": null,
   "id": "0742cff1",
   "metadata": {},
   "outputs": [],
   "source": []
  },
  {
   "cell_type": "markdown",
   "id": "99053935",
   "metadata": {},
   "source": [
    "**35. Write a Python program to check whether a specified list is sorted or not using lambda.** [alternative solution](https://www.w3resource.com/python-exercises/lambda/python-lambda-exercise-35.php)\n",
    "\n",
    "Original list:\n",
    "\n",
    "`[1, 2, 4, 6, 8, 10, 12, 14, 16, 17]`\n",
    "\n",
    "Is the said list is sorted!\n",
    "\n",
    "`True`\n",
    "\n",
    "Original list:\n",
    "\n",
    "`[1, 2, 4, 6, 8, 10, 12, 14, 16, 17]`\n",
    "\n",
    "Is the said list is sorted!\n",
    "\n",
    "`False`"
   ]
  },
  {
   "cell_type": "code",
   "execution_count": null,
   "id": "9679ee7c",
   "metadata": {},
   "outputs": [],
   "source": []
  },
  {
   "cell_type": "markdown",
   "id": "ada05a8a",
   "metadata": {},
   "source": [
    "**36. Write a Python program to extract the nth element from a given list of tuples using lambda.** [alternative solution](https://www.w3resource.com/python-exercises/lambda/python-lambda-exercise-36.php)\n",
    "\n",
    "Original list:\n",
    "```python\n",
    "[('Greyson Fulton', 98, 99), ('Brady Kent', 97, 96), ('Wyatt Knott', 91, 94), ('Beau Turnbull', 94, 98)]\n",
    "```\n",
    "Extract nth element ( n = 0 ) from the said list of tuples:\n",
    "```python\n",
    "['Greyson Fulton', 'Brady Kent', 'Wyatt Knott', 'Beau Turnbull']\n",
    "```\n",
    "Extract nth element ( n = 2 ) from the said list of tuples:\n",
    "```python\n",
    "[99, 96, 94, 98]\n",
    "```"
   ]
  },
  {
   "cell_type": "code",
   "execution_count": null,
   "id": "c9cd1e8e",
   "metadata": {},
   "outputs": [],
   "source": []
  },
  {
   "cell_type": "markdown",
   "id": "ceec2599",
   "metadata": {},
   "source": [
    "**37. Write a Python program to sort a list of lists by a given index of the inner list using lambda.**[alternative solution](https://www.w3resource.com/python-exercises/lambda/python-lambda-exercise-37.php)\n",
    "\n",
    "Original list:\n",
    "\n",
    "```python\n",
    "[('Greyson Fulton', 98, 99), ('Brady Kent', 97, 96), ('Wyatt Knott', 91, 94), ('Beau Turnbull', 94, 98)]\n",
    "```\n",
    "Sort the said list of lists by a given index ( Index = 0 ) of the inner list\n",
    "```python\n",
    "[('Beau Turnbull', 94, 98), ('Brady Kent', 97, 96), ('Greyson Fulton', 98, 99), ('Wyatt Knott', 91, 94)]\n",
    "```\n",
    "Sort the said list of lists by a given index ( Index = 2 ) of the inner list\n",
    "```python\n",
    "[('Wyatt Knott', 91, 94), ('Brady Kent', 97, 96), ('Beau Turnbull', 94, 98), ('Greyson Fulton', 98, 99)]\n",
    "```"
   ]
  },
  {
   "cell_type": "code",
   "execution_count": null,
   "id": "b0b557b6",
   "metadata": {},
   "outputs": [],
   "source": []
  },
  {
   "cell_type": "markdown",
   "id": "1070bcd5",
   "metadata": {},
   "source": [
    "**38. Write a Python program to remove all elements from a given list present in another list using lambda.** [alternative solution](https://www.w3resource.com/python-exercises/lambda/python-lambda-exercise-38.php)\n",
    "\n",
    "Original lists:\n",
    "\n",
    "`list1: [1, 2, 3, 4, 5, 6, 7, 8, 9, 10]`\n",
    "\n",
    "`list2: [2, 4, 6, 8]`\n",
    "\n",
    "Remove all elements from 'list1' present in 'list2:\n",
    "\n",
    "`[1, 3, 5, 7, 9, 10]`"
   ]
  },
  {
   "cell_type": "code",
   "execution_count": null,
   "id": "597cb85d",
   "metadata": {},
   "outputs": [],
   "source": []
  },
  {
   "cell_type": "markdown",
   "id": "c7edfb3b",
   "metadata": {},
   "source": [
    "**39. Write a Python program to find the elements of a given list of strings that contain a specific substring using lambda.** [alternative solution](https://www.w3resource.com/python-exercises/lambda/python-lambda-exercise-39.php)\n",
    "\n",
    "Original list: `['red', 'black', 'white', 'green', 'orange']`\n",
    "\n",
    "Substring to search: `ack`\n",
    "\n",
    "Elements of the said list that contain specific substring: `['black']`\n",
    " \n",
    "Substring to search: `abc`\n",
    "\n",
    "Elements of the said list that contain specific substring: `[]`"
   ]
  },
  {
   "cell_type": "code",
   "execution_count": null,
   "id": "2e67c247",
   "metadata": {},
   "outputs": [],
   "source": []
  },
  {
   "cell_type": "markdown",
   "id": "8bd90c74",
   "metadata": {},
   "source": [
    "**40. Write a Python program to find the nested list elements, which are present in another list using lambda.** [alternative solution](https://www.w3resource.com/python-exercises/lambda/python-lambda-exercise-40.php)\n",
    "\n",
    "Original lists: `[1, 2, 3, 4, 5, 6, 7, 8, 9, 10, 11, 12, 13, 14]`\n",
    "\n",
    "`[[12, 18, 23, 25, 45], [7, 11, 19, 24, 28], [1, 5, 8, 18, 15, 16]]`\n",
    "\n",
    "Intersection of said nested lists: `[[12], [7, 11], [1, 5, 8]]`"
   ]
  },
  {
   "cell_type": "code",
   "execution_count": null,
   "id": "dfe2576e",
   "metadata": {},
   "outputs": [],
   "source": []
  },
  {
   "cell_type": "markdown",
   "id": "e373b90d",
   "metadata": {},
   "source": [
    "**41. Write a Python program to reverse strings in a given list of string values using lambda.** [alternative solution](https://www.w3resource.com/python-exercises/lambda/python-lambda-exercise-41.php)\n",
    "\n",
    "Original lists: `['Red', 'Green', 'Blue', 'White', 'Black']`\n",
    "\n",
    "Reverse strings of the said given list:`['deR', 'neerG', 'eulB', 'etihW', 'kcalB']`"
   ]
  },
  {
   "cell_type": "code",
   "execution_count": null,
   "id": "e161d2b8",
   "metadata": {},
   "outputs": [],
   "source": []
  },
  {
   "cell_type": "markdown",
   "id": "d485059f",
   "metadata": {},
   "source": [
    "**42. Write a Python program to calculate the product of a given list of numbers using lambda.** [alternative solution](https://www.w3resource.com/python-exercises/lambda/python-lambda-exercise-42.php)\n",
    "\n",
    "list1: `[1, 2, 3, 4, 5, 6, 7, 8, 9, 10]`\n",
    "\n",
    "Product of the said list numbers: `3628800`\n",
    "\n",
    "list2: `[2.2, 4.12, 6.6, 8.1, 8.3]`\n",
    "\n",
    "Product of the said list numbers: `4021.8599520000007`"
   ]
  },
  {
   "cell_type": "code",
   "execution_count": null,
   "id": "1ef7a7d9",
   "metadata": {},
   "outputs": [],
   "source": []
  },
  {
   "cell_type": "markdown",
   "id": "e413e6d8",
   "metadata": {},
   "source": [
    "**43. Write a Python program to multiply all the numbers in a given list using lambda.** [alternative solution](https://www.w3resource.com/python-exercises/lambda/python-lambda-exercise-43.php)\n",
    "\n",
    "Original list:`[4, 3, 2, 2, -1, 18]`\n",
    "\n",
    "Mmultiply all the numbers of the said list: `-864`\n",
    "\n",
    "Original list: `[2, 4, 8, 8, 3, 2, 9]`\n",
    "\n",
    "Multiply all the numbers of the said list: `27648`"
   ]
  },
  {
   "cell_type": "code",
   "execution_count": null,
   "id": "b6713b10",
   "metadata": {},
   "outputs": [],
   "source": []
  },
  {
   "cell_type": "markdown",
   "id": "b22bad8d",
   "metadata": {},
   "source": [
    "**44. Write a Python program to calculate the average value of the numbers in a given tuple of tuples using lambda.** [alternative solution](https://www.w3resource.com/python-exercises/lambda/python-lambda-exercise-44.php)\n",
    "\n",
    "Original Tuple: `((10, 10, 10), (30, 45, 56), (81, 80, 39), (1, 2, 3))`\n",
    "\n",
    "Average value of the numbers of the said tuple of tuples:`(30.5, 34.25, 27.0)`\n",
    "\n",
    "Original Tuple: `((1, 1, -5), (30, -15, 56), (81, -60, -39), (-10, 2, 3))`\n",
    "\n",
    "Average value of the numbers of the said tuple of tuples:`(25.5, -18.0, 3.75)`"
   ]
  },
  {
   "cell_type": "code",
   "execution_count": null,
   "id": "05166dda",
   "metadata": {},
   "outputs": [],
   "source": []
  },
  {
   "cell_type": "markdown",
   "id": "4a74ae25",
   "metadata": {},
   "source": [
    "**45. Write a Python program to convert string elements to integers inside a given tuple using lambda.**[alternative solution](https://www.w3resource.com/python-exercises/lambda/python-lambda-exercise-45.php)\n",
    "\n",
    "Original tuple values:`(('233', 'ABCD', '33'), ('1416', 'EFGH', '55'), ('2345', 'WERT', '34'))`\n",
    "\n",
    "New tuple values: `((233, 33), (1416, 55), (2345, 34))`"
   ]
  },
  {
   "cell_type": "code",
   "execution_count": null,
   "id": "5596e765",
   "metadata": {},
   "outputs": [],
   "source": []
  },
  {
   "cell_type": "markdown",
   "id": "70edf710",
   "metadata": {},
   "source": [
    "**46. Write a Python program to find the index position and value of the maximum and minimum values in a given list of numbers using lambda.** [alternative solution](https://www.w3resource.com/python-exercises/lambda/python-lambda-exercise-46.php)\n",
    "\n",
    "Original list: `[12, 33, 23, 10.11, 67, 89, 45, 66.7, 23, 12, 11, 10.25, 54]`\n",
    "\n",
    "Index position and value of the maximum value of the said list: `(5, 89)`\n",
    "\n",
    "Index position and value of the minimum value of the said list: `(3, 10.11)`"
   ]
  },
  {
   "cell_type": "code",
   "execution_count": null,
   "id": "149ff80b",
   "metadata": {},
   "outputs": [],
   "source": []
  },
  {
   "cell_type": "markdown",
   "id": "f341191e",
   "metadata": {},
   "source": [
    "**47. Write a Python program to sort a given mixed list of integers and strings using lambda. Numbers must be sorted before strings.** [alternative solution](https://www.w3resource.com/python-exercises/lambda/python-lambda-exercise-47.php)\n",
    "\n",
    "Original list: \n",
    "\n",
    "`[19, 'red', 12, 'green', 'blue', 10, 'white', 'green', 1]`\n",
    "\n",
    "Sort the said mixed list of integers and strings: \n",
    "\n",
    "`[1, 10, 12, 19, 'blue', 'green', 'green', 'red', 'white']`"
   ]
  },
  {
   "cell_type": "code",
   "execution_count": null,
   "id": "326b3d88",
   "metadata": {},
   "outputs": [],
   "source": []
  },
  {
   "cell_type": "markdown",
   "id": "a1b4f294",
   "metadata": {},
   "source": [
    "**48. Write a Python program to sort a given list of strings (numbers) numerically using lambda.** [alternative solution](https://www.w3resource.com/python-exercises/lambda/python-lambda-exercise-48.php)\n",
    "\n",
    "Original list: \n",
    "\n",
    "`['4', '12', '45', '7', '0', '100', '200', '-12', '-500']`\n",
    "\n",
    "Sort the said list of strings(numbers) numerically: \n",
    "\n",
    "`['-500', '-12', '0', '4', '7', '12', '45', '100', '200']`"
   ]
  },
  {
   "cell_type": "code",
   "execution_count": null,
   "id": "9306cd62",
   "metadata": {},
   "outputs": [],
   "source": []
  },
  {
   "cell_type": "markdown",
   "id": "98656186",
   "metadata": {},
   "source": [
    "**49. Write a Python program to count the occurrences of items in a given list using lambda.** [alternative solution](https://www.w3resource.com/python-exercises/lambda/python-lambda-exercise-49.php)\n",
    "\n",
    "Original list: \n",
    "\n",
    "`[3, 4, 5, 8, 0, 3, 8, 5, 0, 3, 1, 5, 2, 3, 4, 2]`\n",
    "\n",
    "Count the occurrences of the items in the said list: \n",
    "\n",
    "`{3: 4, 4: 2, 5: 3, 8: 2, 0: 2, 1: 1, 2: 2}`"
   ]
  },
  {
   "cell_type": "code",
   "execution_count": null,
   "id": "bebca97b",
   "metadata": {},
   "outputs": [],
   "source": []
  },
  {
   "cell_type": "markdown",
   "id": "5c1191e6",
   "metadata": {},
   "source": [
    "**50. Write a Python program to remove specific words from a given list using lambda.** [alternative solution](https://www.w3resource.com/python-exercises/lambda/python-lambda-exercise-50.php)\n",
    "\n",
    "Original list:\n",
    "\n",
    "`['orange', 'red', 'green', 'blue', 'white', 'black']`\n",
    "\n",
    "Remove words:\n",
    "\n",
    "`['orange', 'black']`\n",
    "\n",
    "After removing the specified words from the said list:\n",
    "\n",
    "`['red', 'green', 'blue', 'white']`"
   ]
  },
  {
   "cell_type": "code",
   "execution_count": null,
   "id": "eaf84ff4",
   "metadata": {},
   "outputs": [],
   "source": []
  },
  {
   "cell_type": "markdown",
   "id": "95b3f6a6",
   "metadata": {},
   "source": [
    "**51. Write a Python program to find the maximum and minimum values in a given list of tuples using the lambda function.** [alternative solution](https://www.w3resource.com/python-exercises/lambda/python-lambda-exercise-51.php)\n",
    "\n",
    "Original list with tuples:\n",
    "\n",
    "`[('V', 62), ('VI', 68), ('VII', 72), ('VIII', 70), ('IX', 74), ('X', 65)]`\n",
    "\n",
    "Maximum and minimum values of the said list of tuples:\n",
    "\n",
    "`(74, 62)`"
   ]
  },
  {
   "cell_type": "code",
   "execution_count": null,
   "id": "c6fe493b",
   "metadata": {},
   "outputs": [],
   "source": []
  },
  {
   "cell_type": "markdown",
   "id": "58f51c40",
   "metadata": {},
   "source": [
    "**52. Write a Python program to remove None values from a given list using the lambda function.** [alternative solution](https://www.w3resource.com/python-exercises/lambda/python-lambda-exercise-52.php)\n",
    "\n",
    "Original list:\n",
    "\n",
    "`[12, 0, None, 23, None, -55, 234, 89, None, 0, 6, -12]`\n",
    "\n",
    "Remove None value from the said list:\n",
    "\n",
    "`[12, 0, 23, -55, 234, 89, 0, 6, -12]`"
   ]
  },
  {
   "cell_type": "code",
   "execution_count": null,
   "id": "c2af08bb",
   "metadata": {},
   "outputs": [],
   "source": []
  }
 ],
 "metadata": {
  "kernelspec": {
   "display_name": "Python 3 (ipykernel)",
   "language": "python",
   "name": "python3"
  },
  "language_info": {
   "codemirror_mode": {
    "name": "ipython",
    "version": 3
   },
   "file_extension": ".py",
   "mimetype": "text/x-python",
   "name": "python",
   "nbconvert_exporter": "python",
   "pygments_lexer": "ipython3",
   "version": "3.11.3"
  }
 },
 "nbformat": 4,
 "nbformat_minor": 5
}
