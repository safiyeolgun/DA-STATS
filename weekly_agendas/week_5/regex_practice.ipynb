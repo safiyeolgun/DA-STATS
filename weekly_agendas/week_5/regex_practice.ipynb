{
 "cells": [
  {
   "cell_type": "markdown",
   "id": "e66c042d-bdd9-423a-b776-5ae0fd0c11c4",
   "metadata": {},
   "source": [
    "# Regex Practice"
   ]
  },
  {
   "cell_type": "markdown",
   "id": "0d921bd0-fce1-4857-a8e9-f8d3d1289919",
   "metadata": {},
   "source": [
    "Regular Expression module [re](https://docs.python.org/3/library/re.html)"
   ]
  },
  {
   "cell_type": "markdown",
   "id": "edcdbd61-53fa-4886-ba43-8e9865b58c71",
   "metadata": {},
   "source": [
    "## Practice Problems - Advanced Regular Expressions\n",
    "\n",
    "This exercises are come from [py43-int web site](https://runestone.academy/ns/books/published/py4e-int/regex/hp-practice-adv.html)"
   ]
  },
  {
   "cell_type": "markdown",
   "id": "2b54dd61-9bcd-4e75-a586-7860a91ff739",
   "metadata": {},
   "source": [
    "1. Create a regex that finds dates in the format MM/DD/YY or MM/DD/YYYY and returns just the year part."
   ]
  },
  {
   "cell_type": "code",
   "execution_count": 1,
   "id": "80a85390-5bac-4b61-912f-34b10d223c41",
   "metadata": {},
   "outputs": [
    {
     "name": "stdout",
     "output_type": "stream",
     "text": [
      "03/25/23 is matched pattern.\n",
      "03/25/20 is matched pattern.\n",
      "\t 03\\25\\2023 is NOT matched pattern!\n",
      "\t 3/25/2023 is NOT matched pattern!\n",
      "\t 3.25.2023 is NOT matched pattern!\n",
      "\t 3 25 2023 is NOT matched pattern!\n",
      "\t March 25 2023 is NOT matched pattern!\n",
      "\t March 2023 is NOT matched pattern!\n",
      "\t 2023 is NOT matched pattern!\n"
     ]
    }
   ],
   "source": [
    "import re\n",
    "pattern = r'\\d{2}/\\d{2}/(\\d{2}|\\d{4})'\n",
    "years = ['03/25/23', '03/25/2023', '03\\\\25\\\\2023', '3/25/2023','3.25.2023', '3 25 2023', 'March 25 2023', 'March 2023', '2023']\n",
    "\n",
    "for i in years:\n",
    "    expression = re.match(pattern, i)\n",
    "    if expression:\n",
    "        print(expression.group(), 'is matched pattern.')\n",
    "    else:\n",
    "        print('\\t',i, 'is NOT matched pattern!')"
   ]
  },
  {
   "cell_type": "code",
   "execution_count": 2,
   "id": "360d6e12-9391-454c-b7ba-4f105e9e12d9",
   "metadata": {},
   "outputs": [
    {
     "name": "stdout",
     "output_type": "stream",
     "text": [
      "03/25/23 is matched pattern.\n",
      "03/25/2023 is matched pattern.\n",
      "\t 03\\25\\2023 is NOT matched pattern!\n",
      "\t 3/25/2023 is NOT matched pattern!\n",
      "\t 3.25.2023 is NOT matched pattern!\n",
      "\t 3 25 2023 is NOT matched pattern!\n",
      "\t March 25 2023 is NOT matched pattern!\n",
      "\t March 2023 is NOT matched pattern!\n",
      "\t 2023 is NOT matched pattern!\n"
     ]
    }
   ],
   "source": [
    "# adding year full part, when writing group in pattern, first big and small number, cos expression.group() just show  two digit of yera\n",
    "import re\n",
    "pattern = r'\\d{2}/\\d{2}/(\\d{4}|\\d{2})'\n",
    "years = ['03/25/23', '03/25/2023', '03\\\\25\\\\2023', '3/25/2023','3.25.2023', '3 25 2023', 'March 25 2023', 'March 2023', '2023']\n",
    "\n",
    "for i in years:\n",
    "    expression = re.match(pattern, i)\n",
    "    if expression:\n",
    "        print(expression.group(), 'is matched pattern.')\n",
    "    else:\n",
    "        print('\\t',i, 'is NOT matched pattern!')"
   ]
  },
  {
   "cell_type": "code",
   "execution_count": 3,
   "id": "1fd0dc7a-b539-40ee-b76b-008e0e2884bf",
   "metadata": {},
   "outputs": [
    {
     "name": "stdout",
     "output_type": "stream",
     "text": [
      "03/25/23 is matched pattern.\n",
      "03/25/2023 is matched pattern.\n",
      "\t 03\\25\\2023 is NOT matched pattern!\n",
      "\t 3/25/2023 is NOT matched pattern!\n",
      "\t 3.25.2023 is NOT matched pattern!\n",
      "\t 3 25 2023 is NOT matched pattern!\n",
      "\t March 25 2023 is NOT matched pattern!\n",
      "\t March 2023 is NOT matched pattern!\n",
      "\t 2023 is NOT matched pattern!\n"
     ]
    }
   ],
   "source": [
    "# using square brankets [] for date seperator\n",
    "import re\n",
    "pattern = r'\\d{2}[/]\\d{2}[/](\\d{4}|\\d{2})'\n",
    "years = ['03/25/23', '03/25/2023', '03\\\\25\\\\2023', '3/25/2023','3.25.2023', '3 25 2023', 'March 25 2023', 'March 2023', '2023']\n",
    "\n",
    "for i in years:\n",
    "    expression = re.match(pattern, i)\n",
    "    if expression:\n",
    "        print(expression.group(), 'is matched pattern.')\n",
    "    else:\n",
    "        print('\\t',i, 'is NOT matched pattern!')"
   ]
  },
  {
   "cell_type": "code",
   "execution_count": 4,
   "id": "63d29401-05f6-43a8-b9e0-5de2300f00c1",
   "metadata": {},
   "outputs": [
    {
     "name": "stdout",
     "output_type": "stream",
     "text": [
      "03/25/23 is matched pattern.\n",
      "03/25/2023 is matched pattern.\n",
      "\t 03\\25\\2023 is NOT matched pattern!\n",
      "3/25/2023 is matched pattern.\n",
      "\t 3.25.2023 is NOT matched pattern!\n",
      "\t 3 25 2023 is NOT matched pattern!\n",
      "\t March 25 2023 is NOT matched pattern!\n",
      "\t March 2023 is NOT matched pattern!\n",
      "\t 2023 is NOT matched pattern!\n"
     ]
    }
   ],
   "source": [
    "# using one or two digit number for days and months\n",
    "import re\n",
    "pattern = r'\\d{1,2}[/]\\d{1,2}[/](\\d{4}|\\d{2})'\n",
    "years = ['03/25/23', '03/25/2023', '03\\\\25\\\\2023', '3/25/2023','3.25.2023', '3 25 2023', 'March 25 2023', 'March 2023', '2023']\n",
    "\n",
    "for i in years:\n",
    "    expression = re.match(pattern, i)\n",
    "    if expression:\n",
    "        print(expression.group(), 'is matched pattern.')\n",
    "    else:\n",
    "        print('\\t',i, 'is NOT matched pattern!')"
   ]
  },
  {
   "cell_type": "code",
   "execution_count": 5,
   "id": "b34638ce-5bdb-4600-81ef-c77eb43b7e9c",
   "metadata": {},
   "outputs": [
    {
     "name": "stdout",
     "output_type": "stream",
     "text": [
      "03/25/23 is valid matched pattern.\n",
      "03/25/2023 is valid matched pattern.\n",
      "\t\t 03\\25\\2023 is NOT matched pattern!\n",
      "3/25/2023 is valid matched pattern.\n",
      "3.25.2023 is valid matched pattern.\n",
      "\t\t March 25 2023 is NOT matched pattern!\n",
      "20 March 2023 is valid matched pattern.\n",
      "20 March 23 is valid matched pattern.\n",
      "\t\t March 2023 is NOT matched pattern!\n",
      "\t\t 2023 is NOT matched pattern!\n",
      "2/28/2023 is valid matched pattern.\n"
     ]
    }
   ],
   "source": [
    "import re\n",
    "import time\n",
    "\n",
    "def date_is_valid(ex):\n",
    "    dformat = ['%m/%d/%Y', '%m/%d/%y','%m.%d.%y', '%m.%d.%Y', '%d %B %y', '%d %B %Y']\n",
    "    for format in dformat:\n",
    "        try:\n",
    "            d = time.strptime(ex,format)\n",
    "            # datetime.datetime(year=d.tm_year,month=d.tm_mon,day=d.tm_mday)\n",
    "            print(ex, 'is valid matched pattern.')\n",
    "        except:    \n",
    "            pass\n",
    "    try:\n",
    "        pass\n",
    "    except:\n",
    "        pass\n",
    "\n",
    "pattern = r'\\d{1,2}[/]\\d{1,2}[/](\\d{4}|\\d{2})|\\d{1,2}[\\s]\\w+[\\s](\\d{4}|\\d{2})|\\d{1,2}[\\.]\\d{1,2}[\\.](\\d{4}|\\d{2})'\n",
    "years = ['03/25/23', '03/25/2023', '03\\\\25\\\\2023', '3/25/2023','3.25.2023', '3 25 2023', \\\n",
    "         'March 25 2023', '20 March 2023','20 March 23', 'March 2023', '2023', '2/28/2023', '2/30/2023']\n",
    "\n",
    "for i in years:\n",
    "    expression = re.match(pattern, i)\n",
    "    if expression:\n",
    "        date_is_valid(i)\n",
    "    else:\n",
    "        print('\\t\\t',i, 'is NOT matched pattern!')"
   ]
  },
  {
   "cell_type": "markdown",
   "id": "fd3c1b4a-e082-45ba-8d17-578080e34230",
   "metadata": {},
   "source": [
    "2. Create a regex that finds phone numbers like 333-232-3403 or (333) 232 3403."
   ]
  },
  {
   "cell_type": "code",
   "execution_count": 6,
   "id": "040af449-e7d4-4af6-9518-3bd9eff8086e",
   "metadata": {},
   "outputs": [
    {
     "name": "stdout",
     "output_type": "stream",
     "text": [
      "333-232-3403 is matched pattern.\n",
      "(333) 232 3403 is matched pattern.\n"
     ]
    }
   ],
   "source": [
    "import re\n",
    "pattern = r'\\(?\\d{3}\\)?[-\\s]\\d{3}[-\\s]\\d{4}'\n",
    "text = ['333-232-3403','(333) 232 3403']\n",
    "\n",
    "for i in text:\n",
    "    expression = re.match(pattern, i)\n",
    "    if expression:\n",
    "        print(i, 'is matched pattern.')\n",
    "    else:\n",
    "        print(i, 'is NOT matched pattern!')"
   ]
  },
  {
   "cell_type": "markdown",
   "id": "58c1bdfa-12bd-4498-baf2-bee138ae65f4",
   "metadata": {},
   "source": [
    "3. Create a regex that returns only the first alphabetic word (upper and lower case) at the start of the string."
   ]
  },
  {
   "cell_type": "code",
   "execution_count": 7,
   "id": "e30aa6b8-f672-440c-afde-8de23ec06409",
   "metadata": {},
   "outputs": [
    {
     "name": "stdout",
     "output_type": "stream",
     "text": [
      "aA is matched pattern.\n",
      "A90 is matched pattern.\n",
      "_Ac is NOT matched pattern!\n",
      "9Ax is NOT matched pattern!\n"
     ]
    }
   ],
   "source": [
    "import re\n",
    "pattern = r'^[a-zA-Z]+'\n",
    "text = ['aA', 'A90', '_Ac', '9Ax']\n",
    "\n",
    "for i in text:\n",
    "    expression = re.match(pattern, i)\n",
    "    if expression:\n",
    "        print(i, 'is matched pattern.')\n",
    "    else:\n",
    "        print(i, 'is NOT matched pattern!')"
   ]
  },
  {
   "cell_type": "markdown",
   "id": "7a3d4a7d-c53f-4255-86f9-44abc029b9db",
   "metadata": {},
   "source": [
    "4. Replace ‘YOUR_REGEX’ below with a regex that matches any price in the form of \\\\$3.45  or \\\\$23.32 or \\\\$400.\n",
    "\n",
    "```python\n",
    "def find_price(content):\n",
    "    return re.findall('YOUR_REGEX', content)\n",
    "```"
   ]
  },
  {
   "cell_type": "code",
   "execution_count": 8,
   "id": "d7dd338a-8592-4851-b2c4-c87df445107b",
   "metadata": {},
   "outputs": [
    {
     "name": "stdout",
     "output_type": "stream",
     "text": [
      "$3.45 is matched pattern.\n",
      "$23.32 is matched pattern.\n",
      "$400. is matched pattern.\n",
      "$50 is matched pattern.\n",
      "\t 60 is NOT matched pattern!\n",
      "$3.1 is matched pattern.\n",
      "$3.  is matched pattern.\n"
     ]
    }
   ],
   "source": [
    "import re\n",
    "pattern = r'\\$\\d+(?:\\.\\d\\d)?'\n",
    "\n",
    "def find_price(content):\n",
    "    return re.findall(pattern, content)\n",
    "    \n",
    "text = ['$3.45', '$23.32', '$400.', '$50', '60', '$3.1', '$3. ']\n",
    "\n",
    "for i in text:\n",
    "    expression = find_price(i)\n",
    "    if expression:\n",
    "        print(i, 'is matched pattern.')\n",
    "    else:\n",
    "        print('\\t',i, 'is NOT matched pattern!')"
   ]
  },
  {
   "cell_type": "code",
   "execution_count": 9,
   "id": "43195879-08ee-4718-a2f0-311600f382fd",
   "metadata": {},
   "outputs": [
    {
     "name": "stdout",
     "output_type": "stream",
     "text": [
      "$3.45 is matched pattern.\n",
      "$23.32 is matched pattern.\n",
      "$400. is matched pattern.\n",
      "$50 is matched pattern.\n",
      "\t 60 is NOT matched pattern!\n",
      "$3.1 is matched pattern.\n",
      "$3.  is matched pattern.\n"
     ]
    }
   ],
   "source": [
    "import re\n",
    "pattern = r'\\$\\d+[\\.]?\\d*'\n",
    "\n",
    "def find_price(content):\n",
    "    return re.findall(pattern, content)\n",
    "    \n",
    "text = ['$3.45', '$23.32', '$400.', '$50', '60', '$3.1', '$3. ']\n",
    "\n",
    "for i in text:\n",
    "    expression = find_price(i)\n",
    "    if expression:\n",
    "        print(i, 'is matched pattern.')\n",
    "    else:\n",
    "        print('\\t',i, 'is NOT matched pattern!')"
   ]
  },
  {
   "cell_type": "markdown",
   "id": "9e7bd0b3-ac6b-4aa3-8960-f26c99b46a13",
   "metadata": {},
   "source": [
    "5. Create a regex below that captures a URL that only consists of characters, numbers, underscore, and dots. For example: www.abc.com, def_ghi.com, a678.cn Note that dots(“.”) should not appear consecutively, and should not appear as the first or last character. The dot must appear at least once."
   ]
  },
  {
   "cell_type": "code",
   "execution_count": 10,
   "id": "89ff34cc-5cc3-4e48-8a42-be095e96118a",
   "metadata": {},
   "outputs": [
    {
     "name": "stdout",
     "output_type": "stream",
     "text": [
      "www.abc.com is matched pattern.\n",
      "def_ghi.com is matched pattern.\n",
      "a678.cn is matched pattern.\n",
      "\t https://www.abc.com is NOT matched pattern!\n",
      "\t https://www.abc.com.uk is NOT matched pattern!\n",
      "\t http://www.abc.com.uk is NOT matched pattern!\n"
     ]
    }
   ],
   "source": [
    "import re\n",
    "pattern = r'(?:\\w+\\.)+\\w+'\n",
    "text = ['www.abc.com', 'def_ghi.com', 'a678.cn', 'https://www.abc.com','https://www.abc.com.uk', 'http://www.abc.com.uk']\n",
    "\n",
    "for i in text:\n",
    "    expression = re.match(pattern, i)\n",
    "    if expression:\n",
    "        print(expression.group(), 'is matched pattern.')\n",
    "    else:\n",
    "        print('\\t',i, 'is NOT matched pattern!')"
   ]
  },
  {
   "cell_type": "code",
   "execution_count": 11,
   "id": "ce8f1125-9ca2-483e-b500-c7772b817ed7",
   "metadata": {},
   "outputs": [
    {
     "name": "stdout",
     "output_type": "stream",
     "text": [
      "www.abc.com is matched pattern.\n",
      "def_ghi.com is matched pattern.\n",
      "a678.cn is matched pattern.\n",
      "https://www.abc.com is matched pattern.\n",
      "https://www.abc.com.uk is matched pattern.\n",
      "http://www.abc.com.uk is matched pattern.\n"
     ]
    }
   ],
   "source": [
    "import re\n",
    "pattern = r'(?:\\w+\\.)+\\w+|(?:\\w+://w+\\.)+\\w+'\n",
    "text = ['www.abc.com', 'def_ghi.com', 'a678.cn', 'https://www.abc.com','https://www.abc.com.uk','http://www.abc.com.uk']\n",
    "\n",
    "for i in text:\n",
    "    expression = re.match(pattern, i)\n",
    "    if expression:\n",
    "        print(i, 'is matched pattern.')\n",
    "    else:\n",
    "        \n",
    "        print('\\t',i, 'is NOT matched pattern!')"
   ]
  },
  {
   "cell_type": "markdown",
   "id": "74943577-f2ae-4caf-adeb-942692073d15",
   "metadata": {},
   "source": [
    "6. Construct a regex that captures words that start with a vowel (a, e, i, o, u), can have any number of characters from a-z after the vowel (including zero), and end with a consonant (any letters that are not a, e, i, o, u). For example, it should match “unicorn”, “it”, and “element”."
   ]
  },
  {
   "cell_type": "code",
   "execution_count": 12,
   "id": "963bd8bd-3205-44c3-82a4-83bd269c65af",
   "metadata": {},
   "outputs": [
    {
     "name": "stdout",
     "output_type": "stream",
     "text": [
      "\t unicorn is NOT matched pattern!\n",
      "\t it is NOT matched pattern!\n",
      "\t element is NOT matched pattern!\n"
     ]
    }
   ],
   "source": [
    "import re\n",
    "pattern = r'[^aeiou]+[!aeiou]'\n",
    "text = ['unicorn', 'it', 'element']\n",
    "\n",
    "for i in text:\n",
    "    expression = re.match(pattern, i)\n",
    "    if expression:\n",
    "        print(expression.group(), 'is matched pattern.')\n",
    "    else:\n",
    "        print('\\t',i, 'is NOT matched pattern!')"
   ]
  },
  {
   "cell_type": "code",
   "execution_count": 13,
   "id": "f56722d9-08cb-4b3e-98fa-fbc6b88457f1",
   "metadata": {},
   "outputs": [
    {
     "name": "stdout",
     "output_type": "stream",
     "text": [
      "u is matched pattern.\n",
      "i is matched pattern.\n",
      "e is matched pattern.\n"
     ]
    }
   ],
   "source": [
    "import re\n",
    "pattern = r'[^aeiou]*[!aeiou]'\n",
    "text = ['unicorn', 'it', 'element']\n",
    "\n",
    "for i in text:\n",
    "    expression = re.match(pattern, i)\n",
    "    if expression:\n",
    "        print(expression.group(), 'is matched pattern.')\n",
    "    else:\n",
    "        print('\\t',i, 'is NOT matched pattern!')"
   ]
  },
  {
   "cell_type": "code",
   "execution_count": 14,
   "id": "3c55e97a-2603-4656-8ed8-365eb207749f",
   "metadata": {},
   "outputs": [
    {
     "name": "stdout",
     "output_type": "stream",
     "text": [
      "\t unicorn is NOT matched pattern!\n",
      "\t it is NOT matched pattern!\n",
      "\t element is NOT matched pattern!\n"
     ]
    }
   ],
   "source": [
    "import re\n",
    "pattern = r'[^aeiou][a-z]+'\n",
    "text = ['unicorn', 'it', 'element']\n",
    "\n",
    "for i in text:\n",
    "    expression = re.match(pattern, i)\n",
    "    if expression:\n",
    "        print(expression.group(), 'is matched pattern.')\n",
    "    else:\n",
    "        print('\\t',i, 'is NOT matched pattern!')"
   ]
  },
  {
   "cell_type": "code",
   "execution_count": 15,
   "id": "3c02fa67-293b-4cb2-809d-b65e59bdfe7d",
   "metadata": {},
   "outputs": [
    {
     "name": "stdout",
     "output_type": "stream",
     "text": [
      "\t unicorn is NOT matched pattern!\n",
      "\t it is NOT matched pattern!\n",
      "\t element is NOT matched pattern!\n"
     ]
    }
   ],
   "source": [
    "import re\n",
    "pattern = r'[^aeiou][a-z]*'\n",
    "text = ['unicorn', 'it', 'element']\n",
    "\n",
    "for i in text:\n",
    "    expression = re.match(pattern, i)\n",
    "    if expression:\n",
    "        print(expression.group(), 'is matched pattern.')\n",
    "    else:\n",
    "        print('\\t',i, 'is NOT matched pattern!')"
   ]
  },
  {
   "cell_type": "code",
   "execution_count": 16,
   "id": "8a0d4c68-53f8-4f63-9c44-7cae3601d195",
   "metadata": {},
   "outputs": [
    {
     "name": "stdout",
     "output_type": "stream",
     "text": [
      "unicorn is matched pattern.\n",
      "it is matched pattern.\n",
      "element is matched pattern.\n"
     ]
    }
   ],
   "source": [
    "import re\n",
    "pattern = r'[aeiou][a-z]*'\n",
    "text = ['unicorn', 'it', 'element']\n",
    "\n",
    "for i in text:\n",
    "    expression = re.match(pattern, i)\n",
    "    if expression:\n",
    "        print(expression.group(), 'is matched pattern.')\n",
    "    else:\n",
    "        print('\\t',i, 'is NOT matched pattern!')"
   ]
  },
  {
   "cell_type": "code",
   "execution_count": 17,
   "id": "b886045b-e40b-4cf7-b54e-96e71b2d631f",
   "metadata": {},
   "outputs": [
    {
     "name": "stdout",
     "output_type": "stream",
     "text": [
      "unicorn is matched pattern.\n",
      "it is matched pattern.\n",
      "element is matched pattern.\n"
     ]
    }
   ],
   "source": [
    "import re\n",
    "pattern = r'[aeiou][a-z]*[^aeiou]'\n",
    "text = ['unicorn', 'it', 'element']\n",
    "\n",
    "for i in text:\n",
    "    expression = re.match(pattern, i)\n",
    "    if expression:\n",
    "        print(expression.group(), 'is matched pattern.')\n",
    "    else:\n",
    "        print('\\t',i, 'is NOT matched pattern!')"
   ]
  },
  {
   "cell_type": "code",
   "execution_count": 18,
   "id": "8824d7ef-3f36-4aca-adad-50ac874980e8",
   "metadata": {},
   "outputs": [
    {
     "name": "stdout",
     "output_type": "stream",
     "text": [
      "unicorn is matched pattern.\n",
      "it is matched pattern.\n",
      "element is matched pattern.\n"
     ]
    }
   ],
   "source": [
    "import re\n",
    "pattern = r'[aeiou][a-z]*[^aeiou]'\n",
    "text = ['unicorn', 'it', 'element']\n",
    "\n",
    "for i in text:\n",
    "    expression = re.search(pattern, i)\n",
    "    if expression:\n",
    "        print(expression.group(), 'is matched pattern.')\n",
    "    else:\n",
    "        print('\\t',i, 'is NOT matched pattern!')"
   ]
  },
  {
   "cell_type": "code",
   "execution_count": 19,
   "id": "e8139611-aa2d-468d-97a4-c381ed198c7d",
   "metadata": {},
   "outputs": [
    {
     "name": "stdout",
     "output_type": "stream",
     "text": [
      "unicorn is matched pattern.\n",
      "it is matched pattern.\n",
      "element is matched pattern.\n"
     ]
    }
   ],
   "source": [
    "import re\n",
    "pattern = r'[aeiou][a-z]*[^aeiou]'\n",
    "text = ['unicorn', 'it', 'element']\n",
    "\n",
    "for i in text:\n",
    "    expression = re.findall(pattern, i)\n",
    "    if expression:\n",
    "        print(i, 'is matched pattern.')\n",
    "    else:\n",
    "        print('\\t',i, 'is NOT matched pattern!')"
   ]
  },
  {
   "cell_type": "code",
   "execution_count": 20,
   "id": "a113fc65-e861-4601-8f34-97f662b07e65",
   "metadata": {},
   "outputs": [
    {
     "name": "stdout",
     "output_type": "stream",
     "text": [
      "unicorn is matched pattern.\n",
      "it is matched pattern.\n",
      "element is matched pattern.\n"
     ]
    }
   ],
   "source": [
    "import re\n",
    "pattern = r'[aeiou][a-z]*[^aeiou]'\n",
    "text = ['unicorn', 'it', 'element']\n",
    "\n",
    "for i in text:\n",
    "    expression = re.fullmatch(pattern, i)\n",
    "    if expression:\n",
    "        print(expression.group(), 'is matched pattern.')\n",
    "    else:\n",
    "        print('\\t',i, 'is NOT matched pattern!')"
   ]
  },
  {
   "cell_type": "code",
   "execution_count": 21,
   "id": "cf368080-9061-495f-8a39-435d72bcc5eb",
   "metadata": {},
   "outputs": [
    {
     "name": "stdout",
     "output_type": "stream",
     "text": [
      "unicorn is matched pattern.\n",
      "it is matched pattern.\n",
      "element is matched pattern.\n"
     ]
    }
   ],
   "source": [
    "import re\n",
    "pattern = r'[aeiou][a-z]*[^aeiou]'\n",
    "text = ['unicorn', 'it', 'element']\n",
    "\n",
    "for i in text:\n",
    "    expression = re.sub(pattern, ' ' ,i)\n",
    "    if expression:\n",
    "        print(i, 'is matched pattern.')\n",
    "    else:\n",
    "        print('\\t',i, 'is NOT matched pattern!')"
   ]
  },
  {
   "cell_type": "code",
   "execution_count": 22,
   "id": "a7df4550-e82b-41ab-b99f-84293db49520",
   "metadata": {},
   "outputs": [
    {
     "name": "stdout",
     "output_type": "stream",
     "text": [
      "unicorn is matched pattern.\n",
      "it is matched pattern.\n",
      "element is matched pattern.\n"
     ]
    }
   ],
   "source": [
    "import re\n",
    "pattern = r'[aeiou][a-z]*[^aeiou]'\n",
    "text = ['unicorn', 'it', 'element']\n",
    "\n",
    "for i in text:\n",
    "    expression = re.split(pattern, i)\n",
    "    if expression:\n",
    "        print(i, 'is matched pattern.')\n",
    "    else:\n",
    "        print('\\t',i, 'is NOT matched pattern!')"
   ]
  },
  {
   "cell_type": "markdown",
   "id": "49ca96b2-eda6-4b1e-9fb5-569b3ebb37b3",
   "metadata": {},
   "source": [
    "## Regex/Regular Expressions) with Examples in Detail | Regex Tutorial\n",
    "\n",
    "This exercises are come from [Crack Concepts youtube blog](https://youtu.be/9RksQ5YT7FM)\n"
   ]
  },
  {
   "cell_type": "markdown",
   "id": "24ac6f38-d41e-4f64-bd69-bfa1e675f233",
   "metadata": {},
   "source": [
    "1. Create a pattern. That is mobile number, starts with 8 or 9 and total digits is 10."
   ]
  },
  {
   "cell_type": "code",
   "execution_count": 23,
   "id": "b9613d04-f776-46d9-8061-45c652dac9f9",
   "metadata": {},
   "outputs": [
    {
     "name": "stdout",
     "output_type": "stream",
     "text": [
      "8090909091 is matched pattern.\n",
      "9090909091 is matched pattern.\n",
      "\t 8 090 909 091 is NOT matched pattern!\n",
      "\t 809 090 90 91 is NOT matched pattern!\n"
     ]
    }
   ],
   "source": [
    "import re\n",
    "pattern = r'[89][0-9]{9}'\n",
    "text = ['8090909091', '9090909091', '8 090 909 091', '809 090 90 91']\n",
    "\n",
    "for i in text:\n",
    "    expression = re.match(pattern, i)\n",
    "    if expression:\n",
    "        print(expression.group(), 'is matched pattern.')\n",
    "    else:\n",
    "        print('\\t', i, 'is NOT matched pattern!')"
   ]
  },
  {
   "cell_type": "markdown",
   "id": "bf4911d5-683c-4c7a-a103-367e50f57f78",
   "metadata": {},
   "source": [
    "2. Create a pattern. First characater is uppercase, and contains lower case alphabets, only one digit allowed in between."
   ]
  },
  {
   "cell_type": "code",
   "execution_count": 24,
   "id": "efbd9e06-14e4-47c0-a7e0-fe0c109c20e4",
   "metadata": {},
   "outputs": [
    {
     "name": "stdout",
     "output_type": "stream",
     "text": [
      "Ai9s is matched pattern.\n",
      "\t ai9s is NOT matched pattern!\n",
      "\t A9 is NOT matched pattern!\n",
      "Aiklk9sg is matched pattern.\n",
      "\t Ai912s is NOT matched pattern!\n",
      "\t ABi9s is NOT matched pattern!\n",
      "\t AB9s is NOT matched pattern!\n",
      "\t Ai912sa is NOT matched pattern!\n"
     ]
    }
   ],
   "source": [
    "import re\n",
    "pattern = r'[A-Z][a-z]+[0-9][a-z]+'\n",
    "text = ['Ai9s', 'ai9s', 'A9', 'Aiklk9sg','Ai912s', 'ABi9s','AB9s', 'Ai912sa' ]\n",
    "\n",
    "for i in text:\n",
    "    expression = re.match(pattern, i)\n",
    "    if expression:\n",
    "        print(expression.group(), 'is matched pattern.')\n",
    "    else:\n",
    "        print('\\t', i, 'is NOT matched pattern!')"
   ]
  },
  {
   "cell_type": "code",
   "execution_count": 25,
   "id": "5dc8d173-1ff8-43fd-8edd-d4c5c33b662f",
   "metadata": {},
   "outputs": [
    {
     "name": "stdout",
     "output_type": "stream",
     "text": [
      "Ai9s is matched pattern.\n",
      "\t ai9s is NOT matched pattern!\n",
      "A9 is matched pattern.\n",
      "Aiklk9sg is matched pattern.\n",
      "Ai9 is matched pattern.\n",
      "\t ABi9s is NOT matched pattern!\n",
      "\t AB9s is NOT matched pattern!\n",
      "Ai9 is matched pattern.\n"
     ]
    }
   ],
   "source": [
    "import re\n",
    "pattern = r'[A-Z][a-z]*[0-9][a-z]*'\n",
    "text = ['Ai9s', 'ai9s', 'A9', 'Aiklk9sg','Ai912s', 'ABi9s','AB9s', 'Ai912sa' ]\n",
    "\n",
    "for i in text:\n",
    "    expression = re.match(pattern, i)\n",
    "    if expression:\n",
    "        print(expression.group(), 'is matched pattern.')\n",
    "    else:\n",
    "        print('\\t', i, 'is NOT matched pattern!')"
   ]
  },
  {
   "cell_type": "markdown",
   "id": "f95c3f34-a0d4-4743-a66d-b99fcef98858",
   "metadata": {},
   "source": [
    "3. Create a pattern. That is email address."
   ]
  },
  {
   "cell_type": "code",
   "execution_count": 26,
   "id": "5e2cbdb6-cf73-4d4a-b428-5cb4a15c3598",
   "metadata": {},
   "outputs": [
    {
     "name": "stdout",
     "output_type": "stream",
     "text": [
      "john.doe@abc.com is matched pattern.\n",
      "john_doe45@yahoo.com.uk is matched pattern.\n",
      "janedoe@ab.aero.jp is matched pattern.\n",
      "\t JaneDoe@gmail.com is NOT matched pattern!\n",
      "\t joe@abc.edu is NOT matched pattern!\n"
     ]
    }
   ],
   "source": [
    "import re\n",
    "pattern = r'[a-z][a-z0-9\\.\\_]{5,}@[a-z]{2,}[\\.][a-z]{3,}'\n",
    "text = ['john.doe@abc.com', 'john_doe45@yahoo.com.uk', 'janedoe@ab.aero.jp', 'JaneDoe@gmail.com', 'joe@abc.edu' ]\n",
    "\n",
    "for i in text:\n",
    "    expression = re.match(pattern, i)\n",
    "    if expression:\n",
    "        print(i, 'is matched pattern.')\n",
    "    else:\n",
    "        print('\\t', i, 'is NOT matched pattern!')"
   ]
  },
  {
   "cell_type": "code",
   "execution_count": 27,
   "id": "aa64dd98-2edf-4742-aba6-96fedd282c70",
   "metadata": {},
   "outputs": [
    {
     "name": "stdout",
     "output_type": "stream",
     "text": [
      "john.doe@abc.com is matched pattern.\n",
      "john_doe45@yahoo.com.uk is matched pattern.\n",
      "janedoe@ab.aero.jp is matched pattern.\n",
      "JaneDoe@gmail.com is matched pattern.\n",
      "joe@abc.edu is matched pattern.\n"
     ]
    }
   ],
   "source": [
    "import re\n",
    "pattern = r'[a-zA-Z0-9_\\-\\.]+[@][a-z]+[\\.][a-z]{2,3}'\n",
    "text = ['john.doe@abc.com', 'john_doe45@yahoo.com.uk', 'janedoe@ab.aero.jp', 'JaneDoe@gmail.com', 'joe@abc.edu' ]\n",
    "\n",
    "for i in text:\n",
    "    expression = re.match(pattern, i)\n",
    "    if expression:\n",
    "        print(i, 'is matched pattern.')\n",
    "    else:\n",
    "        print('\\t', i, 'is NOT matched pattern!')"
   ]
  }
 ],
 "metadata": {
  "kernelspec": {
   "display_name": "Python 3 (ipykernel)",
   "language": "python",
   "name": "python3"
  },
  "language_info": {
   "codemirror_mode": {
    "name": "ipython",
    "version": 3
   },
   "file_extension": ".py",
   "mimetype": "text/x-python",
   "name": "python",
   "nbconvert_exporter": "python",
   "pygments_lexer": "ipython3",
   "version": "3.11.3"
  }
 },
 "nbformat": 4,
 "nbformat_minor": 5
}
