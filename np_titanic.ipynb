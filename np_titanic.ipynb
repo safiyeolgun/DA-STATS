{
 "cells": [
  {
   "cell_type": "code",
   "execution_count": null,
   "id": "13de0224",
   "metadata": {},
   "outputs": [],
   "source": [
    "import seaborn as sns\n",
    "import numpy as np\n",
    "import pandas as pd"
   ]
  },
  {
   "cell_type": "markdown",
   "id": "d99a489d",
   "metadata": {},
   "source": [
    "### loading dataset which will be analysized"
   ]
  },
  {
   "cell_type": "code",
   "execution_count": null,
   "id": "9d96a7d7",
   "metadata": {},
   "outputs": [],
   "source": [
    "df = sns.load_dataset('titanic')"
   ]
  },
  {
   "cell_type": "markdown",
   "id": "fd58e976",
   "metadata": {},
   "source": [
    "This data set is about to Titanic ship which sank. You will find only passengers info not craw bought ticket.\n",
    "\n",
    "* survived -> State of survive? (0 : No , 1: Yes)\n",
    "\n",
    "/ alive -> Whether the traveler survived (no , yes)\n",
    "\n",
    "* pclass -> Socio-economic class (1 = Upper class; 2 = Middle class; 3 = Lower class)\n",
    "\n",
    "/ class -> Passenger class(First(Best) , Second, Third(Worst))\n",
    "\n",
    "* sex -> Passenger’s gender (Male , Female)\n",
    "\n",
    "*  age -> Passenger’s age (0.42 (Babies under 1 year old) , 80)\n",
    "\n",
    "/ who -> Distribution of passenger (Child, Man, Woman)\n",
    "\n",
    "/ adult_male -> Whether the passenger is a adult man (True , False)\n",
    "\n",
    "* sibsp -> The number of brothers and sisters on board the passenger (0–8)\n",
    "\n",
    "* parch -> The number of relatives of the passenger on board (0–6)\n",
    "\n",
    "* fare -> The amount the passenger paid for the ticket (0–512.3292)\n",
    "\n",
    "* embarked -> The door through which the passenger boarded the ship (S (Best), C, Q)\n",
    "\n",
    "/ embark_town -> Port of embarkation of the passenger (C = Cherbourg; Q = Queenstown; S = Southampton)\n",
    "\n",
    "* deck -> The deck on which the passenger stands ['A', 'B', 'C', 'D', 'E', 'F', 'G']\n",
    "\n",
    "* alone -> Whether the passenger is alone (True , False)"
   ]
  },
  {
   "cell_type": "code",
   "execution_count": null,
   "id": "4a06ab27",
   "metadata": {},
   "outputs": [],
   "source": []
  },
  {
   "cell_type": "markdown",
   "id": "da1acab7",
   "metadata": {},
   "source": [
    "### looking around dataset (first, second, any observation)"
   ]
  },
  {
   "cell_type": "code",
   "execution_count": null,
   "id": "912929c5",
   "metadata": {},
   "outputs": [],
   "source": [
    "df.head()"
   ]
  },
  {
   "cell_type": "code",
   "execution_count": null,
   "id": "4b3695b5",
   "metadata": {},
   "outputs": [],
   "source": [
    "df['embark_town'].unique()"
   ]
  },
  {
   "cell_type": "code",
   "execution_count": null,
   "id": "178091c1",
   "metadata": {},
   "outputs": [],
   "source": [
    "df.tail()"
   ]
  },
  {
   "cell_type": "code",
   "execution_count": null,
   "id": "224a46ce",
   "metadata": {},
   "outputs": [],
   "source": [
    "df.sample(10)"
   ]
  },
  {
   "cell_type": "markdown",
   "id": "76ab0fdf",
   "metadata": {},
   "source": [
    "### getting some feature type information"
   ]
  },
  {
   "cell_type": "code",
   "execution_count": null,
   "id": "7e66f74b",
   "metadata": {},
   "outputs": [],
   "source": [
    "df.shape"
   ]
  },
  {
   "cell_type": "code",
   "execution_count": null,
   "id": "b0965fb4",
   "metadata": {},
   "outputs": [],
   "source": [
    "df.ndim"
   ]
  },
  {
   "cell_type": "code",
   "execution_count": null,
   "id": "92a32a5b",
   "metadata": {},
   "outputs": [],
   "source": [
    "tablo = df.describe(include ='all')\n",
    "tablo.rename(index = {'count' : 'observations'}, inplace = True)\n",
    "\n",
    "tablo.loc['null_observations'] = df.isnull().sum()\n",
    "tablo.loc[['observations', 'null_observations']]"
   ]
  },
  {
   "cell_type": "code",
   "execution_count": null,
   "id": "af8e804a",
   "metadata": {},
   "outputs": [],
   "source": [
    "df.info()"
   ]
  },
  {
   "cell_type": "code",
   "execution_count": null,
   "id": "7b735ce2",
   "metadata": {},
   "outputs": [],
   "source": [
    "titanic = df.drop(['alive', 'class', 'adult_male', 'embark_town'], axis = 1)\n",
    "titanic"
   ]
  },
  {
   "cell_type": "code",
   "execution_count": null,
   "id": "0926a97f",
   "metadata": {},
   "outputs": [],
   "source": [
    "titanic.describe()"
   ]
  },
  {
   "cell_type": "markdown",
   "id": "4f954c5a",
   "metadata": {},
   "source": [
    "### Characteristics of surviving children"
   ]
  },
  {
   "cell_type": "code",
   "execution_count": null,
   "id": "64345f15",
   "metadata": {},
   "outputs": [],
   "source": [
    "titanic['survived'].unique()"
   ]
  },
  {
   "cell_type": "code",
   "execution_count": null,
   "id": "99cb074f",
   "metadata": {},
   "outputs": [],
   "source": [
    "titanic['who'].unique()"
   ]
  },
  {
   "cell_type": "code",
   "execution_count": null,
   "id": "1b8f9b8c",
   "metadata": {},
   "outputs": [],
   "source": [
    "((titanic['survived'] == 1) & (titanic['who'] == 'child')).sum()"
   ]
  },
  {
   "cell_type": "code",
   "execution_count": null,
   "id": "e2ae41b6",
   "metadata": {},
   "outputs": [],
   "source": [
    "((titanic['survived'] == 1) & (titanic['age'] < 18)).sum()"
   ]
  },
  {
   "cell_type": "code",
   "execution_count": null,
   "id": "4995c156",
   "metadata": {},
   "outputs": [],
   "source": [
    "titanic[(titanic['survived'] == 1) & (titanic['who'] == 'child')]"
   ]
  },
  {
   "cell_type": "code",
   "execution_count": null,
   "id": "9a6b2e33",
   "metadata": {},
   "outputs": [],
   "source": [
    "titanic[(titanic['survived'] == 1) & (titanic['age'] < 18)]"
   ]
  },
  {
   "cell_type": "code",
   "execution_count": null,
   "id": "97e9bf83",
   "metadata": {},
   "outputs": [],
   "source": [
    "titanic = df.drop(['alive', 'class', 'adult_male', 'embark_town', 'who'], axis = 1)\n",
    "titanic"
   ]
  },
  {
   "cell_type": "code",
   "execution_count": null,
   "id": "0780a4e8",
   "metadata": {},
   "outputs": [],
   "source": [
    "titanic['pclass'].unique()"
   ]
  },
  {
   "cell_type": "code",
   "execution_count": null,
   "id": "8129f2f5",
   "metadata": {},
   "outputs": [],
   "source": [
    "display(((titanic['survived'] == 1) & (titanic['age'] < 18) & (titanic['pclass'] == 1)).sum())\n",
    "display(((titanic['survived'] == 1) & (titanic['age'] < 18) & (titanic['pclass'] == 2)).sum())\n",
    "display(((titanic['survived'] == 1) & (titanic['age'] < 18) & (titanic['pclass'] == 3)).sum())"
   ]
  },
  {
   "cell_type": "code",
   "execution_count": null,
   "id": "626b8ebe",
   "metadata": {},
   "outputs": [],
   "source": [
    "display(((titanic['age'] < 18) & (titanic['pclass'] == 1)).sum())\n",
    "display(((titanic['age'] < 18) & (titanic['pclass'] == 2)).sum())\n",
    "display(((titanic['age'] < 18) & (titanic['pclass'] == 3)).sum())"
   ]
  },
  {
   "cell_type": "code",
   "execution_count": null,
   "id": "1d67edfd",
   "metadata": {},
   "outputs": [],
   "source": [
    "display(((titanic['survived'] == 1) & (titanic['age'] < 18) & (titanic['pclass'] == 1) & (titanic['alone'] == False)).sum())\n",
    "display(((titanic['survived'] == 1) & (titanic['age'] < 18) & (titanic['pclass'] == 2) & (titanic['alone'] == False)).sum())\n",
    "display(((titanic['survived'] == 1) & (titanic['age'] < 18) & (titanic['pclass'] == 3) & (titanic['alone'] == False)).sum())"
   ]
  },
  {
   "cell_type": "code",
   "execution_count": null,
   "id": "e443e95d",
   "metadata": {},
   "outputs": [],
   "source": [
    "titanic['sibsp'].unique()"
   ]
  },
  {
   "cell_type": "code",
   "execution_count": null,
   "id": "e194d292",
   "metadata": {},
   "outputs": [],
   "source": [
    "titanic['sibsp'].value_counts()"
   ]
  },
  {
   "cell_type": "code",
   "execution_count": null,
   "id": "24cc2e0d",
   "metadata": {},
   "outputs": [],
   "source": [
    "titanic['parch'].unique()"
   ]
  },
  {
   "cell_type": "code",
   "execution_count": null,
   "id": "f3424baa",
   "metadata": {},
   "outputs": [],
   "source": [
    "titanic['parch'].value_counts()"
   ]
  }
 ],
 "metadata": {
  "kernelspec": {
   "display_name": "Python 3 (ipykernel)",
   "language": "python",
   "name": "python3"
  },
  "language_info": {
   "codemirror_mode": {
    "name": "ipython",
    "version": 3
   },
   "file_extension": ".py",
   "mimetype": "text/x-python",
   "name": "python",
   "nbconvert_exporter": "python",
   "pygments_lexer": "ipython3",
   "version": "3.11.3"
  }
 },
 "nbformat": 4,
 "nbformat_minor": 5
}
