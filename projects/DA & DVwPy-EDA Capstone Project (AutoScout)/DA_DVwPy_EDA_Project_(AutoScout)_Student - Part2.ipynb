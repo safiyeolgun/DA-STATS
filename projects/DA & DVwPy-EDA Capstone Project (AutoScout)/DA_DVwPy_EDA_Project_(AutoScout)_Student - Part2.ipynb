{
 "cells": [
  {
   "cell_type": "markdown",
   "metadata": {
    "id": "Bkw3_pB0s1L-"
   },
   "source": [
    "___\n",
    "\n",
    "<p style=\"text-align: center;\"><img src=\"https://docs.google.com/uc?id=1lY0Uj5R04yMY3-ZppPWxqCr5pvBLYPnV\" class=\"img-fluid\" \n",
    "alt=\"CLRSWY\"></p>\n",
    "\n",
    "## <p style=\"background-color:#FDFEFE; font-family:newtimeroman; color:#9d4f8c; font-size:100%; text-align:center; border-radius:10px 10px;\">WAY TO REINVENT YOURSELF</p>\n",
    "\n",
    "## <p style=\"background-color:#FDFEFE; font-family:newtimeroman; color:#060108; font-size:200%; text-align:center; border-radius:10px 10px;\">DA & DVwPY</p>\n",
    "\n",
    "## <p style=\"background-color:#FDFEFE; font-family:newtimeroman; color:#060108; font-size:200%; text-align:center; border-radius:10px 10px;\">The Exploratory Data Analysis (EDA) Project</p>\n",
    "\n",
    "<img src=https://i.ibb.co/wJW61Y2/Used-cars.jpg width=\"700\" height=\"200\">\n",
    "\n",
    "## <p style=\"background-color:#FDFEFE; font-family:newtimeroman; color:#060108; font-size:200%; text-align:center; border-radius:10px 10px;\">AutoScout Car Price Prediction EDA</p>\n",
    "\n"
   ]
  },
  {
   "cell_type": "markdown",
   "metadata": {
    "id": "Z_oWczxZs1MA"
   },
   "source": [
    "## Introduction\n",
    "Welcome to \"***AutoScout Exploratory Data Analysis (EDA) Project***\". This is the project of completing ***Data Analysis & Data Visualization*** Courses and a successful hand-over is mandatory for getting certification for both courses. **Auto Scout** data used in this project scraped from the Website of an online car trading company in 2022, and contains many features of 13 different car makes including 594 models. In this project, you will have the opportunity to apply many commonly used algorithms for Data Cleaning and Exploratory Data Analysis by using a variety of Python libraries, such as Numpy, Pandas, Matplotlib, Seaborn, Scipy, and then you will get a clean dataset for your analysis and pretictive modelling in Machine Learning Path. So you will have the chance to use all the skills you have already learned in the Data Analysis and Visualization courses.\n",
    "\n",
    "**``In this context, the project consists of 3 parts in general:``**\n",
    "* **The first part** is related to ``'Data Cleaning'``. It deals with Incorrect Headers, Incorrect Format, Anomalies, and Dropping useless columns.\n",
    "* **The second part** is related to ``'Filling Data'``, in other words 'Imputation'. It deals with Missing Values. Categorical to numeric transformation, Encoding, is done as well.\n",
    "* **The third part** is related to ``'Handling Outliers of Data'`` via Visualization libraries. So, some insights will be extracted.\n",
    "\n",
    "**``SPECIAL NOTE:``**  However, you are ``free to create your own style``. You do ``NOT`` have to stick to the steps above. Nevertheless, we, the DA & DV instructors, recommend you study each part separately to create a source notebook for your further studies. \n",
    "\n",
    "In order to build your Portfolio in terms of the GitHub account, you need to push your solution file up to your own repository.\n",
    "\n",
    "Please after solving the task, commit your notebook to GitHub and submit its link to LMS page where the project is settled down.\n",
    "\n",
    "**BE NOTED:** Please ``DO NOT FORGET`` to click the submit button.\n",
    "\n",
    "### Some Reminders on Exploratory data analysis (EDA)\n",
    "\n",
    "Exploratory data analysis (EDA) is an especially important activity in the routine of a data analyst or scientist. It enables an in depth understanding of the dataset, define or discard hypotheses and create predictive models on a solid basis. It uses data manipulation techniques and several statistical tools to describe and understand the relationship between variables and how these can impact business. By means of EDA, we can obtain meaningful insights that can impact analysis under the following questions (If a checklist is good enough for pilots to use every flight, it’s good enough for data scientists to use with every dataset).\n",
    "1. What question are you trying to solve (or prove wrong)?\n",
    "2. What kind of data do you have?\n",
    "3. What’s missing from the data?\n",
    "4. Where are the outliers?\n",
    "5. How can you add, change or remove features to get more out of your data?\n",
    "\n",
    "**``Exploratory data analysis (EDA)``** is often an **iterative brainstorming process** where you pose a question, review the data, and develop further questions to investigate before beginning model development work. The image below shows how the brainstorming phase is connected with that of understanding the variables and how this in turn is connected again with the brainstorming phase.<br>\n",
    "\n",
    "<img src=https://i.ibb.co/k0MC950/EDA-Process.png width=\"300\" height=\"100\">\n",
    "\n",
    "[Image Credit: Andrew D.](https://towardsdatascience.com/exploratory-data-analysis-in-python-a-step-by-step-process-d0dfa6bf94ee)\n",
    "\n"
   ]
  },
  {
   "cell_type": "code",
   "execution_count": 1,
   "metadata": {
    "id": "Y13_gId7s1MC"
   },
   "outputs": [],
   "source": [
    "import pandas as pd\n",
    "import numpy as np\n",
    "import seaborn as sns\n",
    "import warnings\n",
    "warnings.filterwarnings(\"ignore\")"
   ]
  },
  {
   "cell_type": "code",
   "execution_count": 2,
   "metadata": {
    "id": "WDZnqBhbs1ME"
   },
   "outputs": [],
   "source": [
    "#  reading csv file after part 1 data cleaning\n",
    "\n",
    "df0 = pd.read_csv('as24_cars_part1.csv')\n",
    "\n",
    "df = df0.copy()"
   ]
  },
  {
   "cell_type": "markdown",
   "metadata": {},
   "source": [
    "# PART- 2 `( Handling With Missing Vales )`"
   ]
  },
  {
   "cell_type": "markdown",
   "metadata": {},
   "source": [
    "# IMPUTATION MISSING VALUE"
   ]
  },
  {
   "cell_type": "code",
   "execution_count": 3,
   "metadata": {},
   "outputs": [],
   "source": [
    "# defining functions\n",
    "\n",
    "def general_information():\n",
    "    print('Range Index:', len(df), 'entries, from', df.index.min(), 'to', df.index.max())\n",
    "    print('\\n#\\t Column\\t\\t\\tNon-Null Count (%)\\t NAN Count (% NAN)\\t Dtype\\t\\tUnique(Category)')\n",
    "    print('-'*115)   \n",
    "    for i in range(len(df.columns)):\n",
    "        print(f'{i}\\t{df.columns[i]:<25}', end = '')\n",
    "        print(f'{df.iloc[:,i].notnull().sum():<7} %{(df.iloc[:,i].notnull().sum()/len(df)*100).round(2): <15}', end = '')\n",
    "        print(f'{df.iloc[:,i].isnull().sum():<7} %{(df.iloc[:,i].isnull().sum()/len(df)*100).round(2) : <15}', end = '')\n",
    "        print(f'{str(df.iloc[:,i].dtype) : <15}', end = '')\n",
    "        print(len(df.iloc[:,i].unique()) if (df.iloc[:,i].dtype) == 'category' else'-')    \n",
    "\n",
    "\n",
    "def information(column, category = False):        \n",
    "    print(f'  Full NAN observations: {df[df.isnull().all(axis=1)].shape[0]} ')\n",
    "    print('\\n Feature : ',column,'\\n','-'*15)\n",
    "    print(f'  Non-NAN : {df[column].notnull().sum()} ({(df[column].notnull().sum()/len(df)*100).round(2)}%)')       \n",
    "    print('Blank data is : ', (df[column] == '').sum())\n",
    "    print('Feature type :', df[column].dtype)\n",
    "    \n",
    "    if (df[column].dtype == 'category') & (category == True) :        \n",
    "        print('Categories', '\\n','*'*10)\n",
    "        for i in df[column].unique():\n",
    "            print(i)    \n",
    "    \n",
    "    print(f'\\nHere is some sample of {column} \\n{df[column].sample(5)}')\n",
    "    print()\n",
    "\n",
    "\n",
    "def missing(column, percentage = False):\n",
    "    print('\\n Feature : ',column)\n",
    "    print('-'*30)\n",
    "    print(f'      NAN : {df[column].isnull().sum()} ({(df[column].isnull().sum()/len(df)*100).round(2)}%)')\n",
    "    print('-'*30)\n",
    "          \n",
    "    if percentage:        \n",
    "        for index, count in df[column].value_counts(dropna=False).items():\n",
    "            print(f\"{index:<16} : {count} ({round((count/len(df))*100, 2)} %)\")\n",
    "            \n",
    "    print() "
   ]
  },
  {
   "cell_type": "code",
   "execution_count": 4,
   "metadata": {},
   "outputs": [
    {
     "name": "stdout",
     "output_type": "stream",
     "text": [
      "Range Index: 28628 entries, from 0 to 28627\n",
      "\n",
      "#\t Column\t\t\tNon-Null Count (%)\t NAN Count (% NAN)\t Dtype\t\tUnique(Category)\n",
      "-------------------------------------------------------------------------------------------------------------------\n",
      "0\tmake_model               28628   %100.0          0       %0.0            object         -\n",
      "1\tshort_description        28415   %99.26          213     %0.74           object         -\n",
      "2\tmake                     28628   %100.0          0       %0.0            object         -\n",
      "3\tmodel                    28352   %99.04          276     %0.96           object         -\n",
      "4\tlocation                 28628   %100.0          0       %0.0            object         -\n",
      "5\tprice                    28628   %100.0          0       %0.0            float64        -\n",
      "6\tbody_type                28628   %100.0          0       %0.0            object         -\n",
      "7\ttype                     28628   %100.0          0       %0.0            object         -\n",
      "8\tdoors                    28269   %98.75          359     %1.25           float64        -\n",
      "9\tcountry_version          16889   %58.99          11739   %41.01          object         -\n",
      "10\twarranty                 15651   %54.67          12977   %45.33          object         -\n",
      "11\tmileage                  28627   %100.0          1       %0.0            float64        -\n",
      "12\tfirst_registration       28626   %99.99          2       %0.01           object         -\n",
      "13\tgearbox                  28380   %99.13          248     %0.87           object         -\n",
      "14\tfuel_type                26841   %93.76          1787    %6.24           object         -\n",
      "15\tcolour                   26905   %93.98          1723    %6.02           object         -\n",
      "16\tpaint                    14495   %50.63          14133   %49.37          object         -\n",
      "17\tdesc                     27955   %97.65          673     %2.35           object         -\n",
      "18\tseller                   28628   %100.0          0       %0.0            object         -\n",
      "19\tseats                    25503   %89.08          3125    %10.92          float64        -\n",
      "20\tengine_size              27225   %95.1           1403    %4.9            float64        -\n",
      "21\tgears                    18953   %66.2           9675    %33.8           float64        -\n",
      "22\tmanufacturer_colour      21785   %76.1           6843    %23.9           object         -\n",
      "23\tdrivetrain               16892   %59.01          11736   %40.99          object         -\n",
      "24\tcylinders                18851   %65.85          9777    %34.15          float64        -\n",
      "25\tfuel_consumption         23375   %81.65          5253    %18.35          float64        -\n",
      "26\tcomfort_&_convenience    25431   %88.83          3197    %11.17          object         -\n",
      "27\tentertainment_&_media    23642   %82.58          4986    %17.42          object         -\n",
      "28\tsafety_&_security        25413   %88.77          3215    %11.23          object         -\n",
      "29\textras                   23478   %82.01          5150    %17.99          object         -\n",
      "30\tfull_service_history     12564   %43.89          16064   %56.11          object         -\n",
      "31\tnon_smoker_vehicle       11593   %40.5           17035   %59.5           object         -\n",
      "32\temission_class           17858   %62.38          10770   %37.62          object         -\n",
      "33\temissions_sticker        9414    %32.88          19214   %67.12          object         -\n",
      "34\tupholstery_colour        14569   %50.89          14059   %49.11          object         -\n",
      "35\tupholstery               18609   %65.0           10019   %35.0           object         -\n",
      "36\tseller_country_alfa2     28628   %100.0          0       %0.0            object         -\n",
      "37\tseller_country           28628   %100.0          0       %0.0            object         -\n",
      "38\twarranty_month           13332   %46.57          15296   %53.43          float64        -\n",
      "39\tage                      28626   %99.99          2       %0.01           float64        -\n",
      "40\tpower_kW                 28057   %98.01          571     %1.99           float64        -\n",
      "41\tpower_hp                 28053   %97.99          575     %2.01           float64        -\n",
      "42\tco_emission_g/kg         18593   %64.95          10035   %35.05          float64        -\n",
      "43\tempty_weight_kg          17757   %62.03          10871   %37.97          float64        -\n",
      "44\tmileage_owner            14015   %48.96          14613   %51.04          float64        -\n",
      "45\tfirst_registration_owner 14015   %48.96          14613   %51.04          object         -\n",
      "46\towner_number             14015   %48.96          14613   %51.04          float64        -\n"
     ]
    }
   ],
   "source": [
    "general_information()"
   ]
  },
  {
   "cell_type": "code",
   "execution_count": 5,
   "metadata": {
    "scrolled": true
   },
   "outputs": [
    {
     "name": "stdout",
     "output_type": "stream",
     "text": [
      "\n",
      "   Those columns must be filled \n",
      " ------------------------------\n",
      "doors\n",
      "country_version\n",
      "warranty\n",
      "fuel_type\n",
      "colour\n",
      "paint\n",
      "desc\n",
      "seats\n",
      "engine_size\n",
      "gears\n",
      "manufacturer_colour\n",
      "drivetrain\n",
      "cylinders\n",
      "fuel_consumption\n",
      "comfort_&_convenience\n",
      "entertainment_&_media\n",
      "safety_&_security\n",
      "extras\n",
      "full_service_history\n",
      "non_smoker_vehicle\n",
      "emission_class\n",
      "emissions_sticker\n",
      "upholstery_colour\n",
      "upholstery\n",
      "warranty_month\n",
      "power_kW\n",
      "power_hp\n",
      "co_emission_g/kg\n",
      "empty_weight_kg\n",
      "mileage_owner\n",
      "first_registration_owner\n",
      "owner_number\n",
      "\n",
      "   Columns have little nan data, (those data will be dropped) \n",
      " ------------------------------\n",
      "short_description\n",
      "model\n",
      "first_registration\n",
      "gearbox\n",
      "age\n",
      "\n",
      "         Filled Columns \n",
      " ------------------------------\n",
      "make_model\n",
      "make\n",
      "location\n",
      "price\n",
      "body_type\n",
      "type\n",
      "mileage\n",
      "seller\n",
      "seller_country_alfa2\n",
      "seller_country\n"
     ]
    }
   ],
   "source": [
    "# Deciding which feature to fill\n",
    "\n",
    "filled_columns =[]\n",
    "nan_columns = []\n",
    "clear_nan_rows = []\n",
    "                 \n",
    "for column in df.columns:\n",
    "    nan_value_percentage = (df[column].isnull().sum()/len(df)*100).round(2)\n",
    "    \n",
    "    if nan_value_percentage == 0:\n",
    "        filled_columns.append(column)\n",
    "    \n",
    "    elif nan_value_percentage < 1.0:\n",
    "        clear_nan_rows.append(column)\n",
    "\n",
    "    else:\n",
    "        nan_columns.append(column)\n",
    "\n",
    "print('\\n   Those columns must be filled', '\\n', '-'*30)\n",
    "print('\\n'.join([i for i in nan_columns]))     \n",
    "\n",
    "print('\\n   Columns have little nan data, (those data will be dropped)', '\\n', '-'*30)\n",
    "print('\\n'.join([i for i in clear_nan_rows])) \n",
    "\n",
    "print('\\n         Filled Columns', '\\n', '-'*30)\n",
    "print('\\n'.join([i for i in filled_columns])) "
   ]
  },
  {
   "cell_type": "code",
   "execution_count": 6,
   "metadata": {},
   "outputs": [],
   "source": [
    "# Also location, colour, desc, paint, manufacturer_colour,  emissions_sticker, non_smoker_vehicle, upholstery_colour, warranty_month, upholstery, power_hp, co_emission_g/kg, mileage_owner, first_registration_owner and owner_number are never filled.\n",
    "# Some of fulll information, some of created after part 1 to imputation"
   ]
  },
  {
   "cell_type": "markdown",
   "metadata": {},
   "source": [
    "# doors"
   ]
  },
  {
   "cell_type": "code",
   "execution_count": 7,
   "metadata": {},
   "outputs": [
    {
     "name": "stdout",
     "output_type": "stream",
     "text": [
      "  Full NAN observations: 0 \n",
      "\n",
      " Feature :  doors \n",
      " ---------------\n",
      "  Non-NAN : 28269 (98.75%)\n",
      "Blank data is :  0\n",
      "Feature type : float64\n",
      "\n",
      "Here is some sample of doors \n",
      "2988     2.0\n",
      "5502     2.0\n",
      "6948     5.0\n",
      "23953    5.0\n",
      "12401    5.0\n",
      "Name: doors, dtype: float64\n",
      "\n",
      "\n",
      " Feature :  doors\n",
      "------------------------------\n",
      "      NAN : 359 (1.25%)\n",
      "------------------------------\n",
      "\n"
     ]
    }
   ],
   "source": [
    "information('doors')\n",
    "missing('doors')"
   ]
  },
  {
   "cell_type": "code",
   "execution_count": 8,
   "metadata": {},
   "outputs": [
    {
     "name": "stdout",
     "output_type": "stream",
     "text": [
      "\n",
      " Feature :  doors\n",
      "------------------------------\n",
      "      NAN : 359 (1.25%)\n",
      "------------------------------\n",
      "\n",
      "\n",
      " Feature :  doors\n",
      "------------------------------\n",
      "      NAN : 359 (1.25%)\n",
      "------------------------------\n",
      "\n"
     ]
    }
   ],
   "source": [
    "# This feature is related to make, model and body type\n",
    "\n",
    "missing('doors')\n",
    "\n",
    "df.groupby(['make', 'model', 'body_type'])['doors'].value_counts(dropna = False)  \n",
    "missing('doors')"
   ]
  },
  {
   "cell_type": "code",
   "execution_count": 9,
   "metadata": {},
   "outputs": [
    {
     "name": "stdout",
     "output_type": "stream",
     "text": [
      "\n",
      " Feature :  doors\n",
      "------------------------------\n",
      "      NAN : 46 (0.16%)\n",
      "------------------------------\n",
      "\n"
     ]
    }
   ],
   "source": [
    "df['doors'].fillna(df.groupby(['make', 'model', 'body_type'])['doors'].transform(lambda x: x.mode().loc[0] if len(x.mode()) > 0 else x), inplace=True)\n",
    "missing('doors')\n"
   ]
  },
  {
   "cell_type": "code",
   "execution_count": 10,
   "metadata": {},
   "outputs": [
    {
     "name": "stdout",
     "output_type": "stream",
     "text": [
      "\n",
      " Feature :  doors\n",
      "------------------------------\n",
      "      NAN : 20 (0.07%)\n",
      "------------------------------\n",
      "\n"
     ]
    }
   ],
   "source": [
    "df['doors'].fillna(df.groupby(['make', 'model'])['doors'].transform(lambda x: x.mode().iat[0] if len(x.mode()) > 0 else x), inplace=True)\n",
    "missing('doors')"
   ]
  },
  {
   "cell_type": "markdown",
   "metadata": {},
   "source": [
    "# seats"
   ]
  },
  {
   "cell_type": "code",
   "execution_count": 11,
   "metadata": {},
   "outputs": [
    {
     "name": "stdout",
     "output_type": "stream",
     "text": [
      "  Full NAN observations: 0 \n",
      "\n",
      " Feature :  seats \n",
      " ---------------\n",
      "  Non-NAN : 25503 (89.08%)\n",
      "Blank data is :  0\n",
      "Feature type : float64\n",
      "\n",
      "Here is some sample of seats \n",
      "19106    2.0\n",
      "19019    5.0\n",
      "17077    2.0\n",
      "8600     5.0\n",
      "18254    5.0\n",
      "Name: seats, dtype: float64\n",
      "\n",
      "\n",
      " Feature :  seats\n",
      "------------------------------\n",
      "      NAN : 3125 (10.92%)\n",
      "------------------------------\n",
      "\n"
     ]
    }
   ],
   "source": [
    "information('seats')\n",
    "missing('seats')"
   ]
  },
  {
   "cell_type": "code",
   "execution_count": 12,
   "metadata": {},
   "outputs": [
    {
     "name": "stdout",
     "output_type": "stream",
     "text": [
      "\n",
      " Feature :  seats\n",
      "------------------------------\n",
      "      NAN : 69 (0.24%)\n",
      "------------------------------\n",
      "\n"
     ]
    }
   ],
   "source": [
    "# This feature is related to make, model and body type\n",
    "df.seats.fillna(df.groupby(['make', 'model'])['seats'].transform('mean'), inplace = True)\n",
    "missing('seats')"
   ]
  },
  {
   "cell_type": "code",
   "execution_count": 13,
   "metadata": {},
   "outputs": [
    {
     "name": "stdout",
     "output_type": "stream",
     "text": [
      "\n",
      " Feature :  seats\n",
      "------------------------------\n",
      "      NAN : 16 (0.06%)\n",
      "------------------------------\n",
      "\n"
     ]
    }
   ],
   "source": [
    "df.seats.fillna(df.groupby(['doors', 'body_type'])['seats'].transform('mean'), inplace = True)\n",
    "missing('seats')"
   ]
  },
  {
   "cell_type": "markdown",
   "metadata": {},
   "source": [
    "#  empty_weight_kg  "
   ]
  },
  {
   "cell_type": "code",
   "execution_count": 14,
   "metadata": {},
   "outputs": [
    {
     "name": "stdout",
     "output_type": "stream",
     "text": [
      "  Full NAN observations: 0 \n",
      "\n",
      " Feature :  empty_weight_kg \n",
      " ---------------\n",
      "  Non-NAN : 17757 (62.03%)\n",
      "Blank data is :  0\n",
      "Feature type : float64\n",
      "\n",
      "Here is some sample of empty_weight_kg \n",
      "24132    1548.0\n",
      "17047     780.0\n",
      "2509        NaN\n",
      "9275        NaN\n",
      "14898       NaN\n",
      "Name: empty_weight_kg, dtype: float64\n",
      "\n",
      "\n",
      " Feature :  empty_weight_kg\n",
      "------------------------------\n",
      "      NAN : 10871 (37.97%)\n",
      "------------------------------\n",
      "\n"
     ]
    }
   ],
   "source": [
    "information('empty_weight_kg')\n",
    "missing('empty_weight_kg')"
   ]
  },
  {
   "cell_type": "code",
   "execution_count": 15,
   "metadata": {},
   "outputs": [
    {
     "data": {
      "text/plain": [
       "722"
      ]
     },
     "execution_count": 15,
     "metadata": {},
     "output_type": "execute_result"
    }
   ],
   "source": [
    "# This feature is related to make, model and body type\n",
    "\n",
    "df['empty_weight_kg'].fillna(df.groupby(['make', 'model', \"body_type\"])['empty_weight_kg'].transform('mean')).isnull().sum()\n"
   ]
  },
  {
   "cell_type": "code",
   "execution_count": 16,
   "metadata": {},
   "outputs": [
    {
     "name": "stdout",
     "output_type": "stream",
     "text": [
      "\n",
      " Feature :  empty_weight_kg\n",
      "------------------------------\n",
      "      NAN : 722 (2.52%)\n",
      "------------------------------\n",
      "\n"
     ]
    }
   ],
   "source": [
    "df['empty_weight_kg'] = df['empty_weight_kg'].fillna(df.groupby(['make', 'model', \"body_type\"])['empty_weight_kg'].transform('mean'))\n",
    "missing('empty_weight_kg')\n"
   ]
  },
  {
   "cell_type": "code",
   "execution_count": 17,
   "metadata": {},
   "outputs": [
    {
     "data": {
      "text/plain": [
       "206"
      ]
     },
     "execution_count": 17,
     "metadata": {},
     "output_type": "execute_result"
    }
   ],
   "source": [
    "df['empty_weight_kg'].fillna(df.groupby([\"engine_size\"])['empty_weight_kg'].transform('mean')).isnull().sum()\n"
   ]
  },
  {
   "cell_type": "code",
   "execution_count": 18,
   "metadata": {},
   "outputs": [
    {
     "name": "stdout",
     "output_type": "stream",
     "text": [
      "\n",
      " Feature :  empty_weight_kg\n",
      "------------------------------\n",
      "      NAN : 206 (0.72%)\n",
      "------------------------------\n",
      "\n"
     ]
    }
   ],
   "source": [
    "df['empty_weight_kg'] = df['empty_weight_kg'].fillna(df.groupby([\"engine_size\"])['empty_weight_kg'].transform('mean'))\n",
    "missing('empty_weight_kg')"
   ]
  },
  {
   "cell_type": "markdown",
   "metadata": {},
   "source": [
    "# drivetrain  "
   ]
  },
  {
   "cell_type": "code",
   "execution_count": 19,
   "metadata": {},
   "outputs": [
    {
     "name": "stdout",
     "output_type": "stream",
     "text": [
      "  Full NAN observations: 0 \n",
      "\n",
      " Feature :  drivetrain \n",
      " ---------------\n",
      "  Non-NAN : 16892 (59.01%)\n",
      "Blank data is :  0\n",
      "Feature type : object\n",
      "\n",
      "Here is some sample of drivetrain \n",
      "21340      NaN\n",
      "8656     Front\n",
      "10839      NaN\n",
      "18424    Front\n",
      "5965       NaN\n",
      "Name: drivetrain, dtype: object\n",
      "\n",
      "\n",
      " Feature :  drivetrain\n",
      "------------------------------\n",
      "      NAN : 11736 (40.99%)\n",
      "------------------------------\n",
      "\n"
     ]
    }
   ],
   "source": [
    "information('drivetrain')\n",
    "missing('drivetrain')"
   ]
  },
  {
   "cell_type": "code",
   "execution_count": 20,
   "metadata": {},
   "outputs": [
    {
     "data": {
      "text/plain": [
       "short_description\n",
       "False    11578\n",
       "True        79\n",
       "Name: count, dtype: int64"
      ]
     },
     "execution_count": 20,
     "metadata": {},
     "output_type": "execute_result"
    }
   ],
   "source": [
    "# This feature is related to make_model, body type and fuel_comsumption\n",
    "# also some information is get in short_desciption\n",
    "\n",
    "df.loc[df[df['drivetrain'].isnull()].index, \"short_description\"].str.contains(\"4[ -]*Matic\", case = False).value_counts()"
   ]
  },
  {
   "cell_type": "code",
   "execution_count": 21,
   "metadata": {},
   "outputs": [
    {
     "name": "stdout",
     "output_type": "stream",
     "text": [
      "\n",
      " Feature :  drivetrain\n",
      "------------------------------\n",
      "      NAN : 11657 (40.72%)\n",
      "------------------------------\n",
      "\n"
     ]
    }
   ],
   "source": [
    "matic_train  = df.loc[df[df.drivetrain.isnull()].index, \"short_description\"].str.contains(\"4[ -]*Matic\", case = False)\n",
    "matic_index = matic_train[matic_train == True].index\n",
    "df.loc[matic_index, \"drivetrain\"] = \"4WD\"\n",
    "missing('drivetrain')"
   ]
  },
  {
   "cell_type": "code",
   "execution_count": 22,
   "metadata": {},
   "outputs": [
    {
     "name": "stdout",
     "output_type": "stream",
     "text": [
      "\n",
      " Feature :  drivetrain\n",
      "------------------------------\n",
      "      NAN : 11641 (40.66%)\n",
      "------------------------------\n",
      "\n"
     ]
    }
   ],
   "source": [
    "front_train  = df.loc[df[df[\"drivetrain\"].isnull()].index, \"short_description\"].str.contains(\"Front\", case = False)\n",
    "front_index = front_train[front_train == True].index\n",
    "front_train[front_train == True].count()\n",
    "df.loc[front_index, \"drivetrain\"] = \"Front\"\n",
    "missing('drivetrain')"
   ]
  },
  {
   "cell_type": "code",
   "execution_count": 23,
   "metadata": {},
   "outputs": [
    {
     "name": "stdout",
     "output_type": "stream",
     "text": [
      "\n",
      " Feature :  drivetrain\n",
      "------------------------------\n",
      "      NAN : 199 (0.7%)\n",
      "------------------------------\n",
      "\n"
     ]
    }
   ],
   "source": [
    "df[\"drivetrain\"].fillna(df.groupby(['body_type', 'gearbox'])['drivetrain'].transform(lambda x: x.mode()[0]), inplace = True)\n",
    "missing('drivetrain') "
   ]
  },
  {
   "cell_type": "markdown",
   "metadata": {},
   "source": [
    "# country_version"
   ]
  },
  {
   "cell_type": "code",
   "execution_count": 24,
   "metadata": {},
   "outputs": [
    {
     "name": "stdout",
     "output_type": "stream",
     "text": [
      "  Full NAN observations: 0 \n",
      "\n",
      " Feature :  country_version \n",
      " ---------------\n",
      "  Non-NAN : 16889 (58.99%)\n",
      "Blank data is :  0\n",
      "Feature type : object\n",
      "\n",
      "Here is some sample of country_version \n",
      "24676    Germany\n",
      "12160      Spain\n",
      "12352        NaN\n",
      "24481      Spain\n",
      "1688         NaN\n",
      "Name: country_version, dtype: object\n",
      "\n",
      "\n",
      " Feature :  country_version\n",
      "------------------------------\n",
      "      NAN : 11739 (41.01%)\n",
      "------------------------------\n",
      "\n"
     ]
    }
   ],
   "source": [
    "information('country_version')\n",
    "missing('country_version')"
   ]
  },
  {
   "cell_type": "code",
   "execution_count": 25,
   "metadata": {},
   "outputs": [
    {
     "name": "stdout",
     "output_type": "stream",
     "text": [
      "\n",
      " Feature :  country_version\n",
      "------------------------------\n",
      "      NAN : 11739 (41.01%)\n",
      "------------------------------\n",
      "\n",
      "\n",
      " Feature :  country_version\n",
      "------------------------------\n",
      "      NAN : 172 (0.6%)\n",
      "------------------------------\n",
      "\n"
     ]
    }
   ],
   "source": [
    "# Country version is related body_type, drivetrain. Manufacturer and seller country can be same\n",
    "\n",
    "missing('country_version')\n",
    "\n",
    "df['country_version'].fillna(df.groupby(['body_type', 'drivetrain'])['country_version'].transform(lambda x: x.mode()[0]), inplace = True)\n",
    "missing('country_version')"
   ]
  },
  {
   "cell_type": "code",
   "execution_count": null,
   "metadata": {},
   "outputs": [],
   "source": []
  },
  {
   "cell_type": "code",
   "execution_count": 26,
   "metadata": {},
   "outputs": [
    {
     "name": "stdout",
     "output_type": "stream",
     "text": [
      "\n",
      " Feature :  country_version\n",
      "------------------------------\n",
      "      NAN : 0 (0.0%)\n",
      "------------------------------\n",
      "\n"
     ]
    }
   ],
   "source": [
    "df['country_version'].fillna(df.groupby('seller_country')['country_version'].transform(lambda x: x.mode().iloc[0] if len(x) > 0 and len(x.mode()) > 0 else np.nanmedian(x)), inplace=True)\n",
    "missing('country_version')"
   ]
  },
  {
   "cell_type": "markdown",
   "metadata": {},
   "source": [
    "# warranty"
   ]
  },
  {
   "cell_type": "code",
   "execution_count": 27,
   "metadata": {},
   "outputs": [
    {
     "name": "stdout",
     "output_type": "stream",
     "text": [
      "  Full NAN observations: 0 \n",
      "\n",
      " Feature :  warranty \n",
      " ---------------\n",
      "  Non-NAN : 15651 (54.67%)\n",
      "Blank data is :  0\n",
      "Feature type : object\n",
      "\n",
      "Here is some sample of warranty \n",
      "25283    Yes\n",
      "2669     Yes\n",
      "1207     Yes\n",
      "6527     NaN\n",
      "13602    NaN\n",
      "Name: warranty, dtype: object\n",
      "\n",
      "\n",
      " Feature :  warranty\n",
      "------------------------------\n",
      "      NAN : 12977 (45.33%)\n",
      "------------------------------\n",
      "\n"
     ]
    }
   ],
   "source": [
    "information('warranty')\n",
    "missing('warranty')"
   ]
  },
  {
   "cell_type": "code",
   "execution_count": 28,
   "metadata": {},
   "outputs": [
    {
     "name": "stdout",
     "output_type": "stream",
     "text": [
      "\n",
      " Feature :  warranty\n",
      "------------------------------\n",
      "      NAN : 12977 (45.33%)\n",
      "------------------------------\n",
      "\n",
      "\n",
      " Feature :  warranty\n",
      "------------------------------\n",
      "      NAN : 12977 (45.33%)\n",
      "------------------------------\n",
      "\n"
     ]
    }
   ],
   "source": [
    "# Fiiling by make_model and seller country\n",
    "\n",
    "missing('warranty')\n",
    "\n",
    "df.groupby(['make_model', 'seller_country']).warranty.apply(lambda x: x.mode()[0] if len(x.mode()) > 0 else None)\n",
    "missing('warranty')"
   ]
  },
  {
   "cell_type": "code",
   "execution_count": 29,
   "metadata": {},
   "outputs": [
    {
     "name": "stdout",
     "output_type": "stream",
     "text": [
      "\n",
      " Feature :  warranty\n",
      "------------------------------\n",
      "      NAN : 12977 (45.33%)\n",
      "------------------------------\n",
      "\n"
     ]
    }
   ],
   "source": [
    "df.groupby(['make_model', 'seller_country'])['warranty'].apply(lambda x: x.fillna(x.mode()[0], inplace = True) if len(x.mode()) > 0 else x)\n",
    "\n",
    "missing('warranty')"
   ]
  },
  {
   "cell_type": "code",
   "execution_count": 30,
   "metadata": {},
   "outputs": [
    {
     "name": "stdout",
     "output_type": "stream",
     "text": [
      "\n",
      " Feature :  warranty\n",
      "------------------------------\n",
      "      NAN : 0 (0.0%)\n",
      "------------------------------\n",
      "Yes              : 15651 (54.67 %)\n",
      "No               : 12977 (45.33 %)\n",
      "\n"
     ]
    }
   ],
   "source": [
    "df['warranty'].fillna('No', inplace = True) # remain NaN fill with No\n",
    "missing('warranty', True)"
   ]
  },
  {
   "cell_type": "markdown",
   "metadata": {},
   "source": [
    "# full_service_history"
   ]
  },
  {
   "cell_type": "code",
   "execution_count": 31,
   "metadata": {},
   "outputs": [
    {
     "name": "stdout",
     "output_type": "stream",
     "text": [
      "  Full NAN observations: 0 \n",
      "\n",
      " Feature :  full_service_history \n",
      " ---------------\n",
      "  Non-NAN : 12564 (43.89%)\n",
      "Blank data is :  0\n",
      "Feature type : object\n",
      "\n",
      "Here is some sample of full_service_history \n",
      "24600    NaN\n",
      "28309    NaN\n",
      "18817    NaN\n",
      "25572    NaN\n",
      "28078    Yes\n",
      "Name: full_service_history, dtype: object\n",
      "\n",
      "\n",
      " Feature :  full_service_history\n",
      "------------------------------\n",
      "      NAN : 16064 (56.11%)\n",
      "------------------------------\n",
      "\n"
     ]
    }
   ],
   "source": [
    "information('full_service_history')\n",
    "missing('full_service_history')"
   ]
  },
  {
   "cell_type": "code",
   "execution_count": 32,
   "metadata": {},
   "outputs": [
    {
     "data": {
      "text/plain": [
       "RangeIndex(start=0, stop=28628, step=1)"
      ]
     },
     "execution_count": 32,
     "metadata": {},
     "output_type": "execute_result"
    }
   ],
   "source": [
    "df[df['warranty'].notnull()][\"warranty\"].index"
   ]
  },
  {
   "cell_type": "code",
   "execution_count": 33,
   "metadata": {},
   "outputs": [
    {
     "name": "stdout",
     "output_type": "stream",
     "text": [
      "\n",
      " Feature :  full_service_history\n",
      "------------------------------\n",
      "      NAN : 0 (0.0%)\n",
      "------------------------------\n",
      "\n"
     ]
    }
   ],
   "source": [
    "# Nan values which have filled warranty column are cosidered as Yes\n",
    "df.loc[df[df['warranty'].notnull()][\"warranty\"].index, \"full_service_history\"] = \"Yes\"\n",
    "missing('full_service_history')"
   ]
  },
  {
   "cell_type": "markdown",
   "metadata": {},
   "source": [
    "# fuel_type"
   ]
  },
  {
   "cell_type": "code",
   "execution_count": 34,
   "metadata": {},
   "outputs": [
    {
     "name": "stdout",
     "output_type": "stream",
     "text": [
      "  Full NAN observations: 0 \n",
      "\n",
      " Feature :  fuel_type \n",
      " ---------------\n",
      "  Non-NAN : 26841 (93.76%)\n",
      "Blank data is :  0\n",
      "Feature type : object\n",
      "\n",
      "Here is some sample of fuel_type \n",
      "27117     Diesel\n",
      "6066     Benzine\n",
      "10258    Benzine\n",
      "21410    Benzine\n",
      "22183        NaN\n",
      "Name: fuel_type, dtype: object\n",
      "\n",
      "\n",
      " Feature :  fuel_type\n",
      "------------------------------\n",
      "      NAN : 1787 (6.24%)\n",
      "------------------------------\n",
      "\n"
     ]
    }
   ],
   "source": [
    "information('fuel_type')\n",
    "missing('fuel_type')"
   ]
  },
  {
   "cell_type": "code",
   "execution_count": 35,
   "metadata": {},
   "outputs": [
    {
     "name": "stdout",
     "output_type": "stream",
     "text": [
      "\n",
      " Feature :  fuel_type\n",
      "------------------------------\n",
      "      NAN : 1787 (6.24%)\n",
      "------------------------------\n",
      "Benzine          : 17330 (60.54 %)\n",
      "Diesel           : 8727 (30.48 %)\n",
      "nan              : 1787 (6.24 %)\n",
      "Others           : 316 (1.1 %)\n",
      "LPG              : 280 (0.98 %)\n",
      "Electric         : 188 (0.66 %)\n",
      "\n"
     ]
    }
   ],
   "source": [
    "# reduction of cardinality\n",
    "\n",
    "df['fuel_type'] = df['fuel_type'].str.replace('CNG','Others')\n",
    "df['fuel_type'] = df['fuel_type'].str.replace('Hydrogen','Others')\n",
    "df['fuel_type'] = df['fuel_type'].str.replace('Biogas','Others')\n",
    "\n",
    "missing('fuel_type', True)"
   ]
  },
  {
   "cell_type": "code",
   "execution_count": 36,
   "metadata": {},
   "outputs": [
    {
     "name": "stdout",
     "output_type": "stream",
     "text": [
      "\n",
      " Feature :  fuel_type\n",
      "------------------------------\n",
      "      NAN : 1787 (6.24%)\n",
      "------------------------------\n",
      "\n",
      "\n",
      " Feature :  fuel_type\n",
      "------------------------------\n",
      "      NAN : 954 (3.33%)\n",
      "------------------------------\n",
      "\n"
     ]
    }
   ],
   "source": [
    "# Fuel type is related by make_model\n",
    "# Some of short description has fuel type information\n",
    "\n",
    "missing('fuel_type')\n",
    "# df.groupby(\"make_model\")[\"fuel_type\"].value_counts()\n",
    "df_fueltype_nan = df[df['fuel_type'].isnull()][['make_model','short_description']]\n",
    "\n",
    "df.loc[df_fueltype_nan[df_fueltype_nan.short_description.str.contains('([Hh]+.br)|(twin)|(plug)', na=False, case=False)].index, 'fuel_type'] = 'Hybrid'\n",
    "missing('fuel_type')"
   ]
  },
  {
   "cell_type": "code",
   "execution_count": 37,
   "metadata": {},
   "outputs": [
    {
     "name": "stdout",
     "output_type": "stream",
     "text": [
      "\n",
      " Feature :  fuel_type\n",
      "------------------------------\n",
      "      NAN : 777 (2.71%)\n",
      "------------------------------\n",
      "\n"
     ]
    }
   ],
   "source": [
    "df.loc[df_fueltype_nan[df_fueltype_nan['short_description'].str.contains('(kwh|kw)|(elect+)', na=False, case=False)].index, 'fuel_type'] = 'Electric'\n",
    "missing('fuel_type')"
   ]
  },
  {
   "cell_type": "code",
   "execution_count": 38,
   "metadata": {},
   "outputs": [
    {
     "name": "stdout",
     "output_type": "stream",
     "text": [
      "\n",
      " Feature :  fuel_type\n",
      "------------------------------\n",
      "      NAN : 11 (0.04%)\n",
      "------------------------------\n",
      "\n"
     ]
    }
   ],
   "source": [
    "df.fuel_type.fillna(df.groupby('make_model')['fuel_type'].transform(lambda x: x.mode().iloc[0] if len(x.mode()) > 0 else np.nan), inplace=True)\n",
    "missing('fuel_type')"
   ]
  },
  {
   "cell_type": "code",
   "execution_count": 123,
   "metadata": {},
   "outputs": [
    {
     "name": "stdout",
     "output_type": "stream",
     "text": [
      "\n",
      " Feature :  fuel_type\n",
      "------------------------------\n",
      "      NAN : 0 (0.0%)\n",
      "------------------------------\n",
      "Benzine          : 16091 (62.88 %)\n",
      "Diesel           : 7757 (30.31 %)\n",
      "Hybrid           : 853 (3.33 %)\n",
      "Electric         : 321 (1.25 %)\n",
      "Others           : 299 (1.17 %)\n",
      "LPG              : 262 (1.02 %)\n",
      "Hybrid/Diesel    : 6 (0.02 %)\n",
      "\n"
     ]
    }
   ],
   "source": [
    "missing('fuel_type', True)"
   ]
  },
  {
   "cell_type": "markdown",
   "metadata": {},
   "source": [
    "# fuel_consumption"
   ]
  },
  {
   "cell_type": "code",
   "execution_count": 39,
   "metadata": {},
   "outputs": [
    {
     "name": "stdout",
     "output_type": "stream",
     "text": [
      "  Full NAN observations: 0 \n",
      "\n",
      " Feature :  fuel_consumption \n",
      " ---------------\n",
      "  Non-NAN : 23375 (81.65%)\n",
      "Blank data is :  0\n",
      "Feature type : float64\n",
      "\n",
      "Here is some sample of fuel_consumption \n",
      "15741    7.0\n",
      "6634     3.7\n",
      "23826    6.3\n",
      "13338    NaN\n",
      "15801    NaN\n",
      "Name: fuel_consumption, dtype: float64\n",
      "\n",
      "\n",
      " Feature :  fuel_consumption\n",
      "------------------------------\n",
      "      NAN : 5253 (18.35%)\n",
      "------------------------------\n",
      "\n"
     ]
    }
   ],
   "source": [
    "information('fuel_consumption')\n",
    "missing('fuel_consumption')"
   ]
  },
  {
   "cell_type": "code",
   "execution_count": 40,
   "metadata": {},
   "outputs": [
    {
     "data": {
      "text/plain": [
       "0         3.800000\n",
       "2         7.540385\n",
       "3         6.665000\n",
       "4         4.900000\n",
       "5         8.200000\n",
       "           ...    \n",
       "28622     6.130435\n",
       "28624     9.100000\n",
       "28625     4.633333\n",
       "28626     5.519231\n",
       "28627    10.525000\n",
       "Name: fuel_consumption, Length: 26816, dtype: float64"
      ]
     },
     "execution_count": 40,
     "metadata": {},
     "output_type": "execute_result"
    }
   ],
   "source": [
    "# \"Benzine\", \"Diesel\", \"Other\", \"LPG\" fuel types have been analyzed separately from Hybrid and Electic Models\n",
    "\n",
    "df_fuel = df[df[\"fuel_type\"].isin([\"Benzine\", \"Diesel\", \"Other\", \"LPG\"])]\n",
    "df_fuel.groupby([\"model\", \"fuel_type\", \"body_type\"])[\"fuel_consumption\"].transform(lambda x: x.mean())"
   ]
  },
  {
   "cell_type": "code",
   "execution_count": 41,
   "metadata": {},
   "outputs": [],
   "source": [
    "df_fuel[\"engine_class\"] = df_fuel.engine_size.transform(lambda x: \"0-50k\" if x <= 50000 else \\\n",
    "                     \"best\" if x <= 1.4 else \"medium\" if x <= 1.8 \\\n",
    "                     else \"high\" if x <= 2.6 else \"higher\" if x <= 3.5 \\\n",
    "                     else \"too much\")"
   ]
  },
  {
   "cell_type": "code",
   "execution_count": 42,
   "metadata": {},
   "outputs": [
    {
     "name": "stdout",
     "output_type": "stream",
     "text": [
      "\n",
      " Feature :  fuel_consumption\n",
      "------------------------------\n",
      "      NAN : 1347 (4.71%)\n",
      "------------------------------\n",
      "\n"
     ]
    }
   ],
   "source": [
    "# first NaN values have been filled according to [\"model\", \"fuel_type\", \"body_type\"]\n",
    "\n",
    "df.fuel_consumption.fillna(df_fuel.groupby([\"model\", \"fuel_type\", \"body_type\"])[\"fuel_consumption\"].transform(lambda x: x.mean()), inplace = True)\n",
    "missing('fuel_consumption')"
   ]
  },
  {
   "cell_type": "code",
   "execution_count": 43,
   "metadata": {},
   "outputs": [
    {
     "name": "stdout",
     "output_type": "stream",
     "text": [
      "\n",
      " Feature :  fuel_consumption\n",
      "------------------------------\n",
      "      NAN : 1294 (4.52%)\n",
      "------------------------------\n",
      "\n"
     ]
    }
   ],
   "source": [
    "#NaN values have been filled according to [\"model\", \"fuel_type\", \"engine_size\"]\n",
    "df.fuel_consumption.fillna(df_fuel.groupby([\"model\", \"fuel_type\", \"engine_size\"])[\"fuel_consumption\"].transform(lambda x: x.mean()), inplace = True)\n",
    "missing('fuel_consumption')"
   ]
  },
  {
   "cell_type": "code",
   "execution_count": 44,
   "metadata": {},
   "outputs": [
    {
     "name": "stdout",
     "output_type": "stream",
     "text": [
      "\n",
      " Feature :  fuel_consumption\n",
      "------------------------------\n",
      "      NAN : 1066 (3.72%)\n",
      "------------------------------\n",
      "\n"
     ]
    }
   ],
   "source": [
    "#NaN values have been filled according to [\"fuel_type\", \"engine_size\"]\n",
    "df.fuel_consumption.fillna(df_fuel.groupby([\"fuel_type\", \"engine_size\"])[\"fuel_consumption\"].transform(lambda x: x.mean()), inplace = True)\n",
    "missing('fuel_consumption')"
   ]
  },
  {
   "cell_type": "code",
   "execution_count": 45,
   "metadata": {},
   "outputs": [
    {
     "name": "stdout",
     "output_type": "stream",
     "text": [
      "\n",
      " Feature :  fuel_consumption\n",
      "------------------------------\n",
      "      NAN : 1059 (3.7%)\n",
      "------------------------------\n",
      "\n"
     ]
    }
   ],
   "source": [
    "#NaN values have been filled according to [\"fuel_type\", \"engine_size\"]\n",
    "df.fuel_consumption.fillna(df_fuel.groupby([\"make\", \"engine_size\"])[\"fuel_consumption\"].transform(lambda x: x.mean()), inplace = True)\n",
    "missing('fuel_consumption')"
   ]
  },
  {
   "cell_type": "code",
   "execution_count": 46,
   "metadata": {},
   "outputs": [
    {
     "name": "stdout",
     "output_type": "stream",
     "text": [
      "\n",
      " Feature :  fuel_consumption\n",
      "------------------------------\n",
      "      NAN : 766 (2.68%)\n",
      "------------------------------\n",
      "\n"
     ]
    }
   ],
   "source": [
    "# remaining NaN values have been filled after engine size has been reclassified as seen above\n",
    "df.fuel_consumption.fillna(df_fuel.groupby([\"make\", \"engine_class\"])[\"fuel_consumption\"].transform(lambda x: x.mean()), inplace = True)\n",
    "missing('fuel_consumption')"
   ]
  },
  {
   "cell_type": "code",
   "execution_count": 47,
   "metadata": {},
   "outputs": [
    {
     "data": {
      "text/plain": [
       "1263     1.9\n",
       "27035    5.6\n",
       "27037    5.6\n",
       "27095    5.5\n",
       "27411    5.6\n",
       "27413    5.6\n",
       "27468    5.5\n",
       "27519    NaN\n",
       "27592    4.7\n",
       "27906    NaN\n",
       "27979    4.7\n",
       "Name: fuel_consumption, dtype: float64"
      ]
     },
     "execution_count": 47,
     "metadata": {},
     "output_type": "execute_result"
    }
   ],
   "source": [
    "import re \n",
    "# Even though the most common Fuel Type for hybrid automobiles is Benzine, Diesel also might be preferred.\n",
    "# Hybrid/diesel fuel type has been searched in Short Description \n",
    "\n",
    "df.loc[df[df[\"fuel_type\"] == \"Hybrid\"][\"short_description\"].str.extract(\"(diesel)\", flags=re.IGNORECASE).dropna().index, \"fuel_consumption\"]"
   ]
  },
  {
   "cell_type": "code",
   "execution_count": 48,
   "metadata": {},
   "outputs": [
    {
     "name": "stdout",
     "output_type": "stream",
     "text": [
      "\n",
      " Feature :  fuel_consumption\n",
      "------------------------------\n",
      "      NAN : 766 (2.68%)\n",
      "------------------------------\n",
      "\n"
     ]
    }
   ],
   "source": [
    "# hybrid diesel fuel type has been reclassified as \"Hybrid/Diesel\"\n",
    "df.loc[df[df[\"fuel_type\"] == \"Hybrid\"][\"short_description\"].str.extract(\"(diesel)\", flags=re.IGNORECASE).dropna().index, \"fuel_type\"] = \"Hybrid/Diesel\"\n",
    "missing('fuel_consumption')"
   ]
  },
  {
   "cell_type": "code",
   "execution_count": 49,
   "metadata": {},
   "outputs": [
    {
     "name": "stdout",
     "output_type": "stream",
     "text": [
      "\n",
      " Feature :  fuel_consumption\n",
      "------------------------------\n",
      "      NAN : 644 (2.25%)\n",
      "------------------------------\n",
      "\n"
     ]
    }
   ],
   "source": [
    "# Remainin NaN values have been filled according to [\"model\", \"fuel_type\", \"engine_size\"]\n",
    "df.fuel_consumption.fillna(df.groupby([\"model\", \"fuel_type\", \"engine_size\"])[\"fuel_consumption\"].transform(lambda x: x.mean()), inplace = True)\n",
    "missing('fuel_consumption')"
   ]
  },
  {
   "cell_type": "code",
   "execution_count": 50,
   "metadata": {},
   "outputs": [
    {
     "name": "stdout",
     "output_type": "stream",
     "text": [
      "\n",
      " Feature :  fuel_consumption\n",
      "------------------------------\n",
      "      NAN : 628 (2.19%)\n",
      "------------------------------\n",
      "\n"
     ]
    }
   ],
   "source": [
    "# Remainin NaN values have been filled according to [\"make\", \"fuel_type\", \"engine_size\"]\n",
    "df.fuel_consumption.fillna(df.groupby([\"make\", \"fuel_type\", \"engine_size\"])[\"fuel_consumption\"].transform(lambda x: x.mean()), inplace = True)\n",
    "\n",
    "missing('fuel_consumption')"
   ]
  },
  {
   "cell_type": "code",
   "execution_count": 51,
   "metadata": {},
   "outputs": [
    {
     "name": "stdout",
     "output_type": "stream",
     "text": [
      "\n",
      " Feature :  fuel_consumption\n",
      "------------------------------\n",
      "      NAN : 526 (1.84%)\n",
      "------------------------------\n",
      "\n"
     ]
    }
   ],
   "source": [
    "# Engine_class has been used in order to fill electric and hybrid automobiles\n",
    "# Remainin NaN values have been filled according to [\"model\", \"fuel_type\", \"engine_class\"]\n",
    "df.fuel_consumption.fillna(df.groupby([\"model\", \"fuel_type\"])[\"fuel_consumption\"].transform(lambda x: x.mean()), inplace = True)\n",
    "missing('fuel_consumption')"
   ]
  },
  {
   "cell_type": "code",
   "execution_count": 52,
   "metadata": {},
   "outputs": [
    {
     "name": "stdout",
     "output_type": "stream",
     "text": [
      "\n",
      " Feature :  fuel_consumption\n",
      "------------------------------\n",
      "      NAN : 213 (0.74%)\n",
      "------------------------------\n",
      "\n"
     ]
    }
   ],
   "source": [
    "df.fuel_consumption.fillna(df.groupby([\"make\", \"fuel_type\"])[\"fuel_consumption\"].transform(lambda x: x.mean()), inplace = True)\n",
    "missing('fuel_consumption')"
   ]
  },
  {
   "cell_type": "markdown",
   "metadata": {},
   "source": [
    "# power_kW"
   ]
  },
  {
   "cell_type": "code",
   "execution_count": 53,
   "metadata": {},
   "outputs": [
    {
     "name": "stdout",
     "output_type": "stream",
     "text": [
      "  Full NAN observations: 0 \n",
      "\n",
      " Feature :  power_kW \n",
      " ---------------\n",
      "  Non-NAN : 28057 (98.01%)\n",
      "Blank data is :  0\n",
      "Feature type : float64\n",
      "\n",
      "Here is some sample of power_kW \n",
      "17968    135.0\n",
      "24877     57.0\n",
      "22754    206.0\n",
      "23771    105.0\n",
      "19619    419.0\n",
      "Name: power_kW, dtype: float64\n",
      "\n",
      "\n",
      " Feature :  power_kW\n",
      "------------------------------\n",
      "      NAN : 571 (1.99%)\n",
      "------------------------------\n",
      "\n"
     ]
    }
   ],
   "source": [
    "information('power_kW')\n",
    "missing('power_kW')"
   ]
  },
  {
   "cell_type": "code",
   "execution_count": 54,
   "metadata": {},
   "outputs": [
    {
     "data": {
      "text/plain": [
       "0    267\n",
       "1     13\n",
       "dtype: int64"
      ]
     },
     "execution_count": 54,
     "metadata": {},
     "output_type": "execute_result"
    }
   ],
   "source": [
    "import re\n",
    "\n",
    "# How many values can I fill using the short_description that contains the \"ch\" value?\n",
    "df.loc[df[df['power_kW'].isnull()].index, \"short_description\"].str.extract(\"(\\d+)ch|(\\d+\\.*\\d*)cv\", flags=re.IGNORECASE).notnull().sum()"
   ]
  },
  {
   "cell_type": "code",
   "execution_count": 55,
   "metadata": {},
   "outputs": [
    {
     "name": "stdout",
     "output_type": "stream",
     "text": [
      "\n",
      " Feature :  power_kW\n",
      "------------------------------\n",
      "      NAN : 304 (1.06%)\n",
      "------------------------------\n",
      "\n"
     ]
    }
   ],
   "source": [
    "df.loc[df[df[\"power_kW\"].isnull()].index, \"power_kW\"] = df.loc[df[df[\"power_kW\"].isnull()].index, \"short_description\"].str.extract(\"(\\d+\\.*\\d*)ch\", flags=re.IGNORECASE).values.astype(float)\n",
    "missing('power_kW')"
   ]
  },
  {
   "cell_type": "code",
   "execution_count": 56,
   "metadata": {},
   "outputs": [
    {
     "data": {
      "text/plain": [
       "0    13\n",
       "dtype: int64"
      ]
     },
     "execution_count": 56,
     "metadata": {},
     "output_type": "execute_result"
    }
   ],
   "source": [
    "df.loc[df[df[\"power_kW\"].isnull()].index, \"short_description\"].str.extract(\"(\\d+\\.*\\d*)cv\", flags=re.IGNORECASE).notnull().sum()"
   ]
  },
  {
   "cell_type": "code",
   "execution_count": 57,
   "metadata": {},
   "outputs": [
    {
     "name": "stdout",
     "output_type": "stream",
     "text": [
      "\n",
      " Feature :  power_kW\n",
      "------------------------------\n",
      "      NAN : 291 (1.02%)\n",
      "------------------------------\n",
      "\n"
     ]
    }
   ],
   "source": [
    "df.loc[df[df[\"power_kW\"].isnull()].index, \"power_kW\"] = df.loc[df[df[\"power_kW\"].isnull()].index, \"short_description\"].str.extract(\"(\\d+\\.*\\d*)cv\", flags=re.IGNORECASE).values.astype(float)\n",
    "missing('power_kW')"
   ]
  },
  {
   "cell_type": "code",
   "execution_count": 58,
   "metadata": {},
   "outputs": [
    {
     "name": "stdout",
     "output_type": "stream",
     "text": [
      "\n",
      " Feature :  power_kW\n",
      "------------------------------\n",
      "      NAN : 25 (0.09%)\n",
      "------------------------------\n",
      "\n"
     ]
    }
   ],
   "source": [
    "df['power_kW'].fillna(df.groupby(['make', 'model', 'body_type', \"type\"])['power_kW'].transform('mean'), inplace = True)\n",
    "missing('power_kW')"
   ]
  },
  {
   "cell_type": "markdown",
   "metadata": {},
   "source": [
    "# engine_size"
   ]
  },
  {
   "cell_type": "code",
   "execution_count": 59,
   "metadata": {},
   "outputs": [
    {
     "name": "stdout",
     "output_type": "stream",
     "text": [
      "  Full NAN observations: 0 \n",
      "\n",
      " Feature :  engine_size \n",
      " ---------------\n",
      "  Non-NAN : 27225 (95.1%)\n",
      "Blank data is :  0\n",
      "Feature type : float64\n",
      "\n",
      "Here is some sample of engine_size \n",
      "9350        NaN\n",
      "7674     1598.0\n",
      "18609    2000.0\n",
      "23884    1197.0\n",
      "28599    1969.0\n",
      "Name: engine_size, dtype: float64\n",
      "\n",
      "\n",
      " Feature :  engine_size\n",
      "------------------------------\n",
      "      NAN : 1403 (4.9%)\n",
      "------------------------------\n",
      "\n"
     ]
    }
   ],
   "source": [
    "information('engine_size')\n",
    "missing('engine_size')"
   ]
  },
  {
   "cell_type": "code",
   "execution_count": 60,
   "metadata": {},
   "outputs": [
    {
     "data": {
      "text/plain": [
       "0    376\n",
       "dtype: int64"
      ]
     },
     "execution_count": 60,
     "metadata": {},
     "output_type": "execute_result"
    }
   ],
   "source": [
    "# How many values can I fill using the short_description?\n",
    "# The floating-point numbers (e.g., 1.0, 2.0) in the short_description correspond to the engine_size.\n",
    "\n",
    "df.loc[df[df['engine_size'].isnull()].index, \"short_description\"].str.extract(\"(\\d+\\.\\d+)\").notnull().sum()"
   ]
  },
  {
   "cell_type": "code",
   "execution_count": 61,
   "metadata": {},
   "outputs": [
    {
     "name": "stdout",
     "output_type": "stream",
     "text": [
      "\n",
      " Feature :  engine_size\n",
      "------------------------------\n",
      "      NAN : 1027 (3.59%)\n",
      "------------------------------\n",
      "\n"
     ]
    }
   ],
   "source": [
    "# The floating-point numbers (e.g., 1.0, 2.0) in the short_description correspond to the engine_size.\n",
    "# Let's fill the NaN values by extracting these floating-point numbers.\n",
    "\n",
    "df.loc[df[df[\"engine_size\"].isnull()].index, \"engine_size\"] = df.loc[df[df[\"engine_size\"].isnull()].index, \"short_description\"].str.extract(\"(\\d+\\.\\d+)\").values.astype(float)\n",
    "missing('engine_size')"
   ]
  },
  {
   "cell_type": "code",
   "execution_count": 62,
   "metadata": {},
   "outputs": [
    {
     "data": {
      "text/plain": [
       "258"
      ]
     },
     "execution_count": 62,
     "metadata": {},
     "output_type": "execute_result"
    }
   ],
   "source": [
    "# After the groupby operation, how many NaN values do I have remaining\n",
    "\n",
    "df['engine_size'].fillna(df.groupby(['make', 'model', 'body_type', \"type\"])['engine_size'].transform('mean')).isnull().sum()"
   ]
  },
  {
   "cell_type": "code",
   "execution_count": 63,
   "metadata": {},
   "outputs": [
    {
     "name": "stdout",
     "output_type": "stream",
     "text": [
      "\n",
      " Feature :  engine_size\n",
      "------------------------------\n",
      "      NAN : 258 (0.9%)\n",
      "------------------------------\n",
      "\n"
     ]
    }
   ],
   "source": [
    "df['engine_size'].fillna(df.groupby(['make', 'model', 'body_type', \"type\"])['engine_size'].transform('mean'), inplace = True)\n",
    "missing('engine_size')"
   ]
  },
  {
   "cell_type": "code",
   "execution_count": 64,
   "metadata": {},
   "outputs": [
    {
     "name": "stdout",
     "output_type": "stream",
     "text": [
      "\n",
      " Feature :  engine_size\n",
      "------------------------------\n",
      "      NAN : 258 (0.9%)\n",
      "------------------------------\n",
      "\n"
     ]
    }
   ],
   "source": [
    "# After the groupby operation, how many NaN values do I have remaining\n",
    "\n",
    "df[\"engine_size\"].fillna(df.groupby([\"power_kW\"])[\"engine_size\"].transform(\"mean\")).isnull().sum()\n",
    "missing('engine_size')"
   ]
  },
  {
   "cell_type": "code",
   "execution_count": 65,
   "metadata": {},
   "outputs": [
    {
     "name": "stdout",
     "output_type": "stream",
     "text": [
      "\n",
      " Feature :  engine_size\n",
      "------------------------------\n",
      "      NAN : 18 (0.06%)\n",
      "------------------------------\n",
      "\n"
     ]
    }
   ],
   "source": [
    "df[\"engine_size\"].fillna(df.groupby([\"power_kW\"])[\"engine_size\"].transform(\"mean\"), inplace = True)\n",
    "missing('engine_size')"
   ]
  },
  {
   "cell_type": "markdown",
   "metadata": {},
   "source": [
    "# cylinders"
   ]
  },
  {
   "cell_type": "code",
   "execution_count": 66,
   "metadata": {},
   "outputs": [
    {
     "name": "stdout",
     "output_type": "stream",
     "text": [
      "  Full NAN observations: 0 \n",
      "\n",
      " Feature :  cylinders \n",
      " ---------------\n",
      "  Non-NAN : 18851 (65.85%)\n",
      "Blank data is :  0\n",
      "Feature type : float64\n",
      "\n",
      "Here is some sample of cylinders \n",
      "17301    NaN\n",
      "19414    6.0\n",
      "1351     NaN\n",
      "16484    NaN\n",
      "17306    4.0\n",
      "Name: cylinders, dtype: float64\n",
      "\n",
      "\n",
      " Feature :  cylinders\n",
      "------------------------------\n",
      "      NAN : 9777 (34.15%)\n",
      "------------------------------\n",
      "\n"
     ]
    }
   ],
   "source": [
    "information('cylinders')\n",
    "missing('cylinders')"
   ]
  },
  {
   "cell_type": "code",
   "execution_count": 67,
   "metadata": {},
   "outputs": [
    {
     "data": {
      "text/html": [
       "<div>\n",
       "<style scoped>\n",
       "    .dataframe tbody tr th:only-of-type {\n",
       "        vertical-align: middle;\n",
       "    }\n",
       "\n",
       "    .dataframe tbody tr th {\n",
       "        vertical-align: top;\n",
       "    }\n",
       "\n",
       "    .dataframe thead th {\n",
       "        text-align: right;\n",
       "    }\n",
       "</style>\n",
       "<table border=\"1\" class=\"dataframe\">\n",
       "  <thead>\n",
       "    <tr style=\"text-align: right;\">\n",
       "      <th></th>\n",
       "      <th>cylinders</th>\n",
       "      <th>engine_size</th>\n",
       "      <th>fuel_consumption</th>\n",
       "      <th>fuel_type</th>\n",
       "      <th>power_kW</th>\n",
       "    </tr>\n",
       "  </thead>\n",
       "  <tbody>\n",
       "    <tr>\n",
       "      <th>2</th>\n",
       "      <td>4.0</td>\n",
       "      <td>1991.0</td>\n",
       "      <td>8.4</td>\n",
       "      <td>Benzine</td>\n",
       "      <td>310.0</td>\n",
       "    </tr>\n",
       "    <tr>\n",
       "      <th>3</th>\n",
       "      <td>4.0</td>\n",
       "      <td>1991.0</td>\n",
       "      <td>7.3</td>\n",
       "      <td>Benzine</td>\n",
       "      <td>225.0</td>\n",
       "    </tr>\n",
       "    <tr>\n",
       "      <th>4</th>\n",
       "      <td>4.0</td>\n",
       "      <td>2143.0</td>\n",
       "      <td>4.9</td>\n",
       "      <td>Diesel</td>\n",
       "      <td>100.0</td>\n",
       "    </tr>\n",
       "    <tr>\n",
       "      <th>5</th>\n",
       "      <td>4.0</td>\n",
       "      <td>1799.0</td>\n",
       "      <td>8.2</td>\n",
       "      <td>Benzine</td>\n",
       "      <td>90.0</td>\n",
       "    </tr>\n",
       "    <tr>\n",
       "      <th>7</th>\n",
       "      <td>4.0</td>\n",
       "      <td>1991.0</td>\n",
       "      <td>6.1</td>\n",
       "      <td>Benzine</td>\n",
       "      <td>140.0</td>\n",
       "    </tr>\n",
       "    <tr>\n",
       "      <th>...</th>\n",
       "      <td>...</td>\n",
       "      <td>...</td>\n",
       "      <td>...</td>\n",
       "      <td>...</td>\n",
       "      <td>...</td>\n",
       "    </tr>\n",
       "    <tr>\n",
       "      <th>28623</th>\n",
       "      <td>4.0</td>\n",
       "      <td>1969.0</td>\n",
       "      <td>2.0</td>\n",
       "      <td>Hybrid</td>\n",
       "      <td>288.0</td>\n",
       "    </tr>\n",
       "    <tr>\n",
       "      <th>28624</th>\n",
       "      <td>5.0</td>\n",
       "      <td>2435.0</td>\n",
       "      <td>9.1</td>\n",
       "      <td>Benzine</td>\n",
       "      <td>125.0</td>\n",
       "    </tr>\n",
       "    <tr>\n",
       "      <th>28625</th>\n",
       "      <td>4.0</td>\n",
       "      <td>1560.0</td>\n",
       "      <td>3.8</td>\n",
       "      <td>Diesel</td>\n",
       "      <td>84.0</td>\n",
       "    </tr>\n",
       "    <tr>\n",
       "      <th>28626</th>\n",
       "      <td>4.0</td>\n",
       "      <td>1969.0</td>\n",
       "      <td>6.5</td>\n",
       "      <td>Benzine</td>\n",
       "      <td>187.0</td>\n",
       "    </tr>\n",
       "    <tr>\n",
       "      <th>28627</th>\n",
       "      <td>6.0</td>\n",
       "      <td>2922.0</td>\n",
       "      <td>10.4</td>\n",
       "      <td>Benzine</td>\n",
       "      <td>147.0</td>\n",
       "    </tr>\n",
       "  </tbody>\n",
       "</table>\n",
       "<p>18851 rows × 5 columns</p>\n",
       "</div>"
      ],
      "text/plain": [
       "       cylinders  engine_size  fuel_consumption fuel_type  power_kW\n",
       "2            4.0       1991.0               8.4   Benzine     310.0\n",
       "3            4.0       1991.0               7.3   Benzine     225.0\n",
       "4            4.0       2143.0               4.9    Diesel     100.0\n",
       "5            4.0       1799.0               8.2   Benzine      90.0\n",
       "7            4.0       1991.0               6.1   Benzine     140.0\n",
       "...          ...          ...               ...       ...       ...\n",
       "28623        4.0       1969.0               2.0    Hybrid     288.0\n",
       "28624        5.0       2435.0               9.1   Benzine     125.0\n",
       "28625        4.0       1560.0               3.8    Diesel      84.0\n",
       "28626        4.0       1969.0               6.5   Benzine     187.0\n",
       "28627        6.0       2922.0              10.4   Benzine     147.0\n",
       "\n",
       "[18851 rows x 5 columns]"
      ]
     },
     "execution_count": 67,
     "metadata": {},
     "output_type": "execute_result"
    }
   ],
   "source": [
    "df.loc[df.cylinders.notnull(),['cylinders', 'engine_size', 'fuel_consumption',  'fuel_type', 'power_kW']]"
   ]
  },
  {
   "cell_type": "code",
   "execution_count": 68,
   "metadata": {},
   "outputs": [
    {
     "data": {
      "text/html": [
       "<div>\n",
       "<style scoped>\n",
       "    .dataframe tbody tr th:only-of-type {\n",
       "        vertical-align: middle;\n",
       "    }\n",
       "\n",
       "    .dataframe tbody tr th {\n",
       "        vertical-align: top;\n",
       "    }\n",
       "\n",
       "    .dataframe thead th {\n",
       "        text-align: right;\n",
       "    }\n",
       "</style>\n",
       "<table border=\"1\" class=\"dataframe\">\n",
       "  <thead>\n",
       "    <tr style=\"text-align: right;\">\n",
       "      <th></th>\n",
       "      <th>cylinders</th>\n",
       "      <th>engine_size</th>\n",
       "      <th>fuel_consumption</th>\n",
       "      <th>fuel_type</th>\n",
       "      <th>power_kW</th>\n",
       "    </tr>\n",
       "  </thead>\n",
       "  <tbody>\n",
       "    <tr>\n",
       "      <th>0</th>\n",
       "      <td>NaN</td>\n",
       "      <td>1508.769231</td>\n",
       "      <td>3.800000</td>\n",
       "      <td>Diesel</td>\n",
       "      <td>73.000000</td>\n",
       "    </tr>\n",
       "    <tr>\n",
       "      <th>1</th>\n",
       "      <td>NaN</td>\n",
       "      <td>1.000000</td>\n",
       "      <td>NaN</td>\n",
       "      <td>Electric</td>\n",
       "      <td>215.000000</td>\n",
       "    </tr>\n",
       "    <tr>\n",
       "      <th>6</th>\n",
       "      <td>NaN</td>\n",
       "      <td>NaN</td>\n",
       "      <td>7.020000</td>\n",
       "      <td>Diesel</td>\n",
       "      <td>NaN</td>\n",
       "    </tr>\n",
       "    <tr>\n",
       "      <th>8</th>\n",
       "      <td>NaN</td>\n",
       "      <td>1991.000000</td>\n",
       "      <td>0.000000</td>\n",
       "      <td>Benzine</td>\n",
       "      <td>225.000000</td>\n",
       "    </tr>\n",
       "    <tr>\n",
       "      <th>15</th>\n",
       "      <td>NaN</td>\n",
       "      <td>1991.000000</td>\n",
       "      <td>5.200000</td>\n",
       "      <td>Diesel</td>\n",
       "      <td>80.000000</td>\n",
       "    </tr>\n",
       "    <tr>\n",
       "      <th>...</th>\n",
       "      <td>...</td>\n",
       "      <td>...</td>\n",
       "      <td>...</td>\n",
       "      <td>...</td>\n",
       "      <td>...</td>\n",
       "    </tr>\n",
       "    <tr>\n",
       "      <th>28604</th>\n",
       "      <td>NaN</td>\n",
       "      <td>2.000000</td>\n",
       "      <td>5.850000</td>\n",
       "      <td>Diesel</td>\n",
       "      <td>140.000000</td>\n",
       "    </tr>\n",
       "    <tr>\n",
       "      <th>28605</th>\n",
       "      <td>NaN</td>\n",
       "      <td>1969.000000</td>\n",
       "      <td>6.500000</td>\n",
       "      <td>Benzine</td>\n",
       "      <td>187.000000</td>\n",
       "    </tr>\n",
       "    <tr>\n",
       "      <th>28606</th>\n",
       "      <td>NaN</td>\n",
       "      <td>2.000000</td>\n",
       "      <td>5.266667</td>\n",
       "      <td>Benzine</td>\n",
       "      <td>166.636364</td>\n",
       "    </tr>\n",
       "    <tr>\n",
       "      <th>28607</th>\n",
       "      <td>NaN</td>\n",
       "      <td>2.000000</td>\n",
       "      <td>5.850000</td>\n",
       "      <td>Diesel</td>\n",
       "      <td>140.000000</td>\n",
       "    </tr>\n",
       "    <tr>\n",
       "      <th>28613</th>\n",
       "      <td>NaN</td>\n",
       "      <td>2922.000000</td>\n",
       "      <td>0.000000</td>\n",
       "      <td>Benzine</td>\n",
       "      <td>150.000000</td>\n",
       "    </tr>\n",
       "  </tbody>\n",
       "</table>\n",
       "<p>9777 rows × 5 columns</p>\n",
       "</div>"
      ],
      "text/plain": [
       "       cylinders  engine_size  fuel_consumption fuel_type    power_kW\n",
       "0            NaN  1508.769231          3.800000    Diesel   73.000000\n",
       "1            NaN     1.000000               NaN  Electric  215.000000\n",
       "6            NaN          NaN          7.020000    Diesel         NaN\n",
       "8            NaN  1991.000000          0.000000   Benzine  225.000000\n",
       "15           NaN  1991.000000          5.200000    Diesel   80.000000\n",
       "...          ...          ...               ...       ...         ...\n",
       "28604        NaN     2.000000          5.850000    Diesel  140.000000\n",
       "28605        NaN  1969.000000          6.500000   Benzine  187.000000\n",
       "28606        NaN     2.000000          5.266667   Benzine  166.636364\n",
       "28607        NaN     2.000000          5.850000    Diesel  140.000000\n",
       "28613        NaN  2922.000000          0.000000   Benzine  150.000000\n",
       "\n",
       "[9777 rows x 5 columns]"
      ]
     },
     "execution_count": 68,
     "metadata": {},
     "output_type": "execute_result"
    }
   ],
   "source": [
    "df.loc[df.cylinders.isnull(),['cylinders', 'engine_size', 'fuel_consumption',  'fuel_type', 'power_kW']]"
   ]
  },
  {
   "cell_type": "code",
   "execution_count": 69,
   "metadata": {},
   "outputs": [
    {
     "data": {
      "text/plain": [
       "cylinders\n",
       "0.0      494.057073\n",
       "1.0      409.057697\n",
       "2.0      869.903663\n",
       "3.0     1078.445410\n",
       "4.0     1701.313094\n",
       "5.0     2274.609111\n",
       "6.0     3181.805208\n",
       "7.0     2489.214286\n",
       "8.0     4753.981847\n",
       "12.0    5782.375000\n",
       "16.0    1599.000000\n",
       "26.0    1843.404124\n",
       "Name: engine_size, dtype: float64"
      ]
     },
     "execution_count": 69,
     "metadata": {},
     "output_type": "execute_result"
    }
   ],
   "source": [
    "df.groupby('cylinders')['engine_size'].mean()"
   ]
  },
  {
   "cell_type": "code",
   "execution_count": 70,
   "metadata": {},
   "outputs": [
    {
     "data": {
      "text/plain": [
       "cylinders\n",
       "0.0     136.371429\n",
       "1.0     103.619048\n",
       "2.0      61.170948\n",
       "3.0      76.596496\n",
       "4.0     113.917876\n",
       "5.0     136.079442\n",
       "6.0     232.656804\n",
       "7.0     158.270833\n",
       "8.0     326.969942\n",
       "12.0    364.500000\n",
       "16.0     77.000000\n",
       "26.0     12.000000\n",
       "Name: power_kW, dtype: float64"
      ]
     },
     "execution_count": 70,
     "metadata": {},
     "output_type": "execute_result"
    }
   ],
   "source": [
    "df.groupby('cylinders')['power_kW'].mean()"
   ]
  },
  {
   "cell_type": "code",
   "execution_count": 71,
   "metadata": {},
   "outputs": [
    {
     "name": "stdout",
     "output_type": "stream",
     "text": [
      "\n",
      " Feature :  cylinders\n",
      "------------------------------\n",
      "      NAN : 9777 (34.15%)\n",
      "------------------------------\n",
      "\n",
      "\n",
      " Feature :  cylinders\n",
      "------------------------------\n",
      "      NAN : 3618 (12.64%)\n",
      "------------------------------\n",
      "\n"
     ]
    }
   ],
   "source": [
    "missing('cylinders')\n",
    "\n",
    "df['cylinders'].fillna(df.groupby(['make_model', 'engine_size', 'fuel_type','power_kW'])['cylinders'].transform('max'), inplace = True)\n",
    "missing('cylinders')"
   ]
  },
  {
   "cell_type": "code",
   "execution_count": 72,
   "metadata": {},
   "outputs": [
    {
     "name": "stdout",
     "output_type": "stream",
     "text": [
      "\n",
      " Feature :  cylinders\n",
      "------------------------------\n",
      "      NAN : 1848 (6.46%)\n",
      "------------------------------\n",
      "\n"
     ]
    }
   ],
   "source": [
    "df['cylinders'].fillna(df.groupby(['make_model', 'engine_size'])['cylinders'].transform('max'), inplace = True)\n",
    "missing('cylinders')"
   ]
  },
  {
   "cell_type": "code",
   "execution_count": 73,
   "metadata": {},
   "outputs": [
    {
     "name": "stdout",
     "output_type": "stream",
     "text": [
      "\n",
      " Feature :  cylinders\n",
      "------------------------------\n",
      "      NAN : 322 (1.12%)\n",
      "------------------------------\n",
      "\n"
     ]
    }
   ],
   "source": [
    "df['cylinders'].fillna(df.groupby(['make_model', 'fuel_type'])['cylinders'].transform('max'), inplace = True)\n",
    "missing('cylinders')"
   ]
  },
  {
   "cell_type": "code",
   "execution_count": 74,
   "metadata": {},
   "outputs": [
    {
     "name": "stdout",
     "output_type": "stream",
     "text": [
      "\n",
      " Feature :  cylinders\n",
      "------------------------------\n",
      "      NAN : 304 (1.06%)\n",
      "------------------------------\n",
      "\n"
     ]
    }
   ],
   "source": [
    "df['cylinders'].fillna(df.groupby(['make_model', 'power_kW'])['cylinders'].transform('max'), inplace = True)\n",
    "missing('cylinders')"
   ]
  },
  {
   "cell_type": "code",
   "execution_count": 75,
   "metadata": {},
   "outputs": [
    {
     "name": "stdout",
     "output_type": "stream",
     "text": [
      "\n",
      " Feature :  cylinders\n",
      "------------------------------\n",
      "      NAN : 18 (0.06%)\n",
      "------------------------------\n",
      "\n"
     ]
    }
   ],
   "source": [
    "df['cylinders'].fillna(df.groupby('power_kW')['cylinders'].transform('max'), inplace = True)\n",
    "missing('cylinders')"
   ]
  },
  {
   "cell_type": "code",
   "execution_count": 76,
   "metadata": {},
   "outputs": [
    {
     "name": "stdout",
     "output_type": "stream",
     "text": [
      "\n",
      " Feature :  cylinders\n",
      "------------------------------\n",
      "      NAN : 12 (0.04%)\n",
      "------------------------------\n",
      "\n"
     ]
    }
   ],
   "source": [
    "df['cylinders'].fillna(df.groupby('make_model')['cylinders'].transform('max'), inplace = True)\n",
    "missing('cylinders')"
   ]
  },
  {
   "cell_type": "markdown",
   "metadata": {},
   "source": [
    "# emission_class"
   ]
  },
  {
   "cell_type": "code",
   "execution_count": 77,
   "metadata": {
    "id": "8mgL_Bd0s1MG"
   },
   "outputs": [
    {
     "name": "stdout",
     "output_type": "stream",
     "text": [
      "\n",
      " Feature :  emission_class\n",
      "------------------------------\n",
      "      NAN : 10770 (37.62%)\n",
      "------------------------------\n",
      "nan              : 10770 (37.62 %)\n",
      "Euro 6           : 6417 (22.42 %)\n",
      "Euro 6d-TEMP     : 3399 (11.87 %)\n",
      "Euro 6d          : 2858 (9.98 %)\n",
      "Euro 5           : 2389 (8.34 %)\n",
      "Euro 4           : 1743 (6.09 %)\n",
      "Euro 3           : 523 (1.83 %)\n",
      "Euro 2           : 217 (0.76 %)\n",
      "Euro 1           : 172 (0.6 %)\n",
      "Euro 6c          : 140 (0.49 %)\n",
      "\n"
     ]
    }
   ],
   "source": [
    "# Euro 1 is launched in 07/1992\n",
    "# Euro 2 is launched in 01/1996\n",
    "# Euro 3 is launched in 01/2000\n",
    "# Euro 4 is launched in 01/2005\n",
    "# Euro 5 is launched in 09/2009\n",
    "# Euro 5a is launched in 09/2009\n",
    "# Euro 5b is launched in 09/2011\n",
    "# Euro 6 is launched in 09/2014\n",
    "# Euro 6b\n",
    "# Euro 6-c is launched in 01/2017\n",
    "# Euro 6c- WLTP \n",
    "# Euro 6-d Temp launched in 01/2017\n",
    "# Euro 6-d launched in 2020\n",
    "\n",
    "missing('emission_class', True)"
   ]
  },
  {
   "cell_type": "code",
   "execution_count": 78,
   "metadata": {},
   "outputs": [
    {
     "name": "stdout",
     "output_type": "stream",
     "text": [
      "\n",
      " Feature :  emission_class\n",
      "------------------------------\n",
      "      NAN : 10770 (37.62%)\n",
      "------------------------------\n",
      "Euro 6           : 12814 (44.76 %)\n",
      "nan              : 10770 (37.62 %)\n",
      "Euro 5           : 2389 (8.34 %)\n",
      "Euro 4           : 1743 (6.09 %)\n",
      "Euro 3           : 523 (1.83 %)\n",
      "Euro 2           : 217 (0.76 %)\n",
      "Euro 1           : 172 (0.6 %)\n",
      "\n"
     ]
    }
   ],
   "source": [
    "# Euro 6 has 4 part, but all get together with one name\n",
    "\n",
    "df['emission_class'] = df['emission_class'].str.replace('Euro 6d-TEMP','Euro 6')\n",
    "df['emission_class'] = df['emission_class'].str.replace('Euro 6d','Euro 6')\n",
    "df['emission_class'] = df['emission_class'].str.replace('Euro 6c','Euro 6')\n",
    "\n",
    "missing('emission_class', True)"
   ]
  },
  {
   "cell_type": "code",
   "execution_count": 79,
   "metadata": {},
   "outputs": [
    {
     "data": {
      "text/plain": [
       "0        False\n",
       "1        False\n",
       "2        False\n",
       "3        False\n",
       "4        False\n",
       "         ...  \n",
       "28623    False\n",
       "28624    False\n",
       "28625    False\n",
       "28626    False\n",
       "28627    False\n",
       "Name: first_registration, Length: 28628, dtype: bool"
      ]
     },
     "execution_count": 79,
     "metadata": {},
     "output_type": "execute_result"
    }
   ],
   "source": [
    "# looking under EU emission classification\n",
    "pd.to_datetime(df['first_registration']) < pd.to_datetime('1992-07-01')"
   ]
  },
  {
   "cell_type": "code",
   "execution_count": 80,
   "metadata": {},
   "outputs": [
    {
     "data": {
      "text/plain": [
       "737"
      ]
     },
     "execution_count": 80,
     "metadata": {},
     "output_type": "execute_result"
    }
   ],
   "source": [
    "(pd.to_datetime(df['first_registration']) <  pd.to_datetime('1992-07-01')).sum()"
   ]
  },
  {
   "cell_type": "code",
   "execution_count": 81,
   "metadata": {},
   "outputs": [
    {
     "data": {
      "text/plain": [
       "655"
      ]
     },
     "execution_count": 81,
     "metadata": {},
     "output_type": "execute_result"
    }
   ],
   "source": [
    "(df['emission_class'].isnull() & (pd.to_datetime(df['first_registration']) < pd.to_datetime('1992-07-01'))).sum()"
   ]
  },
  {
   "cell_type": "code",
   "execution_count": 82,
   "metadata": {},
   "outputs": [
    {
     "data": {
      "text/html": [
       "<div>\n",
       "<style scoped>\n",
       "    .dataframe tbody tr th:only-of-type {\n",
       "        vertical-align: middle;\n",
       "    }\n",
       "\n",
       "    .dataframe tbody tr th {\n",
       "        vertical-align: top;\n",
       "    }\n",
       "\n",
       "    .dataframe thead th {\n",
       "        text-align: right;\n",
       "    }\n",
       "</style>\n",
       "<table border=\"1\" class=\"dataframe\">\n",
       "  <thead>\n",
       "    <tr style=\"text-align: right;\">\n",
       "      <th></th>\n",
       "      <th>first_registration</th>\n",
       "      <th>emission_class</th>\n",
       "    </tr>\n",
       "  </thead>\n",
       "  <tbody>\n",
       "    <tr>\n",
       "      <th>88</th>\n",
       "      <td>1986-09-01</td>\n",
       "      <td>NaN</td>\n",
       "    </tr>\n",
       "    <tr>\n",
       "      <th>282</th>\n",
       "      <td>1985-03-01</td>\n",
       "      <td>NaN</td>\n",
       "    </tr>\n",
       "    <tr>\n",
       "      <th>443</th>\n",
       "      <td>1991-07-01</td>\n",
       "      <td>Euro 3</td>\n",
       "    </tr>\n",
       "    <tr>\n",
       "      <th>452</th>\n",
       "      <td>1966-07-01</td>\n",
       "      <td>NaN</td>\n",
       "    </tr>\n",
       "    <tr>\n",
       "      <th>487</th>\n",
       "      <td>1991-02-01</td>\n",
       "      <td>NaN</td>\n",
       "    </tr>\n",
       "    <tr>\n",
       "      <th>...</th>\n",
       "      <td>...</td>\n",
       "      <td>...</td>\n",
       "    </tr>\n",
       "    <tr>\n",
       "      <th>28187</th>\n",
       "      <td>1991-11-01</td>\n",
       "      <td>NaN</td>\n",
       "    </tr>\n",
       "    <tr>\n",
       "      <th>28213</th>\n",
       "      <td>1991-04-01</td>\n",
       "      <td>Euro 1</td>\n",
       "    </tr>\n",
       "    <tr>\n",
       "      <th>28494</th>\n",
       "      <td>1979-10-01</td>\n",
       "      <td>NaN</td>\n",
       "    </tr>\n",
       "    <tr>\n",
       "      <th>28502</th>\n",
       "      <td>1986-10-01</td>\n",
       "      <td>Euro 1</td>\n",
       "    </tr>\n",
       "    <tr>\n",
       "      <th>28613</th>\n",
       "      <td>1992-05-01</td>\n",
       "      <td>Euro 2</td>\n",
       "    </tr>\n",
       "  </tbody>\n",
       "</table>\n",
       "<p>737 rows × 2 columns</p>\n",
       "</div>"
      ],
      "text/plain": [
       "      first_registration emission_class\n",
       "88            1986-09-01            NaN\n",
       "282           1985-03-01            NaN\n",
       "443           1991-07-01         Euro 3\n",
       "452           1966-07-01            NaN\n",
       "487           1991-02-01            NaN\n",
       "...                  ...            ...\n",
       "28187         1991-11-01            NaN\n",
       "28213         1991-04-01         Euro 1\n",
       "28494         1979-10-01            NaN\n",
       "28502         1986-10-01         Euro 1\n",
       "28613         1992-05-01         Euro 2\n",
       "\n",
       "[737 rows x 2 columns]"
      ]
     },
     "execution_count": 82,
     "metadata": {},
     "output_type": "execute_result"
    }
   ],
   "source": [
    "df.loc[(pd.to_datetime(df['first_registration']) <  pd.to_datetime('1992-07-01')), ['first_registration','emission_class']]"
   ]
  },
  {
   "cell_type": "code",
   "execution_count": 83,
   "metadata": {},
   "outputs": [
    {
     "name": "stdout",
     "output_type": "stream",
     "text": [
      "<generator object <genexpr> at 0x0000001ACD8B0AD0>\n"
     ]
    }
   ],
   "source": [
    "print(i for i in df['age'].value_counts(dropna = False))"
   ]
  },
  {
   "cell_type": "code",
   "execution_count": 84,
   "metadata": {},
   "outputs": [
    {
     "name": "stdout",
     "output_type": "stream",
     "text": [
      "\n",
      " Feature :  emission_class\n",
      "------------------------------\n",
      "      NAN : 10770 (37.62%)\n",
      "------------------------------\n",
      "Euro 6           : 12814 (44.76 %)\n",
      "nan              : 10770 (37.62 %)\n",
      "Euro 5           : 2389 (8.34 %)\n",
      "Euro 4           : 1743 (6.09 %)\n",
      "Euro 3           : 523 (1.83 %)\n",
      "Euro 2           : 217 (0.76 %)\n",
      "Euro 1           : 172 (0.6 %)\n",
      "\n",
      "\n",
      " Feature :  emission_class\n",
      "------------------------------\n",
      "      NAN : 10115 (35.33%)\n",
      "------------------------------\n",
      "\n"
     ]
    }
   ],
   "source": [
    "# EU emission class for passenger car is launched in 07/1992, before under class \n",
    "\n",
    "missing('emission_class', True)\n",
    "\n",
    "df.loc[(df['emission_class'].isnull()) & (pd.to_datetime(df['first_registration']) < pd.to_datetime('1992-07-01')), 'emission_class'] = 'Under Class'\n",
    "\n",
    "missing('emission_class')"
   ]
  },
  {
   "cell_type": "code",
   "execution_count": 85,
   "metadata": {},
   "outputs": [
    {
     "data": {
      "text/html": [
       "<div>\n",
       "<style scoped>\n",
       "    .dataframe tbody tr th:only-of-type {\n",
       "        vertical-align: middle;\n",
       "    }\n",
       "\n",
       "    .dataframe tbody tr th {\n",
       "        vertical-align: top;\n",
       "    }\n",
       "\n",
       "    .dataframe thead th {\n",
       "        text-align: right;\n",
       "    }\n",
       "</style>\n",
       "<table border=\"1\" class=\"dataframe\">\n",
       "  <thead>\n",
       "    <tr style=\"text-align: right;\">\n",
       "      <th></th>\n",
       "      <th>first_registration</th>\n",
       "      <th>emission_class</th>\n",
       "    </tr>\n",
       "  </thead>\n",
       "  <tbody>\n",
       "    <tr>\n",
       "      <th>88</th>\n",
       "      <td>1986-09-01</td>\n",
       "      <td>Under Class</td>\n",
       "    </tr>\n",
       "    <tr>\n",
       "      <th>282</th>\n",
       "      <td>1985-03-01</td>\n",
       "      <td>Under Class</td>\n",
       "    </tr>\n",
       "    <tr>\n",
       "      <th>443</th>\n",
       "      <td>1991-07-01</td>\n",
       "      <td>Euro 3</td>\n",
       "    </tr>\n",
       "    <tr>\n",
       "      <th>452</th>\n",
       "      <td>1966-07-01</td>\n",
       "      <td>Under Class</td>\n",
       "    </tr>\n",
       "    <tr>\n",
       "      <th>487</th>\n",
       "      <td>1991-02-01</td>\n",
       "      <td>Under Class</td>\n",
       "    </tr>\n",
       "    <tr>\n",
       "      <th>...</th>\n",
       "      <td>...</td>\n",
       "      <td>...</td>\n",
       "    </tr>\n",
       "    <tr>\n",
       "      <th>28187</th>\n",
       "      <td>1991-11-01</td>\n",
       "      <td>Under Class</td>\n",
       "    </tr>\n",
       "    <tr>\n",
       "      <th>28213</th>\n",
       "      <td>1991-04-01</td>\n",
       "      <td>Euro 1</td>\n",
       "    </tr>\n",
       "    <tr>\n",
       "      <th>28494</th>\n",
       "      <td>1979-10-01</td>\n",
       "      <td>Under Class</td>\n",
       "    </tr>\n",
       "    <tr>\n",
       "      <th>28502</th>\n",
       "      <td>1986-10-01</td>\n",
       "      <td>Euro 1</td>\n",
       "    </tr>\n",
       "    <tr>\n",
       "      <th>28613</th>\n",
       "      <td>1992-05-01</td>\n",
       "      <td>Euro 2</td>\n",
       "    </tr>\n",
       "  </tbody>\n",
       "</table>\n",
       "<p>737 rows × 2 columns</p>\n",
       "</div>"
      ],
      "text/plain": [
       "      first_registration emission_class\n",
       "88            1986-09-01    Under Class\n",
       "282           1985-03-01    Under Class\n",
       "443           1991-07-01         Euro 3\n",
       "452           1966-07-01    Under Class\n",
       "487           1991-02-01    Under Class\n",
       "...                  ...            ...\n",
       "28187         1991-11-01    Under Class\n",
       "28213         1991-04-01         Euro 1\n",
       "28494         1979-10-01    Under Class\n",
       "28502         1986-10-01         Euro 1\n",
       "28613         1992-05-01         Euro 2\n",
       "\n",
       "[737 rows x 2 columns]"
      ]
     },
     "execution_count": 85,
     "metadata": {},
     "output_type": "execute_result"
    }
   ],
   "source": [
    "df.loc[pd.to_datetime(df['first_registration']) <  pd.to_datetime('1992-07-01'),['first_registration','emission_class']]"
   ]
  },
  {
   "cell_type": "code",
   "execution_count": 86,
   "metadata": {},
   "outputs": [
    {
     "name": "stdout",
     "output_type": "stream",
     "text": [
      "\n",
      " Feature :  emission_class\n",
      "------------------------------\n",
      "      NAN : 10115 (35.33%)\n",
      "------------------------------\n",
      "Euro 6           : 12814 (44.76 %)\n",
      "nan              : 10115 (35.33 %)\n",
      "Euro 5           : 2389 (8.34 %)\n",
      "Euro 4           : 1743 (6.09 %)\n",
      "Under Class      : 655 (2.29 %)\n",
      "Euro 3           : 523 (1.83 %)\n",
      "Euro 2           : 217 (0.76 %)\n",
      "Euro 1           : 172 (0.6 %)\n",
      "\n",
      "\n",
      " Feature :  emission_class\n",
      "------------------------------\n",
      "      NAN : 9969 (34.82%)\n",
      "------------------------------\n",
      "Euro 6           : 12814 (44.76 %)\n",
      "nan              : 9969 (34.82 %)\n",
      "Euro 5           : 2389 (8.34 %)\n",
      "Euro 4           : 1743 (6.09 %)\n",
      "Under Class      : 655 (2.29 %)\n",
      "Euro 3           : 523 (1.83 %)\n",
      "Euro 1           : 318 (1.11 %)\n",
      "Euro 2           : 217 (0.76 %)\n",
      "\n"
     ]
    }
   ],
   "source": [
    "# Changing nan value with 'Euro 1', is launched in 07/1992\n",
    "\n",
    "missing('emission_class', True)\n",
    "\n",
    "df.loc[(df['emission_class'].isnull()) & (pd.to_datetime(df['first_registration']) < pd.to_datetime('1996-01-01')), 'emission_class'] = 'Euro 1'\n",
    "\n",
    "missing('emission_class', True)"
   ]
  },
  {
   "cell_type": "code",
   "execution_count": 87,
   "metadata": {},
   "outputs": [
    {
     "name": "stdout",
     "output_type": "stream",
     "text": [
      "\n",
      " Feature :  emission_class\n",
      "------------------------------\n",
      "      NAN : 9969 (34.82%)\n",
      "------------------------------\n",
      "Euro 6           : 12814 (44.76 %)\n",
      "nan              : 9969 (34.82 %)\n",
      "Euro 5           : 2389 (8.34 %)\n",
      "Euro 4           : 1743 (6.09 %)\n",
      "Under Class      : 655 (2.29 %)\n",
      "Euro 3           : 523 (1.83 %)\n",
      "Euro 1           : 318 (1.11 %)\n",
      "Euro 2           : 217 (0.76 %)\n",
      "\n",
      "\n",
      " Feature :  emission_class\n",
      "------------------------------\n",
      "      NAN : 9784 (34.18%)\n",
      "------------------------------\n",
      "Euro 6           : 12814 (44.76 %)\n",
      "nan              : 9784 (34.18 %)\n",
      "Euro 5           : 2389 (8.34 %)\n",
      "Euro 4           : 1743 (6.09 %)\n",
      "Under Class      : 655 (2.29 %)\n",
      "Euro 3           : 523 (1.83 %)\n",
      "Euro 2           : 402 (1.4 %)\n",
      "Euro 1           : 318 (1.11 %)\n",
      "\n"
     ]
    }
   ],
   "source": [
    "# Changing nan value with 'Euro 2', is launched in 01/1996\n",
    "\n",
    "missing('emission_class', True)\n",
    "\n",
    "df.loc[(df['emission_class'].isnull()) & (pd.to_datetime(df['first_registration']) < pd.to_datetime('2000-01-01')), 'emission_class'] = 'Euro 2'\n",
    "\n",
    "missing('emission_class', True)"
   ]
  },
  {
   "cell_type": "code",
   "execution_count": 88,
   "metadata": {},
   "outputs": [
    {
     "name": "stdout",
     "output_type": "stream",
     "text": [
      "\n",
      " Feature :  emission_class\n",
      "------------------------------\n",
      "      NAN : 9784 (34.18%)\n",
      "------------------------------\n",
      "Euro 6           : 12814 (44.76 %)\n",
      "nan              : 9784 (34.18 %)\n",
      "Euro 5           : 2389 (8.34 %)\n",
      "Euro 4           : 1743 (6.09 %)\n",
      "Under Class      : 655 (2.29 %)\n",
      "Euro 3           : 523 (1.83 %)\n",
      "Euro 2           : 402 (1.4 %)\n",
      "Euro 1           : 318 (1.11 %)\n",
      "\n",
      "\n",
      " Feature :  emission_class\n",
      "------------------------------\n",
      "      NAN : 9420 (32.9%)\n",
      "------------------------------\n",
      "Euro 6           : 12814 (44.76 %)\n",
      "nan              : 9420 (32.9 %)\n",
      "Euro 5           : 2389 (8.34 %)\n",
      "Euro 4           : 1743 (6.09 %)\n",
      "Euro 3           : 887 (3.1 %)\n",
      "Under Class      : 655 (2.29 %)\n",
      "Euro 2           : 402 (1.4 %)\n",
      "Euro 1           : 318 (1.11 %)\n",
      "\n"
     ]
    }
   ],
   "source": [
    "# Changing nan value with 'Euro 3', is launched in 01/2000\n",
    "\n",
    "missing('emission_class', True)\n",
    "\n",
    "df.loc[(df['emission_class'].isnull()) & (pd.to_datetime(df['first_registration']) < pd.to_datetime('2005-01-01')), 'emission_class'] = 'Euro 3'\n",
    "\n",
    "missing('emission_class', True)"
   ]
  },
  {
   "cell_type": "code",
   "execution_count": 89,
   "metadata": {},
   "outputs": [
    {
     "name": "stdout",
     "output_type": "stream",
     "text": [
      "\n",
      " Feature :  emission_class\n",
      "------------------------------\n",
      "      NAN : 9420 (32.9%)\n",
      "------------------------------\n",
      "Euro 6           : 12814 (44.76 %)\n",
      "nan              : 9420 (32.9 %)\n",
      "Euro 5           : 2389 (8.34 %)\n",
      "Euro 4           : 1743 (6.09 %)\n",
      "Euro 3           : 887 (3.1 %)\n",
      "Under Class      : 655 (2.29 %)\n",
      "Euro 2           : 402 (1.4 %)\n",
      "Euro 1           : 318 (1.11 %)\n",
      "\n",
      "\n",
      " Feature :  emission_class\n",
      "------------------------------\n",
      "      NAN : 8858 (30.94%)\n",
      "------------------------------\n",
      "Euro 6           : 12814 (44.76 %)\n",
      "nan              : 8858 (30.94 %)\n",
      "Euro 5           : 2389 (8.34 %)\n",
      "Euro 4           : 2305 (8.05 %)\n",
      "Euro 3           : 887 (3.1 %)\n",
      "Under Class      : 655 (2.29 %)\n",
      "Euro 2           : 402 (1.4 %)\n",
      "Euro 1           : 318 (1.11 %)\n",
      "\n"
     ]
    }
   ],
   "source": [
    "# Changing nan value with 'Euro 4', is launched in 01/2005\n",
    "\n",
    "missing('emission_class', True)\n",
    "\n",
    "df.loc[(df['emission_class'].isnull()) & (pd.to_datetime(df['first_registration']) < pd.to_datetime('2009-09-01')), 'emission_class'] = 'Euro 4'\n",
    "\n",
    "missing('emission_class', True)"
   ]
  },
  {
   "cell_type": "code",
   "execution_count": 90,
   "metadata": {},
   "outputs": [
    {
     "name": "stdout",
     "output_type": "stream",
     "text": [
      "\n",
      " Feature :  emission_class\n",
      "------------------------------\n",
      "      NAN : 8858 (30.94%)\n",
      "------------------------------\n",
      "Euro 6           : 12814 (44.76 %)\n",
      "nan              : 8858 (30.94 %)\n",
      "Euro 5           : 2389 (8.34 %)\n",
      "Euro 4           : 2305 (8.05 %)\n",
      "Euro 3           : 887 (3.1 %)\n",
      "Under Class      : 655 (2.29 %)\n",
      "Euro 2           : 402 (1.4 %)\n",
      "Euro 1           : 318 (1.11 %)\n",
      "\n",
      "\n",
      " Feature :  emission_class\n",
      "------------------------------\n",
      "      NAN : 7899 (27.59%)\n",
      "------------------------------\n",
      "Euro 6           : 12814 (44.76 %)\n",
      "nan              : 7899 (27.59 %)\n",
      "Euro 5           : 3348 (11.69 %)\n",
      "Euro 4           : 2305 (8.05 %)\n",
      "Euro 3           : 887 (3.1 %)\n",
      "Under Class      : 655 (2.29 %)\n",
      "Euro 2           : 402 (1.4 %)\n",
      "Euro 1           : 318 (1.11 %)\n",
      "\n"
     ]
    }
   ],
   "source": [
    "# Changing nan value with 'Euro 5', is launched in 09/2009\n",
    "\n",
    "missing('emission_class', True)\n",
    "\n",
    "df.loc[(df['emission_class'].isnull()) & (pd.to_datetime(df['first_registration']) < pd.to_datetime('2014-09-01')), 'emission_class'] = 'Euro 5'\n",
    "\n",
    "missing('emission_class', True)"
   ]
  },
  {
   "cell_type": "code",
   "execution_count": 91,
   "metadata": {},
   "outputs": [
    {
     "name": "stdout",
     "output_type": "stream",
     "text": [
      "\n",
      " Feature :  emission_class\n",
      "------------------------------\n",
      "      NAN : 7899 (27.59%)\n",
      "------------------------------\n",
      "Euro 6           : 12814 (44.76 %)\n",
      "nan              : 7899 (27.59 %)\n",
      "Euro 5           : 3348 (11.69 %)\n",
      "Euro 4           : 2305 (8.05 %)\n",
      "Euro 3           : 887 (3.1 %)\n",
      "Under Class      : 655 (2.29 %)\n",
      "Euro 2           : 402 (1.4 %)\n",
      "Euro 1           : 318 (1.11 %)\n",
      "\n",
      "\n",
      " Feature :  emission_class\n",
      "------------------------------\n",
      "      NAN : 0 (0.0%)\n",
      "------------------------------\n",
      "Euro 6           : 20713 (72.35 %)\n",
      "Euro 5           : 3348 (11.69 %)\n",
      "Euro 4           : 2305 (8.05 %)\n",
      "Euro 3           : 887 (3.1 %)\n",
      "Under Class      : 655 (2.29 %)\n",
      "Euro 2           : 402 (1.4 %)\n",
      "Euro 1           : 318 (1.11 %)\n",
      "\n"
     ]
    }
   ],
   "source": [
    "# Changing nan value with 'Euro 6', is launched in 09/2014\n",
    "\n",
    "missing('emission_class', True)\n",
    "\n",
    "df.loc[(df['emission_class'].isnull()) & (pd.to_datetime(df['first_registration']) >= pd.to_datetime('2014-09-01')), 'emission_class'] = 'Euro 6'\n",
    "\n",
    "missing('emission_class', True)"
   ]
  },
  {
   "cell_type": "markdown",
   "metadata": {},
   "source": [
    "# co_emission_g/kg"
   ]
  },
  {
   "cell_type": "code",
   "execution_count": 92,
   "metadata": {},
   "outputs": [
    {
     "name": "stdout",
     "output_type": "stream",
     "text": [
      "  Full NAN observations: 0 \n",
      "\n",
      " Feature :  co_emission_g/kg \n",
      " ---------------\n",
      "  Non-NAN : 18593 (64.95%)\n",
      "Blank data is :  0\n",
      "Feature type : float64\n",
      "\n",
      "Here is some sample of co_emission_g/kg \n",
      "26882    152.0\n",
      "11496    126.0\n",
      "13888      NaN\n",
      "18845    104.0\n",
      "9173       NaN\n",
      "Name: co_emission_g/kg, dtype: float64\n",
      "\n",
      "\n",
      " Feature :  co_emission_g/kg\n",
      "------------------------------\n",
      "      NAN : 10035 (35.05%)\n",
      "------------------------------\n",
      "\n"
     ]
    }
   ],
   "source": [
    "information('co_emission_g/kg')\n",
    "missing('co_emission_g/kg')"
   ]
  },
  {
   "cell_type": "code",
   "execution_count": 93,
   "metadata": {},
   "outputs": [
    {
     "name": "stdout",
     "output_type": "stream",
     "text": [
      "\n",
      " Feature :  co_emission_g/kg\n",
      "------------------------------\n",
      "      NAN : 1188 (4.15%)\n",
      "------------------------------\n",
      "\n"
     ]
    }
   ],
   "source": [
    "# This feature is related emission_class, fuel_type, first_registration\n",
    "df['co_emission_g/kg'].fillna(df.groupby(['emission_class','fuel_type', 'first_registration'])['co_emission_g/kg'].transform(lambda x: x.mode()[0] if len(x.mode()) > 0 else None) , inplace = True)\n",
    "missing('co_emission_g/kg')"
   ]
  },
  {
   "cell_type": "code",
   "execution_count": 94,
   "metadata": {},
   "outputs": [
    {
     "data": {
      "text/plain": [
       "0          0.0\n",
       "1          0.0\n",
       "2          0.0\n",
       "3          0.0\n",
       "4          0.0\n",
       "         ...  \n",
       "28623      0.0\n",
       "28624      0.0\n",
       "28625      0.0\n",
       "28626      0.0\n",
       "28627    178.0\n",
       "Name: co_emission_g/kg, Length: 28628, dtype: float64"
      ]
     },
     "execution_count": 94,
     "metadata": {},
     "output_type": "execute_result"
    }
   ],
   "source": [
    "df.groupby(['emission_class'])['co_emission_g/kg'].transform(lambda x: x.mode()[0] if len(x.mode()) > 0 else None)"
   ]
  },
  {
   "cell_type": "code",
   "execution_count": 95,
   "metadata": {},
   "outputs": [
    {
     "name": "stdout",
     "output_type": "stream",
     "text": [
      "\n",
      " Feature :  co_emission_g/kg\n",
      "------------------------------\n",
      "      NAN : 879 (3.07%)\n",
      "------------------------------\n",
      "\n"
     ]
    }
   ],
   "source": [
    "df['co_emission_g/kg'].fillna(df.groupby(['seller_country','emission_class', 'make', 'model', 'engine_size'])['co_emission_g/kg'].transform(lambda x: x.mode()[0] if len(x.mode()) > 0 else None) , inplace = True)\n",
    "missing('co_emission_g/kg')"
   ]
  },
  {
   "cell_type": "code",
   "execution_count": 96,
   "metadata": {},
   "outputs": [
    {
     "name": "stdout",
     "output_type": "stream",
     "text": [
      "\n",
      " Feature :  co_emission_g/kg\n",
      "------------------------------\n",
      "      NAN : 829 (2.9%)\n",
      "------------------------------\n",
      "\n"
     ]
    }
   ],
   "source": [
    "df['co_emission_g/kg'].fillna(df.groupby(['seller_country','emission_class', 'make', 'engine_size'])['co_emission_g/kg'].transform(lambda x: x.mode()[0] if len(x.mode()) > 0 else None) , inplace = True)\n",
    "missing('co_emission_g/kg')"
   ]
  },
  {
   "cell_type": "code",
   "execution_count": 97,
   "metadata": {},
   "outputs": [
    {
     "name": "stdout",
     "output_type": "stream",
     "text": [
      "\n",
      " Feature :  co_emission_g/kg\n",
      "------------------------------\n",
      "      NAN : 757 (2.64%)\n",
      "------------------------------\n",
      "\n"
     ]
    }
   ],
   "source": [
    "df['co_emission_g/kg'].fillna(df.groupby(['seller_country','emission_class', 'engine_size'])['co_emission_g/kg'].transform(lambda x: x.mode()[0] if len(x.mode()) > 0 else None) , inplace = True)\n",
    "missing('co_emission_g/kg')"
   ]
  },
  {
   "cell_type": "code",
   "execution_count": 98,
   "metadata": {},
   "outputs": [
    {
     "name": "stdout",
     "output_type": "stream",
     "text": [
      "\n",
      " Feature :  co_emission_g/kg\n",
      "------------------------------\n",
      "      NAN : 6 (0.02%)\n",
      "------------------------------\n",
      "\n"
     ]
    }
   ],
   "source": [
    "df['co_emission_g/kg'].fillna(df.groupby(['seller_country','emission_class'])['co_emission_g/kg'].transform(lambda x: x.mode()[0] if len(x.mode()) > 0 else None) , inplace = True)\n",
    "missing('co_emission_g/kg')"
   ]
  },
  {
   "cell_type": "code",
   "execution_count": 99,
   "metadata": {},
   "outputs": [
    {
     "name": "stdout",
     "output_type": "stream",
     "text": [
      "\n",
      " Feature :  co_emission_g/kg\n",
      "------------------------------\n",
      "      NAN : 2 (0.01%)\n",
      "------------------------------\n",
      "\n"
     ]
    }
   ],
   "source": [
    "df['co_emission_g/kg'].fillna(df.groupby(['seller_country'])['co_emission_g/kg'].transform(lambda x: x.mode()[0] if len(x.mode()) > 0 else None) , inplace = True)\n",
    "missing('co_emission_g/kg')"
   ]
  },
  {
   "cell_type": "markdown",
   "metadata": {},
   "source": [
    "# gears "
   ]
  },
  {
   "cell_type": "code",
   "execution_count": 100,
   "metadata": {},
   "outputs": [
    {
     "name": "stdout",
     "output_type": "stream",
     "text": [
      "  Full NAN observations: 0 \n",
      "\n",
      " Feature :  gears \n",
      " ---------------\n",
      "  Non-NAN : 18953 (66.2%)\n",
      "Blank data is :  0\n",
      "Feature type : float64\n",
      "\n",
      "Here is some sample of gears \n",
      "22791    6.0\n",
      "19556    5.0\n",
      "18468    NaN\n",
      "19632    5.0\n",
      "15880    6.0\n",
      "Name: gears, dtype: float64\n",
      "\n",
      "\n",
      " Feature :  gears\n",
      "------------------------------\n",
      "      NAN : 9675 (33.8%)\n",
      "------------------------------\n",
      "\n"
     ]
    }
   ],
   "source": [
    "information('gears')\n",
    "missing('gears')"
   ]
  },
  {
   "cell_type": "code",
   "execution_count": 101,
   "metadata": {},
   "outputs": [
    {
     "name": "stdout",
     "output_type": "stream",
     "text": [
      "\n",
      " Feature :  gears\n",
      "------------------------------\n",
      "      NAN : 9675 (33.8%)\n",
      "------------------------------\n",
      "\n",
      "\n",
      " Feature :  gears\n",
      "------------------------------\n",
      "      NAN : 487 (1.7%)\n",
      "------------------------------\n",
      "\n"
     ]
    }
   ],
   "source": [
    "missing('gears')\n",
    "\n",
    "# it is examined that number of gears directly affected by make, model, gearbox. Therefore nan values are filled according to that information.   \n",
    "\n",
    "df['gears'].fillna(df.groupby(['make', 'model',\"gearbox\" ])['gears'].transform(lambda x: x.mode()[0] if len(x.mode()) > 0 else None) , inplace = True)\n",
    "missing('gears')"
   ]
  },
  {
   "cell_type": "code",
   "execution_count": 102,
   "metadata": {},
   "outputs": [
    {
     "name": "stdout",
     "output_type": "stream",
     "text": [
      "\n",
      " Feature :  gears\n",
      "------------------------------\n",
      "      NAN : 223 (0.78%)\n",
      "------------------------------\n",
      "\n"
     ]
    }
   ],
   "source": [
    "# since no other gears information exists in groupby above. make and model groups has been used to fill remmaining nan values.\n",
    "df['gears'].fillna(df.groupby(['make', 'model' ])['gears'].transform(lambda x: x.mode()[0]  if len(x.mode()) > 0 else None), inplace = True)\n",
    "missing('gears')"
   ]
  },
  {
   "cell_type": "code",
   "execution_count": 103,
   "metadata": {},
   "outputs": [
    {
     "name": "stdout",
     "output_type": "stream",
     "text": [
      "\n",
      " Feature :  gears\n",
      "------------------------------\n",
      "      NAN : 0 (0.0%)\n",
      "------------------------------\n",
      "\n"
     ]
    }
   ],
   "source": [
    "# Since %0.90 nan values are remaining nan values are filled according to brand of the automobile\n",
    "df['gears'].fillna(df.groupby(['make'])['gears'].transform(lambda x: x.mode()[0] if len(x.mode()) > 0 else None), inplace = True)\n",
    "missing('gears')"
   ]
  },
  {
   "cell_type": "markdown",
   "metadata": {},
   "source": [
    "# comfort_&_convenience"
   ]
  },
  {
   "cell_type": "code",
   "execution_count": 104,
   "metadata": {},
   "outputs": [
    {
     "name": "stdout",
     "output_type": "stream",
     "text": [
      "  Full NAN observations: 0 \n",
      "\n",
      " Feature :  comfort_&_convenience \n",
      " ---------------\n",
      "  Non-NAN : 25431 (88.83%)\n",
      "Blank data is :  0\n",
      "Feature type : object\n",
      "\n",
      "Here is some sample of comfort_&_convenience \n",
      "13921         steering&trim,bodywork,functional&mechanical\n",
      "28068    bodywork,steering&trim,seats,climate,functiona...\n",
      "25897    bodywork,steering&trim,seats,climate,functiona...\n",
      "7863     bodywork,steering&trim,seats,climate,functiona...\n",
      "6456     bodywork,steering&trim,security,seats,climate,...\n",
      "Name: comfort_&_convenience, dtype: object\n",
      "\n",
      "\n",
      " Feature :  comfort_&_convenience\n",
      "------------------------------\n",
      "      NAN : 3197 (11.17%)\n",
      "------------------------------\n",
      "\n"
     ]
    }
   ],
   "source": [
    "information('comfort_&_convenience')\n",
    "missing('comfort_&_convenience')"
   ]
  },
  {
   "cell_type": "code",
   "execution_count": 105,
   "metadata": {},
   "outputs": [
    {
     "name": "stdout",
     "output_type": "stream",
     "text": [
      "\n",
      " Feature :  comfort_&_convenience\n",
      "------------------------------\n",
      "      NAN : 119 (0.42%)\n",
      "------------------------------\n",
      "\n"
     ]
    }
   ],
   "source": [
    "df['comfort_&_convenience'].fillna(df.groupby(['make_model', 'type'])['comfort_&_convenience'].transform(lambda x: x.mode()[0] if len(x.mode()) > 0 else None), inplace = True)\n",
    "missing('comfort_&_convenience')"
   ]
  },
  {
   "cell_type": "markdown",
   "metadata": {},
   "source": [
    "# entertainment_&_media  "
   ]
  },
  {
   "cell_type": "code",
   "execution_count": 106,
   "metadata": {},
   "outputs": [
    {
     "name": "stdout",
     "output_type": "stream",
     "text": [
      "  Full NAN observations: 0 \n",
      "\n",
      " Feature :  entertainment_&_media \n",
      " ---------------\n",
      "  Non-NAN : 23642 (82.58%)\n",
      "Blank data is :  0\n",
      "Feature type : object\n",
      "\n",
      "Here is some sample of entertainment_&_media \n",
      "22288                     connect,sound_system\n",
      "27352    phone_connection,sound_system,connect\n",
      "24033                                  connect\n",
      "5464                                   connect\n",
      "27912                     connect,sound_system\n",
      "Name: entertainment_&_media, dtype: object\n",
      "\n",
      "\n",
      " Feature :  entertainment_&_media\n",
      "------------------------------\n",
      "      NAN : 4986 (17.42%)\n",
      "------------------------------\n",
      "\n"
     ]
    }
   ],
   "source": [
    "information('entertainment_&_media')\n",
    "missing('entertainment_&_media')"
   ]
  },
  {
   "cell_type": "code",
   "execution_count": 107,
   "metadata": {},
   "outputs": [
    {
     "name": "stdout",
     "output_type": "stream",
     "text": [
      "\n",
      " Feature :  entertainment_&_media\n",
      "------------------------------\n",
      "      NAN : 200 (0.7%)\n",
      "------------------------------\n",
      "\n"
     ]
    }
   ],
   "source": [
    "df['entertainment_&_media'].fillna(df.groupby(['make_model', 'type'])['entertainment_&_media'].transform(lambda x: x.mode()[0] if len(x.mode()) > 0 else None), inplace = True)\n",
    "missing('entertainment_&_media')"
   ]
  },
  {
   "cell_type": "markdown",
   "metadata": {},
   "source": [
    "# safety_&_security   "
   ]
  },
  {
   "cell_type": "code",
   "execution_count": 108,
   "metadata": {},
   "outputs": [
    {
     "name": "stdout",
     "output_type": "stream",
     "text": [
      "  Full NAN observations: 0 \n",
      "\n",
      " Feature :  safety_&_security \n",
      " ---------------\n",
      "  Non-NAN : 25413 (88.77%)\n",
      "Blank data is :  0\n",
      "Feature type : object\n",
      "\n",
      "Here is some sample of safety_&_security \n",
      "5162     driver_asistance,security,safety_drive,other,l...\n",
      "26088                       security,safety_drive,lighting\n",
      "24996                                security,safety_drive\n",
      "13041                       security,safety_drive,lighting\n",
      "8024                        security,safety_drive,lighting\n",
      "Name: safety_&_security, dtype: object\n",
      "\n",
      "\n",
      " Feature :  safety_&_security\n",
      "------------------------------\n",
      "      NAN : 3215 (11.23%)\n",
      "------------------------------\n",
      "\n"
     ]
    }
   ],
   "source": [
    "information('safety_&_security')\n",
    "missing('safety_&_security')"
   ]
  },
  {
   "cell_type": "code",
   "execution_count": 109,
   "metadata": {},
   "outputs": [
    {
     "name": "stdout",
     "output_type": "stream",
     "text": [
      "\n",
      " Feature :  safety_&_security\n",
      "------------------------------\n",
      "      NAN : 163 (0.57%)\n",
      "------------------------------\n",
      "\n"
     ]
    }
   ],
   "source": [
    "df['safety_&_security'].fillna(df.groupby(['make_model', 'type'])['safety_&_security'].transform(lambda x: x.mode()[0] if len(x.mode()) > 0 else None), inplace = True)\n",
    "missing('safety_&_security')"
   ]
  },
  {
   "cell_type": "markdown",
   "metadata": {},
   "source": [
    "# extras  "
   ]
  },
  {
   "cell_type": "code",
   "execution_count": 110,
   "metadata": {},
   "outputs": [
    {
     "name": "stdout",
     "output_type": "stream",
     "text": [
      "  Full NAN observations: 0 \n",
      "\n",
      " Feature :  extras \n",
      " ---------------\n",
      "  Non-NAN : 23478 (82.01%)\n",
      "Blank data is :  0\n",
      "Feature type : object\n",
      "\n",
      "Here is some sample of extras \n",
      "7248     wheel,sport,accessory\n",
      "21830                      NaN\n",
      "15785                accessory\n",
      "13961                    tires\n",
      "21983    tires,sport,accessory\n",
      "Name: extras, dtype: object\n",
      "\n",
      "\n",
      " Feature :  extras\n",
      "------------------------------\n",
      "      NAN : 5150 (17.99%)\n",
      "------------------------------\n",
      "\n"
     ]
    }
   ],
   "source": [
    "information('extras')\n",
    "missing('extras')"
   ]
  },
  {
   "cell_type": "code",
   "execution_count": 111,
   "metadata": {},
   "outputs": [
    {
     "name": "stdout",
     "output_type": "stream",
     "text": [
      "\n",
      " Feature :  extras\n",
      "------------------------------\n",
      "      NAN : 175 (0.61%)\n",
      "------------------------------\n",
      "\n"
     ]
    }
   ],
   "source": [
    "df['extras'].fillna(df.groupby(['make_model', 'type'])['extras'].transform(lambda x: x.mode()[0] if len(x.mode()) > 0 else None), inplace = True)\n",
    "missing('extras')"
   ]
  },
  {
   "cell_type": "markdown",
   "metadata": {},
   "source": [
    "# Dropping duplications"
   ]
  },
  {
   "cell_type": "code",
   "execution_count": 112,
   "metadata": {},
   "outputs": [],
   "source": [
    "df.drop_duplicates(inplace=True)"
   ]
  },
  {
   "cell_type": "markdown",
   "metadata": {},
   "source": [
    "# Dropping useless column/row"
   ]
  },
  {
   "cell_type": "code",
   "execution_count": 113,
   "metadata": {},
   "outputs": [
    {
     "name": "stdout",
     "output_type": "stream",
     "text": [
      "Feature make_model 's nan row are dropped.\n",
      "Feature short_description 's nan row are dropped.\n",
      "Feature make 's nan row are dropped.\n",
      "Feature model 's nan row are dropped.\n",
      "Feature location 's nan row are dropped.\n",
      "Feature price 's nan row are dropped.\n",
      "Feature body_type 's nan row are dropped.\n",
      "Feature type 's nan row are dropped.\n",
      "Feature doors 's nan row are dropped.\n",
      "Feature country_version 's nan row are dropped.\n",
      "Feature warranty 's nan row are dropped.\n",
      "Feature mileage 's nan row are dropped.\n",
      "Feature first_registration 's nan row are dropped.\n",
      "Feature gearbox 's nan row are dropped.\n",
      "Feature fuel_type 's nan row are dropped.\n",
      "Feature colour is dropped.\n",
      "Feature paint is dropped.\n",
      "Feature desc is dropped.\n",
      "Feature seller 's nan row are dropped.\n",
      "Feature seats 's nan row are dropped.\n",
      "Feature engine_size 's nan row are dropped.\n",
      "Feature gears 's nan row are dropped.\n",
      "Feature manufacturer_colour is dropped.\n",
      "Feature drivetrain 's nan row are dropped.\n",
      "Feature cylinders 's nan row are dropped.\n",
      "Feature fuel_consumption 's nan row are dropped.\n",
      "Feature comfort_&_convenience 's nan row are dropped.\n",
      "Feature entertainment_&_media 's nan row are dropped.\n",
      "Feature safety_&_security 's nan row are dropped.\n",
      "Feature extras 's nan row are dropped.\n",
      "Feature full_service_history 's nan row are dropped.\n",
      "Feature non_smoker_vehicle is dropped.\n",
      "Feature emission_class 's nan row are dropped.\n",
      "Feature emissions_sticker is dropped.\n",
      "Feature upholstery_colour is dropped.\n",
      "Feature upholstery is dropped.\n",
      "Feature seller_country_alfa2 's nan row are dropped.\n",
      "Feature seller_country 's nan row are dropped.\n",
      "Feature warranty_month is dropped.\n",
      "Feature age 's nan row are dropped.\n",
      "Feature power_kW 's nan row are dropped.\n",
      "Feature power_hp is dropped.\n",
      "Feature co_emission_g/kg 's nan row are dropped.\n",
      "Feature empty_weight_kg 's nan row are dropped.\n",
      "Feature mileage_owner is dropped.\n",
      "Feature first_registration_owner is dropped.\n",
      "Feature owner_number is dropped.\n"
     ]
    }
   ],
   "source": [
    "for column in df.columns:\n",
    "    nan_value_percentage = (df[column].isnull().sum()/len(df)*100).round(2)\n",
    "    \n",
    "    if nan_value_percentage >= 1.0:\n",
    "        df = df.drop(columns=[column])\n",
    "        print('Feature', column, 'is dropped.')  \n",
    "    elif nan_value_percentage < 1.0:\n",
    "        df.dropna(subset = [column], inplace = True)\n",
    "        print('Feature', column, '\\'s nan row are dropped.')\n",
    "\n"
   ]
  },
  {
   "cell_type": "code",
   "execution_count": 114,
   "metadata": {},
   "outputs": [],
   "source": [
    "df = df.drop(columns=['short_description', 'location', 'first_registration', 'seller_country_alfa2']) \n",
    "\n",
    "\n",
    "# df = df.drop(columns=['short_description', 'make', 'model', 'location', 'desc', 'manufacturer_colour', 'paint', 'non_smoker_vehicle', 'warranty_month', 'power_hp', 'co_emission_g/kg',                    \n",
    "#                       'mileage_owner', 'seller_country_alfa2','first_registration_owner','emissions_sticker', 'first_registration', 'upholstery_colour', 'upholstery']) \n",
    "\n"
   ]
  },
  {
   "cell_type": "code",
   "execution_count": 115,
   "metadata": {},
   "outputs": [
    {
     "name": "stdout",
     "output_type": "stream",
     "text": [
      "Range Index: 25589 entries, from 0 to 28627\n",
      "\n",
      "#\t Column\t\t\tNon-Null Count (%)\t NAN Count (% NAN)\t Dtype\t\tUnique(Category)\n",
      "-------------------------------------------------------------------------------------------------------------------\n",
      "0\tmake_model               25589   %100.0          0       %0.0            object         -\n",
      "1\tmake                     25589   %100.0          0       %0.0            object         -\n",
      "2\tmodel                    25589   %100.0          0       %0.0            object         -\n",
      "3\tprice                    25589   %100.0          0       %0.0            float64        -\n",
      "4\tbody_type                25589   %100.0          0       %0.0            object         -\n",
      "5\ttype                     25589   %100.0          0       %0.0            object         -\n",
      "6\tdoors                    25589   %100.0          0       %0.0            float64        -\n",
      "7\tcountry_version          25589   %100.0          0       %0.0            object         -\n",
      "8\twarranty                 25589   %100.0          0       %0.0            object         -\n",
      "9\tmileage                  25589   %100.0          0       %0.0            float64        -\n",
      "10\tgearbox                  25589   %100.0          0       %0.0            object         -\n",
      "11\tfuel_type                25589   %100.0          0       %0.0            object         -\n",
      "12\tseller                   25589   %100.0          0       %0.0            object         -\n",
      "13\tseats                    25589   %100.0          0       %0.0            float64        -\n",
      "14\tengine_size              25589   %100.0          0       %0.0            float64        -\n",
      "15\tgears                    25589   %100.0          0       %0.0            float64        -\n",
      "16\tdrivetrain               25589   %100.0          0       %0.0            object         -\n",
      "17\tcylinders                25589   %100.0          0       %0.0            float64        -\n",
      "18\tfuel_consumption         25589   %100.0          0       %0.0            float64        -\n",
      "19\tcomfort_&_convenience    25589   %100.0          0       %0.0            object         -\n",
      "20\tentertainment_&_media    25589   %100.0          0       %0.0            object         -\n",
      "21\tsafety_&_security        25589   %100.0          0       %0.0            object         -\n",
      "22\textras                   25589   %100.0          0       %0.0            object         -\n",
      "23\tfull_service_history     25589   %100.0          0       %0.0            object         -\n",
      "24\temission_class           25589   %100.0          0       %0.0            object         -\n",
      "25\tseller_country           25589   %100.0          0       %0.0            object         -\n",
      "26\tage                      25589   %100.0          0       %0.0            float64        -\n",
      "27\tpower_kW                 25589   %100.0          0       %0.0            float64        -\n",
      "28\tco_emission_g/kg         25589   %100.0          0       %0.0            float64        -\n",
      "29\tempty_weight_kg          25589   %100.0          0       %0.0            float64        -\n"
     ]
    }
   ],
   "source": [
    "general_information()"
   ]
  },
  {
   "cell_type": "markdown",
   "metadata": {},
   "source": [
    "# ENCODING"
   ]
  },
  {
   "cell_type": "code",
   "execution_count": 116,
   "metadata": {},
   "outputs": [],
   "source": [
    "#  All categorical features transform to numeric \n",
    "\n",
    "# for i in df.columns:\n",
    "#     if df[i].dtype == 'object':\n",
    "#         df[i] = df[i].map({value: index for index, value in enumerate(df[i].unique())})\n",
    "#         print('Feature', i,'is encoded by numeric')"
   ]
  },
  {
   "cell_type": "code",
   "execution_count": 117,
   "metadata": {
    "id": "IJT7Yl1Us1MK"
   },
   "outputs": [],
   "source": [
    "# exporting dataframe to csv file \n",
    "\n",
    "df.to_csv('as24_cars_part2.csv', index=False)"
   ]
  }
 ],
 "metadata": {
  "colab": {
   "name": "DAwPy-Capstone_Project_(AutoScout)_Student.ipynb",
   "provenance": []
  },
  "kernelspec": {
   "display_name": "Python 3 (ipykernel)",
   "language": "python",
   "name": "python3"
  },
  "language_info": {
   "codemirror_mode": {
    "name": "ipython",
    "version": 3
   },
   "file_extension": ".py",
   "mimetype": "text/x-python",
   "name": "python",
   "nbconvert_exporter": "python",
   "pygments_lexer": "ipython3",
   "version": "3.11.3"
  },
  "toc": {
   "base_numbering": 1,
   "nav_menu": {},
   "number_sections": false,
   "sideBar": true,
   "skip_h1_title": false,
   "title_cell": "Table of Contents",
   "title_sidebar": "Contents",
   "toc_cell": false,
   "toc_position": {},
   "toc_section_display": true,
   "toc_window_display": false
  }
 },
 "nbformat": 4,
 "nbformat_minor": 4
}
